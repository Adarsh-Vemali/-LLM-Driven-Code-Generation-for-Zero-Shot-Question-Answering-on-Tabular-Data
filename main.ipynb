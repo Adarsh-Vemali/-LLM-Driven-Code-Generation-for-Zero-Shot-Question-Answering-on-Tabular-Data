{
  "cells": [
    {
      "cell_type": "markdown",
      "metadata": {
        "id": "mxHoUkrlxpnx"
      },
      "source": [
        "## Imports and Dataset Download"
      ]
    },
    {
      "cell_type": "code",
      "execution_count": null,
      "metadata": {
        "collapsed": true,
        "execution": {
          "iopub.execute_input": "2025-01-30T04:23:44.959390Z",
          "iopub.status.busy": "2025-01-30T04:23:44.958963Z",
          "iopub.status.idle": "2025-01-30T04:23:51.299441Z",
          "shell.execute_reply": "2025-01-30T04:23:51.298051Z",
          "shell.execute_reply.started": "2025-01-30T04:23:44.959354Z"
        },
        "id": "zngXSWeYszG-",
        "jupyter": {
          "outputs_hidden": true
        },
        "trusted": true
      },
      "outputs": [],
      "source": [
        "%%capture\n",
        "!pip install datasets\n",
        "!pip install unsloth\n",
        "# !pip install -U bitsandbytes"
      ]
    },
    {
      "cell_type": "code",
      "execution_count": null,
      "metadata": {
        "colab": {
          "base_uri": "https://localhost:8080/"
        },
        "id": "jWzkZSkuEmBj",
        "outputId": "171aca81-b801-46ac-ec41-6e2324bda1b4"
      },
      "outputs": [
        {
          "name": "stdout",
          "output_type": "stream",
          "text": [
            "🦥 Unsloth: Will patch your computer to enable 2x faster free finetuning.\n",
            "🦥 Unsloth Zoo will now patch everything to make training faster!\n"
          ]
        }
      ],
      "source": [
        "from unsloth import FastLanguageModel\n",
        "from unsloth.chat_templates import get_chat_template\n",
        "from unsloth.chat_templates import train_on_responses_only"
      ]
    },
    {
      "cell_type": "code",
      "execution_count": null,
      "metadata": {
        "collapsed": true,
        "execution": {
          "iopub.execute_input": "2025-01-30T04:44:02.955165Z",
          "iopub.status.busy": "2025-01-30T04:44:02.954745Z",
          "iopub.status.idle": "2025-01-30T04:44:04.008290Z",
          "shell.execute_reply": "2025-01-30T04:44:04.006282Z",
          "shell.execute_reply.started": "2025-01-30T04:44:02.955133Z"
        },
        "id": "YVGd2l1xszG_",
        "trusted": true
      },
      "outputs": [],
      "source": [
        "%%capture\n",
        "import pandas as pd\n",
        "import io\n",
        "from datasets import load_dataset\n",
        "\n",
        "# Load SemEval 2025 task 8 Question-Answer splits\n",
        "# semeval_train_qa = load_dataset(\"cardiffnlp/databench\", name=\"semeval\", split=\"train\")\n",
        "semeval_dev_qa = load_dataset(\"cardiffnlp/databench\", name=\"semeval\", split=\"dev\")"
      ]
    },
    {
      "cell_type": "code",
      "execution_count": null,
      "metadata": {
        "id": "PurG7NpDFi9H"
      },
      "outputs": [],
      "source": [
        "def get_model_tokenizer(model_name, max_seq_length=2048):\n",
        "    model, tokenizer = FastLanguageModel.from_pretrained(\n",
        "        model_name = model_name, # or choose \"unsloth/Llama-3.2-1B-Instruct\"\n",
        "        max_seq_length = max_seq_length,\n",
        "        dtype = None, # None for auto detection. Float16 for Tesla T4, V100, Bfloat16 for Ampere+\n",
        "        load_in_4bit = True, # Use 4bit quantization to reduce memory usage. Can be False.\n",
        "        # trust_remote_code=True,\n",
        "        # token = LLAMA_TOKEN, # use one if using gated models like meta-llama/Llama-2-7b-hf\n",
        "    )\n",
        "\n",
        "    model = FastLanguageModel.get_peft_model(\n",
        "        model,\n",
        "        r = 8, # Choose any number > 0 ! Suggested 8, 16, 32, 64, 128\n",
        "        target_modules = [\"q_proj\", \"k_proj\", \"v_proj\", \"o_proj\",\n",
        "                        \"gate_proj\", \"up_proj\", \"down_proj\",],\n",
        "        lora_alpha = 16,\n",
        "        lora_dropout = 0, # Supports any, but = 0 is optimized\n",
        "        bias = \"none\",    # Supports any, but = \"none\" is optimized\n",
        "        # [NEW] \"unsloth\" uses 30% less VRAM, fits 2x larger batch sizes!\n",
        "        use_gradient_checkpointing = \"unsloth\", # True or \"unsloth\" for very long context\n",
        "        random_state = 3407,\n",
        "        use_rslora = True,  # We support rank stabilized LoRA\n",
        "        loftq_config = None, # And LoftQ\n",
        "        max_seq_length=max_seq_length\n",
        "    )\n",
        "\n",
        "    return model, tokenizer"
      ]
    },
    {
      "cell_type": "code",
      "execution_count": null,
      "metadata": {
        "colab": {
          "base_uri": "https://localhost:8080/",
          "height": 1000,
          "referenced_widgets": [
            "8736c237227c4c78a3013517dc26f91c",
            "c36785406d0748deadee10711f4dcc57",
            "bb4457364a6d40afac485f07bde13a4e",
            "3110801726f1489389b2ba2e51bcaf55",
            "803dba656eef41439c64cc4723fda534",
            "03c25ddf7e2f4cfaa3950dc71378706d",
            "d7eaeeb48f514424b485dae99545414c",
            "40584925c5de4253926df7adc0b32cd6",
            "91fcceeffb344609977d6db0b874c704",
            "44f6d10ba38f4e40a0df6c1449b2b7c5",
            "b8d1120dcd9e43ac9542bd2772d674bd",
            "e4620cb36fee4e178cd00931b7c8ac1a",
            "36f08d085c5443e98e2911be2e0cdb96",
            "04d9ef0c562e43369264871dad2946a2",
            "eb1de25ca80043b9a9f2f1e526d4b892",
            "c4536142f60446acb52866877ffa2419",
            "cf78c8cd91874072adf148788a5b0b79",
            "0d3c0d03118b43b7b9248a472a827ef0",
            "2bbd7f7301014b0895989ad57fad3281",
            "a6a22a1fb2654166a32ad4a6c6fc1e27",
            "84e558e540ee43eab1437c4224c6d515",
            "697bd03ec12d4b59b223b43936808532",
            "2386d0c249f14a26a30573d22eedad5d",
            "c7c0753261fe43018c46d24c6837b12d",
            "ddb2a09c21254e7399901bb2a133faa6",
            "97ec7215ce9445a7ae5a445173e8bd4e",
            "b45e091288304ee39314fe22b9e48232",
            "4e1d12df9d354d8e9cfe2fdf6794dfc4",
            "e90960a188574922bfc1e808834b7dce",
            "7a7c5fc7fb484c75adab2f2e7bf62604",
            "486ccd6b938a461fa94ee55308810b53",
            "3aa2241878b544189e639fce3a57371b",
            "02a7b0a4815b4fd9ad6d22cbfa192ec6",
            "c7db57bf567b448dbee51952c445cebf",
            "d748be97c7814f11908391f794d1b473",
            "5662a6a41e344bf68f9b1e23f94d36ad",
            "01c4f2b6d66847c9806fd9dab281c846",
            "511246d5bfc7401baa1ce763be8b98b6",
            "1cee3cd08dc54665b55bbe93f5a504f1",
            "82212741889e420690a4b1efb430591a",
            "7a0466c27cdb46ce97c6b83e7efb713d",
            "33db57ede58244168327976e4e30cd6a",
            "86c19798005a48e8895cd67b3aad1f98",
            "154d3085feab4076ad43a73123404af6",
            "6d75627505a04e56bea4f25a733733f5",
            "c2e3a31f8c4d4298a4715b7e40ace11f",
            "60ba1a4eb21c40c6a9bbdcc2e85c3f40",
            "1245208333d246b9bf8fd9ecc86a1d40",
            "41c7f9544911444d844932326b0293fc",
            "31ac1a98602549639378c2fea37ecd32",
            "9726eab2c7e8427dacbd551751b1e740",
            "e935f2068b504900865caba1cfcfe8eb",
            "5e69007431744bdb85d4da9cfd0f5aa8",
            "29911444fcd64af4a941e3eb888c92a9",
            "14bcf2b636e244dbb2af0338abc9a5a5",
            "767b43df2f54494b86ff293a85955797",
            "d6061d95baf0468cb8464482da81e404",
            "d62e16de33f24bbf87b9fd4ea5d70b16",
            "1dd078f0c29349deb59f0b768ddb3e00",
            "67bb45f270ac4bd9943741e0a3befe07",
            "0ec219fa958d493483102d7c8cc30d6d",
            "a97e0b5ddfda473793ff27d9c87dfad5",
            "e72a8ea304824fb6a7ef6d253f54b341",
            "944ba842a1ff4c2e87c0a85e4cffec1f",
            "b826d1e0491c4fd887835c9699cca568",
            "9d04e1a440c548ddae1ff66f40b48749",
            "53bd151504494016ab9bdb11acba8efb",
            "0ce5a843349e4c379d61de785357e5b1",
            "103763ed6a1d45678be516752235d03c",
            "f46b4f72f94c4edda4f6d40d9fdbe672",
            "2abba322ff1b4125957937d326348d0e",
            "9ff0d81713864dcf932c01e997c0227d",
            "8d5e0eee67f6409db131bbb30689841e",
            "a26ec534feea4a628cb17b06d88eb9d1",
            "1df786b5cd2d439d842a8bcefb677717",
            "22ff8621c0934f118dbe1ec32833a610",
            "354ba850fcfb4430a7dded0baeb709f8",
            "dfdfa755b646447f8cae6ddef55c1eb2",
            "6936a2d8141042bea706d2b262340751",
            "195a937165724a9c99c480d0251e2568",
            "a5369174d5f44d03841b85e4a5733ec4",
            "20e2a8d8e9954a13ac3d756b7ed2f79f",
            "393784075a9845ad9b24c7f2a73cc427",
            "d0c5330c7ba247cdafd475f67dd4acad",
            "df0fd6a876c2479b8c466beefe73b203",
            "315ad7dd2e6d4f889ada13b728d775dd",
            "691a902d159b43f09d037920be59c851",
            "8f3b1fe47e13413b830dcfe991f49f8a",
            "3cd49d2b99c54e12a6079da14484cf9d",
            "76729266251549f1a87632ea7b8093a6",
            "8b8a0192377d4784b094cd0cc2604d29",
            "f828275928814480af1c744508c533a7",
            "3e19a24f23dd401ba66cb0b0f9de2988",
            "62ba1f2ae1fb4b338df1b4d3dacbc4fc",
            "5b2b6417e3d947f0bb5fb89dcdf44d11",
            "f7f0c25ee93349ea8c3857758aa0655d",
            "3e41f09af2904c9dac28cc8b34139960",
            "b464677304dc429dbc730ebdca5f6510",
            "3a7a2299e0b24001a7630136f4c63d22",
            "22b491c96e6b4ade9a28dbb1f325abe2",
            "b760a07179b048f897470d80bf656f05",
            "1819d8727f5341a097d9c203b7340a58",
            "91de67ec77ff4ae782795dbbd70ec674",
            "4f3c0870091246fa8ba86cb29e880d7f",
            "632063a00c13413a8650de47955d5acd",
            "3882f3d05f684588bfbac1b6adf3332e",
            "0f6784543f0344e783ccf7ff8c5cb9ac",
            "346b5002a1aa46198346d5b8af4050f8",
            "bce8f22d37a546559ed3ecbdc541847b",
            "fa628c623ad049ee9e0ed28a773aeda6",
            "c412bb059cea4f78be6cbeaaf3a2dfdd",
            "2f9cc2fdb49b47d6a7fed610a8700e09",
            "935b5a081f5f4adbbd1a998519649beb",
            "18e46f0741bf4ab2a9abec508886ba58",
            "97c3c191a46f465cac7a5eea04231f7e",
            "6d6d41c418034f299c809443d51d4ddd",
            "72d8e7708f6f42cf87ef228898aa0640",
            "1af8f2d6be064bcbafd09f49552799a6",
            "c98d4d34a55d48a8a89ff924387f78f0",
            "4c3311e71b874338bb3bea22c6158812",
            "8c63703e54c04f4eb13fa5131292e48d"
          ]
        },
        "id": "l8TxQrWEERn4",
        "outputId": "c636008a-a684-4cde-f5c1-7e654a0f8986"
      },
      "outputs": [
        {
          "name": "stdout",
          "output_type": "stream",
          "text": [
            "==((====))==  Unsloth 2025.1.8: Fast Llama patching. Transformers: 4.47.1.\n",
            "   \\\\   /|    GPU: Tesla T4. Max memory: 14.741 GB. Platform: Linux.\n",
            "O^O/ \\_/ \\    Torch: 2.5.1+cu124. CUDA: 7.5. CUDA Toolkit: 12.4. Triton: 3.1.0\n",
            "\\        /    Bfloat16 = FALSE. FA [Xformers = 0.0.29.post1. FA2 = False]\n",
            " \"-____-\"     Free Apache license: http://github.com/unslothai/unsloth\n",
            "Unsloth: Fast downloading is enabled - ignore downloading bars which are red colored!\n"
          ]
        },
        {
          "data": {
            "application/vnd.jupyter.widget-view+json": {
              "model_id": "8736c237227c4c78a3013517dc26f91c",
              "version_major": 2,
              "version_minor": 0
            },
            "text/plain": [
              "Downloading shards:   0%|          | 0/3 [00:00<?, ?it/s]"
            ]
          },
          "metadata": {},
          "output_type": "display_data"
        },
        {
          "data": {
            "application/vnd.jupyter.widget-view+json": {
              "model_id": "e4620cb36fee4e178cd00931b7c8ac1a",
              "version_major": 2,
              "version_minor": 0
            },
            "text/plain": [
              "model-00001-of-00003.safetensors:   0%|          | 0.00/4.97G [00:00<?, ?B/s]"
            ]
          },
          "metadata": {},
          "output_type": "display_data"
        },
        {
          "data": {
            "application/vnd.jupyter.widget-view+json": {
              "model_id": "2386d0c249f14a26a30573d22eedad5d",
              "version_major": 2,
              "version_minor": 0
            },
            "text/plain": [
              "model-00002-of-00003.safetensors:   0%|          | 0.00/4.39G [00:00<?, ?B/s]"
            ]
          },
          "metadata": {},
          "output_type": "display_data"
        },
        {
          "data": {
            "application/vnd.jupyter.widget-view+json": {
              "model_id": "c7db57bf567b448dbee51952c445cebf",
              "version_major": 2,
              "version_minor": 0
            },
            "text/plain": [
              "model-00003-of-00003.safetensors:   0%|          | 0.00/1.03G [00:00<?, ?B/s]"
            ]
          },
          "metadata": {},
          "output_type": "display_data"
        },
        {
          "data": {
            "application/vnd.jupyter.widget-view+json": {
              "model_id": "6d75627505a04e56bea4f25a733733f5",
              "version_major": 2,
              "version_minor": 0
            },
            "text/plain": [
              "Loading checkpoint shards:   0%|          | 0/3 [00:00<?, ?it/s]"
            ]
          },
          "metadata": {},
          "output_type": "display_data"
        },
        {
          "data": {
            "application/vnd.jupyter.widget-view+json": {
              "model_id": "767b43df2f54494b86ff293a85955797",
              "version_major": 2,
              "version_minor": 0
            },
            "text/plain": [
              "generation_config.json:   0%|          | 0.00/170 [00:00<?, ?B/s]"
            ]
          },
          "metadata": {},
          "output_type": "display_data"
        },
        {
          "data": {
            "application/vnd.jupyter.widget-view+json": {
              "model_id": "53bd151504494016ab9bdb11acba8efb",
              "version_major": 2,
              "version_minor": 0
            },
            "text/plain": [
              "tokenizer_config.json:   0%|          | 0.00/18.0k [00:00<?, ?B/s]"
            ]
          },
          "metadata": {},
          "output_type": "display_data"
        },
        {
          "data": {
            "application/vnd.jupyter.widget-view+json": {
              "model_id": "dfdfa755b646447f8cae6ddef55c1eb2",
              "version_major": 2,
              "version_minor": 0
            },
            "text/plain": [
              "vocab.json:   0%|          | 0.00/1.61M [00:00<?, ?B/s]"
            ]
          },
          "metadata": {},
          "output_type": "display_data"
        },
        {
          "data": {
            "application/vnd.jupyter.widget-view+json": {
              "model_id": "3cd49d2b99c54e12a6079da14484cf9d",
              "version_major": 2,
              "version_minor": 0
            },
            "text/plain": [
              "merges.txt:   0%|          | 0.00/917k [00:00<?, ?B/s]"
            ]
          },
          "metadata": {},
          "output_type": "display_data"
        },
        {
          "data": {
            "application/vnd.jupyter.widget-view+json": {
              "model_id": "22b491c96e6b4ade9a28dbb1f325abe2",
              "version_major": 2,
              "version_minor": 0
            },
            "text/plain": [
              "special_tokens_map.json:   0%|          | 0.00/570 [00:00<?, ?B/s]"
            ]
          },
          "metadata": {},
          "output_type": "display_data"
        },
        {
          "data": {
            "application/vnd.jupyter.widget-view+json": {
              "model_id": "c412bb059cea4f78be6cbeaaf3a2dfdd",
              "version_major": 2,
              "version_minor": 0
            },
            "text/plain": [
              "tokenizer.json:   0%|          | 0.00/7.15M [00:00<?, ?B/s]"
            ]
          },
          "metadata": {},
          "output_type": "display_data"
        },
        {
          "name": "stderr",
          "output_type": "stream",
          "text": [
            "Unsloth 2025.1.8 patched 40 layers with 40 QKV layers, 40 O layers and 40 MLP layers.\n"
          ]
        },
        {
          "data": {
            "text/plain": [
              "PeftModelForCausalLM(\n",
              "  (base_model): LoraModel(\n",
              "    (model): LlamaForCausalLM(\n",
              "      (model): LlamaModel(\n",
              "        (embed_tokens): Embedding(100352, 5120, padding_idx=100351)\n",
              "        (layers): ModuleList(\n",
              "          (0): LlamaDecoderLayer(\n",
              "            (self_attn): LlamaAttention(\n",
              "              (q_proj): lora.Linear4bit(\n",
              "                (base_layer): Linear4bit(in_features=5120, out_features=5120, bias=False)\n",
              "                (lora_dropout): ModuleDict(\n",
              "                  (default): Identity()\n",
              "                )\n",
              "                (lora_A): ModuleDict(\n",
              "                  (default): Linear(in_features=5120, out_features=8, bias=False)\n",
              "                )\n",
              "                (lora_B): ModuleDict(\n",
              "                  (default): Linear(in_features=8, out_features=5120, bias=False)\n",
              "                )\n",
              "                (lora_embedding_A): ParameterDict()\n",
              "                (lora_embedding_B): ParameterDict()\n",
              "                (lora_magnitude_vector): ModuleDict()\n",
              "              )\n",
              "              (k_proj): lora.Linear4bit(\n",
              "                (base_layer): Linear4bit(in_features=5120, out_features=1280, bias=False)\n",
              "                (lora_dropout): ModuleDict(\n",
              "                  (default): Identity()\n",
              "                )\n",
              "                (lora_A): ModuleDict(\n",
              "                  (default): Linear(in_features=5120, out_features=8, bias=False)\n",
              "                )\n",
              "                (lora_B): ModuleDict(\n",
              "                  (default): Linear(in_features=8, out_features=1280, bias=False)\n",
              "                )\n",
              "                (lora_embedding_A): ParameterDict()\n",
              "                (lora_embedding_B): ParameterDict()\n",
              "                (lora_magnitude_vector): ModuleDict()\n",
              "              )\n",
              "              (v_proj): lora.Linear4bit(\n",
              "                (base_layer): Linear4bit(in_features=5120, out_features=1280, bias=False)\n",
              "                (lora_dropout): ModuleDict(\n",
              "                  (default): Identity()\n",
              "                )\n",
              "                (lora_A): ModuleDict(\n",
              "                  (default): Linear(in_features=5120, out_features=8, bias=False)\n",
              "                )\n",
              "                (lora_B): ModuleDict(\n",
              "                  (default): Linear(in_features=8, out_features=1280, bias=False)\n",
              "                )\n",
              "                (lora_embedding_A): ParameterDict()\n",
              "                (lora_embedding_B): ParameterDict()\n",
              "                (lora_magnitude_vector): ModuleDict()\n",
              "              )\n",
              "              (o_proj): lora.Linear4bit(\n",
              "                (base_layer): Linear4bit(in_features=5120, out_features=5120, bias=False)\n",
              "                (lora_dropout): ModuleDict(\n",
              "                  (default): Identity()\n",
              "                )\n",
              "                (lora_A): ModuleDict(\n",
              "                  (default): Linear(in_features=5120, out_features=8, bias=False)\n",
              "                )\n",
              "                (lora_B): ModuleDict(\n",
              "                  (default): Linear(in_features=8, out_features=5120, bias=False)\n",
              "                )\n",
              "                (lora_embedding_A): ParameterDict()\n",
              "                (lora_embedding_B): ParameterDict()\n",
              "                (lora_magnitude_vector): ModuleDict()\n",
              "              )\n",
              "              (rotary_emb): LlamaRotaryEmbedding()\n",
              "            )\n",
              "            (mlp): LlamaMLP(\n",
              "              (gate_proj): lora.Linear4bit(\n",
              "                (base_layer): Linear4bit(in_features=5120, out_features=17920, bias=False)\n",
              "                (lora_dropout): ModuleDict(\n",
              "                  (default): Identity()\n",
              "                )\n",
              "                (lora_A): ModuleDict(\n",
              "                  (default): Linear(in_features=5120, out_features=8, bias=False)\n",
              "                )\n",
              "                (lora_B): ModuleDict(\n",
              "                  (default): Linear(in_features=8, out_features=17920, bias=False)\n",
              "                )\n",
              "                (lora_embedding_A): ParameterDict()\n",
              "                (lora_embedding_B): ParameterDict()\n",
              "                (lora_magnitude_vector): ModuleDict()\n",
              "              )\n",
              "              (up_proj): lora.Linear4bit(\n",
              "                (base_layer): Linear4bit(in_features=5120, out_features=17920, bias=False)\n",
              "                (lora_dropout): ModuleDict(\n",
              "                  (default): Identity()\n",
              "                )\n",
              "                (lora_A): ModuleDict(\n",
              "                  (default): Linear(in_features=5120, out_features=8, bias=False)\n",
              "                )\n",
              "                (lora_B): ModuleDict(\n",
              "                  (default): Linear(in_features=8, out_features=17920, bias=False)\n",
              "                )\n",
              "                (lora_embedding_A): ParameterDict()\n",
              "                (lora_embedding_B): ParameterDict()\n",
              "                (lora_magnitude_vector): ModuleDict()\n",
              "              )\n",
              "              (down_proj): lora.Linear4bit(\n",
              "                (base_layer): Linear4bit(in_features=17920, out_features=5120, bias=False)\n",
              "                (lora_dropout): ModuleDict(\n",
              "                  (default): Identity()\n",
              "                )\n",
              "                (lora_A): ModuleDict(\n",
              "                  (default): Linear(in_features=17920, out_features=8, bias=False)\n",
              "                )\n",
              "                (lora_B): ModuleDict(\n",
              "                  (default): Linear(in_features=8, out_features=5120, bias=False)\n",
              "                )\n",
              "                (lora_embedding_A): ParameterDict()\n",
              "                (lora_embedding_B): ParameterDict()\n",
              "                (lora_magnitude_vector): ModuleDict()\n",
              "              )\n",
              "              (act_fn): SiLU()\n",
              "            )\n",
              "            (input_layernorm): LlamaRMSNorm((5120,), eps=1e-05)\n",
              "            (post_attention_layernorm): LlamaRMSNorm((5120,), eps=1e-05)\n",
              "          )\n",
              "          (1-3): 3 x LlamaDecoderLayer(\n",
              "            (self_attn): LlamaAttention(\n",
              "              (q_proj): lora.Linear4bit(\n",
              "                (base_layer): Linear4bit(in_features=5120, out_features=5120, bias=False)\n",
              "                (lora_dropout): ModuleDict(\n",
              "                  (default): Identity()\n",
              "                )\n",
              "                (lora_A): ModuleDict(\n",
              "                  (default): Linear(in_features=5120, out_features=8, bias=False)\n",
              "                )\n",
              "                (lora_B): ModuleDict(\n",
              "                  (default): Linear(in_features=8, out_features=5120, bias=False)\n",
              "                )\n",
              "                (lora_embedding_A): ParameterDict()\n",
              "                (lora_embedding_B): ParameterDict()\n",
              "                (lora_magnitude_vector): ModuleDict()\n",
              "              )\n",
              "              (k_proj): lora.Linear4bit(\n",
              "                (base_layer): Linear4bit(in_features=5120, out_features=1280, bias=False)\n",
              "                (lora_dropout): ModuleDict(\n",
              "                  (default): Identity()\n",
              "                )\n",
              "                (lora_A): ModuleDict(\n",
              "                  (default): Linear(in_features=5120, out_features=8, bias=False)\n",
              "                )\n",
              "                (lora_B): ModuleDict(\n",
              "                  (default): Linear(in_features=8, out_features=1280, bias=False)\n",
              "                )\n",
              "                (lora_embedding_A): ParameterDict()\n",
              "                (lora_embedding_B): ParameterDict()\n",
              "                (lora_magnitude_vector): ModuleDict()\n",
              "              )\n",
              "              (v_proj): lora.Linear4bit(\n",
              "                (base_layer): Linear4bit(in_features=5120, out_features=1280, bias=False)\n",
              "                (lora_dropout): ModuleDict(\n",
              "                  (default): Identity()\n",
              "                )\n",
              "                (lora_A): ModuleDict(\n",
              "                  (default): Linear(in_features=5120, out_features=8, bias=False)\n",
              "                )\n",
              "                (lora_B): ModuleDict(\n",
              "                  (default): Linear(in_features=8, out_features=1280, bias=False)\n",
              "                )\n",
              "                (lora_embedding_A): ParameterDict()\n",
              "                (lora_embedding_B): ParameterDict()\n",
              "                (lora_magnitude_vector): ModuleDict()\n",
              "              )\n",
              "              (o_proj): lora.Linear4bit(\n",
              "                (base_layer): Linear4bit(in_features=5120, out_features=5120, bias=False)\n",
              "                (lora_dropout): ModuleDict(\n",
              "                  (default): Identity()\n",
              "                )\n",
              "                (lora_A): ModuleDict(\n",
              "                  (default): Linear(in_features=5120, out_features=8, bias=False)\n",
              "                )\n",
              "                (lora_B): ModuleDict(\n",
              "                  (default): Linear(in_features=8, out_features=5120, bias=False)\n",
              "                )\n",
              "                (lora_embedding_A): ParameterDict()\n",
              "                (lora_embedding_B): ParameterDict()\n",
              "                (lora_magnitude_vector): ModuleDict()\n",
              "              )\n",
              "              (rotary_emb): LlamaRotaryEmbedding()\n",
              "            )\n",
              "            (mlp): LlamaMLP(\n",
              "              (gate_proj): lora.Linear(\n",
              "                (base_layer): Linear(in_features=5120, out_features=17920, bias=False)\n",
              "                (lora_dropout): ModuleDict(\n",
              "                  (default): Identity()\n",
              "                )\n",
              "                (lora_A): ModuleDict(\n",
              "                  (default): Linear(in_features=5120, out_features=8, bias=False)\n",
              "                )\n",
              "                (lora_B): ModuleDict(\n",
              "                  (default): Linear(in_features=8, out_features=17920, bias=False)\n",
              "                )\n",
              "                (lora_embedding_A): ParameterDict()\n",
              "                (lora_embedding_B): ParameterDict()\n",
              "                (lora_magnitude_vector): ModuleDict()\n",
              "              )\n",
              "              (up_proj): lora.Linear(\n",
              "                (base_layer): Linear(in_features=5120, out_features=17920, bias=False)\n",
              "                (lora_dropout): ModuleDict(\n",
              "                  (default): Identity()\n",
              "                )\n",
              "                (lora_A): ModuleDict(\n",
              "                  (default): Linear(in_features=5120, out_features=8, bias=False)\n",
              "                )\n",
              "                (lora_B): ModuleDict(\n",
              "                  (default): Linear(in_features=8, out_features=17920, bias=False)\n",
              "                )\n",
              "                (lora_embedding_A): ParameterDict()\n",
              "                (lora_embedding_B): ParameterDict()\n",
              "                (lora_magnitude_vector): ModuleDict()\n",
              "              )\n",
              "              (down_proj): lora.Linear(\n",
              "                (base_layer): Linear(in_features=17920, out_features=5120, bias=False)\n",
              "                (lora_dropout): ModuleDict(\n",
              "                  (default): Identity()\n",
              "                )\n",
              "                (lora_A): ModuleDict(\n",
              "                  (default): Linear(in_features=17920, out_features=8, bias=False)\n",
              "                )\n",
              "                (lora_B): ModuleDict(\n",
              "                  (default): Linear(in_features=8, out_features=5120, bias=False)\n",
              "                )\n",
              "                (lora_embedding_A): ParameterDict()\n",
              "                (lora_embedding_B): ParameterDict()\n",
              "                (lora_magnitude_vector): ModuleDict()\n",
              "              )\n",
              "              (act_fn): SiLU()\n",
              "            )\n",
              "            (input_layernorm): LlamaRMSNorm((5120,), eps=1e-05)\n",
              "            (post_attention_layernorm): LlamaRMSNorm((5120,), eps=1e-05)\n",
              "          )\n",
              "          (4-36): 33 x LlamaDecoderLayer(\n",
              "            (self_attn): LlamaAttention(\n",
              "              (q_proj): lora.Linear4bit(\n",
              "                (base_layer): Linear4bit(in_features=5120, out_features=5120, bias=False)\n",
              "                (lora_dropout): ModuleDict(\n",
              "                  (default): Identity()\n",
              "                )\n",
              "                (lora_A): ModuleDict(\n",
              "                  (default): Linear(in_features=5120, out_features=8, bias=False)\n",
              "                )\n",
              "                (lora_B): ModuleDict(\n",
              "                  (default): Linear(in_features=8, out_features=5120, bias=False)\n",
              "                )\n",
              "                (lora_embedding_A): ParameterDict()\n",
              "                (lora_embedding_B): ParameterDict()\n",
              "                (lora_magnitude_vector): ModuleDict()\n",
              "              )\n",
              "              (k_proj): lora.Linear4bit(\n",
              "                (base_layer): Linear4bit(in_features=5120, out_features=1280, bias=False)\n",
              "                (lora_dropout): ModuleDict(\n",
              "                  (default): Identity()\n",
              "                )\n",
              "                (lora_A): ModuleDict(\n",
              "                  (default): Linear(in_features=5120, out_features=8, bias=False)\n",
              "                )\n",
              "                (lora_B): ModuleDict(\n",
              "                  (default): Linear(in_features=8, out_features=1280, bias=False)\n",
              "                )\n",
              "                (lora_embedding_A): ParameterDict()\n",
              "                (lora_embedding_B): ParameterDict()\n",
              "                (lora_magnitude_vector): ModuleDict()\n",
              "              )\n",
              "              (v_proj): lora.Linear4bit(\n",
              "                (base_layer): Linear4bit(in_features=5120, out_features=1280, bias=False)\n",
              "                (lora_dropout): ModuleDict(\n",
              "                  (default): Identity()\n",
              "                )\n",
              "                (lora_A): ModuleDict(\n",
              "                  (default): Linear(in_features=5120, out_features=8, bias=False)\n",
              "                )\n",
              "                (lora_B): ModuleDict(\n",
              "                  (default): Linear(in_features=8, out_features=1280, bias=False)\n",
              "                )\n",
              "                (lora_embedding_A): ParameterDict()\n",
              "                (lora_embedding_B): ParameterDict()\n",
              "                (lora_magnitude_vector): ModuleDict()\n",
              "              )\n",
              "              (o_proj): lora.Linear4bit(\n",
              "                (base_layer): Linear4bit(in_features=5120, out_features=5120, bias=False)\n",
              "                (lora_dropout): ModuleDict(\n",
              "                  (default): Identity()\n",
              "                )\n",
              "                (lora_A): ModuleDict(\n",
              "                  (default): Linear(in_features=5120, out_features=8, bias=False)\n",
              "                )\n",
              "                (lora_B): ModuleDict(\n",
              "                  (default): Linear(in_features=8, out_features=5120, bias=False)\n",
              "                )\n",
              "                (lora_embedding_A): ParameterDict()\n",
              "                (lora_embedding_B): ParameterDict()\n",
              "                (lora_magnitude_vector): ModuleDict()\n",
              "              )\n",
              "              (rotary_emb): LlamaRotaryEmbedding()\n",
              "            )\n",
              "            (mlp): LlamaMLP(\n",
              "              (gate_proj): lora.Linear4bit(\n",
              "                (base_layer): Linear4bit(in_features=5120, out_features=17920, bias=False)\n",
              "                (lora_dropout): ModuleDict(\n",
              "                  (default): Identity()\n",
              "                )\n",
              "                (lora_A): ModuleDict(\n",
              "                  (default): Linear(in_features=5120, out_features=8, bias=False)\n",
              "                )\n",
              "                (lora_B): ModuleDict(\n",
              "                  (default): Linear(in_features=8, out_features=17920, bias=False)\n",
              "                )\n",
              "                (lora_embedding_A): ParameterDict()\n",
              "                (lora_embedding_B): ParameterDict()\n",
              "                (lora_magnitude_vector): ModuleDict()\n",
              "              )\n",
              "              (up_proj): lora.Linear4bit(\n",
              "                (base_layer): Linear4bit(in_features=5120, out_features=17920, bias=False)\n",
              "                (lora_dropout): ModuleDict(\n",
              "                  (default): Identity()\n",
              "                )\n",
              "                (lora_A): ModuleDict(\n",
              "                  (default): Linear(in_features=5120, out_features=8, bias=False)\n",
              "                )\n",
              "                (lora_B): ModuleDict(\n",
              "                  (default): Linear(in_features=8, out_features=17920, bias=False)\n",
              "                )\n",
              "                (lora_embedding_A): ParameterDict()\n",
              "                (lora_embedding_B): ParameterDict()\n",
              "                (lora_magnitude_vector): ModuleDict()\n",
              "              )\n",
              "              (down_proj): lora.Linear4bit(\n",
              "                (base_layer): Linear4bit(in_features=17920, out_features=5120, bias=False)\n",
              "                (lora_dropout): ModuleDict(\n",
              "                  (default): Identity()\n",
              "                )\n",
              "                (lora_A): ModuleDict(\n",
              "                  (default): Linear(in_features=17920, out_features=8, bias=False)\n",
              "                )\n",
              "                (lora_B): ModuleDict(\n",
              "                  (default): Linear(in_features=8, out_features=5120, bias=False)\n",
              "                )\n",
              "                (lora_embedding_A): ParameterDict()\n",
              "                (lora_embedding_B): ParameterDict()\n",
              "                (lora_magnitude_vector): ModuleDict()\n",
              "              )\n",
              "              (act_fn): SiLU()\n",
              "            )\n",
              "            (input_layernorm): LlamaRMSNorm((5120,), eps=1e-05)\n",
              "            (post_attention_layernorm): LlamaRMSNorm((5120,), eps=1e-05)\n",
              "          )\n",
              "          (37): LlamaDecoderLayer(\n",
              "            (self_attn): LlamaAttention(\n",
              "              (q_proj): lora.Linear4bit(\n",
              "                (base_layer): Linear4bit(in_features=5120, out_features=5120, bias=False)\n",
              "                (lora_dropout): ModuleDict(\n",
              "                  (default): Identity()\n",
              "                )\n",
              "                (lora_A): ModuleDict(\n",
              "                  (default): Linear(in_features=5120, out_features=8, bias=False)\n",
              "                )\n",
              "                (lora_B): ModuleDict(\n",
              "                  (default): Linear(in_features=8, out_features=5120, bias=False)\n",
              "                )\n",
              "                (lora_embedding_A): ParameterDict()\n",
              "                (lora_embedding_B): ParameterDict()\n",
              "                (lora_magnitude_vector): ModuleDict()\n",
              "              )\n",
              "              (k_proj): lora.Linear4bit(\n",
              "                (base_layer): Linear4bit(in_features=5120, out_features=1280, bias=False)\n",
              "                (lora_dropout): ModuleDict(\n",
              "                  (default): Identity()\n",
              "                )\n",
              "                (lora_A): ModuleDict(\n",
              "                  (default): Linear(in_features=5120, out_features=8, bias=False)\n",
              "                )\n",
              "                (lora_B): ModuleDict(\n",
              "                  (default): Linear(in_features=8, out_features=1280, bias=False)\n",
              "                )\n",
              "                (lora_embedding_A): ParameterDict()\n",
              "                (lora_embedding_B): ParameterDict()\n",
              "                (lora_magnitude_vector): ModuleDict()\n",
              "              )\n",
              "              (v_proj): lora.Linear4bit(\n",
              "                (base_layer): Linear4bit(in_features=5120, out_features=1280, bias=False)\n",
              "                (lora_dropout): ModuleDict(\n",
              "                  (default): Identity()\n",
              "                )\n",
              "                (lora_A): ModuleDict(\n",
              "                  (default): Linear(in_features=5120, out_features=8, bias=False)\n",
              "                )\n",
              "                (lora_B): ModuleDict(\n",
              "                  (default): Linear(in_features=8, out_features=1280, bias=False)\n",
              "                )\n",
              "                (lora_embedding_A): ParameterDict()\n",
              "                (lora_embedding_B): ParameterDict()\n",
              "                (lora_magnitude_vector): ModuleDict()\n",
              "              )\n",
              "              (o_proj): lora.Linear(\n",
              "                (base_layer): Linear(in_features=5120, out_features=5120, bias=False)\n",
              "                (lora_dropout): ModuleDict(\n",
              "                  (default): Identity()\n",
              "                )\n",
              "                (lora_A): ModuleDict(\n",
              "                  (default): Linear(in_features=5120, out_features=8, bias=False)\n",
              "                )\n",
              "                (lora_B): ModuleDict(\n",
              "                  (default): Linear(in_features=8, out_features=5120, bias=False)\n",
              "                )\n",
              "                (lora_embedding_A): ParameterDict()\n",
              "                (lora_embedding_B): ParameterDict()\n",
              "                (lora_magnitude_vector): ModuleDict()\n",
              "              )\n",
              "              (rotary_emb): LlamaRotaryEmbedding()\n",
              "            )\n",
              "            (mlp): LlamaMLP(\n",
              "              (gate_proj): lora.Linear4bit(\n",
              "                (base_layer): Linear4bit(in_features=5120, out_features=17920, bias=False)\n",
              "                (lora_dropout): ModuleDict(\n",
              "                  (default): Identity()\n",
              "                )\n",
              "                (lora_A): ModuleDict(\n",
              "                  (default): Linear(in_features=5120, out_features=8, bias=False)\n",
              "                )\n",
              "                (lora_B): ModuleDict(\n",
              "                  (default): Linear(in_features=8, out_features=17920, bias=False)\n",
              "                )\n",
              "                (lora_embedding_A): ParameterDict()\n",
              "                (lora_embedding_B): ParameterDict()\n",
              "                (lora_magnitude_vector): ModuleDict()\n",
              "              )\n",
              "              (up_proj): lora.Linear4bit(\n",
              "                (base_layer): Linear4bit(in_features=5120, out_features=17920, bias=False)\n",
              "                (lora_dropout): ModuleDict(\n",
              "                  (default): Identity()\n",
              "                )\n",
              "                (lora_A): ModuleDict(\n",
              "                  (default): Linear(in_features=5120, out_features=8, bias=False)\n",
              "                )\n",
              "                (lora_B): ModuleDict(\n",
              "                  (default): Linear(in_features=8, out_features=17920, bias=False)\n",
              "                )\n",
              "                (lora_embedding_A): ParameterDict()\n",
              "                (lora_embedding_B): ParameterDict()\n",
              "                (lora_magnitude_vector): ModuleDict()\n",
              "              )\n",
              "              (down_proj): lora.Linear4bit(\n",
              "                (base_layer): Linear4bit(in_features=17920, out_features=5120, bias=False)\n",
              "                (lora_dropout): ModuleDict(\n",
              "                  (default): Identity()\n",
              "                )\n",
              "                (lora_A): ModuleDict(\n",
              "                  (default): Linear(in_features=17920, out_features=8, bias=False)\n",
              "                )\n",
              "                (lora_B): ModuleDict(\n",
              "                  (default): Linear(in_features=8, out_features=5120, bias=False)\n",
              "                )\n",
              "                (lora_embedding_A): ParameterDict()\n",
              "                (lora_embedding_B): ParameterDict()\n",
              "                (lora_magnitude_vector): ModuleDict()\n",
              "              )\n",
              "              (act_fn): SiLU()\n",
              "            )\n",
              "            (input_layernorm): LlamaRMSNorm((5120,), eps=1e-05)\n",
              "            (post_attention_layernorm): LlamaRMSNorm((5120,), eps=1e-05)\n",
              "          )\n",
              "          (38): LlamaDecoderLayer(\n",
              "            (self_attn): LlamaAttention(\n",
              "              (q_proj): lora.Linear4bit(\n",
              "                (base_layer): Linear4bit(in_features=5120, out_features=5120, bias=False)\n",
              "                (lora_dropout): ModuleDict(\n",
              "                  (default): Identity()\n",
              "                )\n",
              "                (lora_A): ModuleDict(\n",
              "                  (default): Linear(in_features=5120, out_features=8, bias=False)\n",
              "                )\n",
              "                (lora_B): ModuleDict(\n",
              "                  (default): Linear(in_features=8, out_features=5120, bias=False)\n",
              "                )\n",
              "                (lora_embedding_A): ParameterDict()\n",
              "                (lora_embedding_B): ParameterDict()\n",
              "                (lora_magnitude_vector): ModuleDict()\n",
              "              )\n",
              "              (k_proj): lora.Linear4bit(\n",
              "                (base_layer): Linear4bit(in_features=5120, out_features=1280, bias=False)\n",
              "                (lora_dropout): ModuleDict(\n",
              "                  (default): Identity()\n",
              "                )\n",
              "                (lora_A): ModuleDict(\n",
              "                  (default): Linear(in_features=5120, out_features=8, bias=False)\n",
              "                )\n",
              "                (lora_B): ModuleDict(\n",
              "                  (default): Linear(in_features=8, out_features=1280, bias=False)\n",
              "                )\n",
              "                (lora_embedding_A): ParameterDict()\n",
              "                (lora_embedding_B): ParameterDict()\n",
              "                (lora_magnitude_vector): ModuleDict()\n",
              "              )\n",
              "              (v_proj): lora.Linear4bit(\n",
              "                (base_layer): Linear4bit(in_features=5120, out_features=1280, bias=False)\n",
              "                (lora_dropout): ModuleDict(\n",
              "                  (default): Identity()\n",
              "                )\n",
              "                (lora_A): ModuleDict(\n",
              "                  (default): Linear(in_features=5120, out_features=8, bias=False)\n",
              "                )\n",
              "                (lora_B): ModuleDict(\n",
              "                  (default): Linear(in_features=8, out_features=1280, bias=False)\n",
              "                )\n",
              "                (lora_embedding_A): ParameterDict()\n",
              "                (lora_embedding_B): ParameterDict()\n",
              "                (lora_magnitude_vector): ModuleDict()\n",
              "              )\n",
              "              (o_proj): lora.Linear4bit(\n",
              "                (base_layer): Linear4bit(in_features=5120, out_features=5120, bias=False)\n",
              "                (lora_dropout): ModuleDict(\n",
              "                  (default): Identity()\n",
              "                )\n",
              "                (lora_A): ModuleDict(\n",
              "                  (default): Linear(in_features=5120, out_features=8, bias=False)\n",
              "                )\n",
              "                (lora_B): ModuleDict(\n",
              "                  (default): Linear(in_features=8, out_features=5120, bias=False)\n",
              "                )\n",
              "                (lora_embedding_A): ParameterDict()\n",
              "                (lora_embedding_B): ParameterDict()\n",
              "                (lora_magnitude_vector): ModuleDict()\n",
              "              )\n",
              "              (rotary_emb): LlamaRotaryEmbedding()\n",
              "            )\n",
              "            (mlp): LlamaMLP(\n",
              "              (gate_proj): lora.Linear4bit(\n",
              "                (base_layer): Linear4bit(in_features=5120, out_features=17920, bias=False)\n",
              "                (lora_dropout): ModuleDict(\n",
              "                  (default): Identity()\n",
              "                )\n",
              "                (lora_A): ModuleDict(\n",
              "                  (default): Linear(in_features=5120, out_features=8, bias=False)\n",
              "                )\n",
              "                (lora_B): ModuleDict(\n",
              "                  (default): Linear(in_features=8, out_features=17920, bias=False)\n",
              "                )\n",
              "                (lora_embedding_A): ParameterDict()\n",
              "                (lora_embedding_B): ParameterDict()\n",
              "                (lora_magnitude_vector): ModuleDict()\n",
              "              )\n",
              "              (up_proj): lora.Linear4bit(\n",
              "                (base_layer): Linear4bit(in_features=5120, out_features=17920, bias=False)\n",
              "                (lora_dropout): ModuleDict(\n",
              "                  (default): Identity()\n",
              "                )\n",
              "                (lora_A): ModuleDict(\n",
              "                  (default): Linear(in_features=5120, out_features=8, bias=False)\n",
              "                )\n",
              "                (lora_B): ModuleDict(\n",
              "                  (default): Linear(in_features=8, out_features=17920, bias=False)\n",
              "                )\n",
              "                (lora_embedding_A): ParameterDict()\n",
              "                (lora_embedding_B): ParameterDict()\n",
              "                (lora_magnitude_vector): ModuleDict()\n",
              "              )\n",
              "              (down_proj): lora.Linear4bit(\n",
              "                (base_layer): Linear4bit(in_features=17920, out_features=5120, bias=False)\n",
              "                (lora_dropout): ModuleDict(\n",
              "                  (default): Identity()\n",
              "                )\n",
              "                (lora_A): ModuleDict(\n",
              "                  (default): Linear(in_features=17920, out_features=8, bias=False)\n",
              "                )\n",
              "                (lora_B): ModuleDict(\n",
              "                  (default): Linear(in_features=8, out_features=5120, bias=False)\n",
              "                )\n",
              "                (lora_embedding_A): ParameterDict()\n",
              "                (lora_embedding_B): ParameterDict()\n",
              "                (lora_magnitude_vector): ModuleDict()\n",
              "              )\n",
              "              (act_fn): SiLU()\n",
              "            )\n",
              "            (input_layernorm): LlamaRMSNorm((5120,), eps=1e-05)\n",
              "            (post_attention_layernorm): LlamaRMSNorm((5120,), eps=1e-05)\n",
              "          )\n",
              "          (39): LlamaDecoderLayer(\n",
              "            (self_attn): LlamaAttention(\n",
              "              (q_proj): lora.Linear4bit(\n",
              "                (base_layer): Linear4bit(in_features=5120, out_features=5120, bias=False)\n",
              "                (lora_dropout): ModuleDict(\n",
              "                  (default): Identity()\n",
              "                )\n",
              "                (lora_A): ModuleDict(\n",
              "                  (default): Linear(in_features=5120, out_features=8, bias=False)\n",
              "                )\n",
              "                (lora_B): ModuleDict(\n",
              "                  (default): Linear(in_features=8, out_features=5120, bias=False)\n",
              "                )\n",
              "                (lora_embedding_A): ParameterDict()\n",
              "                (lora_embedding_B): ParameterDict()\n",
              "                (lora_magnitude_vector): ModuleDict()\n",
              "              )\n",
              "              (k_proj): lora.Linear4bit(\n",
              "                (base_layer): Linear4bit(in_features=5120, out_features=1280, bias=False)\n",
              "                (lora_dropout): ModuleDict(\n",
              "                  (default): Identity()\n",
              "                )\n",
              "                (lora_A): ModuleDict(\n",
              "                  (default): Linear(in_features=5120, out_features=8, bias=False)\n",
              "                )\n",
              "                (lora_B): ModuleDict(\n",
              "                  (default): Linear(in_features=8, out_features=1280, bias=False)\n",
              "                )\n",
              "                (lora_embedding_A): ParameterDict()\n",
              "                (lora_embedding_B): ParameterDict()\n",
              "                (lora_magnitude_vector): ModuleDict()\n",
              "              )\n",
              "              (v_proj): lora.Linear4bit(\n",
              "                (base_layer): Linear4bit(in_features=5120, out_features=1280, bias=False)\n",
              "                (lora_dropout): ModuleDict(\n",
              "                  (default): Identity()\n",
              "                )\n",
              "                (lora_A): ModuleDict(\n",
              "                  (default): Linear(in_features=5120, out_features=8, bias=False)\n",
              "                )\n",
              "                (lora_B): ModuleDict(\n",
              "                  (default): Linear(in_features=8, out_features=1280, bias=False)\n",
              "                )\n",
              "                (lora_embedding_A): ParameterDict()\n",
              "                (lora_embedding_B): ParameterDict()\n",
              "                (lora_magnitude_vector): ModuleDict()\n",
              "              )\n",
              "              (o_proj): lora.Linear(\n",
              "                (base_layer): Linear(in_features=5120, out_features=5120, bias=False)\n",
              "                (lora_dropout): ModuleDict(\n",
              "                  (default): Identity()\n",
              "                )\n",
              "                (lora_A): ModuleDict(\n",
              "                  (default): Linear(in_features=5120, out_features=8, bias=False)\n",
              "                )\n",
              "                (lora_B): ModuleDict(\n",
              "                  (default): Linear(in_features=8, out_features=5120, bias=False)\n",
              "                )\n",
              "                (lora_embedding_A): ParameterDict()\n",
              "                (lora_embedding_B): ParameterDict()\n",
              "                (lora_magnitude_vector): ModuleDict()\n",
              "              )\n",
              "              (rotary_emb): LlamaRotaryEmbedding()\n",
              "            )\n",
              "            (mlp): LlamaMLP(\n",
              "              (gate_proj): lora.Linear4bit(\n",
              "                (base_layer): Linear4bit(in_features=5120, out_features=17920, bias=False)\n",
              "                (lora_dropout): ModuleDict(\n",
              "                  (default): Identity()\n",
              "                )\n",
              "                (lora_A): ModuleDict(\n",
              "                  (default): Linear(in_features=5120, out_features=8, bias=False)\n",
              "                )\n",
              "                (lora_B): ModuleDict(\n",
              "                  (default): Linear(in_features=8, out_features=17920, bias=False)\n",
              "                )\n",
              "                (lora_embedding_A): ParameterDict()\n",
              "                (lora_embedding_B): ParameterDict()\n",
              "                (lora_magnitude_vector): ModuleDict()\n",
              "              )\n",
              "              (up_proj): lora.Linear4bit(\n",
              "                (base_layer): Linear4bit(in_features=5120, out_features=17920, bias=False)\n",
              "                (lora_dropout): ModuleDict(\n",
              "                  (default): Identity()\n",
              "                )\n",
              "                (lora_A): ModuleDict(\n",
              "                  (default): Linear(in_features=5120, out_features=8, bias=False)\n",
              "                )\n",
              "                (lora_B): ModuleDict(\n",
              "                  (default): Linear(in_features=8, out_features=17920, bias=False)\n",
              "                )\n",
              "                (lora_embedding_A): ParameterDict()\n",
              "                (lora_embedding_B): ParameterDict()\n",
              "                (lora_magnitude_vector): ModuleDict()\n",
              "              )\n",
              "              (down_proj): lora.Linear4bit(\n",
              "                (base_layer): Linear4bit(in_features=17920, out_features=5120, bias=False)\n",
              "                (lora_dropout): ModuleDict(\n",
              "                  (default): Identity()\n",
              "                )\n",
              "                (lora_A): ModuleDict(\n",
              "                  (default): Linear(in_features=17920, out_features=8, bias=False)\n",
              "                )\n",
              "                (lora_B): ModuleDict(\n",
              "                  (default): Linear(in_features=8, out_features=5120, bias=False)\n",
              "                )\n",
              "                (lora_embedding_A): ParameterDict()\n",
              "                (lora_embedding_B): ParameterDict()\n",
              "                (lora_magnitude_vector): ModuleDict()\n",
              "              )\n",
              "              (act_fn): SiLU()\n",
              "            )\n",
              "            (input_layernorm): LlamaRMSNorm((5120,), eps=1e-05)\n",
              "            (post_attention_layernorm): LlamaRMSNorm((5120,), eps=1e-05)\n",
              "          )\n",
              "        )\n",
              "        (norm): LlamaRMSNorm((5120,), eps=1e-05)\n",
              "        (rotary_emb): LlamaRotaryEmbedding()\n",
              "      )\n",
              "      (lm_head): Linear(in_features=5120, out_features=100352, bias=False)\n",
              "    )\n",
              "  )\n",
              ")"
            ]
          },
          "execution_count": 5,
          "metadata": {},
          "output_type": "execute_result"
        }
      ],
      "source": [
        "model_name = \"unsloth/phi-4-unsloth-bnb-4bit\"\n",
        "\n",
        "model, tokenizer = get_model_tokenizer(model_name)\n",
        "FastLanguageModel.for_inference(model)"
      ]
    },
    {
      "cell_type": "code",
      "execution_count": null,
      "metadata": {
        "id": "ie6hr7zZc1CR"
      },
      "outputs": [],
      "source": [
        "def get_schema(df):\n",
        "    # Capture DataFrame.info() output as a string\n",
        "    buffer = io.StringIO()\n",
        "    df.info(buf=buffer)\n",
        "    info_str = buffer.getvalue()\n",
        "\n",
        "    return str(info_str)\n",
        "\n",
        "def generate_prompt(df, question):\n",
        "    messages = [\n",
        "        {\"role\": \"system\", \"content\":\"\"\"\n",
        "        You are an expert Python data engineer.\n",
        "    Your task is to generate pandas code based on a structured reasoning process\n",
        "    You only generate code, no references or explanation - just code\n",
        "    You generate only 20 lines of code at max\n",
        "\n",
        "        \"\"\"},\n",
        "        {\"role\": \"user\", \"content\":f\"\"\"\n",
        "    Dataframe Schema:\n",
        "    {get_schema(df)}\n",
        "\n",
        "\n",
        "    Sample Rows:\n",
        "    {df.head(3).to_dict(orient='records')}\n",
        "\n",
        "    User Question:\n",
        "    {question}\n",
        "\n",
        "    Expected Output Format:\n",
        "    Generate runnable Python code that follows the given reasoning using pandas.\n",
        "    The code should assume that the dataframe is already loaded as `df`.\n",
        "    The final output should be stored in a variable named `result`.\n",
        "\n",
        "    The expected answer type is unknown, but it will always be one of the following:\n",
        "        * Boolean: True/False, \"Y\"/\"N\", \"Yes\"/\"No\" (case insensitive).\n",
        "        * Category: A value from a cell (or substring of a cell) in the dataset.\n",
        "        * Number: A numerical value from a cell or a computed statistic.\n",
        "        * List[category]: A list of categories (unique or repeated based on context). Format: ['cat', 'dog'].\n",
        "        * List[number]: A list of numbers.\n",
        "\n",
        "    Given the user question, you need to write code in pandas, assume that you already have df.\n",
        "    Generate only the code.\n",
        "        \"\"\"},\n",
        "    ]\n",
        "    # Given the user question, you need to reason out the steps (in bullet points) to write pandas code\n",
        "    # Then write the code in pandas.\n",
        "    return messages"
      ]
    },
    {
      "cell_type": "code",
      "execution_count": null,
      "metadata": {
        "id": "p_drbYniGf6t"
      },
      "outputs": [],
      "source": [
        "reason_prompt = \"\"\"### Instruction:\n",
        "{instruction}\n",
        "\n",
        "### Input:\n",
        "{input}\n",
        "\n",
        "### Response:\n",
        "{output}\n",
        "\"\"\""
      ]
    },
    {
      "cell_type": "code",
      "execution_count": null,
      "metadata": {
        "id": "_eJ7ckmSII_E"
      },
      "outputs": [],
      "source": [
        "# reason_prompt.format(instruction=\"\", input=\"\", output=\"\")\n",
        "import torch\n",
        "import json\n",
        "device = 'cuda' if torch.cuda.is_available() else 'cpu'"
      ]
    },
    {
      "cell_type": "code",
      "execution_count": null,
      "metadata": {
        "id": "CNW9MfsIdE8Q"
      },
      "outputs": [],
      "source": [
        "df_outs = pd.DataFrame(columns = ['ind', 'question', 'llm_output', 'generated_code', 'result'])\n",
        "semeval_test_qa = pd.read_csv('/content/competition/test_qa.csv')"
      ]
    },
    {
      "cell_type": "code",
      "execution_count": null,
      "metadata": {
        "colab": {
          "base_uri": "https://localhost:8080/"
        },
        "id": "Eu_vouBdd1sb",
        "outputId": "89f84233-7a45-4371-a821-8e8c17931127"
      },
      "outputs": [
        {
          "name": "stderr",
          "output_type": "stream",
          "text": [
            "  0%|          | 1/522 [00:06<1:00:42,  6.99s/it]"
          ]
        },
        {
          "name": "stdout",
          "output_type": "stream",
          "text": [
            "Execute code..\n",
            "------------------------------------------------------------------------------------------------------------------------------------------------------\n",
            "Response final:\n",
            "\n",
            "\n"
          ]
        },
        {
          "name": "stderr",
          "output_type": "stream",
          "text": [
            "\r  0%|          | 2/522 [00:14<1:05:23,  7.55s/it]"
          ]
        },
        {
          "name": "stdout",
          "output_type": "stream",
          "text": [
            "Execute code..\n",
            "------------------------------------------------------------------------------------------------------------------------------------------------------\n",
            "Response final:\n",
            "\n",
            "\n"
          ]
        },
        {
          "name": "stderr",
          "output_type": "stream",
          "text": [
            "\r  1%|          | 3/522 [00:22<1:04:33,  7.46s/it]"
          ]
        },
        {
          "name": "stdout",
          "output_type": "stream",
          "text": [
            "Execute code..\n",
            "------------------------------------------------------------------------------------------------------------------------------------------------------\n",
            "Response final:\n",
            "\n",
            "\n"
          ]
        },
        {
          "name": "stderr",
          "output_type": "stream",
          "text": [
            "\r  1%|          | 4/522 [00:28<58:36,  6.79s/it]  "
          ]
        },
        {
          "name": "stdout",
          "output_type": "stream",
          "text": [
            "Execute code..\n",
            "------------------------------------------------------------------------------------------------------------------------------------------------------\n",
            "Response final:\n",
            "\n",
            "\n"
          ]
        },
        {
          "name": "stderr",
          "output_type": "stream",
          "text": [
            "\r  1%|          | 5/522 [00:44<1:28:30, 10.27s/it]"
          ]
        },
        {
          "name": "stdout",
          "output_type": "stream",
          "text": [
            "Execute code..\n",
            "------------------------------------------------------------------------------------------------------------------------------------------------------\n",
            "Response final:\n",
            "\n",
            "\n"
          ]
        },
        {
          "name": "stderr",
          "output_type": "stream",
          "text": [
            "\r  1%|          | 6/522 [00:49<1:14:22,  8.65s/it]"
          ]
        },
        {
          "name": "stdout",
          "output_type": "stream",
          "text": [
            "Execute code..\n",
            "------------------------------------------------------------------------------------------------------------------------------------------------------\n",
            "Response final:\n",
            "\n",
            "\n"
          ]
        },
        {
          "name": "stderr",
          "output_type": "stream",
          "text": [
            "\r  1%|▏         | 7/522 [01:04<1:30:02, 10.49s/it]"
          ]
        },
        {
          "name": "stdout",
          "output_type": "stream",
          "text": [
            "Execute code..\n",
            "------------------------------------------------------------------------------------------------------------------------------------------------------\n",
            "Response final:\n",
            "\n",
            "\n"
          ]
        },
        {
          "name": "stderr",
          "output_type": "stream",
          "text": [
            "\r  2%|▏         | 8/522 [01:19<1:43:26, 12.08s/it]"
          ]
        },
        {
          "name": "stdout",
          "output_type": "stream",
          "text": [
            "Execute code..\n",
            "------------------------------------------------------------------------------------------------------------------------------------------------------\n",
            "Response final:\n",
            "\n",
            "\n"
          ]
        },
        {
          "name": "stderr",
          "output_type": "stream",
          "text": [
            "\r  2%|▏         | 9/522 [01:27<1:31:14, 10.67s/it]"
          ]
        },
        {
          "name": "stdout",
          "output_type": "stream",
          "text": [
            "Execute code..\n",
            "------------------------------------------------------------------------------------------------------------------------------------------------------\n",
            "Response final:\n",
            "\n",
            "\n"
          ]
        },
        {
          "name": "stderr",
          "output_type": "stream",
          "text": [
            "\r  2%|▏         | 10/522 [01:32<1:16:29,  8.96s/it]"
          ]
        },
        {
          "name": "stdout",
          "output_type": "stream",
          "text": [
            "Execute code..\n",
            "------------------------------------------------------------------------------------------------------------------------------------------------------\n",
            "Response final:\n",
            "\n",
            "\n"
          ]
        },
        {
          "name": "stderr",
          "output_type": "stream",
          "text": [
            "<string>:2: FutureWarning: The default of observed=False is deprecated and will be changed to True in a future version of pandas. Pass observed=False to retain current behavior or observed=True to adopt the future default and silence this warning.\n",
            "\r  2%|▏         | 11/522 [01:38<1:08:09,  8.00s/it]"
          ]
        },
        {
          "name": "stdout",
          "output_type": "stream",
          "text": [
            "Execute code..\n",
            "------------------------------------------------------------------------------------------------------------------------------------------------------\n",
            "Response final:\n",
            "\n",
            "\n"
          ]
        },
        {
          "name": "stderr",
          "output_type": "stream",
          "text": [
            "\r  2%|▏         | 12/522 [01:43<1:01:45,  7.27s/it]"
          ]
        },
        {
          "name": "stdout",
          "output_type": "stream",
          "text": [
            "Execute code..\n",
            "------------------------------------------------------------------------------------------------------------------------------------------------------\n",
            "Response final:\n",
            "\n",
            "\n"
          ]
        },
        {
          "name": "stderr",
          "output_type": "stream",
          "text": [
            "\r  2%|▏         | 13/522 [01:49<56:24,  6.65s/it]  "
          ]
        },
        {
          "name": "stdout",
          "output_type": "stream",
          "text": [
            "Execute code..\n",
            "------------------------------------------------------------------------------------------------------------------------------------------------------\n",
            "Response final:\n",
            "\n",
            "\n"
          ]
        },
        {
          "name": "stderr",
          "output_type": "stream",
          "text": [
            "<string>:2: FutureWarning: The default of observed=False is deprecated and will be changed to True in a future version of pandas. Pass observed=False to retain current behavior or observed=True to adopt the future default and silence this warning.\n",
            "\r  3%|▎         | 14/522 [01:54<54:22,  6.42s/it]"
          ]
        },
        {
          "name": "stdout",
          "output_type": "stream",
          "text": [
            "Execute code..\n",
            "------------------------------------------------------------------------------------------------------------------------------------------------------\n",
            "Response final:\n",
            "\n",
            "\n"
          ]
        },
        {
          "name": "stderr",
          "output_type": "stream",
          "text": [
            "<string>:5: FutureWarning: The default of observed=False is deprecated and will be changed to True in a future version of pandas. Pass observed=False to retain current behavior or observed=True to adopt the future default and silence this warning.\n",
            "\r  3%|▎         | 15/522 [02:02<57:01,  6.75s/it]"
          ]
        },
        {
          "name": "stdout",
          "output_type": "stream",
          "text": [
            "Execute code..\n",
            "------------------------------------------------------------------------------------------------------------------------------------------------------\n",
            "Response final:\n",
            "\n",
            "\n"
          ]
        },
        {
          "name": "stderr",
          "output_type": "stream",
          "text": [
            "\r  3%|▎         | 16/522 [02:07<53:19,  6.32s/it]"
          ]
        },
        {
          "name": "stdout",
          "output_type": "stream",
          "text": [
            "Execute code..\n",
            "------------------------------------------------------------------------------------------------------------------------------------------------------\n",
            "Response final:\n",
            "\n",
            "\n"
          ]
        },
        {
          "name": "stderr",
          "output_type": "stream",
          "text": [
            "\r  3%|▎         | 17/522 [02:14<55:04,  6.54s/it]"
          ]
        },
        {
          "name": "stdout",
          "output_type": "stream",
          "text": [
            "Execute code..\n",
            "------------------------------------------------------------------------------------------------------------------------------------------------------\n",
            "Response final:\n",
            "\n",
            "\n"
          ]
        },
        {
          "name": "stderr",
          "output_type": "stream",
          "text": [
            "\r  3%|▎         | 18/522 [02:19<50:36,  6.03s/it]"
          ]
        },
        {
          "name": "stdout",
          "output_type": "stream",
          "text": [
            "Execute code..\n",
            "------------------------------------------------------------------------------------------------------------------------------------------------------\n",
            "Response final:\n",
            "\n",
            "\n"
          ]
        },
        {
          "name": "stderr",
          "output_type": "stream",
          "text": [
            "\r  4%|▎         | 19/522 [02:24<48:01,  5.73s/it]"
          ]
        },
        {
          "name": "stdout",
          "output_type": "stream",
          "text": [
            "Execute code..\n",
            "------------------------------------------------------------------------------------------------------------------------------------------------------\n",
            "Response final:\n",
            "\n",
            "\n"
          ]
        },
        {
          "name": "stderr",
          "output_type": "stream",
          "text": [
            "\r  4%|▍         | 20/522 [02:29<46:13,  5.52s/it]"
          ]
        },
        {
          "name": "stdout",
          "output_type": "stream",
          "text": [
            "Execute code..\n",
            "------------------------------------------------------------------------------------------------------------------------------------------------------\n",
            "Response final:\n",
            "\n",
            "\n"
          ]
        },
        {
          "name": "stderr",
          "output_type": "stream",
          "text": [
            "\r  4%|▍         | 21/522 [02:34<44:36,  5.34s/it]"
          ]
        },
        {
          "name": "stdout",
          "output_type": "stream",
          "text": [
            "Execute code..\n",
            "------------------------------------------------------------------------------------------------------------------------------------------------------\n",
            "Response final:\n",
            "\n",
            "\n"
          ]
        },
        {
          "name": "stderr",
          "output_type": "stream",
          "text": [
            "\r  4%|▍         | 22/522 [02:39<43:49,  5.26s/it]"
          ]
        },
        {
          "name": "stdout",
          "output_type": "stream",
          "text": [
            "Execute code..\n",
            "------------------------------------------------------------------------------------------------------------------------------------------------------\n",
            "Response final:\n",
            "\n",
            "\n"
          ]
        },
        {
          "name": "stderr",
          "output_type": "stream",
          "text": [
            "\r  4%|▍         | 23/522 [02:45<45:26,  5.46s/it]"
          ]
        },
        {
          "name": "stdout",
          "output_type": "stream",
          "text": [
            "Execute code..\n",
            "------------------------------------------------------------------------------------------------------------------------------------------------------\n",
            "Response final:\n",
            "\n",
            "\n"
          ]
        },
        {
          "name": "stderr",
          "output_type": "stream",
          "text": [
            "\r  5%|▍         | 24/522 [02:51<46:32,  5.61s/it]"
          ]
        },
        {
          "name": "stdout",
          "output_type": "stream",
          "text": [
            "Execute code..\n",
            "------------------------------------------------------------------------------------------------------------------------------------------------------\n",
            "Response final:\n",
            "\n",
            "\n"
          ]
        },
        {
          "name": "stderr",
          "output_type": "stream",
          "text": [
            "\r  5%|▍         | 25/522 [02:59<53:08,  6.41s/it]"
          ]
        },
        {
          "name": "stdout",
          "output_type": "stream",
          "text": [
            "Execute code..\n",
            "------------------------------------------------------------------------------------------------------------------------------------------------------\n",
            "Response final:\n",
            "\n",
            "\n"
          ]
        },
        {
          "name": "stderr",
          "output_type": "stream",
          "text": [
            "\r  5%|▍         | 26/522 [03:05<50:14,  6.08s/it]"
          ]
        },
        {
          "name": "stdout",
          "output_type": "stream",
          "text": [
            "Execute code..\n",
            "------------------------------------------------------------------------------------------------------------------------------------------------------\n",
            "Response final:\n",
            "\n",
            "\n"
          ]
        },
        {
          "name": "stderr",
          "output_type": "stream",
          "text": [
            "\r  5%|▌         | 27/522 [03:10<47:51,  5.80s/it]"
          ]
        },
        {
          "name": "stdout",
          "output_type": "stream",
          "text": [
            "Execute code..\n",
            "------------------------------------------------------------------------------------------------------------------------------------------------------\n",
            "Response final:\n",
            "\n",
            "\n"
          ]
        },
        {
          "name": "stderr",
          "output_type": "stream",
          "text": [
            "\r  5%|▌         | 28/522 [03:16<47:30,  5.77s/it]"
          ]
        },
        {
          "name": "stdout",
          "output_type": "stream",
          "text": [
            "Execute code..\n",
            "------------------------------------------------------------------------------------------------------------------------------------------------------\n",
            "Response final:\n",
            "\n",
            "\n"
          ]
        },
        {
          "name": "stderr",
          "output_type": "stream",
          "text": [
            "\r  6%|▌         | 29/522 [03:21<45:33,  5.55s/it]"
          ]
        },
        {
          "name": "stdout",
          "output_type": "stream",
          "text": [
            "Execute code..\n",
            "------------------------------------------------------------------------------------------------------------------------------------------------------\n",
            "Response final:\n",
            "\n",
            "\n"
          ]
        },
        {
          "name": "stderr",
          "output_type": "stream",
          "text": [
            "\r  6%|▌         | 30/522 [03:26<46:15,  5.64s/it]"
          ]
        },
        {
          "name": "stdout",
          "output_type": "stream",
          "text": [
            "Execute code..\n",
            "------------------------------------------------------------------------------------------------------------------------------------------------------\n",
            "Response final:\n",
            "\n",
            "\n"
          ]
        },
        {
          "name": "stderr",
          "output_type": "stream",
          "text": [
            "\r  6%|▌         | 31/522 [03:32<46:38,  5.70s/it]"
          ]
        },
        {
          "name": "stdout",
          "output_type": "stream",
          "text": [
            "Execute code..\n",
            "------------------------------------------------------------------------------------------------------------------------------------------------------\n",
            "Response final:\n",
            "\n",
            "\n"
          ]
        },
        {
          "name": "stderr",
          "output_type": "stream",
          "text": [
            "\r  6%|▌         | 32/522 [03:38<47:13,  5.78s/it]"
          ]
        },
        {
          "name": "stdout",
          "output_type": "stream",
          "text": [
            "Execute code..\n",
            "------------------------------------------------------------------------------------------------------------------------------------------------------\n",
            "Response final:\n",
            "\n",
            "\n"
          ]
        },
        {
          "name": "stderr",
          "output_type": "stream",
          "text": [
            "\r  6%|▋         | 33/522 [03:46<51:07,  6.27s/it]"
          ]
        },
        {
          "name": "stdout",
          "output_type": "stream",
          "text": [
            "Execute code..\n",
            "------------------------------------------------------------------------------------------------------------------------------------------------------\n",
            "Response final:\n",
            "\n",
            "\n"
          ]
        },
        {
          "name": "stderr",
          "output_type": "stream",
          "text": [
            "\r  7%|▋         | 34/522 [03:51<48:40,  5.98s/it]"
          ]
        },
        {
          "name": "stdout",
          "output_type": "stream",
          "text": [
            "Execute code..\n",
            "------------------------------------------------------------------------------------------------------------------------------------------------------\n",
            "Response final:\n",
            "\n",
            "\n"
          ]
        },
        {
          "name": "stderr",
          "output_type": "stream",
          "text": [
            "\r  7%|▋         | 35/522 [03:56<46:35,  5.74s/it]"
          ]
        },
        {
          "name": "stdout",
          "output_type": "stream",
          "text": [
            "Execute code..\n",
            "------------------------------------------------------------------------------------------------------------------------------------------------------\n",
            "Response final:\n",
            "\n",
            "\n"
          ]
        },
        {
          "name": "stderr",
          "output_type": "stream",
          "text": [
            "\r  7%|▋         | 36/522 [04:02<47:05,  5.81s/it]"
          ]
        },
        {
          "name": "stdout",
          "output_type": "stream",
          "text": [
            "Execute code..\n",
            "------------------------------------------------------------------------------------------------------------------------------------------------------\n",
            "Response final:\n",
            "\n",
            "\n"
          ]
        },
        {
          "name": "stderr",
          "output_type": "stream",
          "text": [
            "\r  7%|▋         | 37/522 [05:14<3:27:04, 25.62s/it]"
          ]
        },
        {
          "name": "stdout",
          "output_type": "stream",
          "text": [
            "Execute code..\n",
            "------------------------------------------------------------------------------------------------------------------------------------------------------\n",
            "Response final:\n",
            "\n",
            "\n"
          ]
        },
        {
          "name": "stderr",
          "output_type": "stream",
          "text": [
            "\r  7%|▋         | 38/522 [05:20<2:39:06, 19.72s/it]"
          ]
        },
        {
          "name": "stdout",
          "output_type": "stream",
          "text": [
            "Execute code..\n",
            "------------------------------------------------------------------------------------------------------------------------------------------------------\n",
            "Response final:\n",
            "\n",
            "\n"
          ]
        },
        {
          "name": "stderr",
          "output_type": "stream",
          "text": [
            "\r  7%|▋         | 39/522 [05:26<2:05:39, 15.61s/it]"
          ]
        },
        {
          "name": "stdout",
          "output_type": "stream",
          "text": [
            "Execute code..\n",
            "------------------------------------------------------------------------------------------------------------------------------------------------------\n",
            "Response final:\n",
            "\n",
            "\n"
          ]
        },
        {
          "name": "stderr",
          "output_type": "stream",
          "text": [
            "\r  8%|▊         | 40/522 [05:33<1:44:04, 12.96s/it]"
          ]
        },
        {
          "name": "stdout",
          "output_type": "stream",
          "text": [
            "Execute code..\n",
            "------------------------------------------------------------------------------------------------------------------------------------------------------\n",
            "Response final:\n",
            "\n",
            "\n"
          ]
        },
        {
          "name": "stderr",
          "output_type": "stream",
          "text": [
            "\r  8%|▊         | 41/522 [05:40<1:29:54, 11.21s/it]"
          ]
        },
        {
          "name": "stdout",
          "output_type": "stream",
          "text": [
            "Execute code..\n",
            "------------------------------------------------------------------------------------------------------------------------------------------------------\n",
            "Response final:\n",
            "\n",
            "\n",
            "Retrying due to exception...Expecting property name enclosed in double quotes: line 1 column 2 (char 1)\n"
          ]
        },
        {
          "name": "stderr",
          "output_type": "stream",
          "text": [
            "\r  8%|▊         | 42/522 [07:12<4:44:46, 35.60s/it]"
          ]
        },
        {
          "name": "stdout",
          "output_type": "stream",
          "text": [
            "Retrying due to exception...Expecting property name enclosed in double quotes: line 1 column 2 (char 1)\n",
            "------------------------------------------------------------------------------------------------------------------------------------------------------\n",
            "Response final:\n",
            "\n"
          ]
        },
        {
          "name": "stderr",
          "output_type": "stream",
          "text": [
            "\r  8%|▊         | 43/522 [07:28<3:55:09, 29.46s/it]"
          ]
        },
        {
          "name": "stdout",
          "output_type": "stream",
          "text": [
            "Execute code..\n",
            "------------------------------------------------------------------------------------------------------------------------------------------------------\n",
            "Response final:\n",
            "\n",
            "\n",
            "Retrying due to exception...Expecting property name enclosed in double quotes: line 1 column 2 (char 1)\n"
          ]
        },
        {
          "name": "stderr",
          "output_type": "stream",
          "text": [
            "\r  8%|▊         | 44/522 [08:11<4:26:57, 33.51s/it]"
          ]
        },
        {
          "name": "stdout",
          "output_type": "stream",
          "text": [
            "Retrying due to exception...Expecting property name enclosed in double quotes: line 1 column 2 (char 1)\n",
            "------------------------------------------------------------------------------------------------------------------------------------------------------\n",
            "Response final:\n",
            "\n"
          ]
        },
        {
          "name": "stderr",
          "output_type": "stream",
          "text": [
            "\r  9%|▊         | 45/522 [08:21<3:31:48, 26.64s/it]"
          ]
        },
        {
          "name": "stdout",
          "output_type": "stream",
          "text": [
            "Execute code..\n",
            "------------------------------------------------------------------------------------------------------------------------------------------------------\n",
            "Response final:\n",
            "\n",
            "\n"
          ]
        },
        {
          "name": "stderr",
          "output_type": "stream",
          "text": [
            "\r  9%|▉         | 46/522 [08:28<2:44:38, 20.75s/it]"
          ]
        },
        {
          "name": "stdout",
          "output_type": "stream",
          "text": [
            "Execute code..\n",
            "------------------------------------------------------------------------------------------------------------------------------------------------------\n",
            "Response final:\n",
            "\n",
            "\n"
          ]
        },
        {
          "name": "stderr",
          "output_type": "stream",
          "text": [
            "\r  9%|▉         | 47/522 [08:36<2:14:07, 16.94s/it]"
          ]
        },
        {
          "name": "stdout",
          "output_type": "stream",
          "text": [
            "Execute code..\n",
            "------------------------------------------------------------------------------------------------------------------------------------------------------\n",
            "Response final:\n",
            "\n",
            "\n"
          ]
        },
        {
          "name": "stderr",
          "output_type": "stream",
          "text": [
            "\r  9%|▉         | 48/522 [09:01<2:32:27, 19.30s/it]"
          ]
        },
        {
          "name": "stdout",
          "output_type": "stream",
          "text": [
            "Execute code..\n",
            "------------------------------------------------------------------------------------------------------------------------------------------------------\n",
            "Response final:\n",
            "\n",
            "\n",
            "Retrying due to exception...Expecting property name enclosed in double quotes: line 1 column 2 (char 1)\n"
          ]
        },
        {
          "name": "stderr",
          "output_type": "stream",
          "text": [
            "\r  9%|▉         | 49/522 [09:43<3:25:07, 26.02s/it]"
          ]
        },
        {
          "name": "stdout",
          "output_type": "stream",
          "text": [
            "Retrying due to exception...Expecting property name enclosed in double quotes: line 1 column 2 (char 1)\n",
            "------------------------------------------------------------------------------------------------------------------------------------------------------\n",
            "Response final:\n",
            "\n"
          ]
        },
        {
          "name": "stderr",
          "output_type": "stream",
          "text": [
            "\r 10%|▉         | 50/522 [09:55<2:52:42, 21.96s/it]"
          ]
        },
        {
          "name": "stdout",
          "output_type": "stream",
          "text": [
            "Execute code..\n",
            "------------------------------------------------------------------------------------------------------------------------------------------------------\n",
            "Response final:\n",
            "\n",
            "\n",
            "Retrying due to exception...Expecting property name enclosed in double quotes: line 1 column 2 (char 1)\n"
          ]
        },
        {
          "name": "stderr",
          "output_type": "stream",
          "text": [
            "\r 10%|▉         | 51/522 [11:18<5:14:54, 40.12s/it]"
          ]
        },
        {
          "name": "stdout",
          "output_type": "stream",
          "text": [
            "Retrying due to exception...Expecting property name enclosed in double quotes: line 1 column 2 (char 1)\n",
            "------------------------------------------------------------------------------------------------------------------------------------------------------\n",
            "Response final:\n",
            "\n",
            "Retrying due to exception...Expecting property name enclosed in double quotes: line 1 column 2 (char 1)\n"
          ]
        },
        {
          "name": "stderr",
          "output_type": "stream",
          "text": [
            "\r 10%|▉         | 52/522 [12:11<5:44:30, 43.98s/it]"
          ]
        },
        {
          "name": "stdout",
          "output_type": "stream",
          "text": [
            "Retrying due to exception...Expecting property name enclosed in double quotes: line 1 column 2 (char 1)\n",
            "------------------------------------------------------------------------------------------------------------------------------------------------------\n",
            "Response final:\n",
            "\n"
          ]
        },
        {
          "name": "stderr",
          "output_type": "stream",
          "text": [
            "\r 10%|█         | 53/522 [12:17<4:15:49, 32.73s/it]"
          ]
        },
        {
          "name": "stdout",
          "output_type": "stream",
          "text": [
            "Execute code..\n",
            "------------------------------------------------------------------------------------------------------------------------------------------------------\n",
            "Response final:\n",
            "\n",
            "\n",
            "Retrying due to exception...unterminated string literal (detected at line 7) (<string>, line 7)\n"
          ]
        },
        {
          "name": "stderr",
          "output_type": "stream",
          "text": [
            "\r 10%|█         | 54/522 [14:41<8:36:12, 66.18s/it]"
          ]
        },
        {
          "name": "stdout",
          "output_type": "stream",
          "text": [
            "Retrying due to exception...Expecting property name enclosed in double quotes: line 1 column 2 (char 1)\n",
            "------------------------------------------------------------------------------------------------------------------------------------------------------\n",
            "Response final:\n",
            "\n"
          ]
        },
        {
          "name": "stderr",
          "output_type": "stream",
          "text": [
            "\r 11%|█         | 55/522 [14:50<6:21:07, 48.97s/it]"
          ]
        },
        {
          "name": "stdout",
          "output_type": "stream",
          "text": [
            "Execute code..\n",
            "------------------------------------------------------------------------------------------------------------------------------------------------------\n",
            "Response final:\n",
            "\n",
            "\n"
          ]
        },
        {
          "name": "stderr",
          "output_type": "stream",
          "text": [
            "\r 11%|█         | 56/522 [14:56<4:38:53, 35.91s/it]"
          ]
        },
        {
          "name": "stdout",
          "output_type": "stream",
          "text": [
            "Execute code..\n",
            "------------------------------------------------------------------------------------------------------------------------------------------------------\n",
            "Response final:\n",
            "\n",
            "\n"
          ]
        },
        {
          "name": "stderr",
          "output_type": "stream",
          "text": [
            "\r 11%|█         | 57/522 [15:12<3:53:57, 30.19s/it]"
          ]
        },
        {
          "name": "stdout",
          "output_type": "stream",
          "text": [
            "Execute code..\n",
            "------------------------------------------------------------------------------------------------------------------------------------------------------\n",
            "Response final:\n",
            "\n",
            "\n"
          ]
        },
        {
          "name": "stderr",
          "output_type": "stream",
          "text": [
            "\r 11%|█         | 58/522 [15:19<2:57:49, 22.99s/it]"
          ]
        },
        {
          "name": "stdout",
          "output_type": "stream",
          "text": [
            "Execute code..\n",
            "------------------------------------------------------------------------------------------------------------------------------------------------------\n",
            "Response final:\n",
            "\n",
            "\n"
          ]
        },
        {
          "name": "stderr",
          "output_type": "stream",
          "text": [
            "\r 11%|█▏        | 59/522 [15:25<2:18:38, 17.97s/it]"
          ]
        },
        {
          "name": "stdout",
          "output_type": "stream",
          "text": [
            "Execute code..\n",
            "------------------------------------------------------------------------------------------------------------------------------------------------------\n",
            "Response final:\n",
            "\n",
            "\n"
          ]
        },
        {
          "name": "stderr",
          "output_type": "stream",
          "text": [
            "\r 11%|█▏        | 60/522 [15:38<2:07:01, 16.50s/it]"
          ]
        },
        {
          "name": "stdout",
          "output_type": "stream",
          "text": [
            "Execute code..\n",
            "------------------------------------------------------------------------------------------------------------------------------------------------------\n",
            "Response final:\n",
            "\n",
            "\n",
            "Retrying due to exception...string indices must be integers, not 'str'\n"
          ]
        },
        {
          "name": "stderr",
          "output_type": "stream",
          "text": [
            "\r 12%|█▏        | 61/522 [16:57<4:31:54, 35.39s/it]"
          ]
        },
        {
          "name": "stdout",
          "output_type": "stream",
          "text": [
            "Retrying due to exception...string indices must be integers, not 'str'\n",
            "------------------------------------------------------------------------------------------------------------------------------------------------------\n",
            "Response final:\n",
            "\n"
          ]
        },
        {
          "name": "stderr",
          "output_type": "stream",
          "text": [
            "\r 12%|█▏        | 62/522 [17:04<3:24:16, 26.64s/it]"
          ]
        },
        {
          "name": "stdout",
          "output_type": "stream",
          "text": [
            "Execute code..\n",
            "------------------------------------------------------------------------------------------------------------------------------------------------------\n",
            "Response final:\n",
            "\n",
            "\n"
          ]
        },
        {
          "name": "stderr",
          "output_type": "stream",
          "text": [
            "\r 12%|█▏        | 63/522 [17:19<2:57:30, 23.20s/it]"
          ]
        },
        {
          "name": "stdout",
          "output_type": "stream",
          "text": [
            "Execute code..\n",
            "------------------------------------------------------------------------------------------------------------------------------------------------------\n",
            "Response final:\n",
            "\n",
            "\n"
          ]
        },
        {
          "name": "stderr",
          "output_type": "stream",
          "text": [
            "\r 12%|█▏        | 64/522 [17:26<2:20:38, 18.42s/it]"
          ]
        },
        {
          "name": "stdout",
          "output_type": "stream",
          "text": [
            "Execute code..\n",
            "------------------------------------------------------------------------------------------------------------------------------------------------------\n",
            "Response final:\n",
            "\n",
            "\n"
          ]
        },
        {
          "name": "stderr",
          "output_type": "stream",
          "text": [
            "\r 12%|█▏        | 65/522 [17:47<2:26:45, 19.27s/it]"
          ]
        },
        {
          "name": "stdout",
          "output_type": "stream",
          "text": [
            "Execute code..\n",
            "------------------------------------------------------------------------------------------------------------------------------------------------------\n",
            "Response final:\n",
            "\n",
            "\n"
          ]
        },
        {
          "name": "stderr",
          "output_type": "stream",
          "text": [
            "\r 13%|█▎        | 66/522 [18:09<2:31:09, 19.89s/it]"
          ]
        },
        {
          "name": "stdout",
          "output_type": "stream",
          "text": [
            "Execute code..\n",
            "------------------------------------------------------------------------------------------------------------------------------------------------------\n",
            "Response final:\n",
            "\n",
            "\n"
          ]
        },
        {
          "name": "stderr",
          "output_type": "stream",
          "text": [
            "\r 13%|█▎        | 67/522 [18:16<2:01:50, 16.07s/it]"
          ]
        },
        {
          "name": "stdout",
          "output_type": "stream",
          "text": [
            "Execute code..\n",
            "------------------------------------------------------------------------------------------------------------------------------------------------------\n",
            "Response final:\n",
            "\n",
            "\n"
          ]
        },
        {
          "name": "stderr",
          "output_type": "stream",
          "text": [
            "\r 13%|█▎        | 68/522 [18:28<1:53:05, 14.95s/it]"
          ]
        },
        {
          "name": "stdout",
          "output_type": "stream",
          "text": [
            "Execute code..\n",
            "------------------------------------------------------------------------------------------------------------------------------------------------------\n",
            "Response final:\n",
            "\n",
            "\n"
          ]
        },
        {
          "name": "stderr",
          "output_type": "stream",
          "text": [
            "\r 13%|█▎        | 69/522 [18:35<1:33:42, 12.41s/it]"
          ]
        },
        {
          "name": "stdout",
          "output_type": "stream",
          "text": [
            "Execute code..\n",
            "------------------------------------------------------------------------------------------------------------------------------------------------------\n",
            "Response final:\n",
            "\n",
            "\n"
          ]
        },
        {
          "name": "stderr",
          "output_type": "stream",
          "text": [
            "\r 13%|█▎        | 70/522 [18:48<1:35:41, 12.70s/it]"
          ]
        },
        {
          "name": "stdout",
          "output_type": "stream",
          "text": [
            "Execute code..\n",
            "------------------------------------------------------------------------------------------------------------------------------------------------------\n",
            "Response final:\n",
            "\n",
            "\n"
          ]
        },
        {
          "name": "stderr",
          "output_type": "stream",
          "text": [
            "\r 14%|█▎        | 71/522 [18:55<1:23:20, 11.09s/it]"
          ]
        },
        {
          "name": "stdout",
          "output_type": "stream",
          "text": [
            "Execute code..\n",
            "------------------------------------------------------------------------------------------------------------------------------------------------------\n",
            "Response final:\n",
            "\n",
            "\n"
          ]
        },
        {
          "name": "stderr",
          "output_type": "stream",
          "text": [
            "\r 14%|█▍        | 72/522 [19:11<1:33:49, 12.51s/it]"
          ]
        },
        {
          "name": "stdout",
          "output_type": "stream",
          "text": [
            "Execute code..\n",
            "------------------------------------------------------------------------------------------------------------------------------------------------------\n",
            "Response final:\n",
            "\n",
            "\n"
          ]
        },
        {
          "name": "stderr",
          "output_type": "stream",
          "text": [
            "\r 14%|█▍        | 73/522 [19:21<1:27:23, 11.68s/it]"
          ]
        },
        {
          "name": "stdout",
          "output_type": "stream",
          "text": [
            "Execute code..\n",
            "------------------------------------------------------------------------------------------------------------------------------------------------------\n",
            "Response final:\n",
            "\n",
            "\n"
          ]
        },
        {
          "name": "stderr",
          "output_type": "stream",
          "text": [
            "\r 14%|█▍        | 74/522 [19:31<1:23:29, 11.18s/it]"
          ]
        },
        {
          "name": "stdout",
          "output_type": "stream",
          "text": [
            "Execute code..\n",
            "------------------------------------------------------------------------------------------------------------------------------------------------------\n",
            "Response final:\n",
            "\n",
            "\n"
          ]
        },
        {
          "name": "stderr",
          "output_type": "stream",
          "text": [
            "\r 14%|█▍        | 75/522 [19:39<1:15:18, 10.11s/it]"
          ]
        },
        {
          "name": "stdout",
          "output_type": "stream",
          "text": [
            "Execute code..\n",
            "------------------------------------------------------------------------------------------------------------------------------------------------------\n",
            "Response final:\n",
            "\n",
            "\n"
          ]
        },
        {
          "name": "stderr",
          "output_type": "stream",
          "text": [
            "<string>:3: FutureWarning: The default of observed=False is deprecated and will be changed to True in a future version of pandas. Pass observed=False to retain current behavior or observed=True to adopt the future default and silence this warning.\n",
            "\r 15%|█▍        | 76/522 [19:56<1:30:29, 12.17s/it]"
          ]
        },
        {
          "name": "stdout",
          "output_type": "stream",
          "text": [
            "Execute code..\n",
            "------------------------------------------------------------------------------------------------------------------------------------------------------\n",
            "Response final:\n",
            "\n",
            "\n"
          ]
        },
        {
          "name": "stderr",
          "output_type": "stream",
          "text": [
            "\r 15%|█▍        | 77/522 [20:05<1:23:43, 11.29s/it]"
          ]
        },
        {
          "name": "stdout",
          "output_type": "stream",
          "text": [
            "Execute code..\n",
            "------------------------------------------------------------------------------------------------------------------------------------------------------\n",
            "Response final:\n",
            "\n",
            "\n"
          ]
        },
        {
          "name": "stderr",
          "output_type": "stream",
          "text": [
            "\r 15%|█▍        | 78/522 [20:15<1:22:01, 11.08s/it]"
          ]
        },
        {
          "name": "stdout",
          "output_type": "stream",
          "text": [
            "Execute code..\n",
            "------------------------------------------------------------------------------------------------------------------------------------------------------\n",
            "Response final:\n",
            "\n",
            "\n"
          ]
        },
        {
          "name": "stderr",
          "output_type": "stream",
          "text": [
            "\r 15%|█▌        | 79/522 [20:25<1:19:03, 10.71s/it]"
          ]
        },
        {
          "name": "stdout",
          "output_type": "stream",
          "text": [
            "Execute code..\n",
            "------------------------------------------------------------------------------------------------------------------------------------------------------\n",
            "Response final:\n",
            "\n",
            "\n"
          ]
        },
        {
          "name": "stderr",
          "output_type": "stream",
          "text": [
            "<string>:3: FutureWarning: The default of observed=False is deprecated and will be changed to True in a future version of pandas. Pass observed=False to retain current behavior or observed=True to adopt the future default and silence this warning.\n",
            "\r 15%|█▌        | 80/522 [20:36<1:18:23, 10.64s/it]"
          ]
        },
        {
          "name": "stdout",
          "output_type": "stream",
          "text": [
            "Execute code..\n",
            "------------------------------------------------------------------------------------------------------------------------------------------------------\n",
            "Response final:\n",
            "\n",
            "\n"
          ]
        },
        {
          "name": "stderr",
          "output_type": "stream",
          "text": [
            "\r 16%|█▌        | 81/522 [20:41<1:06:54,  9.10s/it]"
          ]
        },
        {
          "name": "stdout",
          "output_type": "stream",
          "text": [
            "Execute code..\n",
            "------------------------------------------------------------------------------------------------------------------------------------------------------\n",
            "Response final:\n",
            "\n",
            "\n"
          ]
        },
        {
          "name": "stderr",
          "output_type": "stream",
          "text": [
            "\r 16%|█▌        | 82/522 [20:53<1:12:19,  9.86s/it]"
          ]
        },
        {
          "name": "stdout",
          "output_type": "stream",
          "text": [
            "Execute code..\n",
            "------------------------------------------------------------------------------------------------------------------------------------------------------\n",
            "Response final:\n",
            "\n",
            "\n"
          ]
        },
        {
          "name": "stderr",
          "output_type": "stream",
          "text": [
            "\r 16%|█▌        | 83/522 [20:58<1:02:25,  8.53s/it]"
          ]
        },
        {
          "name": "stdout",
          "output_type": "stream",
          "text": [
            "Execute code..\n",
            "------------------------------------------------------------------------------------------------------------------------------------------------------\n",
            "Response final:\n",
            "\n",
            "\n"
          ]
        },
        {
          "name": "stderr",
          "output_type": "stream",
          "text": [
            "\r 16%|█▌        | 84/522 [21:08<1:04:29,  8.83s/it]"
          ]
        },
        {
          "name": "stdout",
          "output_type": "stream",
          "text": [
            "Execute code..\n",
            "------------------------------------------------------------------------------------------------------------------------------------------------------\n",
            "Response final:\n",
            "\n",
            "\n"
          ]
        },
        {
          "name": "stderr",
          "output_type": "stream",
          "text": [
            "\r 16%|█▋        | 85/522 [21:14<58:21,  8.01s/it]  "
          ]
        },
        {
          "name": "stdout",
          "output_type": "stream",
          "text": [
            "Execute code..\n",
            "------------------------------------------------------------------------------------------------------------------------------------------------------\n",
            "Response final:\n",
            "\n",
            "\n"
          ]
        },
        {
          "name": "stderr",
          "output_type": "stream",
          "text": [
            "\r 16%|█▋        | 86/522 [21:20<54:59,  7.57s/it]"
          ]
        },
        {
          "name": "stdout",
          "output_type": "stream",
          "text": [
            "Execute code..\n",
            "------------------------------------------------------------------------------------------------------------------------------------------------------\n",
            "Response final:\n",
            "\n",
            "\n"
          ]
        },
        {
          "name": "stderr",
          "output_type": "stream",
          "text": [
            "\r 17%|█▋        | 87/522 [21:31<1:02:28,  8.62s/it]"
          ]
        },
        {
          "name": "stdout",
          "output_type": "stream",
          "text": [
            "Execute code..\n",
            "------------------------------------------------------------------------------------------------------------------------------------------------------\n",
            "Response final:\n",
            "\n",
            "\n"
          ]
        },
        {
          "name": "stderr",
          "output_type": "stream",
          "text": [
            "\r 17%|█▋        | 88/522 [21:39<59:29,  8.22s/it]  "
          ]
        },
        {
          "name": "stdout",
          "output_type": "stream",
          "text": [
            "Execute code..\n",
            "------------------------------------------------------------------------------------------------------------------------------------------------------\n",
            "Response final:\n",
            "\n",
            "\n"
          ]
        },
        {
          "name": "stderr",
          "output_type": "stream",
          "text": [
            "\r 17%|█▋        | 89/522 [21:49<1:04:35,  8.95s/it]"
          ]
        },
        {
          "name": "stdout",
          "output_type": "stream",
          "text": [
            "Execute code..\n",
            "------------------------------------------------------------------------------------------------------------------------------------------------------\n",
            "Response final:\n",
            "\n",
            "\n"
          ]
        },
        {
          "name": "stderr",
          "output_type": "stream",
          "text": [
            "\r 17%|█▋        | 90/522 [22:02<1:13:08, 10.16s/it]"
          ]
        },
        {
          "name": "stdout",
          "output_type": "stream",
          "text": [
            "Execute code..\n",
            "------------------------------------------------------------------------------------------------------------------------------------------------------\n",
            "Response final:\n",
            "\n",
            "\n"
          ]
        },
        {
          "name": "stderr",
          "output_type": "stream",
          "text": [
            "\r 17%|█▋        | 91/522 [22:19<1:26:34, 12.05s/it]"
          ]
        },
        {
          "name": "stdout",
          "output_type": "stream",
          "text": [
            "Execute code..\n",
            "------------------------------------------------------------------------------------------------------------------------------------------------------\n",
            "Response final:\n",
            "\n",
            "\n"
          ]
        },
        {
          "name": "stderr",
          "output_type": "stream",
          "text": [
            "\r 18%|█▊        | 92/522 [22:31<1:25:38, 11.95s/it]"
          ]
        },
        {
          "name": "stdout",
          "output_type": "stream",
          "text": [
            "Execute code..\n",
            "------------------------------------------------------------------------------------------------------------------------------------------------------\n",
            "Response final:\n",
            "\n",
            "\n"
          ]
        },
        {
          "name": "stderr",
          "output_type": "stream",
          "text": [
            "\r 18%|█▊        | 93/522 [22:41<1:22:59, 11.61s/it]"
          ]
        },
        {
          "name": "stdout",
          "output_type": "stream",
          "text": [
            "Execute code..\n",
            "------------------------------------------------------------------------------------------------------------------------------------------------------\n",
            "Response final:\n",
            "\n",
            "\n"
          ]
        },
        {
          "name": "stderr",
          "output_type": "stream",
          "text": [
            "\r 18%|█▊        | 94/522 [22:57<1:31:26, 12.82s/it]"
          ]
        },
        {
          "name": "stdout",
          "output_type": "stream",
          "text": [
            "Execute code..\n",
            "------------------------------------------------------------------------------------------------------------------------------------------------------\n",
            "Response final:\n",
            "\n",
            "\n"
          ]
        },
        {
          "name": "stderr",
          "output_type": "stream",
          "text": [
            "\r 18%|█▊        | 95/522 [23:12<1:36:43, 13.59s/it]"
          ]
        },
        {
          "name": "stdout",
          "output_type": "stream",
          "text": [
            "Execute code..\n",
            "------------------------------------------------------------------------------------------------------------------------------------------------------\n",
            "Response final:\n",
            "\n",
            "\n"
          ]
        },
        {
          "name": "stderr",
          "output_type": "stream",
          "text": [
            "\r 18%|█▊        | 96/522 [23:33<1:52:13, 15.81s/it]"
          ]
        },
        {
          "name": "stdout",
          "output_type": "stream",
          "text": [
            "Execute code..\n",
            "------------------------------------------------------------------------------------------------------------------------------------------------------\n",
            "Response final:\n",
            "\n",
            "\n"
          ]
        },
        {
          "name": "stderr",
          "output_type": "stream",
          "text": [
            "\r 19%|█▊        | 97/522 [23:45<1:42:43, 14.50s/it]"
          ]
        },
        {
          "name": "stdout",
          "output_type": "stream",
          "text": [
            "Execute code..\n",
            "------------------------------------------------------------------------------------------------------------------------------------------------------\n",
            "Response final:\n",
            "\n",
            "\n"
          ]
        },
        {
          "name": "stderr",
          "output_type": "stream",
          "text": [
            "<string>:3: FutureWarning: The default of observed=False is deprecated and will be changed to True in a future version of pandas. Pass observed=False to retain current behavior or observed=True to adopt the future default and silence this warning.\n",
            "\r 19%|█▉        | 98/522 [24:00<1:44:06, 14.73s/it]"
          ]
        },
        {
          "name": "stdout",
          "output_type": "stream",
          "text": [
            "Execute code..\n",
            "------------------------------------------------------------------------------------------------------------------------------------------------------\n",
            "Response final:\n",
            "\n",
            "\n"
          ]
        },
        {
          "name": "stderr",
          "output_type": "stream",
          "text": [
            "\r 19%|█▉        | 99/522 [24:06<1:25:34, 12.14s/it]"
          ]
        },
        {
          "name": "stdout",
          "output_type": "stream",
          "text": [
            "Execute code..\n",
            "------------------------------------------------------------------------------------------------------------------------------------------------------\n",
            "Response final:\n",
            "\n",
            "\n"
          ]
        },
        {
          "name": "stderr",
          "output_type": "stream",
          "text": [
            "\r 19%|█▉        | 100/522 [24:15<1:18:58, 11.23s/it]"
          ]
        },
        {
          "name": "stdout",
          "output_type": "stream",
          "text": [
            "Execute code..\n",
            "------------------------------------------------------------------------------------------------------------------------------------------------------\n",
            "Response final:\n",
            "\n",
            "\n"
          ]
        },
        {
          "name": "stderr",
          "output_type": "stream",
          "text": [
            "\r 19%|█▉        | 101/522 [24:26<1:17:37, 11.06s/it]"
          ]
        },
        {
          "name": "stdout",
          "output_type": "stream",
          "text": [
            "Execute code..\n",
            "------------------------------------------------------------------------------------------------------------------------------------------------------\n",
            "Response final:\n",
            "\n",
            "\n"
          ]
        },
        {
          "name": "stderr",
          "output_type": "stream",
          "text": [
            "\r 20%|█▉        | 102/522 [24:33<1:08:32,  9.79s/it]"
          ]
        },
        {
          "name": "stdout",
          "output_type": "stream",
          "text": [
            "Execute code..\n",
            "------------------------------------------------------------------------------------------------------------------------------------------------------\n",
            "Response final:\n",
            "\n",
            "\n"
          ]
        },
        {
          "name": "stderr",
          "output_type": "stream",
          "text": [
            "\r 20%|█▉        | 103/522 [24:44<1:10:52, 10.15s/it]"
          ]
        },
        {
          "name": "stdout",
          "output_type": "stream",
          "text": [
            "Execute code..\n",
            "------------------------------------------------------------------------------------------------------------------------------------------------------\n",
            "Response final:\n",
            "\n",
            "\n"
          ]
        },
        {
          "name": "stderr",
          "output_type": "stream",
          "text": [
            "\r 20%|█▉        | 104/522 [24:55<1:12:44, 10.44s/it]"
          ]
        },
        {
          "name": "stdout",
          "output_type": "stream",
          "text": [
            "Execute code..\n",
            "------------------------------------------------------------------------------------------------------------------------------------------------------\n",
            "Response final:\n",
            "\n",
            "\n"
          ]
        },
        {
          "name": "stderr",
          "output_type": "stream",
          "text": [
            "\r 20%|██        | 105/522 [25:05<1:11:41, 10.31s/it]"
          ]
        },
        {
          "name": "stdout",
          "output_type": "stream",
          "text": [
            "Execute code..\n",
            "------------------------------------------------------------------------------------------------------------------------------------------------------\n",
            "Response final:\n",
            "\n",
            "\n"
          ]
        },
        {
          "name": "stderr",
          "output_type": "stream",
          "text": [
            "\r 20%|██        | 106/522 [25:10<1:01:13,  8.83s/it]"
          ]
        },
        {
          "name": "stdout",
          "output_type": "stream",
          "text": [
            "Execute code..\n",
            "------------------------------------------------------------------------------------------------------------------------------------------------------\n",
            "Response final:\n",
            "\n",
            "\n"
          ]
        },
        {
          "name": "stderr",
          "output_type": "stream",
          "text": [
            "\r 20%|██        | 107/522 [25:21<1:04:03,  9.26s/it]"
          ]
        },
        {
          "name": "stdout",
          "output_type": "stream",
          "text": [
            "False\n",
            "Execute code..\n",
            "------------------------------------------------------------------------------------------------------------------------------------------------------\n",
            "Response final:\n",
            "\n",
            "\n"
          ]
        },
        {
          "name": "stderr",
          "output_type": "stream",
          "text": [
            "\r 21%|██        | 108/522 [25:35<1:15:09, 10.89s/it]"
          ]
        },
        {
          "name": "stdout",
          "output_type": "stream",
          "text": [
            "Execute code..\n",
            "------------------------------------------------------------------------------------------------------------------------------------------------------\n",
            "Response final:\n",
            "\n",
            "\n"
          ]
        },
        {
          "name": "stderr",
          "output_type": "stream",
          "text": [
            "\r 21%|██        | 109/522 [25:40<1:02:16,  9.05s/it]"
          ]
        },
        {
          "name": "stdout",
          "output_type": "stream",
          "text": [
            "Execute code..\n",
            "------------------------------------------------------------------------------------------------------------------------------------------------------\n",
            "Response final:\n",
            "\n",
            "\n"
          ]
        },
        {
          "name": "stderr",
          "output_type": "stream",
          "text": [
            "\r 21%|██        | 110/522 [25:51<1:06:31,  9.69s/it]"
          ]
        },
        {
          "name": "stdout",
          "output_type": "stream",
          "text": [
            "Execute code..\n",
            "------------------------------------------------------------------------------------------------------------------------------------------------------\n",
            "Response final:\n",
            "\n",
            "\n",
            "Retrying due to exception...Cannot setitem on a Categorical with a new category (0), set the categories first\n"
          ]
        },
        {
          "name": "stderr",
          "output_type": "stream",
          "text": [
            "\r 21%|██▏       | 111/522 [27:44<4:39:04, 40.74s/it]"
          ]
        },
        {
          "name": "stdout",
          "output_type": "stream",
          "text": [
            "Retrying due to exception...Cannot setitem on a Categorical with a new category (0), set the categories first\n",
            "------------------------------------------------------------------------------------------------------------------------------------------------------\n",
            "Response final:\n",
            "\n"
          ]
        },
        {
          "name": "stderr",
          "output_type": "stream",
          "text": [
            "\r 21%|██▏       | 112/522 [27:50<3:25:23, 30.06s/it]"
          ]
        },
        {
          "name": "stdout",
          "output_type": "stream",
          "text": [
            "Execute code..\n",
            "------------------------------------------------------------------------------------------------------------------------------------------------------\n",
            "Response final:\n",
            "\n",
            "\n",
            "Retrying due to exception...Cannot setitem on a Categorical with a new category (0), set the categories first\n"
          ]
        },
        {
          "name": "stderr",
          "output_type": "stream",
          "text": [
            "\r 22%|██▏       | 113/522 [29:36<6:00:31, 52.89s/it]"
          ]
        },
        {
          "name": "stdout",
          "output_type": "stream",
          "text": [
            "Retrying due to exception...Cannot setitem on a Categorical with a new category (0), set the categories first\n",
            "------------------------------------------------------------------------------------------------------------------------------------------------------\n",
            "Response final:\n",
            "\n"
          ]
        },
        {
          "name": "stderr",
          "output_type": "stream",
          "text": [
            "\r 22%|██▏       | 114/522 [29:50<4:40:10, 41.20s/it]"
          ]
        },
        {
          "name": "stdout",
          "output_type": "stream",
          "text": [
            "Execute code..\n",
            "------------------------------------------------------------------------------------------------------------------------------------------------------\n",
            "Response final:\n",
            "\n",
            "\n"
          ]
        },
        {
          "name": "stderr",
          "output_type": "stream",
          "text": [
            "\r 22%|██▏       | 115/522 [29:55<3:25:33, 30.30s/it]"
          ]
        },
        {
          "name": "stdout",
          "output_type": "stream",
          "text": [
            "Execute code..\n",
            "------------------------------------------------------------------------------------------------------------------------------------------------------\n",
            "Response final:\n",
            "\n",
            "\n"
          ]
        },
        {
          "name": "stderr",
          "output_type": "stream",
          "text": [
            "\r 22%|██▏       | 116/522 [30:06<2:46:02, 24.54s/it]"
          ]
        },
        {
          "name": "stdout",
          "output_type": "stream",
          "text": [
            "Execute code..\n",
            "------------------------------------------------------------------------------------------------------------------------------------------------------\n",
            "Response final:\n",
            "\n",
            "\n"
          ]
        },
        {
          "name": "stderr",
          "output_type": "stream",
          "text": [
            "\r 22%|██▏       | 117/522 [30:20<2:25:26, 21.55s/it]"
          ]
        },
        {
          "name": "stdout",
          "output_type": "stream",
          "text": [
            "Execute code..\n",
            "------------------------------------------------------------------------------------------------------------------------------------------------------\n",
            "Response final:\n",
            "\n",
            "\n"
          ]
        },
        {
          "name": "stderr",
          "output_type": "stream",
          "text": [
            "\r 23%|██▎       | 118/522 [30:35<2:12:09, 19.63s/it]"
          ]
        },
        {
          "name": "stdout",
          "output_type": "stream",
          "text": [
            "Execute code..\n",
            "------------------------------------------------------------------------------------------------------------------------------------------------------\n",
            "Response final:\n",
            "\n",
            "\n"
          ]
        },
        {
          "name": "stderr",
          "output_type": "stream",
          "text": [
            "\r 23%|██▎       | 119/522 [30:40<1:41:52, 15.17s/it]"
          ]
        },
        {
          "name": "stdout",
          "output_type": "stream",
          "text": [
            "Execute code..\n",
            "------------------------------------------------------------------------------------------------------------------------------------------------------\n",
            "Response final:\n",
            "\n",
            "\n"
          ]
        },
        {
          "name": "stderr",
          "output_type": "stream",
          "text": [
            "\r 23%|██▎       | 120/522 [30:45<1:20:17, 11.98s/it]"
          ]
        },
        {
          "name": "stdout",
          "output_type": "stream",
          "text": [
            "Execute code..\n",
            "------------------------------------------------------------------------------------------------------------------------------------------------------\n",
            "Response final:\n",
            "\n",
            "\n"
          ]
        },
        {
          "name": "stderr",
          "output_type": "stream",
          "text": [
            "\r 23%|██▎       | 121/522 [30:51<1:09:09, 10.35s/it]"
          ]
        },
        {
          "name": "stdout",
          "output_type": "stream",
          "text": [
            "Execute code..\n",
            "------------------------------------------------------------------------------------------------------------------------------------------------------\n",
            "Response final:\n",
            "\n",
            "\n"
          ]
        },
        {
          "name": "stderr",
          "output_type": "stream",
          "text": [
            "\r 23%|██▎       | 122/522 [30:56<58:34,  8.79s/it]  "
          ]
        },
        {
          "name": "stdout",
          "output_type": "stream",
          "text": [
            "Execute code..\n",
            "------------------------------------------------------------------------------------------------------------------------------------------------------\n",
            "Response final:\n",
            "\n",
            "\n"
          ]
        },
        {
          "name": "stderr",
          "output_type": "stream",
          "text": [
            "\r 24%|██▎       | 123/522 [31:01<50:53,  7.65s/it]"
          ]
        },
        {
          "name": "stdout",
          "output_type": "stream",
          "text": [
            "Execute code..\n",
            "------------------------------------------------------------------------------------------------------------------------------------------------------\n",
            "Response final:\n",
            "\n",
            "\n"
          ]
        },
        {
          "name": "stderr",
          "output_type": "stream",
          "text": [
            "\r 24%|██▍       | 124/522 [31:07<47:39,  7.18s/it]"
          ]
        },
        {
          "name": "stdout",
          "output_type": "stream",
          "text": [
            "Execute code..\n",
            "------------------------------------------------------------------------------------------------------------------------------------------------------\n",
            "Response final:\n",
            "\n",
            "\n"
          ]
        },
        {
          "name": "stderr",
          "output_type": "stream",
          "text": [
            "\r 24%|██▍       | 125/522 [31:11<41:21,  6.25s/it]"
          ]
        },
        {
          "name": "stdout",
          "output_type": "stream",
          "text": [
            "Execute code..\n",
            "------------------------------------------------------------------------------------------------------------------------------------------------------\n",
            "Response final:\n",
            "\n",
            "\n"
          ]
        },
        {
          "name": "stderr",
          "output_type": "stream",
          "text": [
            "\r 24%|██▍       | 126/522 [31:16<37:51,  5.74s/it]"
          ]
        },
        {
          "name": "stdout",
          "output_type": "stream",
          "text": [
            "Execute code..\n",
            "------------------------------------------------------------------------------------------------------------------------------------------------------\n",
            "Response final:\n",
            "\n",
            "\n"
          ]
        },
        {
          "name": "stderr",
          "output_type": "stream",
          "text": [
            "\r 24%|██▍       | 127/522 [31:42<1:18:23, 11.91s/it]"
          ]
        },
        {
          "name": "stdout",
          "output_type": "stream",
          "text": [
            "Execute code..\n",
            "------------------------------------------------------------------------------------------------------------------------------------------------------\n",
            "Response final:\n",
            "\n",
            "\n"
          ]
        },
        {
          "name": "stderr",
          "output_type": "stream",
          "text": [
            "<string>:6: FutureWarning: The default of observed=False is deprecated and will be changed to True in a future version of pandas. Pass observed=False to retain current behavior or observed=True to adopt the future default and silence this warning.\n",
            "\r 25%|██▍       | 128/522 [31:53<1:15:42, 11.53s/it]"
          ]
        },
        {
          "name": "stdout",
          "output_type": "stream",
          "text": [
            "Execute code..\n",
            "------------------------------------------------------------------------------------------------------------------------------------------------------\n",
            "Response final:\n",
            "\n",
            "\n"
          ]
        },
        {
          "name": "stderr",
          "output_type": "stream",
          "text": [
            "<string>:6: FutureWarning: The default of observed=False is deprecated and will be changed to True in a future version of pandas. Pass observed=False to retain current behavior or observed=True to adopt the future default and silence this warning.\n",
            "\r 25%|██▍       | 129/522 [32:07<1:20:20, 12.27s/it]"
          ]
        },
        {
          "name": "stdout",
          "output_type": "stream",
          "text": [
            "Execute code..\n",
            "------------------------------------------------------------------------------------------------------------------------------------------------------\n",
            "Response final:\n",
            "\n",
            "\n"
          ]
        },
        {
          "name": "stderr",
          "output_type": "stream",
          "text": [
            "\r 25%|██▍       | 130/522 [32:15<1:11:50, 11.00s/it]"
          ]
        },
        {
          "name": "stdout",
          "output_type": "stream",
          "text": [
            "Execute code..\n",
            "------------------------------------------------------------------------------------------------------------------------------------------------------\n",
            "Response final:\n",
            "\n",
            "\n"
          ]
        },
        {
          "name": "stderr",
          "output_type": "stream",
          "text": [
            "\r 25%|██▌       | 131/522 [32:28<1:15:25, 11.57s/it]"
          ]
        },
        {
          "name": "stdout",
          "output_type": "stream",
          "text": [
            "Execute code..\n",
            "------------------------------------------------------------------------------------------------------------------------------------------------------\n",
            "Response final:\n",
            "\n",
            "\n"
          ]
        },
        {
          "name": "stderr",
          "output_type": "stream",
          "text": [
            "\r 25%|██▌       | 132/522 [32:35<1:06:20, 10.21s/it]"
          ]
        },
        {
          "name": "stdout",
          "output_type": "stream",
          "text": [
            "Execute code..\n",
            "------------------------------------------------------------------------------------------------------------------------------------------------------\n",
            "Response final:\n",
            "\n",
            "\n"
          ]
        },
        {
          "name": "stderr",
          "output_type": "stream",
          "text": [
            "<string>:3: FutureWarning: The default of observed=False is deprecated and will be changed to True in a future version of pandas. Pass observed=False to retain current behavior or observed=True to adopt the future default and silence this warning.\n",
            "\r 25%|██▌       | 133/522 [32:58<1:30:55, 14.03s/it]"
          ]
        },
        {
          "name": "stdout",
          "output_type": "stream",
          "text": [
            "Execute code..\n",
            "------------------------------------------------------------------------------------------------------------------------------------------------------\n",
            "Response final:\n",
            "\n",
            "\n"
          ]
        },
        {
          "name": "stderr",
          "output_type": "stream",
          "text": [
            "\r 26%|██▌       | 134/522 [33:09<1:25:00, 13.15s/it]"
          ]
        },
        {
          "name": "stdout",
          "output_type": "stream",
          "text": [
            "Execute code..\n",
            "------------------------------------------------------------------------------------------------------------------------------------------------------\n",
            "Response final:\n",
            "\n",
            "\n"
          ]
        },
        {
          "name": "stderr",
          "output_type": "stream",
          "text": [
            "\r 26%|██▌       | 135/522 [33:19<1:17:48, 12.06s/it]"
          ]
        },
        {
          "name": "stdout",
          "output_type": "stream",
          "text": [
            "Execute code..\n",
            "------------------------------------------------------------------------------------------------------------------------------------------------------\n",
            "Response final:\n",
            "\n",
            "\n"
          ]
        },
        {
          "name": "stderr",
          "output_type": "stream",
          "text": [
            "\r 26%|██▌       | 136/522 [33:25<1:07:40, 10.52s/it]"
          ]
        },
        {
          "name": "stdout",
          "output_type": "stream",
          "text": [
            "Execute code..\n",
            "------------------------------------------------------------------------------------------------------------------------------------------------------\n",
            "Response final:\n",
            "\n",
            "\n"
          ]
        },
        {
          "name": "stderr",
          "output_type": "stream",
          "text": [
            "\r 26%|██▌       | 137/522 [33:32<1:00:37,  9.45s/it]"
          ]
        },
        {
          "name": "stdout",
          "output_type": "stream",
          "text": [
            "Execute code..\n",
            "------------------------------------------------------------------------------------------------------------------------------------------------------\n",
            "Response final:\n",
            "\n",
            "\n"
          ]
        },
        {
          "name": "stderr",
          "output_type": "stream",
          "text": [
            "\r 26%|██▋       | 138/522 [33:40<57:51,  9.04s/it]  "
          ]
        },
        {
          "name": "stdout",
          "output_type": "stream",
          "text": [
            "Execute code..\n",
            "------------------------------------------------------------------------------------------------------------------------------------------------------\n",
            "Response final:\n",
            "\n",
            "\n"
          ]
        },
        {
          "name": "stderr",
          "output_type": "stream",
          "text": [
            "\r 27%|██▋       | 139/522 [33:52<1:02:16,  9.75s/it]"
          ]
        },
        {
          "name": "stdout",
          "output_type": "stream",
          "text": [
            "Execute code..\n",
            "------------------------------------------------------------------------------------------------------------------------------------------------------\n",
            "Response final:\n",
            "\n",
            "\n"
          ]
        },
        {
          "name": "stderr",
          "output_type": "stream",
          "text": [
            "\r 27%|██▋       | 140/522 [34:05<1:07:39, 10.63s/it]"
          ]
        },
        {
          "name": "stdout",
          "output_type": "stream",
          "text": [
            "Execute code..\n",
            "------------------------------------------------------------------------------------------------------------------------------------------------------\n",
            "Response final:\n",
            "\n",
            "\n"
          ]
        },
        {
          "name": "stderr",
          "output_type": "stream",
          "text": [
            "\r 27%|██▋       | 141/522 [34:12<1:01:03,  9.62s/it]"
          ]
        },
        {
          "name": "stdout",
          "output_type": "stream",
          "text": [
            "Execute code..\n",
            "------------------------------------------------------------------------------------------------------------------------------------------------------\n",
            "Response final:\n",
            "\n",
            "\n"
          ]
        },
        {
          "name": "stderr",
          "output_type": "stream",
          "text": [
            "\r 27%|██▋       | 142/522 [34:20<58:59,  9.32s/it]  "
          ]
        },
        {
          "name": "stdout",
          "output_type": "stream",
          "text": [
            "Execute code..\n",
            "------------------------------------------------------------------------------------------------------------------------------------------------------\n",
            "Response final:\n",
            "\n",
            "\n"
          ]
        },
        {
          "name": "stderr",
          "output_type": "stream",
          "text": [
            "\r 27%|██▋       | 143/522 [34:31<1:02:03,  9.82s/it]"
          ]
        },
        {
          "name": "stdout",
          "output_type": "stream",
          "text": [
            "Execute code..\n",
            "------------------------------------------------------------------------------------------------------------------------------------------------------\n",
            "Response final:\n",
            "\n",
            "\n"
          ]
        },
        {
          "name": "stderr",
          "output_type": "stream",
          "text": [
            "\r 28%|██▊       | 144/522 [34:42<1:02:29,  9.92s/it]"
          ]
        },
        {
          "name": "stdout",
          "output_type": "stream",
          "text": [
            "Execute code..\n",
            "------------------------------------------------------------------------------------------------------------------------------------------------------\n",
            "Response final:\n",
            "\n",
            "\n"
          ]
        },
        {
          "name": "stderr",
          "output_type": "stream",
          "text": [
            "\r 28%|██▊       | 145/522 [34:57<1:12:59, 11.62s/it]"
          ]
        },
        {
          "name": "stdout",
          "output_type": "stream",
          "text": [
            "Execute code..\n",
            "------------------------------------------------------------------------------------------------------------------------------------------------------\n",
            "Response final:\n",
            "\n",
            "\n"
          ]
        },
        {
          "name": "stderr",
          "output_type": "stream",
          "text": [
            "\r 28%|██▊       | 146/522 [35:03<1:02:30,  9.97s/it]"
          ]
        },
        {
          "name": "stdout",
          "output_type": "stream",
          "text": [
            "Execute code..\n",
            "------------------------------------------------------------------------------------------------------------------------------------------------------\n",
            "Response final:\n",
            "\n",
            "\n"
          ]
        },
        {
          "name": "stderr",
          "output_type": "stream",
          "text": [
            "\r 28%|██▊       | 147/522 [35:10<55:20,  8.85s/it]  "
          ]
        },
        {
          "name": "stdout",
          "output_type": "stream",
          "text": [
            "Execute code..\n",
            "------------------------------------------------------------------------------------------------------------------------------------------------------\n",
            "Response final:\n",
            "\n",
            "\n"
          ]
        },
        {
          "name": "stderr",
          "output_type": "stream",
          "text": [
            "\r 28%|██▊       | 148/522 [35:24<1:06:15, 10.63s/it]"
          ]
        },
        {
          "name": "stdout",
          "output_type": "stream",
          "text": [
            "Execute code..\n",
            "------------------------------------------------------------------------------------------------------------------------------------------------------\n",
            "Response final:\n",
            "\n",
            "\n"
          ]
        },
        {
          "name": "stderr",
          "output_type": "stream",
          "text": [
            "\r 29%|██▊       | 149/522 [35:38<1:12:36, 11.68s/it]"
          ]
        },
        {
          "name": "stdout",
          "output_type": "stream",
          "text": [
            "Execute code..\n",
            "------------------------------------------------------------------------------------------------------------------------------------------------------\n",
            "Response final:\n",
            "\n",
            "\n"
          ]
        },
        {
          "name": "stderr",
          "output_type": "stream",
          "text": [
            "\r 29%|██▊       | 150/522 [35:45<1:02:00, 10.00s/it]"
          ]
        },
        {
          "name": "stdout",
          "output_type": "stream",
          "text": [
            "Execute code..\n",
            "------------------------------------------------------------------------------------------------------------------------------------------------------\n",
            "Response final:\n",
            "\n",
            "\n"
          ]
        },
        {
          "name": "stderr",
          "output_type": "stream",
          "text": [
            "\r 29%|██▉       | 151/522 [35:53<58:17,  9.43s/it]  "
          ]
        },
        {
          "name": "stdout",
          "output_type": "stream",
          "text": [
            "Execute code..\n",
            "------------------------------------------------------------------------------------------------------------------------------------------------------\n",
            "Response final:\n",
            "\n",
            "\n"
          ]
        },
        {
          "name": "stderr",
          "output_type": "stream",
          "text": [
            "\r 29%|██▉       | 152/522 [36:03<1:00:02,  9.74s/it]"
          ]
        },
        {
          "name": "stdout",
          "output_type": "stream",
          "text": [
            "Execute code..\n",
            "------------------------------------------------------------------------------------------------------------------------------------------------------\n",
            "Response final:\n",
            "\n",
            "\n",
            "Retrying due to exception...name 'Spain' is not defined\n"
          ]
        },
        {
          "name": "stderr",
          "output_type": "stream",
          "text": [
            "\r 29%|██▉       | 153/522 [36:27<1:26:28, 14.06s/it]"
          ]
        },
        {
          "name": "stdout",
          "output_type": "stream",
          "text": [
            "Retrying due to exception...name 'Spain' is not defined\n",
            "------------------------------------------------------------------------------------------------------------------------------------------------------\n",
            "Response final:\n",
            "\n"
          ]
        },
        {
          "name": "stderr",
          "output_type": "stream",
          "text": [
            "\r 30%|██▉       | 154/522 [36:35<1:14:17, 12.11s/it]"
          ]
        },
        {
          "name": "stdout",
          "output_type": "stream",
          "text": [
            "Execute code..\n",
            "------------------------------------------------------------------------------------------------------------------------------------------------------\n",
            "Response final:\n",
            "\n",
            "\n"
          ]
        },
        {
          "name": "stderr",
          "output_type": "stream",
          "text": [
            "\r 30%|██▉       | 155/522 [36:45<1:11:02, 11.61s/it]"
          ]
        },
        {
          "name": "stdout",
          "output_type": "stream",
          "text": [
            "Execute code..\n",
            "------------------------------------------------------------------------------------------------------------------------------------------------------\n",
            "Response final:\n",
            "\n",
            "\n"
          ]
        },
        {
          "name": "stderr",
          "output_type": "stream",
          "text": [
            "\r 30%|██▉       | 156/522 [36:55<1:06:55, 10.97s/it]"
          ]
        },
        {
          "name": "stdout",
          "output_type": "stream",
          "text": [
            "Execute code..\n",
            "------------------------------------------------------------------------------------------------------------------------------------------------------\n",
            "Response final:\n",
            "\n",
            "\n"
          ]
        },
        {
          "name": "stderr",
          "output_type": "stream",
          "text": [
            "\r 30%|███       | 157/522 [37:00<56:25,  9.28s/it]  "
          ]
        },
        {
          "name": "stdout",
          "output_type": "stream",
          "text": [
            "Execute code..\n",
            "------------------------------------------------------------------------------------------------------------------------------------------------------\n",
            "Response final:\n",
            "\n",
            "\n",
            "Retrying due to exception...unterminated string literal (detected at line 7) (<string>, line 7)\n"
          ]
        },
        {
          "name": "stderr",
          "output_type": "stream",
          "text": [
            "\r 30%|███       | 158/522 [39:20<4:54:02, 48.47s/it]"
          ]
        },
        {
          "name": "stdout",
          "output_type": "stream",
          "text": [
            "Retrying due to exception...invalid syntax. Perhaps you forgot a comma? (<string>, line 1)\n",
            "------------------------------------------------------------------------------------------------------------------------------------------------------\n",
            "Response final:\n",
            "\n",
            "Retrying due to exception...unterminated string literal (detected at line 7) (<string>, line 7)\n"
          ]
        },
        {
          "name": "stderr",
          "output_type": "stream",
          "text": [
            "\r 30%|███       | 159/522 [41:40<7:39:27, 75.94s/it]"
          ]
        },
        {
          "name": "stdout",
          "output_type": "stream",
          "text": [
            "Retrying due to exception...unterminated string literal (detected at line 7) (<string>, line 7)\n",
            "------------------------------------------------------------------------------------------------------------------------------------------------------\n",
            "Response final:\n",
            "\n",
            "Retrying due to exception...unterminated string literal (detected at line 7) (<string>, line 7)\n"
          ]
        },
        {
          "name": "stderr",
          "output_type": "stream",
          "text": [
            "\r 31%|███       | 160/522 [44:00<9:34:09, 95.16s/it]"
          ]
        },
        {
          "name": "stdout",
          "output_type": "stream",
          "text": [
            "Retrying due to exception...unterminated string literal (detected at line 7) (<string>, line 7)\n",
            "------------------------------------------------------------------------------------------------------------------------------------------------------\n",
            "Response final:\n",
            "\n"
          ]
        },
        {
          "name": "stderr",
          "output_type": "stream",
          "text": [
            "\r 31%|███       | 161/522 [44:13<7:04:03, 70.48s/it]"
          ]
        },
        {
          "name": "stdout",
          "output_type": "stream",
          "text": [
            "Execute code..\n",
            "------------------------------------------------------------------------------------------------------------------------------------------------------\n",
            "Response final:\n",
            "\n",
            "\n",
            "Retrying due to exception...malformed node or string on line 1: <ast.Name object at 0x7d73892c43d0>\n"
          ]
        },
        {
          "name": "stderr",
          "output_type": "stream",
          "text": [
            "\r 31%|███       | 162/522 [45:40<7:33:22, 75.56s/it]"
          ]
        },
        {
          "name": "stdout",
          "output_type": "stream",
          "text": [
            "Retrying due to exception...malformed node or string on line 1: <ast.Name object at 0x7d7346ee4d00>\n",
            "------------------------------------------------------------------------------------------------------------------------------------------------------\n",
            "Response final:\n",
            "\n",
            "Retrying due to exception...name 'Mercadona' is not defined\n"
          ]
        },
        {
          "name": "stderr",
          "output_type": "stream",
          "text": [
            "\r 31%|███       | 163/522 [47:04<7:47:27, 78.13s/it]"
          ]
        },
        {
          "name": "stdout",
          "output_type": "stream",
          "text": [
            "Retrying due to exception...name 'Mercadona' is not defined\n",
            "------------------------------------------------------------------------------------------------------------------------------------------------------\n",
            "Response final:\n",
            "\n"
          ]
        },
        {
          "name": "stderr",
          "output_type": "stream",
          "text": [
            "\r 31%|███▏      | 164/522 [47:24<6:00:33, 60.43s/it]"
          ]
        },
        {
          "name": "stdout",
          "output_type": "stream",
          "text": [
            "Execute code..\n",
            "------------------------------------------------------------------------------------------------------------------------------------------------------\n",
            "Response final:\n",
            "\n",
            "\n"
          ]
        },
        {
          "name": "stderr",
          "output_type": "stream",
          "text": [
            "\r 32%|███▏      | 165/522 [47:29<4:21:02, 43.87s/it]"
          ]
        },
        {
          "name": "stdout",
          "output_type": "stream",
          "text": [
            "Execute code..\n",
            "------------------------------------------------------------------------------------------------------------------------------------------------------\n",
            "Response final:\n",
            "\n",
            "\n"
          ]
        },
        {
          "name": "stderr",
          "output_type": "stream",
          "text": [
            "\r 32%|███▏      | 166/522 [47:40<3:21:23, 33.94s/it]"
          ]
        },
        {
          "name": "stdout",
          "output_type": "stream",
          "text": [
            "Execute code..\n",
            "------------------------------------------------------------------------------------------------------------------------------------------------------\n",
            "Response final:\n",
            "\n",
            "\n"
          ]
        },
        {
          "name": "stderr",
          "output_type": "stream",
          "text": [
            "\r 32%|███▏      | 167/522 [47:48<2:35:30, 26.28s/it]"
          ]
        },
        {
          "name": "stdout",
          "output_type": "stream",
          "text": [
            "Execute code..\n",
            "------------------------------------------------------------------------------------------------------------------------------------------------------\n",
            "Response final:\n",
            "\n",
            "\n"
          ]
        },
        {
          "name": "stderr",
          "output_type": "stream",
          "text": [
            "\r 32%|███▏      | 168/522 [47:54<1:59:46, 20.30s/it]"
          ]
        },
        {
          "name": "stdout",
          "output_type": "stream",
          "text": [
            "Execute code..\n",
            "------------------------------------------------------------------------------------------------------------------------------------------------------\n",
            "Response final:\n",
            "\n",
            "\n"
          ]
        },
        {
          "name": "stderr",
          "output_type": "stream",
          "text": [
            "\r 32%|███▏      | 169/522 [48:01<1:34:43, 16.10s/it]"
          ]
        },
        {
          "name": "stdout",
          "output_type": "stream",
          "text": [
            "Execute code..\n",
            "------------------------------------------------------------------------------------------------------------------------------------------------------\n",
            "Response final:\n",
            "\n",
            "\n"
          ]
        },
        {
          "name": "stderr",
          "output_type": "stream",
          "text": [
            "\r 33%|███▎      | 170/522 [48:15<1:31:56, 15.67s/it]"
          ]
        },
        {
          "name": "stdout",
          "output_type": "stream",
          "text": [
            "Execute code..\n",
            "------------------------------------------------------------------------------------------------------------------------------------------------------\n",
            "Response final:\n",
            "\n",
            "\n"
          ]
        },
        {
          "name": "stderr",
          "output_type": "stream",
          "text": [
            "\r 33%|███▎      | 171/522 [48:30<1:29:17, 15.26s/it]"
          ]
        },
        {
          "name": "stdout",
          "output_type": "stream",
          "text": [
            "Execute code..\n",
            "------------------------------------------------------------------------------------------------------------------------------------------------------\n",
            "Response final:\n",
            "\n",
            "\n"
          ]
        },
        {
          "name": "stderr",
          "output_type": "stream",
          "text": [
            "\r 33%|███▎      | 172/522 [48:35<1:11:09, 12.20s/it]"
          ]
        },
        {
          "name": "stdout",
          "output_type": "stream",
          "text": [
            "Execute code..\n",
            "------------------------------------------------------------------------------------------------------------------------------------------------------\n",
            "Response final:\n",
            "\n",
            "\n"
          ]
        },
        {
          "name": "stderr",
          "output_type": "stream",
          "text": [
            "\r 33%|███▎      | 173/522 [48:46<1:09:00, 11.86s/it]"
          ]
        },
        {
          "name": "stdout",
          "output_type": "stream",
          "text": [
            "Execute code..\n",
            "------------------------------------------------------------------------------------------------------------------------------------------------------\n",
            "Response final:\n",
            "\n",
            "\n"
          ]
        },
        {
          "name": "stderr",
          "output_type": "stream",
          "text": [
            "\r 33%|███▎      | 174/522 [49:06<1:23:27, 14.39s/it]"
          ]
        },
        {
          "name": "stdout",
          "output_type": "stream",
          "text": [
            "Execute code..\n",
            "------------------------------------------------------------------------------------------------------------------------------------------------------\n",
            "Response final:\n",
            "\n",
            "\n"
          ]
        },
        {
          "name": "stderr",
          "output_type": "stream",
          "text": [
            "\r 34%|███▎      | 175/522 [49:12<1:07:50, 11.73s/it]"
          ]
        },
        {
          "name": "stdout",
          "output_type": "stream",
          "text": [
            "Execute code..\n",
            "------------------------------------------------------------------------------------------------------------------------------------------------------\n",
            "Response final:\n",
            "\n",
            "\n"
          ]
        },
        {
          "name": "stderr",
          "output_type": "stream",
          "text": [
            "\r 34%|███▎      | 176/522 [49:17<56:34,  9.81s/it]  "
          ]
        },
        {
          "name": "stdout",
          "output_type": "stream",
          "text": [
            "Execute code..\n",
            "------------------------------------------------------------------------------------------------------------------------------------------------------\n",
            "Response final:\n",
            "\n",
            "\n"
          ]
        },
        {
          "name": "stderr",
          "output_type": "stream",
          "text": [
            "\r 34%|███▍      | 177/522 [49:31<1:04:34, 11.23s/it]"
          ]
        },
        {
          "name": "stdout",
          "output_type": "stream",
          "text": [
            "Execute code..\n",
            "------------------------------------------------------------------------------------------------------------------------------------------------------\n",
            "Response final:\n",
            "\n",
            "\n"
          ]
        },
        {
          "name": "stderr",
          "output_type": "stream",
          "text": [
            "\r 34%|███▍      | 178/522 [49:37<54:09,  9.45s/it]  "
          ]
        },
        {
          "name": "stdout",
          "output_type": "stream",
          "text": [
            "Execute code..\n",
            "------------------------------------------------------------------------------------------------------------------------------------------------------\n",
            "Response final:\n",
            "\n",
            "\n"
          ]
        },
        {
          "name": "stderr",
          "output_type": "stream",
          "text": [
            "\r 34%|███▍      | 179/522 [49:45<51:26,  9.00s/it]"
          ]
        },
        {
          "name": "stdout",
          "output_type": "stream",
          "text": [
            "Execute code..\n",
            "------------------------------------------------------------------------------------------------------------------------------------------------------\n",
            "Response final:\n",
            "\n",
            "\n",
            "Retrying due to exception...unsupported operand type(s) for +: 'int' and 'str'\n"
          ]
        },
        {
          "name": "stderr",
          "output_type": "stream",
          "text": [
            "\r 34%|███▍      | 180/522 [51:05<2:53:14, 30.39s/it]"
          ]
        },
        {
          "name": "stdout",
          "output_type": "stream",
          "text": [
            "Execute code..\n",
            "------------------------------------------------------------------------------------------------------------------------------------------------------\n",
            "Response final:\n",
            "\n"
          ]
        },
        {
          "name": "stderr",
          "output_type": "stream",
          "text": [
            "\r 35%|███▍      | 181/522 [51:11<2:11:19, 23.11s/it]"
          ]
        },
        {
          "name": "stdout",
          "output_type": "stream",
          "text": [
            "Execute code..\n",
            "------------------------------------------------------------------------------------------------------------------------------------------------------\n",
            "Response final:\n",
            "\n",
            "\n"
          ]
        },
        {
          "name": "stderr",
          "output_type": "stream",
          "text": [
            "\r 35%|███▍      | 182/522 [51:20<1:46:48, 18.85s/it]"
          ]
        },
        {
          "name": "stdout",
          "output_type": "stream",
          "text": [
            "Execute code..\n",
            "------------------------------------------------------------------------------------------------------------------------------------------------------\n",
            "Response final:\n",
            "\n",
            "\n"
          ]
        },
        {
          "name": "stderr",
          "output_type": "stream",
          "text": [
            "\r 35%|███▌      | 183/522 [51:26<1:24:18, 14.92s/it]"
          ]
        },
        {
          "name": "stdout",
          "output_type": "stream",
          "text": [
            "Execute code..\n",
            "------------------------------------------------------------------------------------------------------------------------------------------------------\n",
            "Response final:\n",
            "\n",
            "\n"
          ]
        },
        {
          "name": "stderr",
          "output_type": "stream",
          "text": [
            "\r 35%|███▌      | 184/522 [51:30<1:06:37, 11.83s/it]"
          ]
        },
        {
          "name": "stdout",
          "output_type": "stream",
          "text": [
            "Execute code..\n",
            "------------------------------------------------------------------------------------------------------------------------------------------------------\n",
            "Response final:\n",
            "\n",
            "\n"
          ]
        },
        {
          "name": "stderr",
          "output_type": "stream",
          "text": [
            "\r 35%|███▌      | 185/522 [51:35<54:14,  9.66s/it]  "
          ]
        },
        {
          "name": "stdout",
          "output_type": "stream",
          "text": [
            "Execute code..\n",
            "------------------------------------------------------------------------------------------------------------------------------------------------------\n",
            "Response final:\n",
            "\n",
            "\n"
          ]
        },
        {
          "name": "stderr",
          "output_type": "stream",
          "text": [
            "\r 36%|███▌      | 186/522 [51:44<52:27,  9.37s/it]"
          ]
        },
        {
          "name": "stdout",
          "output_type": "stream",
          "text": [
            "Execute code..\n",
            "------------------------------------------------------------------------------------------------------------------------------------------------------\n",
            "Response final:\n",
            "\n",
            "\n"
          ]
        },
        {
          "name": "stderr",
          "output_type": "stream",
          "text": [
            "\r 36%|███▌      | 187/522 [51:58<1:01:24, 11.00s/it]"
          ]
        },
        {
          "name": "stdout",
          "output_type": "stream",
          "text": [
            "Execute code..\n",
            "------------------------------------------------------------------------------------------------------------------------------------------------------\n",
            "Response final:\n",
            "\n",
            "\n"
          ]
        },
        {
          "name": "stderr",
          "output_type": "stream",
          "text": [
            "\r 36%|███▌      | 188/522 [52:07<57:01, 10.24s/it]  "
          ]
        },
        {
          "name": "stdout",
          "output_type": "stream",
          "text": [
            "Execute code..\n",
            "------------------------------------------------------------------------------------------------------------------------------------------------------\n",
            "Response final:\n",
            "\n",
            "\n"
          ]
        },
        {
          "name": "stderr",
          "output_type": "stream",
          "text": [
            "\r 36%|███▌      | 189/522 [52:16<54:32,  9.83s/it]"
          ]
        },
        {
          "name": "stdout",
          "output_type": "stream",
          "text": [
            "Execute code..\n",
            "------------------------------------------------------------------------------------------------------------------------------------------------------\n",
            "Response final:\n",
            "\n",
            "\n"
          ]
        },
        {
          "name": "stderr",
          "output_type": "stream",
          "text": [
            "\r 36%|███▋      | 190/522 [52:25<53:27,  9.66s/it]"
          ]
        },
        {
          "name": "stdout",
          "output_type": "stream",
          "text": [
            "Execute code..\n",
            "------------------------------------------------------------------------------------------------------------------------------------------------------\n",
            "Response final:\n",
            "\n",
            "\n"
          ]
        },
        {
          "name": "stderr",
          "output_type": "stream",
          "text": [
            "\r 37%|███▋      | 191/522 [52:33<51:15,  9.29s/it]"
          ]
        },
        {
          "name": "stdout",
          "output_type": "stream",
          "text": [
            "Execute code..\n",
            "------------------------------------------------------------------------------------------------------------------------------------------------------\n",
            "Response final:\n",
            "\n",
            "\n"
          ]
        },
        {
          "name": "stderr",
          "output_type": "stream",
          "text": [
            "\r 37%|███▋      | 192/522 [52:42<49:50,  9.06s/it]"
          ]
        },
        {
          "name": "stdout",
          "output_type": "stream",
          "text": [
            "Execute code..\n",
            "------------------------------------------------------------------------------------------------------------------------------------------------------\n",
            "Response final:\n",
            "\n",
            "\n"
          ]
        },
        {
          "name": "stderr",
          "output_type": "stream",
          "text": [
            "\r 37%|███▋      | 193/522 [52:53<52:36,  9.60s/it]"
          ]
        },
        {
          "name": "stdout",
          "output_type": "stream",
          "text": [
            "Execute code..\n",
            "------------------------------------------------------------------------------------------------------------------------------------------------------\n",
            "Response final:\n",
            "\n",
            "\n"
          ]
        },
        {
          "name": "stderr",
          "output_type": "stream",
          "text": [
            "\r 37%|███▋      | 194/522 [53:03<53:21,  9.76s/it]"
          ]
        },
        {
          "name": "stdout",
          "output_type": "stream",
          "text": [
            "Execute code..\n",
            "------------------------------------------------------------------------------------------------------------------------------------------------------\n",
            "Response final:\n",
            "\n",
            "\n"
          ]
        },
        {
          "name": "stderr",
          "output_type": "stream",
          "text": [
            "\r 37%|███▋      | 195/522 [53:15<57:31, 10.56s/it]"
          ]
        },
        {
          "name": "stdout",
          "output_type": "stream",
          "text": [
            "Execute code..\n",
            "------------------------------------------------------------------------------------------------------------------------------------------------------\n",
            "Response final:\n",
            "\n",
            "\n"
          ]
        },
        {
          "name": "stderr",
          "output_type": "stream",
          "text": [
            "\r 38%|███▊      | 196/522 [53:25<55:49, 10.27s/it]"
          ]
        },
        {
          "name": "stdout",
          "output_type": "stream",
          "text": [
            "Execute code..\n",
            "------------------------------------------------------------------------------------------------------------------------------------------------------\n",
            "Response final:\n",
            "\n",
            "\n"
          ]
        },
        {
          "name": "stderr",
          "output_type": "stream",
          "text": [
            "\r 38%|███▊      | 197/522 [53:29<45:25,  8.39s/it]"
          ]
        },
        {
          "name": "stdout",
          "output_type": "stream",
          "text": [
            "Execute code..\n",
            "------------------------------------------------------------------------------------------------------------------------------------------------------\n",
            "Response final:\n",
            "\n",
            "\n"
          ]
        },
        {
          "name": "stderr",
          "output_type": "stream",
          "text": [
            "\r 38%|███▊      | 198/522 [53:33<38:31,  7.14s/it]"
          ]
        },
        {
          "name": "stdout",
          "output_type": "stream",
          "text": [
            "Execute code..\n",
            "------------------------------------------------------------------------------------------------------------------------------------------------------\n",
            "Response final:\n",
            "\n",
            "\n"
          ]
        },
        {
          "name": "stderr",
          "output_type": "stream",
          "text": [
            "\r 38%|███▊      | 199/522 [53:39<36:52,  6.85s/it]"
          ]
        },
        {
          "name": "stdout",
          "output_type": "stream",
          "text": [
            "Execute code..\n",
            "------------------------------------------------------------------------------------------------------------------------------------------------------\n",
            "Response final:\n",
            "\n",
            "\n"
          ]
        },
        {
          "name": "stderr",
          "output_type": "stream",
          "text": [
            "\r 38%|███▊      | 200/522 [53:46<36:34,  6.81s/it]"
          ]
        },
        {
          "name": "stdout",
          "output_type": "stream",
          "text": [
            "Execute code..\n",
            "------------------------------------------------------------------------------------------------------------------------------------------------------\n",
            "Response final:\n",
            "\n",
            "\n"
          ]
        },
        {
          "name": "stderr",
          "output_type": "stream",
          "text": [
            "\r 39%|███▊      | 201/522 [53:51<32:43,  6.12s/it]"
          ]
        },
        {
          "name": "stdout",
          "output_type": "stream",
          "text": [
            "Execute code..\n",
            "------------------------------------------------------------------------------------------------------------------------------------------------------\n",
            "Response final:\n",
            "\n",
            "\n"
          ]
        },
        {
          "name": "stderr",
          "output_type": "stream",
          "text": [
            "\r 39%|███▊      | 202/522 [53:57<32:50,  6.16s/it]"
          ]
        },
        {
          "name": "stdout",
          "output_type": "stream",
          "text": [
            "Execute code..\n",
            "------------------------------------------------------------------------------------------------------------------------------------------------------\n",
            "Response final:\n",
            "\n",
            "\n"
          ]
        },
        {
          "name": "stderr",
          "output_type": "stream",
          "text": [
            "\r 39%|███▉      | 203/522 [54:01<30:02,  5.65s/it]"
          ]
        },
        {
          "name": "stdout",
          "output_type": "stream",
          "text": [
            "Execute code..\n",
            "------------------------------------------------------------------------------------------------------------------------------------------------------\n",
            "Response final:\n",
            "\n",
            "\n"
          ]
        },
        {
          "name": "stderr",
          "output_type": "stream",
          "text": [
            "\r 39%|███▉      | 204/522 [54:05<27:12,  5.13s/it]"
          ]
        },
        {
          "name": "stdout",
          "output_type": "stream",
          "text": [
            "Execute code..\n",
            "------------------------------------------------------------------------------------------------------------------------------------------------------\n",
            "Response final:\n",
            "\n",
            "\n"
          ]
        },
        {
          "name": "stderr",
          "output_type": "stream",
          "text": [
            "\r 39%|███▉      | 205/522 [54:11<27:22,  5.18s/it]"
          ]
        },
        {
          "name": "stdout",
          "output_type": "stream",
          "text": [
            "Execute code..\n",
            "------------------------------------------------------------------------------------------------------------------------------------------------------\n",
            "Response final:\n",
            "\n",
            "\n"
          ]
        },
        {
          "name": "stderr",
          "output_type": "stream",
          "text": [
            "\r 39%|███▉      | 206/522 [54:19<32:41,  6.21s/it]"
          ]
        },
        {
          "name": "stdout",
          "output_type": "stream",
          "text": [
            "Execute code..\n",
            "------------------------------------------------------------------------------------------------------------------------------------------------------\n",
            "Response final:\n",
            "\n",
            "\n"
          ]
        },
        {
          "name": "stderr",
          "output_type": "stream",
          "text": [
            "\r 40%|███▉      | 207/522 [54:25<31:31,  6.01s/it]"
          ]
        },
        {
          "name": "stdout",
          "output_type": "stream",
          "text": [
            "Execute code..\n",
            "------------------------------------------------------------------------------------------------------------------------------------------------------\n",
            "Response final:\n",
            "\n",
            "\n"
          ]
        },
        {
          "name": "stderr",
          "output_type": "stream",
          "text": [
            "\r 40%|███▉      | 208/522 [54:37<40:52,  7.81s/it]"
          ]
        },
        {
          "name": "stdout",
          "output_type": "stream",
          "text": [
            "Execute code..\n",
            "------------------------------------------------------------------------------------------------------------------------------------------------------\n",
            "Response final:\n",
            "\n",
            "\n"
          ]
        },
        {
          "name": "stderr",
          "output_type": "stream",
          "text": [
            "\r 40%|████      | 209/522 [54:42<36:51,  7.06s/it]"
          ]
        },
        {
          "name": "stdout",
          "output_type": "stream",
          "text": [
            "Execute code..\n",
            "------------------------------------------------------------------------------------------------------------------------------------------------------\n",
            "Response final:\n",
            "\n",
            "\n"
          ]
        },
        {
          "name": "stderr",
          "output_type": "stream",
          "text": [
            "\r 40%|████      | 210/522 [54:47<33:59,  6.54s/it]"
          ]
        },
        {
          "name": "stdout",
          "output_type": "stream",
          "text": [
            "Execute code..\n",
            "------------------------------------------------------------------------------------------------------------------------------------------------------\n",
            "Response final:\n",
            "\n",
            "\n"
          ]
        },
        {
          "name": "stderr",
          "output_type": "stream",
          "text": [
            "\r 40%|████      | 211/522 [54:55<36:03,  6.96s/it]"
          ]
        },
        {
          "name": "stdout",
          "output_type": "stream",
          "text": [
            "Execute code..\n",
            "------------------------------------------------------------------------------------------------------------------------------------------------------\n",
            "Response final:\n",
            "\n",
            "\n"
          ]
        },
        {
          "name": "stderr",
          "output_type": "stream",
          "text": [
            "\r 41%|████      | 212/522 [55:01<33:34,  6.50s/it]"
          ]
        },
        {
          "name": "stdout",
          "output_type": "stream",
          "text": [
            "Execute code..\n",
            "------------------------------------------------------------------------------------------------------------------------------------------------------\n",
            "Response final:\n",
            "\n",
            "\n"
          ]
        },
        {
          "name": "stderr",
          "output_type": "stream",
          "text": [
            "\r 41%|████      | 213/522 [55:11<40:00,  7.77s/it]"
          ]
        },
        {
          "name": "stdout",
          "output_type": "stream",
          "text": [
            "Execute code..\n",
            "------------------------------------------------------------------------------------------------------------------------------------------------------\n",
            "Response final:\n",
            "\n",
            "\n"
          ]
        },
        {
          "name": "stderr",
          "output_type": "stream",
          "text": [
            "\r 41%|████      | 214/522 [55:17<36:36,  7.13s/it]"
          ]
        },
        {
          "name": "stdout",
          "output_type": "stream",
          "text": [
            "Execute code..\n",
            "------------------------------------------------------------------------------------------------------------------------------------------------------\n",
            "Response final:\n",
            "\n",
            "\n"
          ]
        },
        {
          "name": "stderr",
          "output_type": "stream",
          "text": [
            "\r 41%|████      | 215/522 [55:23<34:14,  6.69s/it]"
          ]
        },
        {
          "name": "stdout",
          "output_type": "stream",
          "text": [
            "Execute code..\n",
            "------------------------------------------------------------------------------------------------------------------------------------------------------\n",
            "Response final:\n",
            "\n",
            "\n"
          ]
        },
        {
          "name": "stderr",
          "output_type": "stream",
          "text": [
            "\r 41%|████▏     | 216/522 [55:28<32:10,  6.31s/it]"
          ]
        },
        {
          "name": "stdout",
          "output_type": "stream",
          "text": [
            "Execute code..\n",
            "------------------------------------------------------------------------------------------------------------------------------------------------------\n",
            "Response final:\n",
            "\n",
            "\n"
          ]
        },
        {
          "name": "stderr",
          "output_type": "stream",
          "text": [
            "\r 42%|████▏     | 217/522 [55:33<29:46,  5.86s/it]"
          ]
        },
        {
          "name": "stdout",
          "output_type": "stream",
          "text": [
            "Execute code..\n",
            "------------------------------------------------------------------------------------------------------------------------------------------------------\n",
            "Response final:\n",
            "\n",
            "\n"
          ]
        },
        {
          "name": "stderr",
          "output_type": "stream",
          "text": [
            "\r 42%|████▏     | 218/522 [55:39<29:38,  5.85s/it]"
          ]
        },
        {
          "name": "stdout",
          "output_type": "stream",
          "text": [
            "Execute code..\n",
            "------------------------------------------------------------------------------------------------------------------------------------------------------\n",
            "Response final:\n",
            "\n",
            "\n"
          ]
        },
        {
          "name": "stderr",
          "output_type": "stream",
          "text": [
            "\r 42%|████▏     | 219/522 [55:42<25:26,  5.04s/it]"
          ]
        },
        {
          "name": "stdout",
          "output_type": "stream",
          "text": [
            "Execute code..\n",
            "------------------------------------------------------------------------------------------------------------------------------------------------------\n",
            "Response final:\n",
            "\n",
            "\n"
          ]
        },
        {
          "name": "stderr",
          "output_type": "stream",
          "text": [
            "\r 42%|████▏     | 220/522 [55:50<30:33,  6.07s/it]"
          ]
        },
        {
          "name": "stdout",
          "output_type": "stream",
          "text": [
            "Execute code..\n",
            "------------------------------------------------------------------------------------------------------------------------------------------------------\n",
            "Response final:\n",
            "\n",
            "\n"
          ]
        },
        {
          "name": "stderr",
          "output_type": "stream",
          "text": [
            "\r 42%|████▏     | 221/522 [55:54<27:20,  5.45s/it]"
          ]
        },
        {
          "name": "stdout",
          "output_type": "stream",
          "text": [
            "Execute code..\n",
            "------------------------------------------------------------------------------------------------------------------------------------------------------\n",
            "Response final:\n",
            "\n",
            "\n"
          ]
        },
        {
          "name": "stderr",
          "output_type": "stream",
          "text": [
            "\r 43%|████▎     | 222/522 [56:02<30:26,  6.09s/it]"
          ]
        },
        {
          "name": "stdout",
          "output_type": "stream",
          "text": [
            "Execute code..\n",
            "------------------------------------------------------------------------------------------------------------------------------------------------------\n",
            "Response final:\n",
            "\n",
            "\n"
          ]
        },
        {
          "name": "stderr",
          "output_type": "stream",
          "text": [
            "\r 43%|████▎     | 223/522 [56:08<30:16,  6.07s/it]"
          ]
        },
        {
          "name": "stdout",
          "output_type": "stream",
          "text": [
            "Execute code..\n",
            "------------------------------------------------------------------------------------------------------------------------------------------------------\n",
            "Response final:\n",
            "\n",
            "\n"
          ]
        },
        {
          "name": "stderr",
          "output_type": "stream",
          "text": [
            "\r 43%|████▎     | 224/522 [56:13<27:53,  5.62s/it]"
          ]
        },
        {
          "name": "stdout",
          "output_type": "stream",
          "text": [
            "Execute code..\n",
            "------------------------------------------------------------------------------------------------------------------------------------------------------\n",
            "Response final:\n",
            "\n",
            "\n"
          ]
        },
        {
          "name": "stderr",
          "output_type": "stream",
          "text": [
            "\r 43%|████▎     | 225/522 [56:18<28:08,  5.68s/it]"
          ]
        },
        {
          "name": "stdout",
          "output_type": "stream",
          "text": [
            "Execute code..\n",
            "------------------------------------------------------------------------------------------------------------------------------------------------------\n",
            "Response final:\n",
            "\n",
            "\n"
          ]
        },
        {
          "name": "stderr",
          "output_type": "stream",
          "text": [
            "\r 43%|████▎     | 226/522 [56:24<27:37,  5.60s/it]"
          ]
        },
        {
          "name": "stdout",
          "output_type": "stream",
          "text": [
            "Execute code..\n",
            "------------------------------------------------------------------------------------------------------------------------------------------------------\n",
            "Response final:\n",
            "\n",
            "\n"
          ]
        },
        {
          "name": "stderr",
          "output_type": "stream",
          "text": [
            "\r 43%|████▎     | 227/522 [56:28<25:32,  5.20s/it]"
          ]
        },
        {
          "name": "stdout",
          "output_type": "stream",
          "text": [
            "Execute code..\n",
            "------------------------------------------------------------------------------------------------------------------------------------------------------\n",
            "Response final:\n",
            "\n",
            "\n"
          ]
        },
        {
          "name": "stderr",
          "output_type": "stream",
          "text": [
            "\r 44%|████▎     | 228/522 [56:36<28:57,  5.91s/it]"
          ]
        },
        {
          "name": "stdout",
          "output_type": "stream",
          "text": [
            "Execute code..\n",
            "------------------------------------------------------------------------------------------------------------------------------------------------------\n",
            "Response final:\n",
            "\n",
            "\n"
          ]
        },
        {
          "name": "stderr",
          "output_type": "stream",
          "text": [
            "\r 44%|████▍     | 229/522 [56:41<28:29,  5.84s/it]"
          ]
        },
        {
          "name": "stdout",
          "output_type": "stream",
          "text": [
            "Execute code..\n",
            "------------------------------------------------------------------------------------------------------------------------------------------------------\n",
            "Response final:\n",
            "\n",
            "\n"
          ]
        },
        {
          "name": "stderr",
          "output_type": "stream",
          "text": [
            "\r 44%|████▍     | 230/522 [56:45<25:49,  5.31s/it]"
          ]
        },
        {
          "name": "stdout",
          "output_type": "stream",
          "text": [
            "Execute code..\n",
            "------------------------------------------------------------------------------------------------------------------------------------------------------\n",
            "Response final:\n",
            "\n",
            "\n"
          ]
        },
        {
          "name": "stderr",
          "output_type": "stream",
          "text": [
            "\r 44%|████▍     | 231/522 [56:50<24:08,  4.98s/it]"
          ]
        },
        {
          "name": "stdout",
          "output_type": "stream",
          "text": [
            "Execute code..\n",
            "------------------------------------------------------------------------------------------------------------------------------------------------------\n",
            "Response final:\n",
            "\n",
            "\n"
          ]
        },
        {
          "name": "stderr",
          "output_type": "stream",
          "text": [
            "\r 44%|████▍     | 232/522 [56:55<24:00,  4.97s/it]"
          ]
        },
        {
          "name": "stdout",
          "output_type": "stream",
          "text": [
            "Execute code..\n",
            "------------------------------------------------------------------------------------------------------------------------------------------------------\n",
            "Response final:\n",
            "\n",
            "\n"
          ]
        },
        {
          "name": "stderr",
          "output_type": "stream",
          "text": [
            "\r 45%|████▍     | 233/522 [57:00<24:14,  5.03s/it]"
          ]
        },
        {
          "name": "stdout",
          "output_type": "stream",
          "text": [
            "Execute code..\n",
            "------------------------------------------------------------------------------------------------------------------------------------------------------\n",
            "Response final:\n",
            "\n",
            "\n"
          ]
        },
        {
          "name": "stderr",
          "output_type": "stream",
          "text": [
            "\r 45%|████▍     | 234/522 [57:13<35:45,  7.45s/it]"
          ]
        },
        {
          "name": "stdout",
          "output_type": "stream",
          "text": [
            "Execute code..\n",
            "------------------------------------------------------------------------------------------------------------------------------------------------------\n",
            "Response final:\n",
            "\n",
            "\n"
          ]
        },
        {
          "name": "stderr",
          "output_type": "stream",
          "text": [
            "\r 45%|████▌     | 235/522 [57:19<34:26,  7.20s/it]"
          ]
        },
        {
          "name": "stdout",
          "output_type": "stream",
          "text": [
            "Execute code..\n",
            "------------------------------------------------------------------------------------------------------------------------------------------------------\n",
            "Response final:\n",
            "\n",
            "\n"
          ]
        },
        {
          "name": "stderr",
          "output_type": "stream",
          "text": [
            "\r 45%|████▌     | 236/522 [57:31<40:01,  8.40s/it]"
          ]
        },
        {
          "name": "stdout",
          "output_type": "stream",
          "text": [
            "Execute code..\n",
            "------------------------------------------------------------------------------------------------------------------------------------------------------\n",
            "Response final:\n",
            "\n",
            "\n"
          ]
        },
        {
          "name": "stderr",
          "output_type": "stream",
          "text": [
            "\r 45%|████▌     | 237/522 [57:41<41:59,  8.84s/it]"
          ]
        },
        {
          "name": "stdout",
          "output_type": "stream",
          "text": [
            "Execute code..\n",
            "------------------------------------------------------------------------------------------------------------------------------------------------------\n",
            "Response final:\n",
            "\n",
            "\n"
          ]
        },
        {
          "name": "stderr",
          "output_type": "stream",
          "text": [
            "\r 46%|████▌     | 238/522 [57:49<41:25,  8.75s/it]"
          ]
        },
        {
          "name": "stdout",
          "output_type": "stream",
          "text": [
            "Execute code..\n",
            "------------------------------------------------------------------------------------------------------------------------------------------------------\n",
            "Response final:\n",
            "\n",
            "\n"
          ]
        },
        {
          "name": "stderr",
          "output_type": "stream",
          "text": [
            "\r 46%|████▌     | 239/522 [58:01<45:22,  9.62s/it]"
          ]
        },
        {
          "name": "stdout",
          "output_type": "stream",
          "text": [
            "Execute code..\n",
            "------------------------------------------------------------------------------------------------------------------------------------------------------\n",
            "Response final:\n",
            "\n",
            "\n"
          ]
        },
        {
          "name": "stderr",
          "output_type": "stream",
          "text": [
            "\r 46%|████▌     | 240/522 [58:10<44:12,  9.41s/it]"
          ]
        },
        {
          "name": "stdout",
          "output_type": "stream",
          "text": [
            "Execute code..\n",
            "------------------------------------------------------------------------------------------------------------------------------------------------------\n",
            "Response final:\n",
            "\n",
            "\n"
          ]
        },
        {
          "name": "stderr",
          "output_type": "stream",
          "text": [
            "\r 46%|████▌     | 241/522 [58:18<41:53,  8.94s/it]"
          ]
        },
        {
          "name": "stdout",
          "output_type": "stream",
          "text": [
            "Execute code..\n",
            "------------------------------------------------------------------------------------------------------------------------------------------------------\n",
            "Response final:\n",
            "\n",
            "\n"
          ]
        },
        {
          "name": "stderr",
          "output_type": "stream",
          "text": [
            "\r 46%|████▋     | 242/522 [58:22<35:15,  7.56s/it]"
          ]
        },
        {
          "name": "stdout",
          "output_type": "stream",
          "text": [
            "Execute code..\n",
            "------------------------------------------------------------------------------------------------------------------------------------------------------\n",
            "Response final:\n",
            "\n",
            "\n"
          ]
        },
        {
          "name": "stderr",
          "output_type": "stream",
          "text": [
            "\r 47%|████▋     | 243/522 [58:27<31:29,  6.77s/it]"
          ]
        },
        {
          "name": "stdout",
          "output_type": "stream",
          "text": [
            "Execute code..\n",
            "------------------------------------------------------------------------------------------------------------------------------------------------------\n",
            "Response final:\n",
            "\n",
            "\n"
          ]
        },
        {
          "name": "stderr",
          "output_type": "stream",
          "text": [
            "\r 47%|████▋     | 244/522 [58:30<26:53,  5.80s/it]"
          ]
        },
        {
          "name": "stdout",
          "output_type": "stream",
          "text": [
            "Execute code..\n",
            "------------------------------------------------------------------------------------------------------------------------------------------------------\n",
            "Response final:\n",
            "\n",
            "\n"
          ]
        },
        {
          "name": "stderr",
          "output_type": "stream",
          "text": [
            "\r 47%|████▋     | 245/522 [58:40<31:34,  6.84s/it]"
          ]
        },
        {
          "name": "stdout",
          "output_type": "stream",
          "text": [
            "Execute code..\n",
            "------------------------------------------------------------------------------------------------------------------------------------------------------\n",
            "Response final:\n",
            "\n",
            "\n"
          ]
        },
        {
          "name": "stderr",
          "output_type": "stream",
          "text": [
            "\r 47%|████▋     | 246/522 [58:43<26:42,  5.81s/it]"
          ]
        },
        {
          "name": "stdout",
          "output_type": "stream",
          "text": [
            "Execute code..\n",
            "------------------------------------------------------------------------------------------------------------------------------------------------------\n",
            "Response final:\n",
            "\n",
            "\n"
          ]
        },
        {
          "name": "stderr",
          "output_type": "stream",
          "text": [
            "\r 47%|████▋     | 247/522 [58:47<23:57,  5.23s/it]"
          ]
        },
        {
          "name": "stdout",
          "output_type": "stream",
          "text": [
            "Execute code..\n",
            "------------------------------------------------------------------------------------------------------------------------------------------------------\n",
            "Response final:\n",
            "\n",
            "\n"
          ]
        },
        {
          "name": "stderr",
          "output_type": "stream",
          "text": [
            "\r 48%|████▊     | 248/522 [58:51<22:37,  4.95s/it]"
          ]
        },
        {
          "name": "stdout",
          "output_type": "stream",
          "text": [
            "Execute code..\n",
            "------------------------------------------------------------------------------------------------------------------------------------------------------\n",
            "Response final:\n",
            "\n",
            "\n"
          ]
        },
        {
          "name": "stderr",
          "output_type": "stream",
          "text": [
            "\r 48%|████▊     | 249/522 [59:08<38:10,  8.39s/it]"
          ]
        },
        {
          "name": "stdout",
          "output_type": "stream",
          "text": [
            "Execute code..\n",
            "------------------------------------------------------------------------------------------------------------------------------------------------------\n",
            "Response final:\n",
            "\n",
            "\n"
          ]
        },
        {
          "name": "stderr",
          "output_type": "stream",
          "text": [
            "\r 48%|████▊     | 250/522 [59:13<33:46,  7.45s/it]"
          ]
        },
        {
          "name": "stdout",
          "output_type": "stream",
          "text": [
            "Execute code..\n",
            "------------------------------------------------------------------------------------------------------------------------------------------------------\n",
            "Response final:\n",
            "\n",
            "\n"
          ]
        },
        {
          "name": "stderr",
          "output_type": "stream",
          "text": [
            "\r 48%|████▊     | 251/522 [59:16<28:08,  6.23s/it]"
          ]
        },
        {
          "name": "stdout",
          "output_type": "stream",
          "text": [
            "Execute code..\n",
            "------------------------------------------------------------------------------------------------------------------------------------------------------\n",
            "Response final:\n",
            "\n",
            "\n"
          ]
        },
        {
          "name": "stderr",
          "output_type": "stream",
          "text": [
            "\r 48%|████▊     | 252/522 [59:20<24:13,  5.38s/it]"
          ]
        },
        {
          "name": "stdout",
          "output_type": "stream",
          "text": [
            "Execute code..\n",
            "------------------------------------------------------------------------------------------------------------------------------------------------------\n",
            "Response final:\n",
            "\n",
            "\n"
          ]
        },
        {
          "name": "stderr",
          "output_type": "stream",
          "text": [
            "\r 48%|████▊     | 253/522 [59:23<21:57,  4.90s/it]"
          ]
        },
        {
          "name": "stdout",
          "output_type": "stream",
          "text": [
            "Execute code..\n",
            "------------------------------------------------------------------------------------------------------------------------------------------------------\n",
            "Response final:\n",
            "\n",
            "\n"
          ]
        },
        {
          "name": "stderr",
          "output_type": "stream",
          "text": [
            "\r 49%|████▊     | 254/522 [59:36<31:52,  7.14s/it]"
          ]
        },
        {
          "name": "stdout",
          "output_type": "stream",
          "text": [
            "Execute code..\n",
            "------------------------------------------------------------------------------------------------------------------------------------------------------\n",
            "Response final:\n",
            "\n",
            "\n"
          ]
        },
        {
          "name": "stderr",
          "output_type": "stream",
          "text": [
            "\r 49%|████▉     | 255/522 [59:43<32:33,  7.32s/it]"
          ]
        },
        {
          "name": "stdout",
          "output_type": "stream",
          "text": [
            "Execute code..\n",
            "------------------------------------------------------------------------------------------------------------------------------------------------------\n",
            "Response final:\n",
            "\n",
            "\n"
          ]
        },
        {
          "name": "stderr",
          "output_type": "stream",
          "text": [
            "\r 49%|████▉     | 256/522 [59:49<30:17,  6.83s/it]"
          ]
        },
        {
          "name": "stdout",
          "output_type": "stream",
          "text": [
            "Execute code..\n",
            "------------------------------------------------------------------------------------------------------------------------------------------------------\n",
            "Response final:\n",
            "\n",
            "\n"
          ]
        },
        {
          "name": "stderr",
          "output_type": "stream",
          "text": [
            "\r 49%|████▉     | 257/522 [59:54<27:07,  6.14s/it]"
          ]
        },
        {
          "name": "stdout",
          "output_type": "stream",
          "text": [
            "Execute code..\n",
            "------------------------------------------------------------------------------------------------------------------------------------------------------\n",
            "Response final:\n",
            "\n",
            "\n"
          ]
        },
        {
          "name": "stderr",
          "output_type": "stream",
          "text": [
            "\r 49%|████▉     | 258/522 [59:59<25:15,  5.74s/it]"
          ]
        },
        {
          "name": "stdout",
          "output_type": "stream",
          "text": [
            "Execute code..\n",
            "------------------------------------------------------------------------------------------------------------------------------------------------------\n",
            "Response final:\n",
            "\n",
            "\n"
          ]
        },
        {
          "name": "stderr",
          "output_type": "stream",
          "text": [
            "\r 50%|████▉     | 259/522 [1:00:02<22:40,  5.17s/it]"
          ]
        },
        {
          "name": "stdout",
          "output_type": "stream",
          "text": [
            "Execute code..\n",
            "------------------------------------------------------------------------------------------------------------------------------------------------------\n",
            "Response final:\n",
            "\n",
            "\n"
          ]
        },
        {
          "name": "stderr",
          "output_type": "stream",
          "text": [
            "\r 50%|████▉     | 260/522 [1:00:05<19:46,  4.53s/it]"
          ]
        },
        {
          "name": "stdout",
          "output_type": "stream",
          "text": [
            "Execute code..\n",
            "------------------------------------------------------------------------------------------------------------------------------------------------------\n",
            "Response final:\n",
            "\n",
            "\n"
          ]
        },
        {
          "name": "stderr",
          "output_type": "stream",
          "text": [
            "\r 50%|█████     | 261/522 [1:00:08<17:34,  4.04s/it]"
          ]
        },
        {
          "name": "stdout",
          "output_type": "stream",
          "text": [
            "Execute code..\n",
            "------------------------------------------------------------------------------------------------------------------------------------------------------\n",
            "Response final:\n",
            "\n",
            "\n"
          ]
        },
        {
          "name": "stderr",
          "output_type": "stream",
          "text": [
            "\r 50%|█████     | 262/522 [1:00:11<16:13,  3.74s/it]"
          ]
        },
        {
          "name": "stdout",
          "output_type": "stream",
          "text": [
            "Execute code..\n",
            "------------------------------------------------------------------------------------------------------------------------------------------------------\n",
            "Response final:\n",
            "\n",
            "\n"
          ]
        },
        {
          "name": "stderr",
          "output_type": "stream",
          "text": [
            "\r 50%|█████     | 263/522 [1:00:14<15:04,  3.49s/it]"
          ]
        },
        {
          "name": "stdout",
          "output_type": "stream",
          "text": [
            "Execute code..\n",
            "------------------------------------------------------------------------------------------------------------------------------------------------------\n",
            "Response final:\n",
            "\n",
            "\n"
          ]
        },
        {
          "name": "stderr",
          "output_type": "stream",
          "text": [
            "\r 51%|█████     | 264/522 [1:00:25<23:59,  5.58s/it]"
          ]
        },
        {
          "name": "stdout",
          "output_type": "stream",
          "text": [
            "Execute code..\n",
            "------------------------------------------------------------------------------------------------------------------------------------------------------\n",
            "Response final:\n",
            "\n",
            "\n"
          ]
        },
        {
          "name": "stderr",
          "output_type": "stream",
          "text": [
            "\r 51%|█████     | 265/522 [1:00:28<21:14,  4.96s/it]"
          ]
        },
        {
          "name": "stdout",
          "output_type": "stream",
          "text": [
            "Execute code..\n",
            "------------------------------------------------------------------------------------------------------------------------------------------------------\n",
            "Response final:\n",
            "\n",
            "\n"
          ]
        },
        {
          "name": "stderr",
          "output_type": "stream",
          "text": [
            "\r 51%|█████     | 266/522 [1:00:32<19:43,  4.62s/it]"
          ]
        },
        {
          "name": "stdout",
          "output_type": "stream",
          "text": [
            "Execute code..\n",
            "------------------------------------------------------------------------------------------------------------------------------------------------------\n",
            "Response final:\n",
            "\n",
            "\n"
          ]
        },
        {
          "name": "stderr",
          "output_type": "stream",
          "text": [
            "\r 51%|█████     | 267/522 [1:00:36<19:23,  4.56s/it]"
          ]
        },
        {
          "name": "stdout",
          "output_type": "stream",
          "text": [
            "Execute code..\n",
            "------------------------------------------------------------------------------------------------------------------------------------------------------\n",
            "Response final:\n",
            "\n",
            "\n"
          ]
        },
        {
          "name": "stderr",
          "output_type": "stream",
          "text": [
            "\r 51%|█████▏    | 268/522 [1:00:51<31:52,  7.53s/it]"
          ]
        },
        {
          "name": "stdout",
          "output_type": "stream",
          "text": [
            "Execute code..\n",
            "------------------------------------------------------------------------------------------------------------------------------------------------------\n",
            "Response final:\n",
            "\n",
            "\n"
          ]
        },
        {
          "name": "stderr",
          "output_type": "stream",
          "text": [
            "\r 52%|█████▏    | 269/522 [1:01:00<33:20,  7.91s/it]"
          ]
        },
        {
          "name": "stdout",
          "output_type": "stream",
          "text": [
            "Execute code..\n",
            "------------------------------------------------------------------------------------------------------------------------------------------------------\n",
            "Response final:\n",
            "\n",
            "\n"
          ]
        },
        {
          "name": "stderr",
          "output_type": "stream",
          "text": [
            "\r 52%|█████▏    | 270/522 [1:01:04<28:06,  6.69s/it]"
          ]
        },
        {
          "name": "stdout",
          "output_type": "stream",
          "text": [
            "Execute code..\n",
            "------------------------------------------------------------------------------------------------------------------------------------------------------\n",
            "Response final:\n",
            "\n",
            "\n"
          ]
        },
        {
          "name": "stderr",
          "output_type": "stream",
          "text": [
            "\r 52%|█████▏    | 271/522 [1:01:16<35:03,  8.38s/it]"
          ]
        },
        {
          "name": "stdout",
          "output_type": "stream",
          "text": [
            "Execute code..\n",
            "------------------------------------------------------------------------------------------------------------------------------------------------------\n",
            "Response final:\n",
            "\n",
            "\n"
          ]
        },
        {
          "name": "stderr",
          "output_type": "stream",
          "text": [
            "\r 52%|█████▏    | 272/522 [1:01:20<29:35,  7.10s/it]"
          ]
        },
        {
          "name": "stdout",
          "output_type": "stream",
          "text": [
            "Execute code..\n",
            "------------------------------------------------------------------------------------------------------------------------------------------------------\n",
            "Response final:\n",
            "\n",
            "\n"
          ]
        },
        {
          "name": "stderr",
          "output_type": "stream",
          "text": [
            "\r 52%|█████▏    | 273/522 [1:01:28<30:03,  7.24s/it]"
          ]
        },
        {
          "name": "stdout",
          "output_type": "stream",
          "text": [
            "Execute code..\n",
            "------------------------------------------------------------------------------------------------------------------------------------------------------\n",
            "Response final:\n",
            "\n",
            "\n"
          ]
        },
        {
          "name": "stderr",
          "output_type": "stream",
          "text": [
            "\r 52%|█████▏    | 274/522 [1:01:32<26:08,  6.32s/it]"
          ]
        },
        {
          "name": "stdout",
          "output_type": "stream",
          "text": [
            "Execute code..\n",
            "------------------------------------------------------------------------------------------------------------------------------------------------------\n",
            "Response final:\n",
            "\n",
            "\n"
          ]
        },
        {
          "name": "stderr",
          "output_type": "stream",
          "text": [
            "\r 53%|█████▎    | 275/522 [1:01:38<25:32,  6.20s/it]"
          ]
        },
        {
          "name": "stdout",
          "output_type": "stream",
          "text": [
            "Execute code..\n",
            "------------------------------------------------------------------------------------------------------------------------------------------------------\n",
            "Response final:\n",
            "\n",
            "\n"
          ]
        },
        {
          "name": "stderr",
          "output_type": "stream",
          "text": [
            "\r 53%|█████▎    | 276/522 [1:01:51<34:25,  8.39s/it]"
          ]
        },
        {
          "name": "stdout",
          "output_type": "stream",
          "text": [
            "Execute code..\n",
            "------------------------------------------------------------------------------------------------------------------------------------------------------\n",
            "Response final:\n",
            "\n",
            "\n"
          ]
        },
        {
          "name": "stderr",
          "output_type": "stream",
          "text": [
            "\r 53%|█████▎    | 277/522 [1:02:01<35:55,  8.80s/it]"
          ]
        },
        {
          "name": "stdout",
          "output_type": "stream",
          "text": [
            "Execute code..\n",
            "------------------------------------------------------------------------------------------------------------------------------------------------------\n",
            "Response final:\n",
            "\n",
            "\n"
          ]
        },
        {
          "name": "stderr",
          "output_type": "stream",
          "text": [
            "\r 53%|█████▎    | 278/522 [1:02:14<41:17, 10.15s/it]"
          ]
        },
        {
          "name": "stdout",
          "output_type": "stream",
          "text": [
            "Execute code..\n",
            "------------------------------------------------------------------------------------------------------------------------------------------------------\n",
            "Response final:\n",
            "\n",
            "\n"
          ]
        },
        {
          "name": "stderr",
          "output_type": "stream",
          "text": [
            "\r 53%|█████▎    | 279/522 [1:02:26<42:45, 10.56s/it]"
          ]
        },
        {
          "name": "stdout",
          "output_type": "stream",
          "text": [
            "Execute code..\n",
            "------------------------------------------------------------------------------------------------------------------------------------------------------\n",
            "Response final:\n",
            "\n",
            "\n"
          ]
        },
        {
          "name": "stderr",
          "output_type": "stream",
          "text": [
            "\r 54%|█████▎    | 280/522 [1:02:39<46:26, 11.52s/it]"
          ]
        },
        {
          "name": "stdout",
          "output_type": "stream",
          "text": [
            "Execute code..\n",
            "------------------------------------------------------------------------------------------------------------------------------------------------------\n",
            "Response final:\n",
            "\n",
            "\n"
          ]
        },
        {
          "name": "stderr",
          "output_type": "stream",
          "text": [
            "\r 54%|█████▍    | 281/522 [1:02:44<37:46,  9.41s/it]"
          ]
        },
        {
          "name": "stdout",
          "output_type": "stream",
          "text": [
            "Execute code..\n",
            "------------------------------------------------------------------------------------------------------------------------------------------------------\n",
            "Response final:\n",
            "\n",
            "\n"
          ]
        },
        {
          "name": "stderr",
          "output_type": "stream",
          "text": [
            "\r 54%|█████▍    | 282/522 [1:02:51<34:36,  8.65s/it]"
          ]
        },
        {
          "name": "stdout",
          "output_type": "stream",
          "text": [
            "Execute code..\n",
            "------------------------------------------------------------------------------------------------------------------------------------------------------\n",
            "Response final:\n",
            "\n",
            "\n"
          ]
        },
        {
          "name": "stderr",
          "output_type": "stream",
          "text": [
            "<string>:5: FutureWarning: The default of observed=False is deprecated and will be changed to True in a future version of pandas. Pass observed=False to retain current behavior or observed=True to adopt the future default and silence this warning.\n",
            "\r 54%|█████▍    | 283/522 [1:03:03<38:48,  9.74s/it]"
          ]
        },
        {
          "name": "stdout",
          "output_type": "stream",
          "text": [
            "Execute code..\n",
            "------------------------------------------------------------------------------------------------------------------------------------------------------\n",
            "Response final:\n",
            "\n",
            "\n"
          ]
        },
        {
          "name": "stderr",
          "output_type": "stream",
          "text": [
            "\r 54%|█████▍    | 284/522 [1:03:06<30:51,  7.78s/it]"
          ]
        },
        {
          "name": "stdout",
          "output_type": "stream",
          "text": [
            "Execute code..\n",
            "------------------------------------------------------------------------------------------------------------------------------------------------------\n",
            "Response final:\n",
            "\n",
            "\n"
          ]
        },
        {
          "name": "stderr",
          "output_type": "stream",
          "text": [
            "<string>:5: FutureWarning: The default of observed=False is deprecated and will be changed to True in a future version of pandas. Pass observed=False to retain current behavior or observed=True to adopt the future default and silence this warning.\n",
            "\r 55%|█████▍    | 285/522 [1:03:16<33:11,  8.40s/it]"
          ]
        },
        {
          "name": "stdout",
          "output_type": "stream",
          "text": [
            "Execute code..\n",
            "------------------------------------------------------------------------------------------------------------------------------------------------------\n",
            "Response final:\n",
            "\n",
            "\n"
          ]
        },
        {
          "name": "stderr",
          "output_type": "stream",
          "text": [
            "\r 55%|█████▍    | 286/522 [1:03:20<27:11,  6.91s/it]"
          ]
        },
        {
          "name": "stdout",
          "output_type": "stream",
          "text": [
            "Execute code..\n",
            "------------------------------------------------------------------------------------------------------------------------------------------------------\n",
            "Response final:\n",
            "\n",
            "\n"
          ]
        },
        {
          "name": "stderr",
          "output_type": "stream",
          "text": [
            "\r 55%|█████▍    | 287/522 [1:03:24<24:22,  6.22s/it]"
          ]
        },
        {
          "name": "stdout",
          "output_type": "stream",
          "text": [
            "Execute code..\n",
            "------------------------------------------------------------------------------------------------------------------------------------------------------\n",
            "Response final:\n",
            "\n",
            "\n"
          ]
        },
        {
          "name": "stderr",
          "output_type": "stream",
          "text": [
            "\r 55%|█████▌    | 288/522 [1:04:27<1:30:43, 23.26s/it]"
          ]
        },
        {
          "name": "stdout",
          "output_type": "stream",
          "text": [
            "Execute code..\n",
            "------------------------------------------------------------------------------------------------------------------------------------------------------\n",
            "Response final:\n",
            "\n",
            "\n"
          ]
        },
        {
          "name": "stderr",
          "output_type": "stream",
          "text": [
            "\r 55%|█████▌    | 289/522 [1:04:43<1:21:17, 20.93s/it]"
          ]
        },
        {
          "name": "stdout",
          "output_type": "stream",
          "text": [
            "Execute code..\n",
            "------------------------------------------------------------------------------------------------------------------------------------------------------\n",
            "Response final:\n",
            "\n",
            "\n"
          ]
        },
        {
          "name": "stderr",
          "output_type": "stream",
          "text": [
            "\r 56%|█████▌    | 290/522 [1:04:53<1:08:54, 17.82s/it]"
          ]
        },
        {
          "name": "stdout",
          "output_type": "stream",
          "text": [
            "Execute code..\n",
            "------------------------------------------------------------------------------------------------------------------------------------------------------\n",
            "Response final:\n",
            "\n",
            "\n"
          ]
        },
        {
          "name": "stderr",
          "output_type": "stream",
          "text": [
            "\r 56%|█████▌    | 291/522 [1:05:07<1:03:29, 16.49s/it]"
          ]
        },
        {
          "name": "stdout",
          "output_type": "stream",
          "text": [
            "Execute code..\n",
            "------------------------------------------------------------------------------------------------------------------------------------------------------\n",
            "Response final:\n",
            "\n",
            "\n"
          ]
        },
        {
          "name": "stderr",
          "output_type": "stream",
          "text": [
            "\r 56%|█████▌    | 292/522 [1:05:19<58:09, 15.17s/it]  "
          ]
        },
        {
          "name": "stdout",
          "output_type": "stream",
          "text": [
            "Execute code..\n",
            "------------------------------------------------------------------------------------------------------------------------------------------------------\n",
            "Response final:\n",
            "\n",
            "\n"
          ]
        },
        {
          "name": "stderr",
          "output_type": "stream",
          "text": [
            "\r 56%|█████▌    | 293/522 [1:05:29<52:04, 13.64s/it]"
          ]
        },
        {
          "name": "stdout",
          "output_type": "stream",
          "text": [
            "Execute code..\n",
            "------------------------------------------------------------------------------------------------------------------------------------------------------\n",
            "Response final:\n",
            "\n",
            "\n",
            "Retrying due to exception...name 'np' is not defined\n"
          ]
        },
        {
          "name": "stderr",
          "output_type": "stream",
          "text": [
            "\r 56%|█████▋    | 294/522 [1:06:47<2:05:02, 32.90s/it]"
          ]
        },
        {
          "name": "stdout",
          "output_type": "stream",
          "text": [
            "Execute code..\n",
            "------------------------------------------------------------------------------------------------------------------------------------------------------\n",
            "Response final:\n",
            "\n"
          ]
        },
        {
          "name": "stderr",
          "output_type": "stream",
          "text": [
            "\r 57%|█████▋    | 295/522 [1:06:53<1:34:14, 24.91s/it]"
          ]
        },
        {
          "name": "stdout",
          "output_type": "stream",
          "text": [
            "Execute code..\n",
            "------------------------------------------------------------------------------------------------------------------------------------------------------\n",
            "Response final:\n",
            "\n",
            "\n",
            "Retrying due to exception...Cannot cast object dtype to float64\n"
          ]
        },
        {
          "name": "stderr",
          "output_type": "stream",
          "text": [
            "\r 57%|█████▋    | 296/522 [1:08:13<2:35:36, 41.31s/it]"
          ]
        },
        {
          "name": "stdout",
          "output_type": "stream",
          "text": [
            "Execute code..\n",
            "------------------------------------------------------------------------------------------------------------------------------------------------------\n",
            "Response final:\n",
            "\n"
          ]
        },
        {
          "name": "stderr",
          "output_type": "stream",
          "text": [
            "\r 57%|█████▋    | 297/522 [1:08:17<1:53:02, 30.15s/it]"
          ]
        },
        {
          "name": "stdout",
          "output_type": "stream",
          "text": [
            "Execute code..\n",
            "------------------------------------------------------------------------------------------------------------------------------------------------------\n",
            "Response final:\n",
            "\n",
            "\n"
          ]
        },
        {
          "name": "stderr",
          "output_type": "stream",
          "text": [
            "\r 57%|█████▋    | 298/522 [1:08:21<1:23:25, 22.35s/it]"
          ]
        },
        {
          "name": "stdout",
          "output_type": "stream",
          "text": [
            "Execute code..\n",
            "------------------------------------------------------------------------------------------------------------------------------------------------------\n",
            "Response final:\n",
            "\n",
            "\n"
          ]
        },
        {
          "name": "stderr",
          "output_type": "stream",
          "text": [
            "<string>:5: FutureWarning: The default of observed=False is deprecated and will be changed to True in a future version of pandas. Pass observed=False to retain current behavior or observed=True to adopt the future default and silence this warning.\n",
            "\r 57%|█████▋    | 299/522 [1:08:32<1:10:49, 19.06s/it]"
          ]
        },
        {
          "name": "stdout",
          "output_type": "stream",
          "text": [
            "Execute code..\n",
            "------------------------------------------------------------------------------------------------------------------------------------------------------\n",
            "Response final:\n",
            "\n",
            "\n"
          ]
        },
        {
          "name": "stderr",
          "output_type": "stream",
          "text": [
            "<string>:5: FutureWarning: The default of observed=False is deprecated and will be changed to True in a future version of pandas. Pass observed=False to retain current behavior or observed=True to adopt the future default and silence this warning.\n",
            "\r 57%|█████▋    | 300/522 [1:08:43<1:01:21, 16.58s/it]"
          ]
        },
        {
          "name": "stdout",
          "output_type": "stream",
          "text": [
            "Execute code..\n",
            "------------------------------------------------------------------------------------------------------------------------------------------------------\n",
            "Response final:\n",
            "\n",
            "\n"
          ]
        },
        {
          "name": "stderr",
          "output_type": "stream",
          "text": [
            "\r 58%|█████▊    | 301/522 [1:08:58<59:47, 16.23s/it]  "
          ]
        },
        {
          "name": "stdout",
          "output_type": "stream",
          "text": [
            "Execute code..\n",
            "------------------------------------------------------------------------------------------------------------------------------------------------------\n",
            "Response final:\n",
            "\n",
            "\n"
          ]
        },
        {
          "name": "stderr",
          "output_type": "stream",
          "text": [
            "\r 58%|█████▊    | 302/522 [1:09:13<58:02, 15.83s/it]"
          ]
        },
        {
          "name": "stdout",
          "output_type": "stream",
          "text": [
            "Execute code..\n",
            "------------------------------------------------------------------------------------------------------------------------------------------------------\n",
            "Response final:\n",
            "\n",
            "\n"
          ]
        },
        {
          "name": "stderr",
          "output_type": "stream",
          "text": [
            "\r 58%|█████▊    | 303/522 [1:09:34<1:03:27, 17.39s/it]"
          ]
        },
        {
          "name": "stdout",
          "output_type": "stream",
          "text": [
            "Execute code..\n",
            "------------------------------------------------------------------------------------------------------------------------------------------------------\n",
            "Response final:\n",
            "\n",
            "\n"
          ]
        },
        {
          "name": "stderr",
          "output_type": "stream",
          "text": [
            "\r 58%|█████▊    | 304/522 [1:09:49<1:00:10, 16.56s/it]"
          ]
        },
        {
          "name": "stdout",
          "output_type": "stream",
          "text": [
            "Execute code..\n",
            "------------------------------------------------------------------------------------------------------------------------------------------------------\n",
            "Response final:\n",
            "\n",
            "\n"
          ]
        },
        {
          "name": "stderr",
          "output_type": "stream",
          "text": [
            "<string>:3: FutureWarning: The default of observed=False is deprecated and will be changed to True in a future version of pandas. Pass observed=False to retain current behavior or observed=True to adopt the future default and silence this warning.\n",
            "\r 58%|█████▊    | 305/522 [1:09:59<53:04, 14.67s/it]  "
          ]
        },
        {
          "name": "stdout",
          "output_type": "stream",
          "text": [
            "Execute code..\n",
            "------------------------------------------------------------------------------------------------------------------------------------------------------\n",
            "Response final:\n",
            "\n",
            "\n"
          ]
        },
        {
          "name": "stderr",
          "output_type": "stream",
          "text": [
            "\r 59%|█████▊    | 306/522 [1:10:04<41:54, 11.64s/it]"
          ]
        },
        {
          "name": "stdout",
          "output_type": "stream",
          "text": [
            "Execute code..\n",
            "------------------------------------------------------------------------------------------------------------------------------------------------------\n",
            "Response final:\n",
            "\n",
            "\n"
          ]
        },
        {
          "name": "stderr",
          "output_type": "stream",
          "text": [
            "\r 59%|█████▉    | 307/522 [1:10:10<35:32,  9.92s/it]"
          ]
        },
        {
          "name": "stdout",
          "output_type": "stream",
          "text": [
            "Execute code..\n",
            "------------------------------------------------------------------------------------------------------------------------------------------------------\n",
            "Response final:\n",
            "\n",
            "\n"
          ]
        },
        {
          "name": "stderr",
          "output_type": "stream",
          "text": [
            "\r 59%|█████▉    | 308/522 [1:10:14<29:06,  8.16s/it]"
          ]
        },
        {
          "name": "stdout",
          "output_type": "stream",
          "text": [
            "Execute code..\n",
            "------------------------------------------------------------------------------------------------------------------------------------------------------\n",
            "Response final:\n",
            "\n",
            "\n"
          ]
        },
        {
          "name": "stderr",
          "output_type": "stream",
          "text": [
            "\r 59%|█████▉    | 309/522 [1:10:19<26:16,  7.40s/it]"
          ]
        },
        {
          "name": "stdout",
          "output_type": "stream",
          "text": [
            "Execute code..\n",
            "------------------------------------------------------------------------------------------------------------------------------------------------------\n",
            "Response final:\n",
            "\n",
            "\n"
          ]
        },
        {
          "name": "stderr",
          "output_type": "stream",
          "text": [
            "\r 59%|█████▉    | 310/522 [1:10:29<28:31,  8.07s/it]"
          ]
        },
        {
          "name": "stdout",
          "output_type": "stream",
          "text": [
            "Execute code..\n",
            "------------------------------------------------------------------------------------------------------------------------------------------------------\n",
            "Response final:\n",
            "\n",
            "\n"
          ]
        },
        {
          "name": "stderr",
          "output_type": "stream",
          "text": [
            "\r 60%|█████▉    | 311/522 [1:10:36<26:52,  7.64s/it]"
          ]
        },
        {
          "name": "stdout",
          "output_type": "stream",
          "text": [
            "Execute code..\n",
            "------------------------------------------------------------------------------------------------------------------------------------------------------\n",
            "Response final:\n",
            "\n",
            "\n"
          ]
        },
        {
          "name": "stderr",
          "output_type": "stream",
          "text": [
            "\r 60%|█████▉    | 312/522 [1:10:44<27:29,  7.85s/it]"
          ]
        },
        {
          "name": "stdout",
          "output_type": "stream",
          "text": [
            "Execute code..\n",
            "------------------------------------------------------------------------------------------------------------------------------------------------------\n",
            "Response final:\n",
            "\n",
            "\n"
          ]
        },
        {
          "name": "stderr",
          "output_type": "stream",
          "text": [
            "\r 60%|█████▉    | 313/522 [1:10:49<24:45,  7.11s/it]"
          ]
        },
        {
          "name": "stdout",
          "output_type": "stream",
          "text": [
            "Execute code..\n",
            "------------------------------------------------------------------------------------------------------------------------------------------------------\n",
            "Response final:\n",
            "\n",
            "\n"
          ]
        },
        {
          "name": "stderr",
          "output_type": "stream",
          "text": [
            "\r 60%|██████    | 314/522 [1:10:58<25:42,  7.42s/it]"
          ]
        },
        {
          "name": "stdout",
          "output_type": "stream",
          "text": [
            "Execute code..\n",
            "------------------------------------------------------------------------------------------------------------------------------------------------------\n",
            "Response final:\n",
            "\n",
            "\n"
          ]
        },
        {
          "name": "stderr",
          "output_type": "stream",
          "text": [
            "\r 60%|██████    | 315/522 [1:11:04<24:40,  7.15s/it]"
          ]
        },
        {
          "name": "stdout",
          "output_type": "stream",
          "text": [
            "Execute code..\n",
            "------------------------------------------------------------------------------------------------------------------------------------------------------\n",
            "Response final:\n",
            "\n",
            "\n"
          ]
        },
        {
          "name": "stderr",
          "output_type": "stream",
          "text": [
            "\r 61%|██████    | 316/522 [1:11:14<26:58,  7.86s/it]"
          ]
        },
        {
          "name": "stdout",
          "output_type": "stream",
          "text": [
            "Execute code..\n",
            "------------------------------------------------------------------------------------------------------------------------------------------------------\n",
            "Response final:\n",
            "\n",
            "\n"
          ]
        },
        {
          "name": "stderr",
          "output_type": "stream",
          "text": [
            "<string>:3: FutureWarning: The default of observed=False is deprecated and will be changed to True in a future version of pandas. Pass observed=False to retain current behavior or observed=True to adopt the future default and silence this warning.\n",
            "\r 61%|██████    | 317/522 [1:11:23<28:32,  8.35s/it]"
          ]
        },
        {
          "name": "stdout",
          "output_type": "stream",
          "text": [
            "Execute code..\n",
            "------------------------------------------------------------------------------------------------------------------------------------------------------\n",
            "Response final:\n",
            "\n",
            "\n"
          ]
        },
        {
          "name": "stderr",
          "output_type": "stream",
          "text": [
            "\r 61%|██████    | 318/522 [1:11:30<26:55,  7.92s/it]"
          ]
        },
        {
          "name": "stdout",
          "output_type": "stream",
          "text": [
            "Execute code..\n",
            "------------------------------------------------------------------------------------------------------------------------------------------------------\n",
            "Response final:\n",
            "\n",
            "\n"
          ]
        },
        {
          "name": "stderr",
          "output_type": "stream",
          "text": [
            "<string>:3: FutureWarning: The default of observed=False is deprecated and will be changed to True in a future version of pandas. Pass observed=False to retain current behavior or observed=True to adopt the future default and silence this warning.\n",
            "\r 61%|██████    | 319/522 [1:11:37<26:09,  7.73s/it]"
          ]
        },
        {
          "name": "stdout",
          "output_type": "stream",
          "text": [
            "Execute code..\n",
            "------------------------------------------------------------------------------------------------------------------------------------------------------\n",
            "Response final:\n",
            "\n",
            "\n"
          ]
        },
        {
          "name": "stderr",
          "output_type": "stream",
          "text": [
            "<string>:3: FutureWarning: The default of observed=False is deprecated and will be changed to True in a future version of pandas. Pass observed=False to retain current behavior or observed=True to adopt the future default and silence this warning.\n",
            "\r 61%|██████▏   | 320/522 [1:11:46<26:39,  7.92s/it]"
          ]
        },
        {
          "name": "stdout",
          "output_type": "stream",
          "text": [
            "Execute code..\n",
            "------------------------------------------------------------------------------------------------------------------------------------------------------\n",
            "Response final:\n",
            "\n",
            "\n"
          ]
        },
        {
          "name": "stderr",
          "output_type": "stream",
          "text": [
            "<string>:3: FutureWarning: The default of observed=False is deprecated and will be changed to True in a future version of pandas. Pass observed=False to retain current behavior or observed=True to adopt the future default and silence this warning.\n",
            "\r 61%|██████▏   | 321/522 [1:11:54<26:49,  8.01s/it]"
          ]
        },
        {
          "name": "stdout",
          "output_type": "stream",
          "text": [
            "Execute code..\n",
            "------------------------------------------------------------------------------------------------------------------------------------------------------\n",
            "Response final:\n",
            "\n",
            "\n"
          ]
        },
        {
          "name": "stderr",
          "output_type": "stream",
          "text": [
            "\r 62%|██████▏   | 322/522 [1:12:01<25:46,  7.73s/it]"
          ]
        },
        {
          "name": "stdout",
          "output_type": "stream",
          "text": [
            "Execute code..\n",
            "------------------------------------------------------------------------------------------------------------------------------------------------------\n",
            "Response final:\n",
            "\n",
            "\n"
          ]
        },
        {
          "name": "stderr",
          "output_type": "stream",
          "text": [
            "\r 62%|██████▏   | 323/522 [1:12:05<22:21,  6.74s/it]"
          ]
        },
        {
          "name": "stdout",
          "output_type": "stream",
          "text": [
            "Execute code..\n",
            "------------------------------------------------------------------------------------------------------------------------------------------------------\n",
            "Response final:\n",
            "\n",
            "\n"
          ]
        },
        {
          "name": "stderr",
          "output_type": "stream",
          "text": [
            "\r 62%|██████▏   | 324/522 [1:12:12<22:21,  6.77s/it]"
          ]
        },
        {
          "name": "stdout",
          "output_type": "stream",
          "text": [
            "Execute code..\n",
            "------------------------------------------------------------------------------------------------------------------------------------------------------\n",
            "Response final:\n",
            "\n",
            "\n"
          ]
        },
        {
          "name": "stderr",
          "output_type": "stream",
          "text": [
            "\r 62%|██████▏   | 325/522 [1:12:16<19:41,  6.00s/it]"
          ]
        },
        {
          "name": "stdout",
          "output_type": "stream",
          "text": [
            "Execute code..\n",
            "------------------------------------------------------------------------------------------------------------------------------------------------------\n",
            "Response final:\n",
            "\n",
            "\n"
          ]
        },
        {
          "name": "stderr",
          "output_type": "stream",
          "text": [
            "\r 62%|██████▏   | 326/522 [1:12:20<17:21,  5.32s/it]"
          ]
        },
        {
          "name": "stdout",
          "output_type": "stream",
          "text": [
            "Execute code..\n",
            "------------------------------------------------------------------------------------------------------------------------------------------------------\n",
            "Response final:\n",
            "\n",
            "\n"
          ]
        },
        {
          "name": "stderr",
          "output_type": "stream",
          "text": [
            "\r 63%|██████▎   | 327/522 [1:12:27<18:39,  5.74s/it]"
          ]
        },
        {
          "name": "stdout",
          "output_type": "stream",
          "text": [
            "Execute code..\n",
            "------------------------------------------------------------------------------------------------------------------------------------------------------\n",
            "Response final:\n",
            "\n",
            "\n"
          ]
        },
        {
          "name": "stderr",
          "output_type": "stream",
          "text": [
            "\r 63%|██████▎   | 328/522 [1:12:33<19:23,  6.00s/it]"
          ]
        },
        {
          "name": "stdout",
          "output_type": "stream",
          "text": [
            "Execute code..\n",
            "------------------------------------------------------------------------------------------------------------------------------------------------------\n",
            "Response final:\n",
            "\n",
            "\n"
          ]
        },
        {
          "name": "stderr",
          "output_type": "stream",
          "text": [
            "\r 63%|██████▎   | 329/522 [1:12:39<18:37,  5.79s/it]"
          ]
        },
        {
          "name": "stdout",
          "output_type": "stream",
          "text": [
            "Execute code..\n",
            "------------------------------------------------------------------------------------------------------------------------------------------------------\n",
            "Response final:\n",
            "\n",
            "\n"
          ]
        },
        {
          "name": "stderr",
          "output_type": "stream",
          "text": [
            "\r 63%|██████▎   | 330/522 [1:12:44<18:21,  5.74s/it]"
          ]
        },
        {
          "name": "stdout",
          "output_type": "stream",
          "text": [
            "Execute code..\n",
            "------------------------------------------------------------------------------------------------------------------------------------------------------\n",
            "Response final:\n",
            "\n",
            "\n"
          ]
        },
        {
          "name": "stderr",
          "output_type": "stream",
          "text": [
            "\r 63%|██████▎   | 331/522 [1:12:53<21:00,  6.60s/it]"
          ]
        },
        {
          "name": "stdout",
          "output_type": "stream",
          "text": [
            "Execute code..\n",
            "------------------------------------------------------------------------------------------------------------------------------------------------------\n",
            "Response final:\n",
            "\n",
            "\n"
          ]
        },
        {
          "name": "stderr",
          "output_type": "stream",
          "text": [
            "\r 64%|██████▎   | 332/522 [1:13:06<27:12,  8.59s/it]"
          ]
        },
        {
          "name": "stdout",
          "output_type": "stream",
          "text": [
            "Execute code..\n",
            "------------------------------------------------------------------------------------------------------------------------------------------------------\n",
            "Response final:\n",
            "\n",
            "\n"
          ]
        },
        {
          "name": "stderr",
          "output_type": "stream",
          "text": [
            "<string>:6: SettingWithCopyWarning: \n",
            "A value is trying to be set on a copy of a slice from a DataFrame.\n",
            "Try using .loc[row_indexer,col_indexer] = value instead\n",
            "\n",
            "See the caveats in the documentation: https://pandas.pydata.org/pandas-docs/stable/user_guide/indexing.html#returning-a-view-versus-a-copy\n",
            "\r 64%|██████▍   | 333/522 [1:13:17<29:19,  9.31s/it]"
          ]
        },
        {
          "name": "stdout",
          "output_type": "stream",
          "text": [
            "Execute code..\n",
            "------------------------------------------------------------------------------------------------------------------------------------------------------\n",
            "Response final:\n",
            "\n",
            "\n"
          ]
        },
        {
          "name": "stderr",
          "output_type": "stream",
          "text": [
            "\r 64%|██████▍   | 334/522 [1:13:31<33:12, 10.60s/it]"
          ]
        },
        {
          "name": "stdout",
          "output_type": "stream",
          "text": [
            "Execute code..\n",
            "------------------------------------------------------------------------------------------------------------------------------------------------------\n",
            "Response final:\n",
            "\n",
            "\n"
          ]
        },
        {
          "name": "stderr",
          "output_type": "stream",
          "text": [
            "\r 64%|██████▍   | 335/522 [1:13:39<30:22,  9.75s/it]"
          ]
        },
        {
          "name": "stdout",
          "output_type": "stream",
          "text": [
            "Execute code..\n",
            "------------------------------------------------------------------------------------------------------------------------------------------------------\n",
            "Response final:\n",
            "\n",
            "\n"
          ]
        },
        {
          "name": "stderr",
          "output_type": "stream",
          "text": [
            "<string>:3: FutureWarning: The default of observed=False is deprecated and will be changed to True in a future version of pandas. Pass observed=False to retain current behavior or observed=True to adopt the future default and silence this warning.\n",
            "\r 64%|██████▍   | 336/522 [1:13:49<31:09, 10.05s/it]"
          ]
        },
        {
          "name": "stdout",
          "output_type": "stream",
          "text": [
            "Execute code..\n",
            "------------------------------------------------------------------------------------------------------------------------------------------------------\n",
            "Response final:\n",
            "\n",
            "\n"
          ]
        },
        {
          "name": "stderr",
          "output_type": "stream",
          "text": [
            "\r 65%|██████▍   | 337/522 [1:13:57<29:08,  9.45s/it]"
          ]
        },
        {
          "name": "stdout",
          "output_type": "stream",
          "text": [
            "Execute code..\n",
            "------------------------------------------------------------------------------------------------------------------------------------------------------\n",
            "Response final:\n",
            "\n",
            "\n"
          ]
        },
        {
          "name": "stderr",
          "output_type": "stream",
          "text": [
            "\r 65%|██████▍   | 338/522 [1:14:02<24:51,  8.10s/it]"
          ]
        },
        {
          "name": "stdout",
          "output_type": "stream",
          "text": [
            "Execute code..\n",
            "------------------------------------------------------------------------------------------------------------------------------------------------------\n",
            "Response final:\n",
            "\n",
            "\n"
          ]
        },
        {
          "name": "stderr",
          "output_type": "stream",
          "text": [
            "\r 65%|██████▍   | 339/522 [1:14:07<21:50,  7.16s/it]"
          ]
        },
        {
          "name": "stdout",
          "output_type": "stream",
          "text": [
            "Execute code..\n",
            "------------------------------------------------------------------------------------------------------------------------------------------------------\n",
            "Response final:\n",
            "\n",
            "\n"
          ]
        },
        {
          "name": "stderr",
          "output_type": "stream",
          "text": [
            "\r 65%|██████▌   | 340/522 [1:14:13<20:46,  6.85s/it]"
          ]
        },
        {
          "name": "stdout",
          "output_type": "stream",
          "text": [
            "Execute code..\n",
            "------------------------------------------------------------------------------------------------------------------------------------------------------\n",
            "Response final:\n",
            "\n",
            "\n"
          ]
        },
        {
          "name": "stderr",
          "output_type": "stream",
          "text": [
            "\r 65%|██████▌   | 341/522 [1:14:18<18:56,  6.28s/it]"
          ]
        },
        {
          "name": "stdout",
          "output_type": "stream",
          "text": [
            "Execute code..\n",
            "------------------------------------------------------------------------------------------------------------------------------------------------------\n",
            "Response final:\n",
            "\n",
            "\n"
          ]
        },
        {
          "name": "stderr",
          "output_type": "stream",
          "text": [
            "\r 66%|██████▌   | 342/522 [1:14:23<17:39,  5.88s/it]"
          ]
        },
        {
          "name": "stdout",
          "output_type": "stream",
          "text": [
            "Execute code..\n",
            "------------------------------------------------------------------------------------------------------------------------------------------------------\n",
            "Response final:\n",
            "\n",
            "\n"
          ]
        },
        {
          "name": "stderr",
          "output_type": "stream",
          "text": [
            "\r 66%|██████▌   | 343/522 [1:14:28<16:36,  5.57s/it]"
          ]
        },
        {
          "name": "stdout",
          "output_type": "stream",
          "text": [
            "Execute code..\n",
            "------------------------------------------------------------------------------------------------------------------------------------------------------\n",
            "Response final:\n",
            "\n",
            "\n"
          ]
        },
        {
          "name": "stderr",
          "output_type": "stream",
          "text": [
            "\r 66%|██████▌   | 344/522 [1:14:36<18:29,  6.23s/it]"
          ]
        },
        {
          "name": "stdout",
          "output_type": "stream",
          "text": [
            "Execute code..\n",
            "------------------------------------------------------------------------------------------------------------------------------------------------------\n",
            "Response final:\n",
            "\n",
            "\n"
          ]
        },
        {
          "name": "stderr",
          "output_type": "stream",
          "text": [
            "\r 66%|██████▌   | 345/522 [1:14:45<20:35,  6.98s/it]"
          ]
        },
        {
          "name": "stdout",
          "output_type": "stream",
          "text": [
            "Execute code..\n",
            "------------------------------------------------------------------------------------------------------------------------------------------------------\n",
            "Response final:\n",
            "\n",
            "\n"
          ]
        },
        {
          "name": "stderr",
          "output_type": "stream",
          "text": [
            "\r 66%|██████▋   | 346/522 [1:15:00<27:49,  9.49s/it]"
          ]
        },
        {
          "name": "stdout",
          "output_type": "stream",
          "text": [
            "Execute code..\n",
            "------------------------------------------------------------------------------------------------------------------------------------------------------\n",
            "Response final:\n",
            "\n",
            "\n"
          ]
        },
        {
          "name": "stderr",
          "output_type": "stream",
          "text": [
            "\r 66%|██████▋   | 347/522 [1:15:14<31:54, 10.94s/it]"
          ]
        },
        {
          "name": "stdout",
          "output_type": "stream",
          "text": [
            "Execute code..\n",
            "------------------------------------------------------------------------------------------------------------------------------------------------------\n",
            "Response final:\n",
            "\n",
            "\n"
          ]
        },
        {
          "name": "stderr",
          "output_type": "stream",
          "text": [
            "<string>:2: FutureWarning: The default of observed=False is deprecated and will be changed to True in a future version of pandas. Pass observed=False to retain current behavior or observed=True to adopt the future default and silence this warning.\n",
            "\r 67%|██████▋   | 348/522 [1:15:19<26:40,  9.20s/it]"
          ]
        },
        {
          "name": "stdout",
          "output_type": "stream",
          "text": [
            "Execute code..\n",
            "------------------------------------------------------------------------------------------------------------------------------------------------------\n",
            "Response final:\n",
            "\n",
            "\n"
          ]
        },
        {
          "name": "stderr",
          "output_type": "stream",
          "text": [
            "\r 67%|██████▋   | 349/522 [1:15:39<35:07, 12.18s/it]"
          ]
        },
        {
          "name": "stdout",
          "output_type": "stream",
          "text": [
            "Execute code..\n",
            "------------------------------------------------------------------------------------------------------------------------------------------------------\n",
            "Response final:\n",
            "\n",
            "\n"
          ]
        },
        {
          "name": "stderr",
          "output_type": "stream",
          "text": [
            "<string>:3: FutureWarning: The default of observed=False is deprecated and will be changed to True in a future version of pandas. Pass observed=False to retain current behavior or observed=True to adopt the future default and silence this warning.\n",
            "\r 67%|██████▋   | 350/522 [1:15:50<34:02, 11.88s/it]"
          ]
        },
        {
          "name": "stdout",
          "output_type": "stream",
          "text": [
            "Execute code..\n",
            "------------------------------------------------------------------------------------------------------------------------------------------------------\n",
            "Response final:\n",
            "\n",
            "\n",
            "Retrying due to exception...attempt to get argmax of an empty sequence\n"
          ]
        },
        {
          "name": "stderr",
          "output_type": "stream",
          "text": [
            "\r 67%|██████▋   | 351/522 [1:17:16<1:37:18, 34.14s/it]"
          ]
        },
        {
          "name": "stdout",
          "output_type": "stream",
          "text": [
            "Retrying due to exception...attempt to get argmax of an empty sequence\n",
            "------------------------------------------------------------------------------------------------------------------------------------------------------\n",
            "Response final:\n",
            "\n"
          ]
        },
        {
          "name": "stderr",
          "output_type": "stream",
          "text": [
            "\r 67%|██████▋   | 352/522 [1:17:28<1:17:39, 27.41s/it]"
          ]
        },
        {
          "name": "stdout",
          "output_type": "stream",
          "text": [
            "Execute code..\n",
            "------------------------------------------------------------------------------------------------------------------------------------------------------\n",
            "Response final:\n",
            "\n",
            "\n",
            "Retrying due to exception...attempt to get argmax of an empty sequence\n"
          ]
        },
        {
          "name": "stderr",
          "output_type": "stream",
          "text": [
            "\r 68%|██████▊   | 353/522 [1:18:07<1:27:42, 31.14s/it]"
          ]
        },
        {
          "name": "stdout",
          "output_type": "stream",
          "text": [
            "Execute code..\n",
            "------------------------------------------------------------------------------------------------------------------------------------------------------\n",
            "Response final:\n",
            "\n"
          ]
        },
        {
          "name": "stderr",
          "output_type": "stream",
          "text": [
            "\r 68%|██████▊   | 354/522 [1:18:14<1:06:23, 23.71s/it]"
          ]
        },
        {
          "name": "stdout",
          "output_type": "stream",
          "text": [
            "Execute code..\n",
            "------------------------------------------------------------------------------------------------------------------------------------------------------\n",
            "Response final:\n",
            "\n",
            "\n"
          ]
        },
        {
          "name": "stderr",
          "output_type": "stream",
          "text": [
            "\r 68%|██████▊   | 355/522 [1:18:24<54:20, 19.52s/it]  "
          ]
        },
        {
          "name": "stdout",
          "output_type": "stream",
          "text": [
            "Execute code..\n",
            "------------------------------------------------------------------------------------------------------------------------------------------------------\n",
            "Response final:\n",
            "\n",
            "\n"
          ]
        },
        {
          "name": "stderr",
          "output_type": "stream",
          "text": [
            "\r 68%|██████▊   | 356/522 [1:18:31<44:24, 16.05s/it]"
          ]
        },
        {
          "name": "stdout",
          "output_type": "stream",
          "text": [
            "Execute code..\n",
            "------------------------------------------------------------------------------------------------------------------------------------------------------\n",
            "Response final:\n",
            "\n",
            "\n"
          ]
        },
        {
          "name": "stderr",
          "output_type": "stream",
          "text": [
            "\r 68%|██████▊   | 357/522 [1:18:41<38:50, 14.12s/it]"
          ]
        },
        {
          "name": "stdout",
          "output_type": "stream",
          "text": [
            "Execute code..\n",
            "------------------------------------------------------------------------------------------------------------------------------------------------------\n",
            "Response final:\n",
            "\n",
            "\n"
          ]
        },
        {
          "name": "stderr",
          "output_type": "stream",
          "text": [
            "\r 69%|██████▊   | 358/522 [1:18:56<39:36, 14.49s/it]"
          ]
        },
        {
          "name": "stdout",
          "output_type": "stream",
          "text": [
            "Execute code..\n",
            "------------------------------------------------------------------------------------------------------------------------------------------------------\n",
            "Response final:\n",
            "\n",
            "\n"
          ]
        },
        {
          "name": "stderr",
          "output_type": "stream",
          "text": [
            "\r 69%|██████▉   | 359/522 [1:19:08<36:45, 13.53s/it]"
          ]
        },
        {
          "name": "stdout",
          "output_type": "stream",
          "text": [
            "Execute code..\n",
            "------------------------------------------------------------------------------------------------------------------------------------------------------\n",
            "Response final:\n",
            "\n",
            "\n"
          ]
        },
        {
          "name": "stderr",
          "output_type": "stream",
          "text": [
            "\r 69%|██████▉   | 360/522 [1:19:13<29:54, 11.07s/it]"
          ]
        },
        {
          "name": "stdout",
          "output_type": "stream",
          "text": [
            "Execute code..\n",
            "------------------------------------------------------------------------------------------------------------------------------------------------------\n",
            "Response final:\n",
            "\n",
            "\n"
          ]
        },
        {
          "name": "stderr",
          "output_type": "stream",
          "text": [
            "\r 69%|██████▉   | 361/522 [1:19:19<25:24,  9.47s/it]"
          ]
        },
        {
          "name": "stdout",
          "output_type": "stream",
          "text": [
            "Execute code..\n",
            "------------------------------------------------------------------------------------------------------------------------------------------------------\n",
            "Response final:\n",
            "\n",
            "\n"
          ]
        },
        {
          "name": "stderr",
          "output_type": "stream",
          "text": [
            "\r 69%|██████▉   | 362/522 [1:19:25<22:40,  8.50s/it]"
          ]
        },
        {
          "name": "stdout",
          "output_type": "stream",
          "text": [
            "Execute code..\n",
            "------------------------------------------------------------------------------------------------------------------------------------------------------\n",
            "Response final:\n",
            "\n",
            "\n"
          ]
        },
        {
          "name": "stderr",
          "output_type": "stream",
          "text": [
            "\r 70%|██████▉   | 363/522 [1:19:31<20:14,  7.64s/it]"
          ]
        },
        {
          "name": "stdout",
          "output_type": "stream",
          "text": [
            "Execute code..\n",
            "------------------------------------------------------------------------------------------------------------------------------------------------------\n",
            "Response final:\n",
            "\n",
            "\n"
          ]
        },
        {
          "name": "stderr",
          "output_type": "stream",
          "text": [
            "\r 70%|██████▉   | 364/522 [1:19:36<18:30,  7.03s/it]"
          ]
        },
        {
          "name": "stdout",
          "output_type": "stream",
          "text": [
            "Execute code..\n",
            "------------------------------------------------------------------------------------------------------------------------------------------------------\n",
            "Response final:\n",
            "\n",
            "\n"
          ]
        },
        {
          "name": "stderr",
          "output_type": "stream",
          "text": [
            "\r 70%|██████▉   | 365/522 [1:19:43<17:46,  6.79s/it]"
          ]
        },
        {
          "name": "stdout",
          "output_type": "stream",
          "text": [
            "Execute code..\n",
            "------------------------------------------------------------------------------------------------------------------------------------------------------\n",
            "Response final:\n",
            "\n",
            "\n"
          ]
        },
        {
          "name": "stderr",
          "output_type": "stream",
          "text": [
            "\r 70%|███████   | 366/522 [1:19:48<16:56,  6.52s/it]"
          ]
        },
        {
          "name": "stdout",
          "output_type": "stream",
          "text": [
            "Execute code..\n",
            "------------------------------------------------------------------------------------------------------------------------------------------------------\n",
            "Response final:\n",
            "\n",
            "\n"
          ]
        },
        {
          "name": "stderr",
          "output_type": "stream",
          "text": [
            "\r 70%|███████   | 367/522 [1:19:54<16:07,  6.24s/it]"
          ]
        },
        {
          "name": "stdout",
          "output_type": "stream",
          "text": [
            "Execute code..\n",
            "------------------------------------------------------------------------------------------------------------------------------------------------------\n",
            "Response final:\n",
            "\n",
            "\n"
          ]
        },
        {
          "name": "stderr",
          "output_type": "stream",
          "text": [
            "\r 70%|███████   | 368/522 [1:20:00<15:50,  6.17s/it]"
          ]
        },
        {
          "name": "stdout",
          "output_type": "stream",
          "text": [
            "Execute code..\n",
            "------------------------------------------------------------------------------------------------------------------------------------------------------\n",
            "Response final:\n",
            "\n",
            "\n"
          ]
        },
        {
          "name": "stderr",
          "output_type": "stream",
          "text": [
            "<string>:3: FutureWarning: The default of observed=False is deprecated and will be changed to True in a future version of pandas. Pass observed=False to retain current behavior or observed=True to adopt the future default and silence this warning.\n",
            "\r 71%|███████   | 369/522 [1:20:13<20:57,  8.22s/it]"
          ]
        },
        {
          "name": "stdout",
          "output_type": "stream",
          "text": [
            "Execute code..\n",
            "------------------------------------------------------------------------------------------------------------------------------------------------------\n",
            "Response final:\n",
            "\n",
            "\n"
          ]
        },
        {
          "name": "stderr",
          "output_type": "stream",
          "text": [
            "<string>:3: FutureWarning: The default of observed=False is deprecated and will be changed to True in a future version of pandas. Pass observed=False to retain current behavior or observed=True to adopt the future default and silence this warning.\n",
            "\r 71%|███████   | 370/522 [1:20:26<24:20,  9.61s/it]"
          ]
        },
        {
          "name": "stdout",
          "output_type": "stream",
          "text": [
            "Execute code..\n",
            "------------------------------------------------------------------------------------------------------------------------------------------------------\n",
            "Response final:\n",
            "\n",
            "\n"
          ]
        },
        {
          "name": "stderr",
          "output_type": "stream",
          "text": [
            "\r 71%|███████   | 371/522 [1:20:32<21:28,  8.53s/it]"
          ]
        },
        {
          "name": "stdout",
          "output_type": "stream",
          "text": [
            "Execute code..\n",
            "------------------------------------------------------------------------------------------------------------------------------------------------------\n",
            "Response final:\n",
            "\n",
            "\n"
          ]
        },
        {
          "name": "stderr",
          "output_type": "stream",
          "text": [
            "\r 71%|███████▏  | 372/522 [1:20:38<19:19,  7.73s/it]"
          ]
        },
        {
          "name": "stdout",
          "output_type": "stream",
          "text": [
            "Execute code..\n",
            "------------------------------------------------------------------------------------------------------------------------------------------------------\n",
            "Response final:\n",
            "\n",
            "\n"
          ]
        },
        {
          "name": "stderr",
          "output_type": "stream",
          "text": [
            "\r 71%|███████▏  | 373/522 [1:20:52<24:08,  9.72s/it]"
          ]
        },
        {
          "name": "stdout",
          "output_type": "stream",
          "text": [
            "Execute code..\n",
            "------------------------------------------------------------------------------------------------------------------------------------------------------\n",
            "Response final:\n",
            "\n",
            "\n"
          ]
        },
        {
          "name": "stderr",
          "output_type": "stream",
          "text": [
            "\r 72%|███████▏  | 374/522 [1:21:38<50:27, 20.46s/it]"
          ]
        },
        {
          "name": "stdout",
          "output_type": "stream",
          "text": [
            "True\n",
            "Execute code..\n",
            "------------------------------------------------------------------------------------------------------------------------------------------------------\n",
            "Response final:\n",
            "\n",
            "\n"
          ]
        },
        {
          "name": "stderr",
          "output_type": "stream",
          "text": [
            "\r 72%|███████▏  | 375/522 [1:22:18<1:04:48, 26.45s/it]"
          ]
        },
        {
          "name": "stdout",
          "output_type": "stream",
          "text": [
            "Execute code..\n",
            "------------------------------------------------------------------------------------------------------------------------------------------------------\n",
            "Response final:\n",
            "\n",
            "\n"
          ]
        },
        {
          "name": "stderr",
          "output_type": "stream",
          "text": [
            "\r 72%|███████▏  | 376/522 [1:22:23<48:48, 20.06s/it]  "
          ]
        },
        {
          "name": "stdout",
          "output_type": "stream",
          "text": [
            "Execute code..\n",
            "------------------------------------------------------------------------------------------------------------------------------------------------------\n",
            "Response final:\n",
            "\n",
            "\n"
          ]
        },
        {
          "name": "stderr",
          "output_type": "stream",
          "text": [
            "\r 72%|███████▏  | 377/522 [1:22:28<37:25, 15.48s/it]"
          ]
        },
        {
          "name": "stdout",
          "output_type": "stream",
          "text": [
            "Execute code..\n",
            "------------------------------------------------------------------------------------------------------------------------------------------------------\n",
            "Response final:\n",
            "\n",
            "\n"
          ]
        },
        {
          "name": "stderr",
          "output_type": "stream",
          "text": [
            "\r 72%|███████▏  | 378/522 [1:22:33<29:34, 12.32s/it]"
          ]
        },
        {
          "name": "stdout",
          "output_type": "stream",
          "text": [
            "Execute code..\n",
            "------------------------------------------------------------------------------------------------------------------------------------------------------\n",
            "Response final:\n",
            "\n",
            "\n"
          ]
        },
        {
          "name": "stderr",
          "output_type": "stream",
          "text": [
            "\r 73%|███████▎  | 379/522 [1:22:59<39:29, 16.57s/it]"
          ]
        },
        {
          "name": "stdout",
          "output_type": "stream",
          "text": [
            "Execute code..\n",
            "------------------------------------------------------------------------------------------------------------------------------------------------------\n",
            "Response final:\n",
            "\n",
            "\n"
          ]
        },
        {
          "name": "stderr",
          "output_type": "stream",
          "text": [
            "\r 73%|███████▎  | 380/522 [1:23:04<30:58, 13.09s/it]"
          ]
        },
        {
          "name": "stdout",
          "output_type": "stream",
          "text": [
            "Execute code..\n",
            "------------------------------------------------------------------------------------------------------------------------------------------------------\n",
            "Response final:\n",
            "\n",
            "\n"
          ]
        },
        {
          "name": "stderr",
          "output_type": "stream",
          "text": [
            "\r 73%|███████▎  | 381/522 [1:23:12<27:01, 11.50s/it]"
          ]
        },
        {
          "name": "stdout",
          "output_type": "stream",
          "text": [
            "Execute code..\n",
            "------------------------------------------------------------------------------------------------------------------------------------------------------\n",
            "Response final:\n",
            "\n",
            "\n"
          ]
        },
        {
          "name": "stderr",
          "output_type": "stream",
          "text": [
            "\r 73%|███████▎  | 382/522 [1:23:17<22:08,  9.49s/it]"
          ]
        },
        {
          "name": "stdout",
          "output_type": "stream",
          "text": [
            "Execute code..\n",
            "------------------------------------------------------------------------------------------------------------------------------------------------------\n",
            "Response final:\n",
            "\n",
            "\n"
          ]
        },
        {
          "name": "stderr",
          "output_type": "stream",
          "text": [
            "\r 73%|███████▎  | 383/522 [1:23:22<18:51,  8.14s/it]"
          ]
        },
        {
          "name": "stdout",
          "output_type": "stream",
          "text": [
            "Execute code..\n",
            "------------------------------------------------------------------------------------------------------------------------------------------------------\n",
            "Response final:\n",
            "\n",
            "\n"
          ]
        },
        {
          "name": "stderr",
          "output_type": "stream",
          "text": [
            "\r 74%|███████▎  | 384/522 [1:23:27<16:35,  7.21s/it]"
          ]
        },
        {
          "name": "stdout",
          "output_type": "stream",
          "text": [
            "Execute code..\n",
            "------------------------------------------------------------------------------------------------------------------------------------------------------\n",
            "Response final:\n",
            "\n",
            "\n"
          ]
        },
        {
          "name": "stderr",
          "output_type": "stream",
          "text": [
            "\r 74%|███████▍  | 385/522 [1:23:35<16:52,  7.39s/it]"
          ]
        },
        {
          "name": "stdout",
          "output_type": "stream",
          "text": [
            "Execute code..\n",
            "------------------------------------------------------------------------------------------------------------------------------------------------------\n",
            "Response final:\n",
            "\n",
            "\n"
          ]
        },
        {
          "name": "stderr",
          "output_type": "stream",
          "text": [
            "\r 74%|███████▍  | 386/522 [1:23:40<15:04,  6.65s/it]"
          ]
        },
        {
          "name": "stdout",
          "output_type": "stream",
          "text": [
            "Execute code..\n",
            "------------------------------------------------------------------------------------------------------------------------------------------------------\n",
            "Response final:\n",
            "\n",
            "\n"
          ]
        },
        {
          "name": "stderr",
          "output_type": "stream",
          "text": [
            "\r 74%|███████▍  | 387/522 [1:23:44<13:33,  6.02s/it]"
          ]
        },
        {
          "name": "stdout",
          "output_type": "stream",
          "text": [
            "Execute code..\n",
            "------------------------------------------------------------------------------------------------------------------------------------------------------\n",
            "Response final:\n",
            "\n",
            "\n"
          ]
        },
        {
          "name": "stderr",
          "output_type": "stream",
          "text": [
            "\r 74%|███████▍  | 388/522 [1:23:54<16:08,  7.23s/it]"
          ]
        },
        {
          "name": "stdout",
          "output_type": "stream",
          "text": [
            "Execute code..\n",
            "------------------------------------------------------------------------------------------------------------------------------------------------------\n",
            "Response final:\n",
            "\n",
            "\n"
          ]
        },
        {
          "name": "stderr",
          "output_type": "stream",
          "text": [
            "\r 75%|███████▍  | 389/522 [1:24:00<14:52,  6.71s/it]"
          ]
        },
        {
          "name": "stdout",
          "output_type": "stream",
          "text": [
            "Execute code..\n",
            "------------------------------------------------------------------------------------------------------------------------------------------------------\n",
            "Response final:\n",
            "\n",
            "\n"
          ]
        },
        {
          "name": "stderr",
          "output_type": "stream",
          "text": [
            "\r 75%|███████▍  | 390/522 [1:24:04<13:12,  6.01s/it]"
          ]
        },
        {
          "name": "stdout",
          "output_type": "stream",
          "text": [
            "Execute code..\n",
            "------------------------------------------------------------------------------------------------------------------------------------------------------\n",
            "Response final:\n",
            "\n",
            "\n"
          ]
        },
        {
          "name": "stderr",
          "output_type": "stream",
          "text": [
            "\r 75%|███████▍  | 391/522 [1:24:08<11:55,  5.46s/it]"
          ]
        },
        {
          "name": "stdout",
          "output_type": "stream",
          "text": [
            "Execute code..\n",
            "------------------------------------------------------------------------------------------------------------------------------------------------------\n",
            "Response final:\n",
            "\n",
            "\n"
          ]
        },
        {
          "name": "stderr",
          "output_type": "stream",
          "text": [
            "\r 75%|███████▌  | 392/522 [1:24:13<11:05,  5.12s/it]"
          ]
        },
        {
          "name": "stdout",
          "output_type": "stream",
          "text": [
            "Execute code..\n",
            "------------------------------------------------------------------------------------------------------------------------------------------------------\n",
            "Response final:\n",
            "\n",
            "\n"
          ]
        },
        {
          "name": "stderr",
          "output_type": "stream",
          "text": [
            "\r 75%|███████▌  | 393/522 [1:24:18<11:02,  5.13s/it]"
          ]
        },
        {
          "name": "stdout",
          "output_type": "stream",
          "text": [
            "Execute code..\n",
            "------------------------------------------------------------------------------------------------------------------------------------------------------\n",
            "Response final:\n",
            "\n",
            "\n"
          ]
        },
        {
          "name": "stderr",
          "output_type": "stream",
          "text": [
            "\r 75%|███████▌  | 394/522 [1:24:23<10:57,  5.13s/it]"
          ]
        },
        {
          "name": "stdout",
          "output_type": "stream",
          "text": [
            "Execute code..\n",
            "------------------------------------------------------------------------------------------------------------------------------------------------------\n",
            "Response final:\n",
            "\n",
            "\n"
          ]
        },
        {
          "name": "stderr",
          "output_type": "stream",
          "text": [
            "\r 76%|███████▌  | 395/522 [1:24:27<10:21,  4.89s/it]"
          ]
        },
        {
          "name": "stdout",
          "output_type": "stream",
          "text": [
            "Execute code..\n",
            "------------------------------------------------------------------------------------------------------------------------------------------------------\n",
            "Response final:\n",
            "\n",
            "\n"
          ]
        },
        {
          "name": "stderr",
          "output_type": "stream",
          "text": [
            "\r 76%|███████▌  | 396/522 [1:24:33<10:57,  5.22s/it]"
          ]
        },
        {
          "name": "stdout",
          "output_type": "stream",
          "text": [
            "Execute code..\n",
            "------------------------------------------------------------------------------------------------------------------------------------------------------\n",
            "Response final:\n",
            "\n",
            "\n",
            "Retrying due to exception...The truth value of a Series is ambiguous. Use a.empty, a.bool(), a.item(), a.any() or a.all().\n"
          ]
        },
        {
          "name": "stderr",
          "output_type": "stream",
          "text": [
            "\r 76%|███████▌  | 397/522 [1:24:47<15:54,  7.64s/it]"
          ]
        },
        {
          "name": "stdout",
          "output_type": "stream",
          "text": [
            "Execute code..\n",
            "------------------------------------------------------------------------------------------------------------------------------------------------------\n",
            "Response final:\n",
            "\n"
          ]
        },
        {
          "name": "stderr",
          "output_type": "stream",
          "text": [
            "\r 76%|███████▌  | 398/522 [1:24:58<18:04,  8.75s/it]"
          ]
        },
        {
          "name": "stdout",
          "output_type": "stream",
          "text": [
            "Execute code..\n",
            "------------------------------------------------------------------------------------------------------------------------------------------------------\n",
            "Response final:\n",
            "\n",
            "\n"
          ]
        },
        {
          "name": "stderr",
          "output_type": "stream",
          "text": [
            "\r 76%|███████▋  | 399/522 [1:25:04<16:20,  7.97s/it]"
          ]
        },
        {
          "name": "stdout",
          "output_type": "stream",
          "text": [
            "Execute code..\n",
            "------------------------------------------------------------------------------------------------------------------------------------------------------\n",
            "Response final:\n",
            "\n",
            "\n"
          ]
        },
        {
          "name": "stderr",
          "output_type": "stream",
          "text": [
            "\r 77%|███████▋  | 400/522 [1:25:09<14:17,  7.03s/it]"
          ]
        },
        {
          "name": "stdout",
          "output_type": "stream",
          "text": [
            "Execute code..\n",
            "------------------------------------------------------------------------------------------------------------------------------------------------------\n",
            "Response final:\n",
            "\n",
            "\n"
          ]
        },
        {
          "name": "stderr",
          "output_type": "stream",
          "text": [
            "\r 77%|███████▋  | 401/522 [1:25:13<12:39,  6.27s/it]"
          ]
        },
        {
          "name": "stdout",
          "output_type": "stream",
          "text": [
            "Execute code..\n",
            "------------------------------------------------------------------------------------------------------------------------------------------------------\n",
            "Response final:\n",
            "\n",
            "\n"
          ]
        },
        {
          "name": "stderr",
          "output_type": "stream",
          "text": [
            "\r 77%|███████▋  | 402/522 [1:25:19<12:07,  6.07s/it]"
          ]
        },
        {
          "name": "stdout",
          "output_type": "stream",
          "text": [
            "Execute code..\n",
            "------------------------------------------------------------------------------------------------------------------------------------------------------\n",
            "Response final:\n",
            "\n",
            "\n"
          ]
        },
        {
          "name": "stderr",
          "output_type": "stream",
          "text": [
            "\r 77%|███████▋  | 403/522 [1:25:25<11:50,  5.97s/it]"
          ]
        },
        {
          "name": "stdout",
          "output_type": "stream",
          "text": [
            "Execute code..\n",
            "------------------------------------------------------------------------------------------------------------------------------------------------------\n",
            "Response final:\n",
            "\n",
            "\n"
          ]
        },
        {
          "name": "stderr",
          "output_type": "stream",
          "text": [
            "\r 77%|███████▋  | 404/522 [1:25:39<16:39,  8.47s/it]"
          ]
        },
        {
          "name": "stdout",
          "output_type": "stream",
          "text": [
            "Execute code..\n",
            "------------------------------------------------------------------------------------------------------------------------------------------------------\n",
            "Response final:\n",
            "\n",
            "\n"
          ]
        },
        {
          "name": "stderr",
          "output_type": "stream",
          "text": [
            "\r 78%|███████▊  | 405/522 [1:25:44<14:35,  7.48s/it]"
          ]
        },
        {
          "name": "stdout",
          "output_type": "stream",
          "text": [
            "Execute code..\n",
            "------------------------------------------------------------------------------------------------------------------------------------------------------\n",
            "Response final:\n",
            "\n",
            "\n"
          ]
        },
        {
          "name": "stderr",
          "output_type": "stream",
          "text": [
            "\r 78%|███████▊  | 406/522 [1:25:55<16:23,  8.48s/it]"
          ]
        },
        {
          "name": "stdout",
          "output_type": "stream",
          "text": [
            "Execute code..\n",
            "------------------------------------------------------------------------------------------------------------------------------------------------------\n",
            "Response final:\n",
            "\n",
            "\n"
          ]
        },
        {
          "name": "stderr",
          "output_type": "stream",
          "text": [
            "\r 78%|███████▊  | 407/522 [1:26:01<14:30,  7.57s/it]"
          ]
        },
        {
          "name": "stdout",
          "output_type": "stream",
          "text": [
            "Execute code..\n",
            "------------------------------------------------------------------------------------------------------------------------------------------------------\n",
            "Response final:\n",
            "\n",
            "\n"
          ]
        },
        {
          "name": "stderr",
          "output_type": "stream",
          "text": [
            "\r 78%|███████▊  | 408/522 [1:26:11<16:10,  8.51s/it]"
          ]
        },
        {
          "name": "stdout",
          "output_type": "stream",
          "text": [
            "Execute code..\n",
            "------------------------------------------------------------------------------------------------------------------------------------------------------\n",
            "Response final:\n",
            "\n",
            "\n"
          ]
        },
        {
          "name": "stderr",
          "output_type": "stream",
          "text": [
            "\r 78%|███████▊  | 409/522 [1:26:18<14:50,  7.88s/it]"
          ]
        },
        {
          "name": "stdout",
          "output_type": "stream",
          "text": [
            "Execute code..\n",
            "------------------------------------------------------------------------------------------------------------------------------------------------------\n",
            "Response final:\n",
            "\n",
            "\n"
          ]
        },
        {
          "name": "stderr",
          "output_type": "stream",
          "text": [
            "\r 79%|███████▊  | 410/522 [1:26:23<13:12,  7.07s/it]"
          ]
        },
        {
          "name": "stdout",
          "output_type": "stream",
          "text": [
            "Execute code..\n",
            "------------------------------------------------------------------------------------------------------------------------------------------------------\n",
            "Response final:\n",
            "\n",
            "\n"
          ]
        },
        {
          "name": "stderr",
          "output_type": "stream",
          "text": [
            "\r 79%|███████▊  | 411/522 [1:26:28<12:07,  6.55s/it]"
          ]
        },
        {
          "name": "stdout",
          "output_type": "stream",
          "text": [
            "Execute code..\n",
            "------------------------------------------------------------------------------------------------------------------------------------------------------\n",
            "Response final:\n",
            "\n",
            "\n"
          ]
        },
        {
          "name": "stderr",
          "output_type": "stream",
          "text": [
            "\r 79%|███████▉  | 412/522 [1:26:39<14:08,  7.71s/it]"
          ]
        },
        {
          "name": "stdout",
          "output_type": "stream",
          "text": [
            "Execute code..\n",
            "------------------------------------------------------------------------------------------------------------------------------------------------------\n",
            "Response final:\n",
            "\n",
            "\n"
          ]
        },
        {
          "name": "stderr",
          "output_type": "stream",
          "text": [
            "\r 79%|███████▉  | 413/522 [1:26:44<12:39,  6.97s/it]"
          ]
        },
        {
          "name": "stdout",
          "output_type": "stream",
          "text": [
            "Execute code..\n",
            "------------------------------------------------------------------------------------------------------------------------------------------------------\n",
            "Response final:\n",
            "\n",
            "\n"
          ]
        },
        {
          "name": "stderr",
          "output_type": "stream",
          "text": [
            "\r 79%|███████▉  | 414/522 [1:27:03<19:03, 10.59s/it]"
          ]
        },
        {
          "name": "stdout",
          "output_type": "stream",
          "text": [
            "Execute code..\n",
            "------------------------------------------------------------------------------------------------------------------------------------------------------\n",
            "Response final:\n",
            "\n",
            "\n"
          ]
        },
        {
          "name": "stderr",
          "output_type": "stream",
          "text": [
            "\r 80%|███████▉  | 415/522 [1:27:13<18:29, 10.37s/it]"
          ]
        },
        {
          "name": "stdout",
          "output_type": "stream",
          "text": [
            "Execute code..\n",
            "------------------------------------------------------------------------------------------------------------------------------------------------------\n",
            "Response final:\n",
            "\n",
            "\n"
          ]
        },
        {
          "name": "stderr",
          "output_type": "stream",
          "text": [
            "\r 80%|███████▉  | 416/522 [1:27:21<17:19,  9.81s/it]"
          ]
        },
        {
          "name": "stdout",
          "output_type": "stream",
          "text": [
            "Execute code..\n",
            "------------------------------------------------------------------------------------------------------------------------------------------------------\n",
            "Response final:\n",
            "\n",
            "\n"
          ]
        },
        {
          "name": "stderr",
          "output_type": "stream",
          "text": [
            "\r 80%|███████▉  | 417/522 [1:27:27<14:52,  8.50s/it]"
          ]
        },
        {
          "name": "stdout",
          "output_type": "stream",
          "text": [
            "Execute code..\n",
            "------------------------------------------------------------------------------------------------------------------------------------------------------\n",
            "Response final:\n",
            "\n",
            "\n"
          ]
        },
        {
          "name": "stderr",
          "output_type": "stream",
          "text": [
            "\r 80%|████████  | 418/522 [1:27:38<16:14,  9.37s/it]"
          ]
        },
        {
          "name": "stdout",
          "output_type": "stream",
          "text": [
            "Execute code..\n",
            "------------------------------------------------------------------------------------------------------------------------------------------------------\n",
            "Response final:\n",
            "\n",
            "\n"
          ]
        },
        {
          "name": "stderr",
          "output_type": "stream",
          "text": [
            "\r 80%|████████  | 419/522 [1:27:44<14:15,  8.30s/it]"
          ]
        },
        {
          "name": "stdout",
          "output_type": "stream",
          "text": [
            "Execute code..\n",
            "------------------------------------------------------------------------------------------------------------------------------------------------------\n",
            "Response final:\n",
            "\n",
            "\n"
          ]
        },
        {
          "name": "stderr",
          "output_type": "stream",
          "text": [
            "\r 80%|████████  | 420/522 [1:27:54<14:50,  8.73s/it]"
          ]
        },
        {
          "name": "stdout",
          "output_type": "stream",
          "text": [
            "Execute code..\n",
            "------------------------------------------------------------------------------------------------------------------------------------------------------\n",
            "Response final:\n",
            "\n",
            "\n"
          ]
        },
        {
          "name": "stderr",
          "output_type": "stream",
          "text": [
            "\r 81%|████████  | 421/522 [1:28:00<13:17,  7.90s/it]"
          ]
        },
        {
          "name": "stdout",
          "output_type": "stream",
          "text": [
            "Execute code..\n",
            "------------------------------------------------------------------------------------------------------------------------------------------------------\n",
            "Response final:\n",
            "\n",
            "\n"
          ]
        },
        {
          "name": "stderr",
          "output_type": "stream",
          "text": [
            "\r 81%|████████  | 422/522 [1:28:04<11:38,  6.99s/it]"
          ]
        },
        {
          "name": "stdout",
          "output_type": "stream",
          "text": [
            "Execute code..\n",
            "------------------------------------------------------------------------------------------------------------------------------------------------------\n",
            "Response final:\n",
            "\n",
            "\n"
          ]
        },
        {
          "name": "stderr",
          "output_type": "stream",
          "text": [
            "\r 81%|████████  | 423/522 [1:28:09<10:24,  6.30s/it]"
          ]
        },
        {
          "name": "stdout",
          "output_type": "stream",
          "text": [
            "Execute code..\n",
            "------------------------------------------------------------------------------------------------------------------------------------------------------\n",
            "Response final:\n",
            "\n",
            "\n"
          ]
        },
        {
          "name": "stderr",
          "output_type": "stream",
          "text": [
            "\r 81%|████████  | 424/522 [1:28:15<10:11,  6.24s/it]"
          ]
        },
        {
          "name": "stdout",
          "output_type": "stream",
          "text": [
            "Execute code..\n",
            "------------------------------------------------------------------------------------------------------------------------------------------------------\n",
            "Response final:\n",
            "\n",
            "\n"
          ]
        },
        {
          "name": "stderr",
          "output_type": "stream",
          "text": [
            "\r 81%|████████▏ | 425/522 [1:28:22<10:20,  6.40s/it]"
          ]
        },
        {
          "name": "stdout",
          "output_type": "stream",
          "text": [
            "Execute code..\n",
            "------------------------------------------------------------------------------------------------------------------------------------------------------\n",
            "Response final:\n",
            "\n",
            "\n"
          ]
        },
        {
          "name": "stderr",
          "output_type": "stream",
          "text": [
            "\r 82%|████████▏ | 426/522 [1:28:27<09:26,  5.90s/it]"
          ]
        },
        {
          "name": "stdout",
          "output_type": "stream",
          "text": [
            "Execute code..\n",
            "------------------------------------------------------------------------------------------------------------------------------------------------------\n",
            "Response final:\n",
            "\n",
            "\n"
          ]
        },
        {
          "name": "stderr",
          "output_type": "stream",
          "text": [
            "\r 82%|████████▏ | 427/522 [1:28:33<09:41,  6.13s/it]"
          ]
        },
        {
          "name": "stdout",
          "output_type": "stream",
          "text": [
            "Execute code..\n",
            "------------------------------------------------------------------------------------------------------------------------------------------------------\n",
            "Response final:\n",
            "\n",
            "\n"
          ]
        },
        {
          "name": "stderr",
          "output_type": "stream",
          "text": [
            "\r 82%|████████▏ | 428/522 [1:28:38<09:00,  5.75s/it]"
          ]
        },
        {
          "name": "stdout",
          "output_type": "stream",
          "text": [
            "Execute code..\n",
            "------------------------------------------------------------------------------------------------------------------------------------------------------\n",
            "Response final:\n",
            "\n",
            "\n"
          ]
        },
        {
          "name": "stderr",
          "output_type": "stream",
          "text": [
            "\r 82%|████████▏ | 429/522 [1:28:46<09:48,  6.33s/it]"
          ]
        },
        {
          "name": "stdout",
          "output_type": "stream",
          "text": [
            "Execute code..\n",
            "------------------------------------------------------------------------------------------------------------------------------------------------------\n",
            "Response final:\n",
            "\n",
            "\n"
          ]
        },
        {
          "name": "stderr",
          "output_type": "stream",
          "text": [
            "\r 82%|████████▏ | 430/522 [1:28:51<09:18,  6.07s/it]"
          ]
        },
        {
          "name": "stdout",
          "output_type": "stream",
          "text": [
            "Execute code..\n",
            "------------------------------------------------------------------------------------------------------------------------------------------------------\n",
            "Response final:\n",
            "\n",
            "\n"
          ]
        },
        {
          "name": "stderr",
          "output_type": "stream",
          "text": [
            "\r 83%|████████▎ | 431/522 [1:28:57<08:55,  5.88s/it]"
          ]
        },
        {
          "name": "stdout",
          "output_type": "stream",
          "text": [
            "Execute code..\n",
            "------------------------------------------------------------------------------------------------------------------------------------------------------\n",
            "Response final:\n",
            "\n",
            "\n"
          ]
        },
        {
          "name": "stderr",
          "output_type": "stream",
          "text": [
            "\r 83%|████████▎ | 432/522 [1:29:04<09:25,  6.29s/it]"
          ]
        },
        {
          "name": "stdout",
          "output_type": "stream",
          "text": [
            "Execute code..\n",
            "------------------------------------------------------------------------------------------------------------------------------------------------------\n",
            "Response final:\n",
            "\n",
            "\n"
          ]
        },
        {
          "name": "stderr",
          "output_type": "stream",
          "text": [
            "\r 83%|████████▎ | 433/522 [1:29:13<10:22,  6.99s/it]"
          ]
        },
        {
          "name": "stdout",
          "output_type": "stream",
          "text": [
            "Execute code..\n",
            "------------------------------------------------------------------------------------------------------------------------------------------------------\n",
            "Response final:\n",
            "\n",
            "\n"
          ]
        },
        {
          "name": "stderr",
          "output_type": "stream",
          "text": [
            "\r 83%|████████▎ | 434/522 [1:29:18<09:40,  6.60s/it]"
          ]
        },
        {
          "name": "stdout",
          "output_type": "stream",
          "text": [
            "Execute code..\n",
            "------------------------------------------------------------------------------------------------------------------------------------------------------\n",
            "Response final:\n",
            "\n",
            "\n"
          ]
        },
        {
          "name": "stderr",
          "output_type": "stream",
          "text": [
            "\r 83%|████████▎ | 435/522 [1:29:29<11:25,  7.88s/it]"
          ]
        },
        {
          "name": "stdout",
          "output_type": "stream",
          "text": [
            "Execute code..\n",
            "------------------------------------------------------------------------------------------------------------------------------------------------------\n",
            "Response final:\n",
            "\n",
            "\n"
          ]
        },
        {
          "name": "stderr",
          "output_type": "stream",
          "text": [
            "\r 84%|████████▎ | 436/522 [1:29:35<10:27,  7.30s/it]"
          ]
        },
        {
          "name": "stdout",
          "output_type": "stream",
          "text": [
            "Execute code..\n",
            "------------------------------------------------------------------------------------------------------------------------------------------------------\n",
            "Response final:\n",
            "\n",
            "\n"
          ]
        },
        {
          "name": "stderr",
          "output_type": "stream",
          "text": [
            "\r 84%|████████▎ | 437/522 [1:29:44<10:55,  7.72s/it]"
          ]
        },
        {
          "name": "stdout",
          "output_type": "stream",
          "text": [
            "Execute code..\n",
            "------------------------------------------------------------------------------------------------------------------------------------------------------\n",
            "Response final:\n",
            "\n",
            "\n"
          ]
        },
        {
          "name": "stderr",
          "output_type": "stream",
          "text": [
            "\r 84%|████████▍ | 438/522 [1:29:57<12:57,  9.25s/it]"
          ]
        },
        {
          "name": "stdout",
          "output_type": "stream",
          "text": [
            "Execute code..\n",
            "------------------------------------------------------------------------------------------------------------------------------------------------------\n",
            "Response final:\n",
            "\n",
            "\n"
          ]
        },
        {
          "name": "stderr",
          "output_type": "stream",
          "text": [
            "\r 84%|████████▍ | 439/522 [1:30:34<24:33, 17.75s/it]"
          ]
        },
        {
          "name": "stdout",
          "output_type": "stream",
          "text": [
            "Execute code..\n",
            "------------------------------------------------------------------------------------------------------------------------------------------------------\n",
            "Response final:\n",
            "\n",
            "\n"
          ]
        },
        {
          "name": "stderr",
          "output_type": "stream",
          "text": [
            "\r 84%|████████▍ | 440/522 [1:30:41<19:54, 14.57s/it]"
          ]
        },
        {
          "name": "stdout",
          "output_type": "stream",
          "text": [
            "Execute code..\n",
            "------------------------------------------------------------------------------------------------------------------------------------------------------\n",
            "Response final:\n",
            "\n",
            "\n"
          ]
        },
        {
          "name": "stderr",
          "output_type": "stream",
          "text": [
            "\r 84%|████████▍ | 441/522 [1:30:51<17:41, 13.11s/it]"
          ]
        },
        {
          "name": "stdout",
          "output_type": "stream",
          "text": [
            "Execute code..\n",
            "------------------------------------------------------------------------------------------------------------------------------------------------------\n",
            "Response final:\n",
            "\n",
            "\n"
          ]
        },
        {
          "name": "stderr",
          "output_type": "stream",
          "text": [
            "\r 85%|████████▍ | 442/522 [1:31:04<17:23, 13.04s/it]"
          ]
        },
        {
          "name": "stdout",
          "output_type": "stream",
          "text": [
            "Execute code..\n",
            "------------------------------------------------------------------------------------------------------------------------------------------------------\n",
            "Response final:\n",
            "\n",
            "\n"
          ]
        },
        {
          "name": "stderr",
          "output_type": "stream",
          "text": [
            "\r 85%|████████▍ | 443/522 [1:31:13<15:30, 11.78s/it]"
          ]
        },
        {
          "name": "stdout",
          "output_type": "stream",
          "text": [
            "Execute code..\n",
            "------------------------------------------------------------------------------------------------------------------------------------------------------\n",
            "Response final:\n",
            "\n",
            "\n"
          ]
        },
        {
          "name": "stderr",
          "output_type": "stream",
          "text": [
            "\r 85%|████████▌ | 444/522 [1:31:19<13:11, 10.15s/it]"
          ]
        },
        {
          "name": "stdout",
          "output_type": "stream",
          "text": [
            "Execute code..\n",
            "------------------------------------------------------------------------------------------------------------------------------------------------------\n",
            "Response final:\n",
            "\n",
            "\n"
          ]
        },
        {
          "name": "stderr",
          "output_type": "stream",
          "text": [
            "\r 85%|████████▌ | 445/522 [1:31:25<11:16,  8.78s/it]"
          ]
        },
        {
          "name": "stdout",
          "output_type": "stream",
          "text": [
            "Execute code..\n",
            "------------------------------------------------------------------------------------------------------------------------------------------------------\n",
            "Response final:\n",
            "\n",
            "\n"
          ]
        },
        {
          "name": "stderr",
          "output_type": "stream",
          "text": [
            "\r 85%|████████▌ | 446/522 [1:31:29<09:33,  7.54s/it]"
          ]
        },
        {
          "name": "stdout",
          "output_type": "stream",
          "text": [
            "Execute code..\n",
            "------------------------------------------------------------------------------------------------------------------------------------------------------\n",
            "Response final:\n",
            "\n",
            "\n"
          ]
        },
        {
          "name": "stderr",
          "output_type": "stream",
          "text": [
            "\r 86%|████████▌ | 447/522 [1:31:35<08:36,  6.88s/it]"
          ]
        },
        {
          "name": "stdout",
          "output_type": "stream",
          "text": [
            "Execute code..\n",
            "------------------------------------------------------------------------------------------------------------------------------------------------------\n",
            "Response final:\n",
            "\n",
            "\n"
          ]
        },
        {
          "name": "stderr",
          "output_type": "stream",
          "text": [
            "\r 86%|████████▌ | 448/522 [1:31:43<09:01,  7.31s/it]"
          ]
        },
        {
          "name": "stdout",
          "output_type": "stream",
          "text": [
            "Execute code..\n",
            "------------------------------------------------------------------------------------------------------------------------------------------------------\n",
            "Response final:\n",
            "\n",
            "\n"
          ]
        },
        {
          "name": "stderr",
          "output_type": "stream",
          "text": [
            "\r 86%|████████▌ | 449/522 [1:31:48<08:11,  6.73s/it]"
          ]
        },
        {
          "name": "stdout",
          "output_type": "stream",
          "text": [
            "Execute code..\n",
            "------------------------------------------------------------------------------------------------------------------------------------------------------\n",
            "Response final:\n",
            "\n",
            "\n"
          ]
        },
        {
          "name": "stderr",
          "output_type": "stream",
          "text": [
            "\r 86%|████████▌ | 450/522 [1:31:55<07:58,  6.65s/it]"
          ]
        },
        {
          "name": "stdout",
          "output_type": "stream",
          "text": [
            "Execute code..\n",
            "------------------------------------------------------------------------------------------------------------------------------------------------------\n",
            "Response final:\n",
            "\n",
            "\n"
          ]
        },
        {
          "name": "stderr",
          "output_type": "stream",
          "text": [
            "\r 86%|████████▋ | 451/522 [1:32:05<09:08,  7.73s/it]"
          ]
        },
        {
          "name": "stdout",
          "output_type": "stream",
          "text": [
            "Execute code..\n",
            "------------------------------------------------------------------------------------------------------------------------------------------------------\n",
            "Response final:\n",
            "\n",
            "\n"
          ]
        },
        {
          "name": "stderr",
          "output_type": "stream",
          "text": [
            "\r 87%|████████▋ | 452/522 [1:32:17<10:17,  8.82s/it]"
          ]
        },
        {
          "name": "stdout",
          "output_type": "stream",
          "text": [
            "Execute code..\n",
            "------------------------------------------------------------------------------------------------------------------------------------------------------\n",
            "Response final:\n",
            "\n",
            "\n"
          ]
        },
        {
          "name": "stderr",
          "output_type": "stream",
          "text": [
            "\r 87%|████████▋ | 453/522 [1:32:26<10:28,  9.10s/it]"
          ]
        },
        {
          "name": "stdout",
          "output_type": "stream",
          "text": [
            "Execute code..\n",
            "------------------------------------------------------------------------------------------------------------------------------------------------------\n",
            "Response final:\n",
            "\n",
            "\n",
            "Retrying due to exception...Cannot setitem on a Categorical with a new category, set the categories first\n"
          ]
        },
        {
          "name": "stderr",
          "output_type": "stream",
          "text": [
            "\r 87%|████████▋ | 454/522 [1:33:50<35:40, 31.48s/it]"
          ]
        },
        {
          "name": "stdout",
          "output_type": "stream",
          "text": [
            "Retrying due to exception...Cannot setitem on a Categorical with a new category, set the categories first\n",
            "------------------------------------------------------------------------------------------------------------------------------------------------------\n",
            "Response final:\n",
            "\n",
            "Retrying due to exception...Cannot setitem on a Categorical with a new category, set the categories first\n"
          ]
        },
        {
          "name": "stderr",
          "output_type": "stream",
          "text": [
            "\r 87%|████████▋ | 455/522 [1:35:10<51:26, 46.06s/it]"
          ]
        },
        {
          "name": "stdout",
          "output_type": "stream",
          "text": [
            "Retrying due to exception...Cannot setitem on a Categorical with a new category, set the categories first\n",
            "------------------------------------------------------------------------------------------------------------------------------------------------------\n",
            "Response final:\n",
            "\n"
          ]
        },
        {
          "name": "stderr",
          "output_type": "stream",
          "text": [
            "\r 87%|████████▋ | 456/522 [1:35:26<40:38, 36.95s/it]"
          ]
        },
        {
          "name": "stdout",
          "output_type": "stream",
          "text": [
            "Execute code..\n",
            "------------------------------------------------------------------------------------------------------------------------------------------------------\n",
            "Response final:\n",
            "\n",
            "\n"
          ]
        },
        {
          "name": "stderr",
          "output_type": "stream",
          "text": [
            "\r 88%|████████▊ | 457/522 [1:35:31<29:43, 27.45s/it]"
          ]
        },
        {
          "name": "stdout",
          "output_type": "stream",
          "text": [
            "Execute code..\n",
            "------------------------------------------------------------------------------------------------------------------------------------------------------\n",
            "Response final:\n",
            "\n",
            "\n"
          ]
        },
        {
          "name": "stderr",
          "output_type": "stream",
          "text": [
            "\r 88%|████████▊ | 458/522 [1:35:36<22:03, 20.68s/it]"
          ]
        },
        {
          "name": "stdout",
          "output_type": "stream",
          "text": [
            "Execute code..\n",
            "------------------------------------------------------------------------------------------------------------------------------------------------------\n",
            "Response final:\n",
            "\n",
            "\n"
          ]
        },
        {
          "name": "stderr",
          "output_type": "stream",
          "text": [
            "\r 88%|████████▊ | 459/522 [1:35:50<19:30, 18.59s/it]"
          ]
        },
        {
          "name": "stdout",
          "output_type": "stream",
          "text": [
            "Execute code..\n",
            "------------------------------------------------------------------------------------------------------------------------------------------------------\n",
            "Response final:\n",
            "\n",
            "\n"
          ]
        },
        {
          "name": "stderr",
          "output_type": "stream",
          "text": [
            "\r 88%|████████▊ | 460/522 [1:35:55<15:00, 14.53s/it]"
          ]
        },
        {
          "name": "stdout",
          "output_type": "stream",
          "text": [
            "Execute code..\n",
            "------------------------------------------------------------------------------------------------------------------------------------------------------\n",
            "Response final:\n",
            "\n",
            "\n"
          ]
        },
        {
          "name": "stderr",
          "output_type": "stream",
          "text": [
            "\r 88%|████████▊ | 461/522 [1:36:01<12:09, 11.95s/it]"
          ]
        },
        {
          "name": "stdout",
          "output_type": "stream",
          "text": [
            "Execute code..\n",
            "------------------------------------------------------------------------------------------------------------------------------------------------------\n",
            "Response final:\n",
            "\n",
            "\n"
          ]
        },
        {
          "name": "stderr",
          "output_type": "stream",
          "text": [
            "\r 89%|████████▊ | 462/522 [1:36:11<11:24, 11.41s/it]"
          ]
        },
        {
          "name": "stdout",
          "output_type": "stream",
          "text": [
            "Execute code..\n",
            "------------------------------------------------------------------------------------------------------------------------------------------------------\n",
            "Response final:\n",
            "\n",
            "\n"
          ]
        },
        {
          "name": "stderr",
          "output_type": "stream",
          "text": [
            "\r 89%|████████▊ | 463/522 [1:36:19<10:15, 10.44s/it]"
          ]
        },
        {
          "name": "stdout",
          "output_type": "stream",
          "text": [
            "Execute code..\n",
            "------------------------------------------------------------------------------------------------------------------------------------------------------\n",
            "Response final:\n",
            "\n",
            "\n"
          ]
        },
        {
          "name": "stderr",
          "output_type": "stream",
          "text": [
            "\r 89%|████████▉ | 464/522 [1:36:23<08:18,  8.59s/it]"
          ]
        },
        {
          "name": "stdout",
          "output_type": "stream",
          "text": [
            "Execute code..\n",
            "------------------------------------------------------------------------------------------------------------------------------------------------------\n",
            "Response final:\n",
            "\n",
            "\n"
          ]
        },
        {
          "name": "stderr",
          "output_type": "stream",
          "text": [
            "\r 89%|████████▉ | 465/522 [1:36:32<08:10,  8.61s/it]"
          ]
        },
        {
          "name": "stdout",
          "output_type": "stream",
          "text": [
            "Execute code..\n",
            "------------------------------------------------------------------------------------------------------------------------------------------------------\n",
            "Response final:\n",
            "\n",
            "\n"
          ]
        },
        {
          "name": "stderr",
          "output_type": "stream",
          "text": [
            "\r 89%|████████▉ | 466/522 [1:36:37<07:04,  7.58s/it]"
          ]
        },
        {
          "name": "stdout",
          "output_type": "stream",
          "text": [
            "Execute code..\n",
            "------------------------------------------------------------------------------------------------------------------------------------------------------\n",
            "Response final:\n",
            "\n",
            "\n"
          ]
        },
        {
          "name": "stderr",
          "output_type": "stream",
          "text": [
            "\r 89%|████████▉ | 467/522 [1:36:49<08:03,  8.78s/it]"
          ]
        },
        {
          "name": "stdout",
          "output_type": "stream",
          "text": [
            "Execute code..\n",
            "------------------------------------------------------------------------------------------------------------------------------------------------------\n",
            "Response final:\n",
            "\n",
            "\n"
          ]
        },
        {
          "name": "stderr",
          "output_type": "stream",
          "text": [
            "\r 90%|████████▉ | 468/522 [1:36:57<07:40,  8.52s/it]"
          ]
        },
        {
          "name": "stdout",
          "output_type": "stream",
          "text": [
            "Execute code..\n",
            "------------------------------------------------------------------------------------------------------------------------------------------------------\n",
            "Response final:\n",
            "\n",
            "\n"
          ]
        },
        {
          "name": "stderr",
          "output_type": "stream",
          "text": [
            "\r 90%|████████▉ | 469/522 [1:37:11<09:12, 10.42s/it]"
          ]
        },
        {
          "name": "stdout",
          "output_type": "stream",
          "text": [
            "Execute code..\n",
            "------------------------------------------------------------------------------------------------------------------------------------------------------\n",
            "Response final:\n",
            "\n",
            "\n"
          ]
        },
        {
          "name": "stderr",
          "output_type": "stream",
          "text": [
            "\r 90%|█████████ | 470/522 [1:37:16<07:33,  8.71s/it]"
          ]
        },
        {
          "name": "stdout",
          "output_type": "stream",
          "text": [
            "Execute code..\n",
            "------------------------------------------------------------------------------------------------------------------------------------------------------\n",
            "Response final:\n",
            "\n",
            "\n"
          ]
        },
        {
          "name": "stderr",
          "output_type": "stream",
          "text": [
            "\r 90%|█████████ | 471/522 [1:37:24<07:17,  8.59s/it]"
          ]
        },
        {
          "name": "stdout",
          "output_type": "stream",
          "text": [
            "Execute code..\n",
            "------------------------------------------------------------------------------------------------------------------------------------------------------\n",
            "Response final:\n",
            "\n",
            "\n"
          ]
        },
        {
          "name": "stderr",
          "output_type": "stream",
          "text": [
            "\r 90%|█████████ | 472/522 [1:37:38<08:25, 10.11s/it]"
          ]
        },
        {
          "name": "stdout",
          "output_type": "stream",
          "text": [
            "Execute code..\n",
            "------------------------------------------------------------------------------------------------------------------------------------------------------\n",
            "Response final:\n",
            "\n",
            "\n"
          ]
        },
        {
          "name": "stderr",
          "output_type": "stream",
          "text": [
            "\r 91%|█████████ | 473/522 [1:37:45<07:22,  9.04s/it]"
          ]
        },
        {
          "name": "stdout",
          "output_type": "stream",
          "text": [
            "Execute code..\n",
            "------------------------------------------------------------------------------------------------------------------------------------------------------\n",
            "Response final:\n",
            "\n",
            "\n"
          ]
        },
        {
          "name": "stderr",
          "output_type": "stream",
          "text": [
            "\r 91%|█████████ | 474/522 [1:37:49<06:06,  7.64s/it]"
          ]
        },
        {
          "name": "stdout",
          "output_type": "stream",
          "text": [
            "Execute code..\n",
            "------------------------------------------------------------------------------------------------------------------------------------------------------\n",
            "Response final:\n",
            "\n",
            "\n"
          ]
        },
        {
          "name": "stderr",
          "output_type": "stream",
          "text": [
            "\r 91%|█████████ | 475/522 [1:37:59<06:35,  8.42s/it]"
          ]
        },
        {
          "name": "stdout",
          "output_type": "stream",
          "text": [
            "Execute code..\n",
            "------------------------------------------------------------------------------------------------------------------------------------------------------\n",
            "Response final:\n",
            "\n",
            "\n"
          ]
        },
        {
          "name": "stderr",
          "output_type": "stream",
          "text": [
            "\r 91%|█████████ | 476/522 [1:38:07<06:18,  8.23s/it]"
          ]
        },
        {
          "name": "stdout",
          "output_type": "stream",
          "text": [
            "Execute code..\n",
            "------------------------------------------------------------------------------------------------------------------------------------------------------\n",
            "Response final:\n",
            "\n",
            "\n"
          ]
        },
        {
          "name": "stderr",
          "output_type": "stream",
          "text": [
            "\r 91%|█████████▏| 477/522 [1:38:13<05:36,  7.47s/it]"
          ]
        },
        {
          "name": "stdout",
          "output_type": "stream",
          "text": [
            "Execute code..\n",
            "------------------------------------------------------------------------------------------------------------------------------------------------------\n",
            "Response final:\n",
            "\n",
            "\n"
          ]
        },
        {
          "name": "stderr",
          "output_type": "stream",
          "text": [
            "\r 92%|█████████▏| 478/522 [1:38:18<05:05,  6.94s/it]"
          ]
        },
        {
          "name": "stdout",
          "output_type": "stream",
          "text": [
            "Execute code..\n",
            "------------------------------------------------------------------------------------------------------------------------------------------------------\n",
            "Response final:\n",
            "\n",
            "\n"
          ]
        },
        {
          "name": "stderr",
          "output_type": "stream",
          "text": [
            "\r 92%|█████████▏| 479/522 [1:38:30<06:01,  8.40s/it]"
          ]
        },
        {
          "name": "stdout",
          "output_type": "stream",
          "text": [
            "Execute code..\n",
            "------------------------------------------------------------------------------------------------------------------------------------------------------\n",
            "Response final:\n",
            "\n",
            "\n",
            "Retrying due to exception...Column 'Revenue' has dtype category, cannot use method 'nlargest' with this dtype\n"
          ]
        },
        {
          "name": "stderr",
          "output_type": "stream",
          "text": [
            "\r 92%|█████████▏| 480/522 [1:38:51<08:26, 12.05s/it]"
          ]
        },
        {
          "name": "stdout",
          "output_type": "stream",
          "text": [
            "Execute code..\n",
            "------------------------------------------------------------------------------------------------------------------------------------------------------\n",
            "Response final:\n",
            "\n"
          ]
        },
        {
          "name": "stderr",
          "output_type": "stream",
          "text": [
            "<string>:6: SettingWithCopyWarning: \n",
            "A value is trying to be set on a copy of a slice from a DataFrame.\n",
            "Try using .loc[row_indexer,col_indexer] = value instead\n",
            "\n",
            "See the caveats in the documentation: https://pandas.pydata.org/pandas-docs/stable/user_guide/indexing.html#returning-a-view-versus-a-copy\n",
            "\r 92%|█████████▏| 481/522 [1:39:05<08:44, 12.80s/it]"
          ]
        },
        {
          "name": "stdout",
          "output_type": "stream",
          "text": [
            "Execute code..\n",
            "------------------------------------------------------------------------------------------------------------------------------------------------------\n",
            "Response final:\n",
            "\n",
            "\n"
          ]
        },
        {
          "name": "stderr",
          "output_type": "stream",
          "text": [
            "\r 92%|█████████▏| 482/522 [1:39:11<07:09, 10.75s/it]"
          ]
        },
        {
          "name": "stdout",
          "output_type": "stream",
          "text": [
            "Execute code..\n",
            "------------------------------------------------------------------------------------------------------------------------------------------------------\n",
            "Response final:\n",
            "\n",
            "\n"
          ]
        },
        {
          "name": "stderr",
          "output_type": "stream",
          "text": [
            "\r 93%|█████████▎| 483/522 [1:39:18<06:05,  9.38s/it]"
          ]
        },
        {
          "name": "stdout",
          "output_type": "stream",
          "text": [
            "Execute code..\n",
            "------------------------------------------------------------------------------------------------------------------------------------------------------\n",
            "Response final:\n",
            "\n",
            "\n"
          ]
        },
        {
          "name": "stderr",
          "output_type": "stream",
          "text": [
            "\r 93%|█████████▎| 484/522 [1:40:13<14:43, 23.26s/it]"
          ]
        },
        {
          "name": "stdout",
          "output_type": "stream",
          "text": [
            "Execute code..\n",
            "------------------------------------------------------------------------------------------------------------------------------------------------------\n",
            "Response final:\n",
            "\n",
            "\n"
          ]
        },
        {
          "name": "stderr",
          "output_type": "stream",
          "text": [
            "\r 93%|█████████▎| 485/522 [1:40:17<10:45, 17.45s/it]"
          ]
        },
        {
          "name": "stdout",
          "output_type": "stream",
          "text": [
            "Execute code..\n",
            "------------------------------------------------------------------------------------------------------------------------------------------------------\n",
            "Response final:\n",
            "\n",
            "\n"
          ]
        },
        {
          "name": "stderr",
          "output_type": "stream",
          "text": [
            "\r 93%|█████████▎| 486/522 [1:40:24<08:39, 14.43s/it]"
          ]
        },
        {
          "name": "stdout",
          "output_type": "stream",
          "text": [
            "Execute code..\n",
            "------------------------------------------------------------------------------------------------------------------------------------------------------\n",
            "Response final:\n",
            "\n",
            "\n"
          ]
        },
        {
          "name": "stderr",
          "output_type": "stream",
          "text": [
            "\r 93%|█████████▎| 487/522 [1:40:34<07:30, 12.88s/it]"
          ]
        },
        {
          "name": "stdout",
          "output_type": "stream",
          "text": [
            "Execute code..\n",
            "------------------------------------------------------------------------------------------------------------------------------------------------------\n",
            "Response final:\n",
            "\n",
            "\n",
            "Retrying due to exception...Cannot mask with non-boolean array containing NA / NaN values\n"
          ]
        },
        {
          "name": "stderr",
          "output_type": "stream",
          "text": [
            "\r 93%|█████████▎| 488/522 [1:41:02<09:50, 17.38s/it]"
          ]
        },
        {
          "name": "stdout",
          "output_type": "stream",
          "text": [
            "Execute code..\n",
            "------------------------------------------------------------------------------------------------------------------------------------------------------\n",
            "Response final:\n",
            "\n"
          ]
        },
        {
          "name": "stderr",
          "output_type": "stream",
          "text": [
            "\r 94%|█████████▎| 489/522 [1:41:09<07:56, 14.43s/it]"
          ]
        },
        {
          "name": "stdout",
          "output_type": "stream",
          "text": [
            "Execute code..\n",
            "------------------------------------------------------------------------------------------------------------------------------------------------------\n",
            "Response final:\n",
            "\n",
            "\n"
          ]
        },
        {
          "name": "stderr",
          "output_type": "stream",
          "text": [
            "\r 94%|█████████▍| 490/522 [1:41:23<07:31, 14.12s/it]"
          ]
        },
        {
          "name": "stdout",
          "output_type": "stream",
          "text": [
            "Execute code..\n",
            "------------------------------------------------------------------------------------------------------------------------------------------------------\n",
            "Response final:\n",
            "\n",
            "\n"
          ]
        },
        {
          "name": "stderr",
          "output_type": "stream",
          "text": [
            "\r 94%|█████████▍| 491/522 [1:41:37<07:25, 14.36s/it]"
          ]
        },
        {
          "name": "stdout",
          "output_type": "stream",
          "text": [
            "Execute code..\n",
            "------------------------------------------------------------------------------------------------------------------------------------------------------\n",
            "Response final:\n",
            "\n",
            "\n"
          ]
        },
        {
          "name": "stderr",
          "output_type": "stream",
          "text": [
            "\r 94%|█████████▍| 492/522 [1:41:53<07:20, 14.67s/it]"
          ]
        },
        {
          "name": "stdout",
          "output_type": "stream",
          "text": [
            "Execute code..\n",
            "------------------------------------------------------------------------------------------------------------------------------------------------------\n",
            "Response final:\n",
            "\n",
            "\n"
          ]
        },
        {
          "name": "stderr",
          "output_type": "stream",
          "text": [
            "\r 94%|█████████▍| 493/522 [1:42:05<06:39, 13.78s/it]"
          ]
        },
        {
          "name": "stdout",
          "output_type": "stream",
          "text": [
            "Execute code..\n",
            "------------------------------------------------------------------------------------------------------------------------------------------------------\n",
            "Response final:\n",
            "\n",
            "\n"
          ]
        },
        {
          "name": "stderr",
          "output_type": "stream",
          "text": [
            "\r 95%|█████████▍| 494/522 [1:42:12<05:33, 11.91s/it]"
          ]
        },
        {
          "name": "stdout",
          "output_type": "stream",
          "text": [
            "Execute code..\n",
            "------------------------------------------------------------------------------------------------------------------------------------------------------\n",
            "Response final:\n",
            "\n",
            "\n"
          ]
        },
        {
          "name": "stderr",
          "output_type": "stream",
          "text": [
            "\r 95%|█████████▍| 495/522 [1:42:20<04:50, 10.78s/it]"
          ]
        },
        {
          "name": "stdout",
          "output_type": "stream",
          "text": [
            "Execute code..\n",
            "------------------------------------------------------------------------------------------------------------------------------------------------------\n",
            "Response final:\n",
            "\n",
            "\n"
          ]
        },
        {
          "name": "stderr",
          "output_type": "stream",
          "text": [
            "\r 95%|█████████▌| 496/522 [1:42:32<04:45, 10.99s/it]"
          ]
        },
        {
          "name": "stdout",
          "output_type": "stream",
          "text": [
            "Execute code..\n",
            "------------------------------------------------------------------------------------------------------------------------------------------------------\n",
            "Response final:\n",
            "\n",
            "\n"
          ]
        },
        {
          "name": "stderr",
          "output_type": "stream",
          "text": [
            "\r 95%|█████████▌| 497/522 [1:42:41<04:19, 10.40s/it]"
          ]
        },
        {
          "name": "stdout",
          "output_type": "stream",
          "text": [
            "Execute code..\n",
            "------------------------------------------------------------------------------------------------------------------------------------------------------\n",
            "Response final:\n",
            "\n",
            "\n"
          ]
        },
        {
          "name": "stderr",
          "output_type": "stream",
          "text": [
            "\r 95%|█████████▌| 498/522 [1:43:38<09:48, 24.54s/it]"
          ]
        },
        {
          "name": "stdout",
          "output_type": "stream",
          "text": [
            "Execute code..\n",
            "------------------------------------------------------------------------------------------------------------------------------------------------------\n",
            "Response final:\n",
            "\n",
            "\n",
            "Retrying due to exception...'NoneType' object has no attribute 'group'\n"
          ]
        },
        {
          "name": "stderr",
          "output_type": "stream",
          "text": [
            "\r 96%|█████████▌| 499/522 [1:44:10<10:16, 26.80s/it]"
          ]
        },
        {
          "name": "stdout",
          "output_type": "stream",
          "text": [
            "Retrying due to exception...'NoneType' object has no attribute 'group'\n",
            "------------------------------------------------------------------------------------------------------------------------------------------------------\n",
            "Response final:\n",
            "\n"
          ]
        },
        {
          "name": "stderr",
          "output_type": "stream",
          "text": [
            "\r 96%|█████████▌| 500/522 [1:44:16<07:28, 20.37s/it]"
          ]
        },
        {
          "name": "stdout",
          "output_type": "stream",
          "text": [
            "Execute code..\n",
            "------------------------------------------------------------------------------------------------------------------------------------------------------\n",
            "Response final:\n",
            "\n",
            "\n"
          ]
        },
        {
          "name": "stderr",
          "output_type": "stream",
          "text": [
            "\r 96%|█████████▌| 501/522 [1:44:24<05:51, 16.72s/it]"
          ]
        },
        {
          "name": "stdout",
          "output_type": "stream",
          "text": [
            "Execute code..\n",
            "------------------------------------------------------------------------------------------------------------------------------------------------------\n",
            "Response final:\n",
            "\n",
            "\n"
          ]
        },
        {
          "name": "stderr",
          "output_type": "stream",
          "text": [
            "\r 96%|█████████▌| 502/522 [1:44:29<04:21, 13.09s/it]"
          ]
        },
        {
          "name": "stdout",
          "output_type": "stream",
          "text": [
            "Execute code..\n",
            "------------------------------------------------------------------------------------------------------------------------------------------------------\n",
            "Response final:\n",
            "\n",
            "\n"
          ]
        },
        {
          "name": "stderr",
          "output_type": "stream",
          "text": [
            "\r 96%|█████████▋| 503/522 [1:44:39<03:51, 12.20s/it]"
          ]
        },
        {
          "name": "stdout",
          "output_type": "stream",
          "text": [
            "Execute code..\n",
            "------------------------------------------------------------------------------------------------------------------------------------------------------\n",
            "Response final:\n",
            "\n",
            "\n"
          ]
        },
        {
          "name": "stderr",
          "output_type": "stream",
          "text": [
            "\r 97%|█████████▋| 504/522 [1:44:51<03:40, 12.24s/it]"
          ]
        },
        {
          "name": "stdout",
          "output_type": "stream",
          "text": [
            "Execute code..\n",
            "------------------------------------------------------------------------------------------------------------------------------------------------------\n",
            "Response final:\n",
            "\n",
            "\n"
          ]
        },
        {
          "name": "stderr",
          "output_type": "stream",
          "text": [
            "\r 97%|█████████▋| 505/522 [1:44:59<03:08, 11.07s/it]"
          ]
        },
        {
          "name": "stdout",
          "output_type": "stream",
          "text": [
            "Execute code..\n",
            "------------------------------------------------------------------------------------------------------------------------------------------------------\n",
            "Response final:\n",
            "\n",
            "\n"
          ]
        },
        {
          "name": "stderr",
          "output_type": "stream",
          "text": [
            "\r 97%|█████████▋| 506/522 [1:45:05<02:32,  9.50s/it]"
          ]
        },
        {
          "name": "stdout",
          "output_type": "stream",
          "text": [
            "Execute code..\n",
            "------------------------------------------------------------------------------------------------------------------------------------------------------\n",
            "Response final:\n",
            "\n",
            "\n"
          ]
        },
        {
          "name": "stderr",
          "output_type": "stream",
          "text": [
            "\r 97%|█████████▋| 507/522 [1:45:13<02:15,  9.02s/it]"
          ]
        },
        {
          "name": "stdout",
          "output_type": "stream",
          "text": [
            "Execute code..\n",
            "------------------------------------------------------------------------------------------------------------------------------------------------------\n",
            "Response final:\n",
            "\n",
            "\n"
          ]
        },
        {
          "name": "stderr",
          "output_type": "stream",
          "text": [
            "\r 97%|█████████▋| 508/522 [1:45:19<01:51,  7.99s/it]"
          ]
        },
        {
          "name": "stdout",
          "output_type": "stream",
          "text": [
            "Execute code..\n",
            "------------------------------------------------------------------------------------------------------------------------------------------------------\n",
            "Response final:\n",
            "\n",
            "\n"
          ]
        },
        {
          "name": "stderr",
          "output_type": "stream",
          "text": [
            "\r 98%|█████████▊| 509/522 [1:45:23<01:29,  6.86s/it]"
          ]
        },
        {
          "name": "stdout",
          "output_type": "stream",
          "text": [
            "Execute code..\n",
            "------------------------------------------------------------------------------------------------------------------------------------------------------\n",
            "Response final:\n",
            "\n",
            "\n"
          ]
        },
        {
          "name": "stderr",
          "output_type": "stream",
          "text": [
            "\r 98%|█████████▊| 510/522 [1:45:33<01:32,  7.72s/it]"
          ]
        },
        {
          "name": "stdout",
          "output_type": "stream",
          "text": [
            "Execute code..\n",
            "------------------------------------------------------------------------------------------------------------------------------------------------------\n",
            "Response final:\n",
            "\n",
            "\n"
          ]
        },
        {
          "name": "stderr",
          "output_type": "stream",
          "text": [
            "\r 98%|█████████▊| 511/522 [1:45:42<01:29,  8.10s/it]"
          ]
        },
        {
          "name": "stdout",
          "output_type": "stream",
          "text": [
            "Execute code..\n",
            "------------------------------------------------------------------------------------------------------------------------------------------------------\n",
            "Response final:\n",
            "\n",
            "\n"
          ]
        },
        {
          "name": "stderr",
          "output_type": "stream",
          "text": [
            "\r 98%|█████████▊| 512/522 [1:45:47<01:13,  7.38s/it]"
          ]
        },
        {
          "name": "stdout",
          "output_type": "stream",
          "text": [
            "Execute code..\n",
            "------------------------------------------------------------------------------------------------------------------------------------------------------\n",
            "Response final:\n",
            "\n",
            "\n"
          ]
        },
        {
          "name": "stderr",
          "output_type": "stream",
          "text": [
            "\r 98%|█████████▊| 513/522 [1:45:51<00:57,  6.38s/it]"
          ]
        },
        {
          "name": "stdout",
          "output_type": "stream",
          "text": [
            "Execute code..\n",
            "------------------------------------------------------------------------------------------------------------------------------------------------------\n",
            "Response final:\n",
            "\n",
            "\n"
          ]
        },
        {
          "name": "stderr",
          "output_type": "stream",
          "text": [
            "\r 98%|█████████▊| 514/522 [1:46:00<00:56,  7.08s/it]"
          ]
        },
        {
          "name": "stdout",
          "output_type": "stream",
          "text": [
            "Execute code..\n",
            "------------------------------------------------------------------------------------------------------------------------------------------------------\n",
            "Response final:\n",
            "\n",
            "\n"
          ]
        },
        {
          "name": "stderr",
          "output_type": "stream",
          "text": [
            "\r 99%|█████████▊| 515/522 [1:46:14<01:03,  9.12s/it]"
          ]
        },
        {
          "name": "stdout",
          "output_type": "stream",
          "text": [
            "Execute code..\n",
            "------------------------------------------------------------------------------------------------------------------------------------------------------\n",
            "Response final:\n",
            "\n",
            "\n"
          ]
        },
        {
          "name": "stderr",
          "output_type": "stream",
          "text": [
            "\r 99%|█████████▉| 516/522 [1:46:19<00:47,  7.91s/it]"
          ]
        },
        {
          "name": "stdout",
          "output_type": "stream",
          "text": [
            "Execute code..\n",
            "------------------------------------------------------------------------------------------------------------------------------------------------------\n",
            "Response final:\n",
            "\n",
            "\n"
          ]
        },
        {
          "name": "stderr",
          "output_type": "stream",
          "text": [
            "\r 99%|█████████▉| 517/522 [1:46:24<00:34,  6.92s/it]"
          ]
        },
        {
          "name": "stdout",
          "output_type": "stream",
          "text": [
            "Execute code..\n",
            "------------------------------------------------------------------------------------------------------------------------------------------------------\n",
            "Response final:\n",
            "\n",
            "\n"
          ]
        },
        {
          "name": "stderr",
          "output_type": "stream",
          "text": [
            "\r 99%|█████████▉| 518/522 [1:46:29<00:25,  6.30s/it]"
          ]
        },
        {
          "name": "stdout",
          "output_type": "stream",
          "text": [
            "Execute code..\n",
            "------------------------------------------------------------------------------------------------------------------------------------------------------\n",
            "Response final:\n",
            "\n",
            "\n"
          ]
        },
        {
          "name": "stderr",
          "output_type": "stream",
          "text": [
            "\r 99%|█████████▉| 519/522 [1:46:37<00:20,  6.93s/it]"
          ]
        },
        {
          "name": "stdout",
          "output_type": "stream",
          "text": [
            "Execute code..\n",
            "------------------------------------------------------------------------------------------------------------------------------------------------------\n",
            "Response final:\n",
            "\n",
            "\n"
          ]
        },
        {
          "name": "stderr",
          "output_type": "stream",
          "text": [
            "\r100%|█████████▉| 520/522 [1:46:41<00:12,  6.12s/it]"
          ]
        },
        {
          "name": "stdout",
          "output_type": "stream",
          "text": [
            "Execute code..\n",
            "------------------------------------------------------------------------------------------------------------------------------------------------------\n",
            "Response final:\n",
            "\n",
            "\n"
          ]
        },
        {
          "name": "stderr",
          "output_type": "stream",
          "text": [
            "\r100%|█████████▉| 521/522 [1:46:49<00:06,  6.65s/it]"
          ]
        },
        {
          "name": "stdout",
          "output_type": "stream",
          "text": [
            "Execute code..\n",
            "------------------------------------------------------------------------------------------------------------------------------------------------------\n",
            "Response final:\n",
            "\n",
            "\n"
          ]
        },
        {
          "name": "stderr",
          "output_type": "stream",
          "text": [
            "100%|██████████| 522/522 [1:46:56<00:00, 12.29s/it]"
          ]
        },
        {
          "name": "stdout",
          "output_type": "stream",
          "text": [
            "Execute code..\n",
            "------------------------------------------------------------------------------------------------------------------------------------------------------\n",
            "Response final:\n",
            "\n",
            "\n"
          ]
        },
        {
          "name": "stderr",
          "output_type": "stream",
          "text": [
            "\n"
          ]
        }
      ],
      "source": [
        "from tqdm import tqdm\n",
        "from tqdm import trange\n",
        "\n",
        "def execute_and_get_result(llm_output):\n",
        "    # result = None\n",
        "    generated_code = llm_output.split('```python')[-1].split(\"```\")[0]\n",
        "    # print(generated_code)\n",
        "\n",
        "    try:\n",
        "        exec(generated_code, globals())\n",
        "        print('Execute code..')\n",
        "    except Exception as E:\n",
        "        return E  # Return the exception to be handled in chat retry\n",
        "\n",
        "    # return str(global_scope[\"result\"])\n",
        "\n",
        "answers = []\n",
        "result = None\n",
        "\n",
        "correct_outs = 0\n",
        "for ind in trange(len(semeval_test_qa)):\n",
        "    fil = semeval_test_qa.iloc[ind, :]['dataset']\n",
        "    df = pd.read_parquet(f'/content/competition/{fil}/sample.parquet')\n",
        "    question = semeval_test_qa.iloc[ind, :]['question']\n",
        "\n",
        "    prompt = generate_prompt(df, question)\n",
        "    prompt_check = reason_prompt.format(instruction=str(prompt[0]['content']), input=str(prompt[1]['content']), output=\"\")\n",
        "\n",
        "\n",
        "    for _ in range(2):\n",
        "\n",
        "        inputs = tokenizer([prompt_check], return_tensors = \"pt\").to(device)\n",
        "        outputs = model.generate(**inputs, max_new_tokens = 512, use_cache = True)\n",
        "        llm_output = tokenizer.batch_decode(outputs, skip_special_tokens=True)[0].split('### Response:\\n')[-1]\n",
        "        res = execute_and_get_result(llm_output)\n",
        "\n",
        "        if isinstance(res, Exception):\n",
        "            print(f\"Retrying due to exception...{res}\")\n",
        "\n",
        "            # messages.append({'role':'assistant', 'content':llm_output})\n",
        "            # messages.append({'role':'user', 'content':f\"\\n Error encountered: {str(res)}. Please fix the code and rewrite it again\"})\n",
        "            prompt_check += llm_output\n",
        "            prompt_check += f\"\\n ### Code Feedback: \\nError encountered: {str(res)}. Please fix the code and rewrite it again\"\n",
        "            prompt_check += f\"\\n ### Response:\\n\"\n",
        "\n",
        "        else:\n",
        "            break  # Exit loop if no exception\n",
        "\n",
        "    # llm_output, ind\n",
        "    # generated_code\n",
        "    # result\n",
        "    df_outs = pd.concat([df_outs, pd.DataFrame([{'ind':ind,\n",
        "                                                 'question': question,\n",
        "                                                 'llm_output':llm_output,\n",
        "                                                 'generated_code':llm_output.split('```python')[-1].split(\"```\")[0],\n",
        "                                                 'result':result}])], ignore_index=True)\n",
        "\n",
        "    answers.append(str(result))\n",
        "\n",
        "    print('-'*150)\n",
        "    print('Response final:')\n",
        "    print(prompt_check.split('### Response:\\n')[-1])\n"
      ]
    },
    {
      "cell_type": "code",
      "execution_count": null,
      "metadata": {
        "id": "Z_isrK3pfZLI"
      },
      "outputs": [],
      "source": [
        "df_outs.to_csv('kaudvk.csv')"
      ]
    },
    {
      "cell_type": "code",
      "execution_count": null,
      "metadata": {
        "colab": {
          "base_uri": "https://localhost:8080/"
        },
        "id": "xqdR19bGzBeZ",
        "outputId": "cff6ef61-0405-4202-df11-1d905293cd09"
      },
      "outputs": [
        {
          "name": "stdout",
          "output_type": "stream",
          "text": [
            "Mounted at /content/drive\n"
          ]
        }
      ],
      "source": [
        "from google.colab import drive\n",
        "drive.mount('/content/drive')"
      ]
    },
    {
      "cell_type": "code",
      "execution_count": null,
      "metadata": {
        "id": "iyymO5WVzlvX"
      },
      "outputs": [],
      "source": [
        "df_outs.to_csv(\"/content/drive/MyDrive/Task8_results/df_out.csv\")"
      ]
    },
    {
      "cell_type": "markdown",
      "metadata": {
        "id": "20UcfadOtI0n"
      },
      "source": [
        "## Final Submission"
      ]
    },
    {
      "cell_type": "code",
      "execution_count": null,
      "metadata": {
        "colab": {
          "base_uri": "https://localhost:8080/"
        },
        "id": "dhozlQNO07Eh",
        "outputId": "4f367a0b-533e-437c-8314-2c3e50bc55ba"
      },
      "outputs": [
        {
          "name": "stdout",
          "output_type": "stream",
          "text": [
            "Mounted at /content/drive\n"
          ]
        }
      ],
      "source": [
        "from google.colab import drive\n",
        "drive.mount('/content/drive')"
      ]
    },
    {
      "cell_type": "code",
      "execution_count": null,
      "metadata": {
        "id": "_h3P6DmYubfr"
      },
      "outputs": [],
      "source": [
        "%%capture\n",
        "\n",
        "%cd /content/drive/MyDrive/Task8\n",
        "\n",
        "!gdown https://drive.google.com/file/d/1IpSi0gNPYj9a9lNbWPsL3TxIBILoLsfE/view --fuzzy\n",
        "!unzip competition.zip\n",
        "!rm -rf competition.zip\n",
        "!rm -rf __MACOSX"
      ]
    },
    {
      "cell_type": "code",
      "execution_count": null,
      "metadata": {
        "colab": {
          "base_uri": "https://localhost:8080/",
          "height": 206
        },
        "id": "R_SVNZjwtslT",
        "outputId": "0fc115d1-0006-4498-d63c-4edbf8b84708"
      },
      "outputs": [
        {
          "data": {
            "application/vnd.google.colaboratory.intrinsic+json": {
              "summary": "{\n  \"name\": \"results_df\",\n  \"rows\": 522,\n  \"fields\": [\n    {\n      \"column\": \"question\",\n      \"properties\": {\n        \"dtype\": \"string\",\n        \"num_unique_values\": 522,\n        \"samples\": [\n          \"Provide the size of the top 3 greatest areas a fire affected.\",\n          \"List the unique month names corresponding to the driest 4 percentages of RH.\",\n          \"Are there more employees who travel frequently than those who work in the HR department?\"\n        ],\n        \"semantic_type\": \"\",\n        \"description\": \"\"\n      }\n    },\n    {\n      \"column\": \"dataset\",\n      \"properties\": {\n        \"dtype\": \"category\",\n        \"num_unique_values\": 15,\n        \"samples\": [\n          \"075_Mortality\",\n          \"077_Gestational\",\n          \"066_IBM_HR\"\n        ],\n        \"semantic_type\": \"\",\n        \"description\": \"\"\n      }\n    },\n    {\n      \"column\": \"generated_code\",\n      \"properties\": {\n        \"dtype\": \"string\",\n        \"num_unique_values\": 520,\n        \"samples\": [\n          \"\\nimport pandas as pd\\n\\n# Convert the minimum lifted amount from kg to pounds\\nmin_lifted_pounds = df['Amount Lifted (kg)'].min() * 2.20462\\n\\n# Check if the minimum lifted amount in pounds is less than 330\\nresult = min_lifted_pounds < 330\\n\",\n          \"\\n# Extract unique fiscal years from the dataset\\nfiscal_years = df['Fiscal Year'].unique()\\n\\n# Filter the first three fiscal years\\nfirst_three_fiscal_years = sorted(fiscal_years)[:3]\\n\\n# Calculate the total amount awarded for each of the first three fiscal years\\nresult = df[df['Fiscal Year'].isin(first_three_fiscal_years)].groupby('Fiscal Year')['Supplier Contract Amount (USD)'].sum().to_dict()\\n\",\n          \"\\nimport pandas as pd\\n\\n# Assuming df is already loaded\\n# Count employees who travel frequently\\nfrequent_travelers = df[df['BusinessTravel'] == 'Travel_Frequently'].shape[0]\\n\\n# Count employees in the HR department\\nhr_employees = df[df['Department'] == 'Human Resources'].shape[0]\\n\\n# Compare the counts\\nresult = frequent_travelers > hr_employees\\n\"\n        ],\n        \"semantic_type\": \"\",\n        \"description\": \"\"\n      }\n    },\n    {\n      \"column\": \"result_sample\",\n      \"properties\": {\n        \"dtype\": \"string\",\n        \"num_unique_values\": 298,\n        \"samples\": [\n          \"74 kg\",\n          \"   transaction_id  transaction_qty  store_id   store_location  product_id  \\\\\\n0               1                2         5  Lower Manhattan          32   \\n1               2                2         5  Lower Manhattan          57   \\n2               3                2         5  Lower Manhattan          59   \\n\\n   unit_price    product_category           product_type  \\\\\\n0         3.0              Coffee  Gourmet brewed coffee   \\n1         3.1                 Tea        Brewed Chai tea   \\n2         4.5  Drinking Chocolate          Hot chocolate   \\n\\n             product_detail   Revenue  Month Month_1  Weekday Weekday_1  Hour  \\n0               Ethiopia Rg  6,00\\u00a0US$      1     Jan        7       Sun     7  \\n1  Spicy Eye Opener Chai Lg  6,20\\u00a0US$      1     Jan        7       Sun     7  \\n2         Dark chocolate Lg  9,00\\u00a0US$      1     Jan        7       Sun     7  \",\n          \"['December', 'February', 'August']\"\n        ],\n        \"semantic_type\": \"\",\n        \"description\": \"\"\n      }\n    }\n  ]\n}",
              "type": "dataframe",
              "variable_name": "results_df"
            },
            "text/html": [
              "\n",
              "  <div id=\"df-e1e9c49b-1640-4fde-99b0-e13ce04f14a5\" class=\"colab-df-container\">\n",
              "    <div>\n",
              "<style scoped>\n",
              "    .dataframe tbody tr th:only-of-type {\n",
              "        vertical-align: middle;\n",
              "    }\n",
              "\n",
              "    .dataframe tbody tr th {\n",
              "        vertical-align: top;\n",
              "    }\n",
              "\n",
              "    .dataframe thead th {\n",
              "        text-align: right;\n",
              "    }\n",
              "</style>\n",
              "<table border=\"1\" class=\"dataframe\">\n",
              "  <thead>\n",
              "    <tr style=\"text-align: right;\">\n",
              "      <th></th>\n",
              "      <th>question</th>\n",
              "      <th>dataset</th>\n",
              "      <th>generated_code</th>\n",
              "      <th>result_sample</th>\n",
              "    </tr>\n",
              "  </thead>\n",
              "  <tbody>\n",
              "    <tr>\n",
              "      <th>0</th>\n",
              "      <td>Is our average employee older than 35?</td>\n",
              "      <td>066_IBM_HR</td>\n",
              "      <td>\\nimport pandas as pd\\n\\n# Assuming df is alre...</td>\n",
              "      <td>True</td>\n",
              "    </tr>\n",
              "    <tr>\n",
              "      <th>1</th>\n",
              "      <td>Is the most frequent travel value rarely trave...</td>\n",
              "      <td>066_IBM_HR</td>\n",
              "      <td>\\nresult = df['BusinessTravel'].value_counts()...</td>\n",
              "      <td>True</td>\n",
              "    </tr>\n",
              "    <tr>\n",
              "      <th>2</th>\n",
              "      <td>Is the highest DailyRate equal to 1499?</td>\n",
              "      <td>066_IBM_HR</td>\n",
              "      <td>\\nimport pandas as pd\\n\\n# Assuming df is alre...</td>\n",
              "      <td>False</td>\n",
              "    </tr>\n",
              "    <tr>\n",
              "      <th>3</th>\n",
              "      <td>Is the highest DailyRate negative?</td>\n",
              "      <td>066_IBM_HR</td>\n",
              "      <td>\\nresult = df['DailyRate'].max() &lt; 0\\n</td>\n",
              "      <td>False</td>\n",
              "    </tr>\n",
              "    <tr>\n",
              "      <th>4</th>\n",
              "      <td>Is our research dept bigger than sales?</td>\n",
              "      <td>066_IBM_HR</td>\n",
              "      <td>\\n# Filter the dataframe for the Research &amp; De...</td>\n",
              "      <td>True</td>\n",
              "    </tr>\n",
              "  </tbody>\n",
              "</table>\n",
              "</div>\n",
              "    <div class=\"colab-df-buttons\">\n",
              "\n",
              "  <div class=\"colab-df-container\">\n",
              "    <button class=\"colab-df-convert\" onclick=\"convertToInteractive('df-e1e9c49b-1640-4fde-99b0-e13ce04f14a5')\"\n",
              "            title=\"Convert this dataframe to an interactive table.\"\n",
              "            style=\"display:none;\">\n",
              "\n",
              "  <svg xmlns=\"http://www.w3.org/2000/svg\" height=\"24px\" viewBox=\"0 -960 960 960\">\n",
              "    <path d=\"M120-120v-720h720v720H120Zm60-500h600v-160H180v160Zm220 220h160v-160H400v160Zm0 220h160v-160H400v160ZM180-400h160v-160H180v160Zm440 0h160v-160H620v160ZM180-180h160v-160H180v160Zm440 0h160v-160H620v160Z\"/>\n",
              "  </svg>\n",
              "    </button>\n",
              "\n",
              "  <style>\n",
              "    .colab-df-container {\n",
              "      display:flex;\n",
              "      gap: 12px;\n",
              "    }\n",
              "\n",
              "    .colab-df-convert {\n",
              "      background-color: #E8F0FE;\n",
              "      border: none;\n",
              "      border-radius: 50%;\n",
              "      cursor: pointer;\n",
              "      display: none;\n",
              "      fill: #1967D2;\n",
              "      height: 32px;\n",
              "      padding: 0 0 0 0;\n",
              "      width: 32px;\n",
              "    }\n",
              "\n",
              "    .colab-df-convert:hover {\n",
              "      background-color: #E2EBFA;\n",
              "      box-shadow: 0px 1px 2px rgba(60, 64, 67, 0.3), 0px 1px 3px 1px rgba(60, 64, 67, 0.15);\n",
              "      fill: #174EA6;\n",
              "    }\n",
              "\n",
              "    .colab-df-buttons div {\n",
              "      margin-bottom: 4px;\n",
              "    }\n",
              "\n",
              "    [theme=dark] .colab-df-convert {\n",
              "      background-color: #3B4455;\n",
              "      fill: #D2E3FC;\n",
              "    }\n",
              "\n",
              "    [theme=dark] .colab-df-convert:hover {\n",
              "      background-color: #434B5C;\n",
              "      box-shadow: 0px 1px 3px 1px rgba(0, 0, 0, 0.15);\n",
              "      filter: drop-shadow(0px 1px 2px rgba(0, 0, 0, 0.3));\n",
              "      fill: #FFFFFF;\n",
              "    }\n",
              "  </style>\n",
              "\n",
              "    <script>\n",
              "      const buttonEl =\n",
              "        document.querySelector('#df-e1e9c49b-1640-4fde-99b0-e13ce04f14a5 button.colab-df-convert');\n",
              "      buttonEl.style.display =\n",
              "        google.colab.kernel.accessAllowed ? 'block' : 'none';\n",
              "\n",
              "      async function convertToInteractive(key) {\n",
              "        const element = document.querySelector('#df-e1e9c49b-1640-4fde-99b0-e13ce04f14a5');\n",
              "        const dataTable =\n",
              "          await google.colab.kernel.invokeFunction('convertToInteractive',\n",
              "                                                    [key], {});\n",
              "        if (!dataTable) return;\n",
              "\n",
              "        const docLinkHtml = 'Like what you see? Visit the ' +\n",
              "          '<a target=\"_blank\" href=https://colab.research.google.com/notebooks/data_table.ipynb>data table notebook</a>'\n",
              "          + ' to learn more about interactive tables.';\n",
              "        element.innerHTML = '';\n",
              "        dataTable['output_type'] = 'display_data';\n",
              "        await google.colab.output.renderOutput(dataTable, element);\n",
              "        const docLink = document.createElement('div');\n",
              "        docLink.innerHTML = docLinkHtml;\n",
              "        element.appendChild(docLink);\n",
              "      }\n",
              "    </script>\n",
              "  </div>\n",
              "\n",
              "\n",
              "<div id=\"df-ea18e8a6-2b1e-4124-89a3-2298e9dff9ad\">\n",
              "  <button class=\"colab-df-quickchart\" onclick=\"quickchart('df-ea18e8a6-2b1e-4124-89a3-2298e9dff9ad')\"\n",
              "            title=\"Suggest charts\"\n",
              "            style=\"display:none;\">\n",
              "\n",
              "<svg xmlns=\"http://www.w3.org/2000/svg\" height=\"24px\"viewBox=\"0 0 24 24\"\n",
              "     width=\"24px\">\n",
              "    <g>\n",
              "        <path d=\"M19 3H5c-1.1 0-2 .9-2 2v14c0 1.1.9 2 2 2h14c1.1 0 2-.9 2-2V5c0-1.1-.9-2-2-2zM9 17H7v-7h2v7zm4 0h-2V7h2v10zm4 0h-2v-4h2v4z\"/>\n",
              "    </g>\n",
              "</svg>\n",
              "  </button>\n",
              "\n",
              "<style>\n",
              "  .colab-df-quickchart {\n",
              "      --bg-color: #E8F0FE;\n",
              "      --fill-color: #1967D2;\n",
              "      --hover-bg-color: #E2EBFA;\n",
              "      --hover-fill-color: #174EA6;\n",
              "      --disabled-fill-color: #AAA;\n",
              "      --disabled-bg-color: #DDD;\n",
              "  }\n",
              "\n",
              "  [theme=dark] .colab-df-quickchart {\n",
              "      --bg-color: #3B4455;\n",
              "      --fill-color: #D2E3FC;\n",
              "      --hover-bg-color: #434B5C;\n",
              "      --hover-fill-color: #FFFFFF;\n",
              "      --disabled-bg-color: #3B4455;\n",
              "      --disabled-fill-color: #666;\n",
              "  }\n",
              "\n",
              "  .colab-df-quickchart {\n",
              "    background-color: var(--bg-color);\n",
              "    border: none;\n",
              "    border-radius: 50%;\n",
              "    cursor: pointer;\n",
              "    display: none;\n",
              "    fill: var(--fill-color);\n",
              "    height: 32px;\n",
              "    padding: 0;\n",
              "    width: 32px;\n",
              "  }\n",
              "\n",
              "  .colab-df-quickchart:hover {\n",
              "    background-color: var(--hover-bg-color);\n",
              "    box-shadow: 0 1px 2px rgba(60, 64, 67, 0.3), 0 1px 3px 1px rgba(60, 64, 67, 0.15);\n",
              "    fill: var(--button-hover-fill-color);\n",
              "  }\n",
              "\n",
              "  .colab-df-quickchart-complete:disabled,\n",
              "  .colab-df-quickchart-complete:disabled:hover {\n",
              "    background-color: var(--disabled-bg-color);\n",
              "    fill: var(--disabled-fill-color);\n",
              "    box-shadow: none;\n",
              "  }\n",
              "\n",
              "  .colab-df-spinner {\n",
              "    border: 2px solid var(--fill-color);\n",
              "    border-color: transparent;\n",
              "    border-bottom-color: var(--fill-color);\n",
              "    animation:\n",
              "      spin 1s steps(1) infinite;\n",
              "  }\n",
              "\n",
              "  @keyframes spin {\n",
              "    0% {\n",
              "      border-color: transparent;\n",
              "      border-bottom-color: var(--fill-color);\n",
              "      border-left-color: var(--fill-color);\n",
              "    }\n",
              "    20% {\n",
              "      border-color: transparent;\n",
              "      border-left-color: var(--fill-color);\n",
              "      border-top-color: var(--fill-color);\n",
              "    }\n",
              "    30% {\n",
              "      border-color: transparent;\n",
              "      border-left-color: var(--fill-color);\n",
              "      border-top-color: var(--fill-color);\n",
              "      border-right-color: var(--fill-color);\n",
              "    }\n",
              "    40% {\n",
              "      border-color: transparent;\n",
              "      border-right-color: var(--fill-color);\n",
              "      border-top-color: var(--fill-color);\n",
              "    }\n",
              "    60% {\n",
              "      border-color: transparent;\n",
              "      border-right-color: var(--fill-color);\n",
              "    }\n",
              "    80% {\n",
              "      border-color: transparent;\n",
              "      border-right-color: var(--fill-color);\n",
              "      border-bottom-color: var(--fill-color);\n",
              "    }\n",
              "    90% {\n",
              "      border-color: transparent;\n",
              "      border-bottom-color: var(--fill-color);\n",
              "    }\n",
              "  }\n",
              "</style>\n",
              "\n",
              "  <script>\n",
              "    async function quickchart(key) {\n",
              "      const quickchartButtonEl =\n",
              "        document.querySelector('#' + key + ' button');\n",
              "      quickchartButtonEl.disabled = true;  // To prevent multiple clicks.\n",
              "      quickchartButtonEl.classList.add('colab-df-spinner');\n",
              "      try {\n",
              "        const charts = await google.colab.kernel.invokeFunction(\n",
              "            'suggestCharts', [key], {});\n",
              "      } catch (error) {\n",
              "        console.error('Error during call to suggestCharts:', error);\n",
              "      }\n",
              "      quickchartButtonEl.classList.remove('colab-df-spinner');\n",
              "      quickchartButtonEl.classList.add('colab-df-quickchart-complete');\n",
              "    }\n",
              "    (() => {\n",
              "      let quickchartButtonEl =\n",
              "        document.querySelector('#df-ea18e8a6-2b1e-4124-89a3-2298e9dff9ad button');\n",
              "      quickchartButtonEl.style.display =\n",
              "        google.colab.kernel.accessAllowed ? 'block' : 'none';\n",
              "    })();\n",
              "  </script>\n",
              "</div>\n",
              "\n",
              "    </div>\n",
              "  </div>\n"
            ],
            "text/plain": [
              "                                            question     dataset  \\\n",
              "0             Is our average employee older than 35?  066_IBM_HR   \n",
              "1  Is the most frequent travel value rarely trave...  066_IBM_HR   \n",
              "2            Is the highest DailyRate equal to 1499?  066_IBM_HR   \n",
              "3                 Is the highest DailyRate negative?  066_IBM_HR   \n",
              "4            Is our research dept bigger than sales?  066_IBM_HR   \n",
              "\n",
              "                                      generated_code result_sample  \n",
              "0  \\nimport pandas as pd\\n\\n# Assuming df is alre...          True  \n",
              "1  \\nresult = df['BusinessTravel'].value_counts()...          True  \n",
              "2  \\nimport pandas as pd\\n\\n# Assuming df is alre...         False  \n",
              "3             \\nresult = df['DailyRate'].max() < 0\\n         False  \n",
              "4  \\n# Filter the dataframe for the Research & De...          True  "
            ]
          },
          "execution_count": 28,
          "metadata": {},
          "output_type": "execute_result"
        }
      ],
      "source": [
        "import pandas as pd\n",
        "from tqdm import tqdm\n",
        "\n",
        "results_df = pd.read_csv(\"Task8_Results_phi_4_unsloth_bnb_4bit.csv\")[['question', 'generated_code', 'result']]\n",
        "original_df = pd.read_csv(\"competition/test_qa.csv\")\n",
        "\n",
        "results_df = results_df.rename(columns={'result':'result_sample'})\n",
        "results_df['dataset'] = original_df['dataset']\n",
        "\n",
        "results_df = results_df[['question', 'dataset', 'generated_code', 'result_sample']]\n",
        "\n",
        "results_df.head()"
      ]
    },
    {
      "cell_type": "code",
      "execution_count": null,
      "metadata": {
        "id": "F0PEV4lQ06zl"
      },
      "outputs": [],
      "source": [
        "def execute_and_get_result(generated_code):\n",
        "    try:\n",
        "        exec(generated_code, globals())\n",
        "        # print('Execute code..')\n",
        "    except Exception as E:\n",
        "        return E"
      ]
    },
    {
      "cell_type": "code",
      "execution_count": null,
      "metadata": {
        "colab": {
          "base_uri": "https://localhost:8080/",
          "height": 1000
        },
        "id": "RfVB_Nif1EzL",
        "outputId": "32aa47ac-28bb-49f8-c43c-4286e2197cca"
      },
      "outputs": [
        {
          "name": "stderr",
          "output_type": "stream",
          "text": [
            "  2%|▏         | 8/522 [00:00<00:15, 32.90it/s]<string>:2: FutureWarning: The default of observed=False is deprecated and will be changed to True in a future version of pandas. Pass observed=False to retain current behavior or observed=True to adopt the future default and silence this warning.\n",
            "  2%|▏         | 12/522 [00:00<00:16, 30.97it/s]<string>:2: FutureWarning: The default of observed=False is deprecated and will be changed to True in a future version of pandas. Pass observed=False to retain current behavior or observed=True to adopt the future default and silence this warning.\n",
            "<string>:5: FutureWarning: The default of observed=False is deprecated and will be changed to True in a future version of pandas. Pass observed=False to retain current behavior or observed=True to adopt the future default and silence this warning.\n",
            " 14%|█▍        | 75/522 [00:22<06:11,  1.20it/s]<string>:3: FutureWarning: The default of observed=False is deprecated and will be changed to True in a future version of pandas. Pass observed=False to retain current behavior or observed=True to adopt the future default and silence this warning.\n",
            " 15%|█▌        | 79/522 [00:26<06:11,  1.19it/s]<string>:3: FutureWarning: The default of observed=False is deprecated and will be changed to True in a future version of pandas. Pass observed=False to retain current behavior or observed=True to adopt the future default and silence this warning.\n",
            " 19%|█▊        | 97/522 [00:40<05:28,  1.29it/s]<string>:3: FutureWarning: The default of observed=False is deprecated and will be changed to True in a future version of pandas. Pass observed=False to retain current behavior or observed=True to adopt the future default and silence this warning.\n",
            " 22%|██▏       | 116/522 [00:44<00:33, 12.10it/s]"
          ]
        },
        {
          "name": "stdout",
          "output_type": "stream",
          "text": [
            "True\n"
          ]
        },
        {
          "name": "stderr",
          "output_type": "stream",
          "text": [
            " 24%|██▎       | 123/522 [00:44<00:21, 18.33it/s]<string>:6: FutureWarning: The default of observed=False is deprecated and will be changed to True in a future version of pandas. Pass observed=False to retain current behavior or observed=True to adopt the future default and silence this warning.\n",
            " 25%|██▍       | 128/522 [00:44<00:17, 22.11it/s]<string>:6: FutureWarning: The default of observed=False is deprecated and will be changed to True in a future version of pandas. Pass observed=False to retain current behavior or observed=True to adopt the future default and silence this warning.\n",
            "<string>:3: FutureWarning: The default of observed=False is deprecated and will be changed to True in a future version of pandas. Pass observed=False to retain current behavior or observed=True to adopt the future default and silence this warning.\n",
            " 54%|█████▍    | 282/522 [00:47<00:03, 62.53it/s]<string>:5: FutureWarning: The default of observed=False is deprecated and will be changed to True in a future version of pandas. Pass observed=False to retain current behavior or observed=True to adopt the future default and silence this warning.\n",
            "<string>:5: FutureWarning: The default of observed=False is deprecated and will be changed to True in a future version of pandas. Pass observed=False to retain current behavior or observed=True to adopt the future default and silence this warning.\n",
            " 57%|█████▋    | 296/522 [00:47<00:03, 61.82it/s]<string>:5: FutureWarning: The default of observed=False is deprecated and will be changed to True in a future version of pandas. Pass observed=False to retain current behavior or observed=True to adopt the future default and silence this warning.\n",
            "<string>:5: FutureWarning: The default of observed=False is deprecated and will be changed to True in a future version of pandas. Pass observed=False to retain current behavior or observed=True to adopt the future default and silence this warning.\n",
            " 58%|█████▊    | 303/522 [00:47<00:03, 60.49it/s]<string>:3: FutureWarning: The default of observed=False is deprecated and will be changed to True in a future version of pandas. Pass observed=False to retain current behavior or observed=True to adopt the future default and silence this warning.\n",
            " 59%|█████▉    | 310/522 [00:47<00:03, 61.04it/s]<string>:3: FutureWarning: The default of observed=False is deprecated and will be changed to True in a future version of pandas. Pass observed=False to retain current behavior or observed=True to adopt the future default and silence this warning.\n",
            " 61%|██████    | 317/522 [00:47<00:03, 59.04it/s]<string>:3: FutureWarning: The default of observed=False is deprecated and will be changed to True in a future version of pandas. Pass observed=False to retain current behavior or observed=True to adopt the future default and silence this warning.\n",
            "<string>:3: FutureWarning: The default of observed=False is deprecated and will be changed to True in a future version of pandas. Pass observed=False to retain current behavior or observed=True to adopt the future default and silence this warning.\n",
            "<string>:3: FutureWarning: The default of observed=False is deprecated and will be changed to True in a future version of pandas. Pass observed=False to retain current behavior or observed=True to adopt the future default and silence this warning.\n",
            " 63%|██████▎   | 330/522 [00:48<00:03, 58.61it/s]<string>:6: SettingWithCopyWarning: \n",
            "A value is trying to be set on a copy of a slice from a DataFrame.\n",
            "Try using .loc[row_indexer,col_indexer] = value instead\n",
            "\n",
            "See the caveats in the documentation: https://pandas.pydata.org/pandas-docs/stable/user_guide/indexing.html#returning-a-view-versus-a-copy\n",
            "<string>:6: SettingWithCopyWarning: \n",
            "A value is trying to be set on a copy of a slice from a DataFrame.\n",
            "Try using .loc[row_indexer,col_indexer] = value instead\n",
            "\n",
            "See the caveats in the documentation: https://pandas.pydata.org/pandas-docs/stable/user_guide/indexing.html#returning-a-view-versus-a-copy\n",
            "<string>:4: SettingWithCopyWarning: \n",
            "A value is trying to be set on a copy of a slice from a DataFrame.\n",
            "Try using .loc[row_indexer,col_indexer] = value instead\n",
            "\n",
            "See the caveats in the documentation: https://pandas.pydata.org/pandas-docs/stable/user_guide/indexing.html#returning-a-view-versus-a-copy\n",
            "<string>:3: FutureWarning: The default of observed=False is deprecated and will be changed to True in a future version of pandas. Pass observed=False to retain current behavior or observed=True to adopt the future default and silence this warning.\n",
            " 66%|██████▌   | 342/522 [00:48<00:03, 51.01it/s]<string>:2: FutureWarning: The default of observed=False is deprecated and will be changed to True in a future version of pandas. Pass observed=False to retain current behavior or observed=True to adopt the future default and silence this warning.\n",
            " 67%|██████▋   | 348/522 [00:48<00:03, 44.21it/s]<string>:3: FutureWarning: The default of observed=False is deprecated and will be changed to True in a future version of pandas. Pass observed=False to retain current behavior or observed=True to adopt the future default and silence this warning.\n",
            " 70%|███████   | 367/522 [00:49<00:04, 36.28it/s]<string>:3: FutureWarning: The default of observed=False is deprecated and will be changed to True in a future version of pandas. Pass observed=False to retain current behavior or observed=True to adopt the future default and silence this warning.\n",
            "<string>:3: FutureWarning: The default of observed=False is deprecated and will be changed to True in a future version of pandas. Pass observed=False to retain current behavior or observed=True to adopt the future default and silence this warning.\n",
            " 74%|███████▍  | 385/522 [00:49<00:02, 50.27it/s]"
          ]
        },
        {
          "name": "stdout",
          "output_type": "stream",
          "text": [
            "True\n"
          ]
        },
        {
          "name": "stderr",
          "output_type": "stream",
          "text": [
            " 92%|█████████▏| 478/522 [02:42<04:18,  5.88s/it]<string>:6: SettingWithCopyWarning: \n",
            "A value is trying to be set on a copy of a slice from a DataFrame.\n",
            "Try using .loc[row_indexer,col_indexer] = value instead\n",
            "\n",
            "See the caveats in the documentation: https://pandas.pydata.org/pandas-docs/stable/user_guide/indexing.html#returning-a-view-versus-a-copy\n",
            "100%|██████████| 522/522 [02:43<00:00,  3.19it/s]\n"
          ]
        },
        {
          "data": {
            "application/vnd.google.colaboratory.intrinsic+json": {
              "summary": "{\n  \"name\": \"results_df\",\n  \"rows\": 522,\n  \"fields\": [\n    {\n      \"column\": \"question\",\n      \"properties\": {\n        \"dtype\": \"string\",\n        \"num_unique_values\": 522,\n        \"samples\": [\n          \"Provide the size of the top 3 greatest areas a fire affected.\",\n          \"List the unique month names corresponding to the driest 4 percentages of RH.\",\n          \"Are there more employees who travel frequently than those who work in the HR department?\"\n        ],\n        \"semantic_type\": \"\",\n        \"description\": \"\"\n      }\n    },\n    {\n      \"column\": \"dataset\",\n      \"properties\": {\n        \"dtype\": \"category\",\n        \"num_unique_values\": 15,\n        \"samples\": [\n          \"075_Mortality\",\n          \"077_Gestational\",\n          \"066_IBM_HR\"\n        ],\n        \"semantic_type\": \"\",\n        \"description\": \"\"\n      }\n    },\n    {\n      \"column\": \"generated_code\",\n      \"properties\": {\n        \"dtype\": \"string\",\n        \"num_unique_values\": 520,\n        \"samples\": [\n          \"\\nimport pandas as pd\\n\\n# Convert the minimum lifted amount from kg to pounds\\nmin_lifted_pounds = df['Amount Lifted (kg)'].min() * 2.20462\\n\\n# Check if the minimum lifted amount in pounds is less than 330\\nresult = min_lifted_pounds < 330\\n\",\n          \"\\n# Extract unique fiscal years from the dataset\\nfiscal_years = df['Fiscal Year'].unique()\\n\\n# Filter the first three fiscal years\\nfirst_three_fiscal_years = sorted(fiscal_years)[:3]\\n\\n# Calculate the total amount awarded for each of the first three fiscal years\\nresult = df[df['Fiscal Year'].isin(first_three_fiscal_years)].groupby('Fiscal Year')['Supplier Contract Amount (USD)'].sum().to_dict()\\n\",\n          \"\\nimport pandas as pd\\n\\n# Assuming df is already loaded\\n# Count employees who travel frequently\\nfrequent_travelers = df[df['BusinessTravel'] == 'Travel_Frequently'].shape[0]\\n\\n# Count employees in the HR department\\nhr_employees = df[df['Department'] == 'Human Resources'].shape[0]\\n\\n# Compare the counts\\nresult = frequent_travelers > hr_employees\\n\"\n        ],\n        \"semantic_type\": \"\",\n        \"description\": \"\"\n      }\n    },\n    {\n      \"column\": \"result_sample\",\n      \"properties\": {\n        \"dtype\": \"string\",\n        \"num_unique_values\": 298,\n        \"samples\": [\n          \"74 kg\",\n          \"   transaction_id  transaction_qty  store_id   store_location  product_id  \\\\\\n0               1                2         5  Lower Manhattan          32   \\n1               2                2         5  Lower Manhattan          57   \\n2               3                2         5  Lower Manhattan          59   \\n\\n   unit_price    product_category           product_type  \\\\\\n0         3.0              Coffee  Gourmet brewed coffee   \\n1         3.1                 Tea        Brewed Chai tea   \\n2         4.5  Drinking Chocolate          Hot chocolate   \\n\\n             product_detail   Revenue  Month Month_1  Weekday Weekday_1  Hour  \\n0               Ethiopia Rg  6,00\\u00a0US$      1     Jan        7       Sun     7  \\n1  Spicy Eye Opener Chai Lg  6,20\\u00a0US$      1     Jan        7       Sun     7  \\n2         Dark chocolate Lg  9,00\\u00a0US$      1     Jan        7       Sun     7  \",\n          \"['December', 'February', 'August']\"\n        ],\n        \"semantic_type\": \"\",\n        \"description\": \"\"\n      }\n    },\n    {\n      \"column\": \"result_all\",\n      \"properties\": {\n        \"dtype\": \"string\",\n        \"num_unique_values\": 332,\n        \"samples\": [\n          \"['Single', 'Married', 'Divorced']\",\n          \"12\",\n          \"Commercial Trucks\"\n        ],\n        \"semantic_type\": \"\",\n        \"description\": \"\"\n      }\n    }\n  ]\n}",
              "type": "dataframe",
              "variable_name": "results_df"
            },
            "text/html": [
              "\n",
              "  <div id=\"df-e6f209b2-8837-45f0-afe2-634da4d043b3\" class=\"colab-df-container\">\n",
              "    <div>\n",
              "<style scoped>\n",
              "    .dataframe tbody tr th:only-of-type {\n",
              "        vertical-align: middle;\n",
              "    }\n",
              "\n",
              "    .dataframe tbody tr th {\n",
              "        vertical-align: top;\n",
              "    }\n",
              "\n",
              "    .dataframe thead th {\n",
              "        text-align: right;\n",
              "    }\n",
              "</style>\n",
              "<table border=\"1\" class=\"dataframe\">\n",
              "  <thead>\n",
              "    <tr style=\"text-align: right;\">\n",
              "      <th></th>\n",
              "      <th>question</th>\n",
              "      <th>dataset</th>\n",
              "      <th>generated_code</th>\n",
              "      <th>result_sample</th>\n",
              "      <th>result_all</th>\n",
              "    </tr>\n",
              "  </thead>\n",
              "  <tbody>\n",
              "    <tr>\n",
              "      <th>0</th>\n",
              "      <td>Is our average employee older than 35?</td>\n",
              "      <td>066_IBM_HR</td>\n",
              "      <td>\\nimport pandas as pd\\n\\n# Assuming df is alre...</td>\n",
              "      <td>True</td>\n",
              "      <td>True</td>\n",
              "    </tr>\n",
              "    <tr>\n",
              "      <th>1</th>\n",
              "      <td>Is the most frequent travel value rarely trave...</td>\n",
              "      <td>066_IBM_HR</td>\n",
              "      <td>\\nresult = df['BusinessTravel'].value_counts()...</td>\n",
              "      <td>True</td>\n",
              "      <td>True</td>\n",
              "    </tr>\n",
              "    <tr>\n",
              "      <th>2</th>\n",
              "      <td>Is the highest DailyRate equal to 1499?</td>\n",
              "      <td>066_IBM_HR</td>\n",
              "      <td>\\nimport pandas as pd\\n\\n# Assuming df is alre...</td>\n",
              "      <td>False</td>\n",
              "      <td>True</td>\n",
              "    </tr>\n",
              "    <tr>\n",
              "      <th>3</th>\n",
              "      <td>Is the highest DailyRate negative?</td>\n",
              "      <td>066_IBM_HR</td>\n",
              "      <td>\\nresult = df['DailyRate'].max() &lt; 0\\n</td>\n",
              "      <td>False</td>\n",
              "      <td>False</td>\n",
              "    </tr>\n",
              "    <tr>\n",
              "      <th>4</th>\n",
              "      <td>Is our research dept bigger than sales?</td>\n",
              "      <td>066_IBM_HR</td>\n",
              "      <td>\\n# Filter the dataframe for the Research &amp; De...</td>\n",
              "      <td>True</td>\n",
              "      <td>True</td>\n",
              "    </tr>\n",
              "  </tbody>\n",
              "</table>\n",
              "</div>\n",
              "    <div class=\"colab-df-buttons\">\n",
              "\n",
              "  <div class=\"colab-df-container\">\n",
              "    <button class=\"colab-df-convert\" onclick=\"convertToInteractive('df-e6f209b2-8837-45f0-afe2-634da4d043b3')\"\n",
              "            title=\"Convert this dataframe to an interactive table.\"\n",
              "            style=\"display:none;\">\n",
              "\n",
              "  <svg xmlns=\"http://www.w3.org/2000/svg\" height=\"24px\" viewBox=\"0 -960 960 960\">\n",
              "    <path d=\"M120-120v-720h720v720H120Zm60-500h600v-160H180v160Zm220 220h160v-160H400v160Zm0 220h160v-160H400v160ZM180-400h160v-160H180v160Zm440 0h160v-160H620v160ZM180-180h160v-160H180v160Zm440 0h160v-160H620v160Z\"/>\n",
              "  </svg>\n",
              "    </button>\n",
              "\n",
              "  <style>\n",
              "    .colab-df-container {\n",
              "      display:flex;\n",
              "      gap: 12px;\n",
              "    }\n",
              "\n",
              "    .colab-df-convert {\n",
              "      background-color: #E8F0FE;\n",
              "      border: none;\n",
              "      border-radius: 50%;\n",
              "      cursor: pointer;\n",
              "      display: none;\n",
              "      fill: #1967D2;\n",
              "      height: 32px;\n",
              "      padding: 0 0 0 0;\n",
              "      width: 32px;\n",
              "    }\n",
              "\n",
              "    .colab-df-convert:hover {\n",
              "      background-color: #E2EBFA;\n",
              "      box-shadow: 0px 1px 2px rgba(60, 64, 67, 0.3), 0px 1px 3px 1px rgba(60, 64, 67, 0.15);\n",
              "      fill: #174EA6;\n",
              "    }\n",
              "\n",
              "    .colab-df-buttons div {\n",
              "      margin-bottom: 4px;\n",
              "    }\n",
              "\n",
              "    [theme=dark] .colab-df-convert {\n",
              "      background-color: #3B4455;\n",
              "      fill: #D2E3FC;\n",
              "    }\n",
              "\n",
              "    [theme=dark] .colab-df-convert:hover {\n",
              "      background-color: #434B5C;\n",
              "      box-shadow: 0px 1px 3px 1px rgba(0, 0, 0, 0.15);\n",
              "      filter: drop-shadow(0px 1px 2px rgba(0, 0, 0, 0.3));\n",
              "      fill: #FFFFFF;\n",
              "    }\n",
              "  </style>\n",
              "\n",
              "    <script>\n",
              "      const buttonEl =\n",
              "        document.querySelector('#df-e6f209b2-8837-45f0-afe2-634da4d043b3 button.colab-df-convert');\n",
              "      buttonEl.style.display =\n",
              "        google.colab.kernel.accessAllowed ? 'block' : 'none';\n",
              "\n",
              "      async function convertToInteractive(key) {\n",
              "        const element = document.querySelector('#df-e6f209b2-8837-45f0-afe2-634da4d043b3');\n",
              "        const dataTable =\n",
              "          await google.colab.kernel.invokeFunction('convertToInteractive',\n",
              "                                                    [key], {});\n",
              "        if (!dataTable) return;\n",
              "\n",
              "        const docLinkHtml = 'Like what you see? Visit the ' +\n",
              "          '<a target=\"_blank\" href=https://colab.research.google.com/notebooks/data_table.ipynb>data table notebook</a>'\n",
              "          + ' to learn more about interactive tables.';\n",
              "        element.innerHTML = '';\n",
              "        dataTable['output_type'] = 'display_data';\n",
              "        await google.colab.output.renderOutput(dataTable, element);\n",
              "        const docLink = document.createElement('div');\n",
              "        docLink.innerHTML = docLinkHtml;\n",
              "        element.appendChild(docLink);\n",
              "      }\n",
              "    </script>\n",
              "  </div>\n",
              "\n",
              "\n",
              "<div id=\"df-b1de34f8-6ffe-4ed3-a7e3-453318d2a1ea\">\n",
              "  <button class=\"colab-df-quickchart\" onclick=\"quickchart('df-b1de34f8-6ffe-4ed3-a7e3-453318d2a1ea')\"\n",
              "            title=\"Suggest charts\"\n",
              "            style=\"display:none;\">\n",
              "\n",
              "<svg xmlns=\"http://www.w3.org/2000/svg\" height=\"24px\"viewBox=\"0 0 24 24\"\n",
              "     width=\"24px\">\n",
              "    <g>\n",
              "        <path d=\"M19 3H5c-1.1 0-2 .9-2 2v14c0 1.1.9 2 2 2h14c1.1 0 2-.9 2-2V5c0-1.1-.9-2-2-2zM9 17H7v-7h2v7zm4 0h-2V7h2v10zm4 0h-2v-4h2v4z\"/>\n",
              "    </g>\n",
              "</svg>\n",
              "  </button>\n",
              "\n",
              "<style>\n",
              "  .colab-df-quickchart {\n",
              "      --bg-color: #E8F0FE;\n",
              "      --fill-color: #1967D2;\n",
              "      --hover-bg-color: #E2EBFA;\n",
              "      --hover-fill-color: #174EA6;\n",
              "      --disabled-fill-color: #AAA;\n",
              "      --disabled-bg-color: #DDD;\n",
              "  }\n",
              "\n",
              "  [theme=dark] .colab-df-quickchart {\n",
              "      --bg-color: #3B4455;\n",
              "      --fill-color: #D2E3FC;\n",
              "      --hover-bg-color: #434B5C;\n",
              "      --hover-fill-color: #FFFFFF;\n",
              "      --disabled-bg-color: #3B4455;\n",
              "      --disabled-fill-color: #666;\n",
              "  }\n",
              "\n",
              "  .colab-df-quickchart {\n",
              "    background-color: var(--bg-color);\n",
              "    border: none;\n",
              "    border-radius: 50%;\n",
              "    cursor: pointer;\n",
              "    display: none;\n",
              "    fill: var(--fill-color);\n",
              "    height: 32px;\n",
              "    padding: 0;\n",
              "    width: 32px;\n",
              "  }\n",
              "\n",
              "  .colab-df-quickchart:hover {\n",
              "    background-color: var(--hover-bg-color);\n",
              "    box-shadow: 0 1px 2px rgba(60, 64, 67, 0.3), 0 1px 3px 1px rgba(60, 64, 67, 0.15);\n",
              "    fill: var(--button-hover-fill-color);\n",
              "  }\n",
              "\n",
              "  .colab-df-quickchart-complete:disabled,\n",
              "  .colab-df-quickchart-complete:disabled:hover {\n",
              "    background-color: var(--disabled-bg-color);\n",
              "    fill: var(--disabled-fill-color);\n",
              "    box-shadow: none;\n",
              "  }\n",
              "\n",
              "  .colab-df-spinner {\n",
              "    border: 2px solid var(--fill-color);\n",
              "    border-color: transparent;\n",
              "    border-bottom-color: var(--fill-color);\n",
              "    animation:\n",
              "      spin 1s steps(1) infinite;\n",
              "  }\n",
              "\n",
              "  @keyframes spin {\n",
              "    0% {\n",
              "      border-color: transparent;\n",
              "      border-bottom-color: var(--fill-color);\n",
              "      border-left-color: var(--fill-color);\n",
              "    }\n",
              "    20% {\n",
              "      border-color: transparent;\n",
              "      border-left-color: var(--fill-color);\n",
              "      border-top-color: var(--fill-color);\n",
              "    }\n",
              "    30% {\n",
              "      border-color: transparent;\n",
              "      border-left-color: var(--fill-color);\n",
              "      border-top-color: var(--fill-color);\n",
              "      border-right-color: var(--fill-color);\n",
              "    }\n",
              "    40% {\n",
              "      border-color: transparent;\n",
              "      border-right-color: var(--fill-color);\n",
              "      border-top-color: var(--fill-color);\n",
              "    }\n",
              "    60% {\n",
              "      border-color: transparent;\n",
              "      border-right-color: var(--fill-color);\n",
              "    }\n",
              "    80% {\n",
              "      border-color: transparent;\n",
              "      border-right-color: var(--fill-color);\n",
              "      border-bottom-color: var(--fill-color);\n",
              "    }\n",
              "    90% {\n",
              "      border-color: transparent;\n",
              "      border-bottom-color: var(--fill-color);\n",
              "    }\n",
              "  }\n",
              "</style>\n",
              "\n",
              "  <script>\n",
              "    async function quickchart(key) {\n",
              "      const quickchartButtonEl =\n",
              "        document.querySelector('#' + key + ' button');\n",
              "      quickchartButtonEl.disabled = true;  // To prevent multiple clicks.\n",
              "      quickchartButtonEl.classList.add('colab-df-spinner');\n",
              "      try {\n",
              "        const charts = await google.colab.kernel.invokeFunction(\n",
              "            'suggestCharts', [key], {});\n",
              "      } catch (error) {\n",
              "        console.error('Error during call to suggestCharts:', error);\n",
              "      }\n",
              "      quickchartButtonEl.classList.remove('colab-df-spinner');\n",
              "      quickchartButtonEl.classList.add('colab-df-quickchart-complete');\n",
              "    }\n",
              "    (() => {\n",
              "      let quickchartButtonEl =\n",
              "        document.querySelector('#df-b1de34f8-6ffe-4ed3-a7e3-453318d2a1ea button');\n",
              "      quickchartButtonEl.style.display =\n",
              "        google.colab.kernel.accessAllowed ? 'block' : 'none';\n",
              "    })();\n",
              "  </script>\n",
              "</div>\n",
              "\n",
              "    </div>\n",
              "  </div>\n"
            ],
            "text/plain": [
              "                                            question     dataset  \\\n",
              "0             Is our average employee older than 35?  066_IBM_HR   \n",
              "1  Is the most frequent travel value rarely trave...  066_IBM_HR   \n",
              "2            Is the highest DailyRate equal to 1499?  066_IBM_HR   \n",
              "3                 Is the highest DailyRate negative?  066_IBM_HR   \n",
              "4            Is our research dept bigger than sales?  066_IBM_HR   \n",
              "\n",
              "                                      generated_code result_sample result_all  \n",
              "0  \\nimport pandas as pd\\n\\n# Assuming df is alre...          True       True  \n",
              "1  \\nresult = df['BusinessTravel'].value_counts()...          True       True  \n",
              "2  \\nimport pandas as pd\\n\\n# Assuming df is alre...         False       True  \n",
              "3             \\nresult = df['DailyRate'].max() < 0\\n         False      False  \n",
              "4  \\n# Filter the dataframe for the Research & De...          True       True  "
            ]
          },
          "execution_count": 36,
          "metadata": {},
          "output_type": "execute_result"
        }
      ],
      "source": [
        "all_model_predictions = []\n",
        "\n",
        "for _, row in tqdm(results_df.iterrows(), total=len(results_df)):\n",
        "    result = None\n",
        "    df = pd.read_parquet(f\"competition/{row['dataset']}/all.parquet\")\n",
        "    _ = execute_and_get_result(row['generated_code'])\n",
        "    all_model_predictions.append(str(result))\n",
        "\n",
        "results_df['result_all'] = all_model_predictions\n",
        "\n",
        "results_df.head()"
      ]
    },
    {
      "cell_type": "code",
      "execution_count": null,
      "metadata": {
        "id": "BIB_aPL-wwgq"
      },
      "outputs": [],
      "source": [
        "final_result_sample = [str(result).strip().replace('\\n', '') for result in results_df['result_sample']]\n",
        "final_result_all = [str(result).strip().replace('\\n', '') for result in results_df['result_all']]\n",
        "\n",
        "with open('predictions.txt', 'w') as f:\n",
        "    f.write('\\n'.join(final_result_all))\n",
        "with open('predictions_lite.txt', 'w') as f:\n",
        "    f.write('\\n'.join(final_result_sample))\n",
        "results_df.to_excel('submission_results.xlsx', index=False)"
      ]
    },
    {
      "cell_type": "markdown",
      "metadata": {
        "id": "mA61NB5HtVQN"
      },
      "source": [
        "## Rest"
      ]
    },
    {
      "cell_type": "code",
      "execution_count": null,
      "metadata": {
        "id": "LymgKJTYezop"
      },
      "outputs": [],
      "source": [
        "def execute_and_get_result(llm_output):\n",
        "    # result = None\n",
        "    generated_code = llm_output.split('```python')[-1].split(\"```\")[0]\n",
        "    # print(generated_code)\n",
        "\n",
        "    try:\n",
        "        exec(generated_code, globals())\n",
        "        print('Execute code..')\n",
        "    except Exception as E:\n",
        "        return E  # Return the exception to be handled in chat retry\n",
        "\n",
        "    # return str(global_scope[\"result\"])\n",
        "\n",
        "answers = []\n",
        "result = None\n",
        "\n",
        "correct_outs = 0\n",
        "for ind in range(len(semeval_dev_qa)):\n",
        "\n",
        "    example_data = semeval_dev_qa[ind]\n",
        "    df = pd.read_parquet(f\"/content/competition/{file}/sample.parquet\")\n",
        "    question = example_data['question']\n",
        "\n",
        "    prompt = generate_prompt(df, question)\n",
        "    prompt_check = reason_prompt.format(instruction=str(prompt[0]['content']), input=str(prompt[1]['content']), output=\"\")\n",
        "\n",
        "\n",
        "    for _ in range(2):\n",
        "\n",
        "        inputs = tokenizer([prompt_check], return_tensors = \"pt\").to(device)\n",
        "        outputs = model.generate(**inputs, max_new_tokens = 512, use_cache = True)\n",
        "        llm_output = tokenizer.batch_decode(outputs, skip_special_tokens=True)[0].split('### Response:\\n')[-1]\n",
        "        res = execute_and_get_result(llm_output)\n",
        "\n",
        "        if isinstance(res, Exception):\n",
        "            print(f\"Retrying due to exception...{res}\")\n",
        "\n",
        "            # messages.append({'role':'assistant', 'content':llm_output})\n",
        "            # messages.append({'role':'user', 'content':f\"\\n Error encountered: {str(res)}. Please fix the code and rewrite it again\"})\n",
        "            prompt_check += llm_output\n",
        "            prompt_check += f\"\\n ### Code Feedback: \\nError encountered: {str(res)}. Please fix the code and rewrite it again\"\n",
        "            prompt_check += f\"\\n ### Response:\\n\"\n",
        "\n",
        "        else:\n",
        "            break  # Exit loop if no exception\n",
        "\n",
        "    # llm_output, ind\n",
        "    # generated_code\n",
        "    # result\n",
        "    df_outs = pd.concat([df_outs, pd.DataFrame([{'ind':ind,\n",
        "                                                 'llm_output':llm_output,\n",
        "                                                 'generated_code':llm_output.split('```python')[-1].split(\"```\")[0],\n",
        "                                                 'result':result}])], ignore_index=True)\n",
        "\n",
        "    answers.append(str(result))\n",
        "\n",
        "    print('-'*150)\n",
        "    print('Response final:')\n",
        "    print(prompt_check.split('### Response:\\n')[-1])\n",
        "\n",
        "    gold = str(example_data['answer'])\n",
        "\n",
        "    print('-'*150)\n",
        "    if gold == answers[-1]:\n",
        "        print('Correct')\n",
        "        print('Answer', gold)\n",
        "        correct_outs += 1\n",
        "    else:\n",
        "        print('Incorrect')\n",
        "        print('Gold:', gold)\n",
        "        print('Predicted:', result)\n",
        "    print('-'*150)\n",
        "\n",
        "    print('Fraction of correct Responses:')\n",
        "    print(correct_outs/(ind+1))\n",
        "\n",
        "    print('--'*50)\n",
        "\n",
        "    break"
      ]
    },
    {
      "cell_type": "code",
      "execution_count": null,
      "metadata": {
        "id": "HmBBHQuAcAA4"
      },
      "outputs": [],
      "source": [
        "df_outs"
      ]
    },
    {
      "cell_type": "code",
      "execution_count": null,
      "metadata": {
        "colab": {
          "base_uri": "https://localhost:8080/",
          "height": 423
        },
        "id": "MAsqroKrHJ6P",
        "outputId": "b6b65d7c-e278-49c7-cf03-a5014c98eed0"
      },
      "outputs": [
        {
          "data": {
            "application/vnd.google.colaboratory.intrinsic+json": {
              "summary": "{\n  \"name\": \"pd\",\n  \"rows\": 522,\n  \"fields\": [\n    {\n      \"column\": \"question\",\n      \"properties\": {\n        \"dtype\": \"string\",\n        \"num_unique_values\": 522,\n        \"samples\": [\n          \"Provide the size of the top 3 greatest areas a fire affected.\",\n          \"List the unique month names corresponding to the driest 4 percentages of RH.\",\n          \"Are there more employees who travel frequently than those who work in the HR department?\"\n        ],\n        \"semantic_type\": \"\",\n        \"description\": \"\"\n      }\n    },\n    {\n      \"column\": \"dataset\",\n      \"properties\": {\n        \"dtype\": \"category\",\n        \"num_unique_values\": 15,\n        \"samples\": [\n          \"075_Mortality\",\n          \"077_Gestational\",\n          \"066_IBM_HR\"\n        ],\n        \"semantic_type\": \"\",\n        \"description\": \"\"\n      }\n    }\n  ]\n}",
              "type": "dataframe"
            },
            "text/html": [
              "\n",
              "  <div id=\"df-e1db2c28-31b9-4f28-8143-e9b1d8da0d69\" class=\"colab-df-container\">\n",
              "    <div>\n",
              "<style scoped>\n",
              "    .dataframe tbody tr th:only-of-type {\n",
              "        vertical-align: middle;\n",
              "    }\n",
              "\n",
              "    .dataframe tbody tr th {\n",
              "        vertical-align: top;\n",
              "    }\n",
              "\n",
              "    .dataframe thead th {\n",
              "        text-align: right;\n",
              "    }\n",
              "</style>\n",
              "<table border=\"1\" class=\"dataframe\">\n",
              "  <thead>\n",
              "    <tr style=\"text-align: right;\">\n",
              "      <th></th>\n",
              "      <th>question</th>\n",
              "      <th>dataset</th>\n",
              "    </tr>\n",
              "  </thead>\n",
              "  <tbody>\n",
              "    <tr>\n",
              "      <th>0</th>\n",
              "      <td>Is our average employee older than 35?</td>\n",
              "      <td>066_IBM_HR</td>\n",
              "    </tr>\n",
              "    <tr>\n",
              "      <th>1</th>\n",
              "      <td>Is the most frequent travel value rarely trave...</td>\n",
              "      <td>066_IBM_HR</td>\n",
              "    </tr>\n",
              "    <tr>\n",
              "      <th>2</th>\n",
              "      <td>Is the highest DailyRate equal to 1499?</td>\n",
              "      <td>066_IBM_HR</td>\n",
              "    </tr>\n",
              "    <tr>\n",
              "      <th>3</th>\n",
              "      <td>Is the highest DailyRate negative?</td>\n",
              "      <td>066_IBM_HR</td>\n",
              "    </tr>\n",
              "    <tr>\n",
              "      <th>4</th>\n",
              "      <td>Is our research dept bigger than sales?</td>\n",
              "      <td>066_IBM_HR</td>\n",
              "    </tr>\n",
              "    <tr>\n",
              "      <th>...</th>\n",
              "      <td>...</td>\n",
              "      <td>...</td>\n",
              "    </tr>\n",
              "    <tr>\n",
              "      <th>517</th>\n",
              "      <td>List the titles of books with fewer than 200 p...</td>\n",
              "      <td>080_Books</td>\n",
              "    </tr>\n",
              "    <tr>\n",
              "      <th>518</th>\n",
              "      <td>List the categories of books with ratings abov...</td>\n",
              "      <td>080_Books</td>\n",
              "    </tr>\n",
              "    <tr>\n",
              "      <th>519</th>\n",
              "      <td>List the authors of books with more than 10 re...</td>\n",
              "      <td>080_Books</td>\n",
              "    </tr>\n",
              "    <tr>\n",
              "      <th>520</th>\n",
              "      <td>List the 5 categories of the last five books i...</td>\n",
              "      <td>080_Books</td>\n",
              "    </tr>\n",
              "    <tr>\n",
              "      <th>521</th>\n",
              "      <td>List the editions of books in the 'Business, I...</td>\n",
              "      <td>080_Books</td>\n",
              "    </tr>\n",
              "  </tbody>\n",
              "</table>\n",
              "<p>522 rows × 2 columns</p>\n",
              "</div>\n",
              "    <div class=\"colab-df-buttons\">\n",
              "\n",
              "  <div class=\"colab-df-container\">\n",
              "    <button class=\"colab-df-convert\" onclick=\"convertToInteractive('df-e1db2c28-31b9-4f28-8143-e9b1d8da0d69')\"\n",
              "            title=\"Convert this dataframe to an interactive table.\"\n",
              "            style=\"display:none;\">\n",
              "\n",
              "  <svg xmlns=\"http://www.w3.org/2000/svg\" height=\"24px\" viewBox=\"0 -960 960 960\">\n",
              "    <path d=\"M120-120v-720h720v720H120Zm60-500h600v-160H180v160Zm220 220h160v-160H400v160Zm0 220h160v-160H400v160ZM180-400h160v-160H180v160Zm440 0h160v-160H620v160ZM180-180h160v-160H180v160Zm440 0h160v-160H620v160Z\"/>\n",
              "  </svg>\n",
              "    </button>\n",
              "\n",
              "  <style>\n",
              "    .colab-df-container {\n",
              "      display:flex;\n",
              "      gap: 12px;\n",
              "    }\n",
              "\n",
              "    .colab-df-convert {\n",
              "      background-color: #E8F0FE;\n",
              "      border: none;\n",
              "      border-radius: 50%;\n",
              "      cursor: pointer;\n",
              "      display: none;\n",
              "      fill: #1967D2;\n",
              "      height: 32px;\n",
              "      padding: 0 0 0 0;\n",
              "      width: 32px;\n",
              "    }\n",
              "\n",
              "    .colab-df-convert:hover {\n",
              "      background-color: #E2EBFA;\n",
              "      box-shadow: 0px 1px 2px rgba(60, 64, 67, 0.3), 0px 1px 3px 1px rgba(60, 64, 67, 0.15);\n",
              "      fill: #174EA6;\n",
              "    }\n",
              "\n",
              "    .colab-df-buttons div {\n",
              "      margin-bottom: 4px;\n",
              "    }\n",
              "\n",
              "    [theme=dark] .colab-df-convert {\n",
              "      background-color: #3B4455;\n",
              "      fill: #D2E3FC;\n",
              "    }\n",
              "\n",
              "    [theme=dark] .colab-df-convert:hover {\n",
              "      background-color: #434B5C;\n",
              "      box-shadow: 0px 1px 3px 1px rgba(0, 0, 0, 0.15);\n",
              "      filter: drop-shadow(0px 1px 2px rgba(0, 0, 0, 0.3));\n",
              "      fill: #FFFFFF;\n",
              "    }\n",
              "  </style>\n",
              "\n",
              "    <script>\n",
              "      const buttonEl =\n",
              "        document.querySelector('#df-e1db2c28-31b9-4f28-8143-e9b1d8da0d69 button.colab-df-convert');\n",
              "      buttonEl.style.display =\n",
              "        google.colab.kernel.accessAllowed ? 'block' : 'none';\n",
              "\n",
              "      async function convertToInteractive(key) {\n",
              "        const element = document.querySelector('#df-e1db2c28-31b9-4f28-8143-e9b1d8da0d69');\n",
              "        const dataTable =\n",
              "          await google.colab.kernel.invokeFunction('convertToInteractive',\n",
              "                                                    [key], {});\n",
              "        if (!dataTable) return;\n",
              "\n",
              "        const docLinkHtml = 'Like what you see? Visit the ' +\n",
              "          '<a target=\"_blank\" href=https://colab.research.google.com/notebooks/data_table.ipynb>data table notebook</a>'\n",
              "          + ' to learn more about interactive tables.';\n",
              "        element.innerHTML = '';\n",
              "        dataTable['output_type'] = 'display_data';\n",
              "        await google.colab.output.renderOutput(dataTable, element);\n",
              "        const docLink = document.createElement('div');\n",
              "        docLink.innerHTML = docLinkHtml;\n",
              "        element.appendChild(docLink);\n",
              "      }\n",
              "    </script>\n",
              "  </div>\n",
              "\n",
              "\n",
              "<div id=\"df-fca90af5-8bef-443b-8577-c2e994dd2da8\">\n",
              "  <button class=\"colab-df-quickchart\" onclick=\"quickchart('df-fca90af5-8bef-443b-8577-c2e994dd2da8')\"\n",
              "            title=\"Suggest charts\"\n",
              "            style=\"display:none;\">\n",
              "\n",
              "<svg xmlns=\"http://www.w3.org/2000/svg\" height=\"24px\"viewBox=\"0 0 24 24\"\n",
              "     width=\"24px\">\n",
              "    <g>\n",
              "        <path d=\"M19 3H5c-1.1 0-2 .9-2 2v14c0 1.1.9 2 2 2h14c1.1 0 2-.9 2-2V5c0-1.1-.9-2-2-2zM9 17H7v-7h2v7zm4 0h-2V7h2v10zm4 0h-2v-4h2v4z\"/>\n",
              "    </g>\n",
              "</svg>\n",
              "  </button>\n",
              "\n",
              "<style>\n",
              "  .colab-df-quickchart {\n",
              "      --bg-color: #E8F0FE;\n",
              "      --fill-color: #1967D2;\n",
              "      --hover-bg-color: #E2EBFA;\n",
              "      --hover-fill-color: #174EA6;\n",
              "      --disabled-fill-color: #AAA;\n",
              "      --disabled-bg-color: #DDD;\n",
              "  }\n",
              "\n",
              "  [theme=dark] .colab-df-quickchart {\n",
              "      --bg-color: #3B4455;\n",
              "      --fill-color: #D2E3FC;\n",
              "      --hover-bg-color: #434B5C;\n",
              "      --hover-fill-color: #FFFFFF;\n",
              "      --disabled-bg-color: #3B4455;\n",
              "      --disabled-fill-color: #666;\n",
              "  }\n",
              "\n",
              "  .colab-df-quickchart {\n",
              "    background-color: var(--bg-color);\n",
              "    border: none;\n",
              "    border-radius: 50%;\n",
              "    cursor: pointer;\n",
              "    display: none;\n",
              "    fill: var(--fill-color);\n",
              "    height: 32px;\n",
              "    padding: 0;\n",
              "    width: 32px;\n",
              "  }\n",
              "\n",
              "  .colab-df-quickchart:hover {\n",
              "    background-color: var(--hover-bg-color);\n",
              "    box-shadow: 0 1px 2px rgba(60, 64, 67, 0.3), 0 1px 3px 1px rgba(60, 64, 67, 0.15);\n",
              "    fill: var(--button-hover-fill-color);\n",
              "  }\n",
              "\n",
              "  .colab-df-quickchart-complete:disabled,\n",
              "  .colab-df-quickchart-complete:disabled:hover {\n",
              "    background-color: var(--disabled-bg-color);\n",
              "    fill: var(--disabled-fill-color);\n",
              "    box-shadow: none;\n",
              "  }\n",
              "\n",
              "  .colab-df-spinner {\n",
              "    border: 2px solid var(--fill-color);\n",
              "    border-color: transparent;\n",
              "    border-bottom-color: var(--fill-color);\n",
              "    animation:\n",
              "      spin 1s steps(1) infinite;\n",
              "  }\n",
              "\n",
              "  @keyframes spin {\n",
              "    0% {\n",
              "      border-color: transparent;\n",
              "      border-bottom-color: var(--fill-color);\n",
              "      border-left-color: var(--fill-color);\n",
              "    }\n",
              "    20% {\n",
              "      border-color: transparent;\n",
              "      border-left-color: var(--fill-color);\n",
              "      border-top-color: var(--fill-color);\n",
              "    }\n",
              "    30% {\n",
              "      border-color: transparent;\n",
              "      border-left-color: var(--fill-color);\n",
              "      border-top-color: var(--fill-color);\n",
              "      border-right-color: var(--fill-color);\n",
              "    }\n",
              "    40% {\n",
              "      border-color: transparent;\n",
              "      border-right-color: var(--fill-color);\n",
              "      border-top-color: var(--fill-color);\n",
              "    }\n",
              "    60% {\n",
              "      border-color: transparent;\n",
              "      border-right-color: var(--fill-color);\n",
              "    }\n",
              "    80% {\n",
              "      border-color: transparent;\n",
              "      border-right-color: var(--fill-color);\n",
              "      border-bottom-color: var(--fill-color);\n",
              "    }\n",
              "    90% {\n",
              "      border-color: transparent;\n",
              "      border-bottom-color: var(--fill-color);\n",
              "    }\n",
              "  }\n",
              "</style>\n",
              "\n",
              "  <script>\n",
              "    async function quickchart(key) {\n",
              "      const quickchartButtonEl =\n",
              "        document.querySelector('#' + key + ' button');\n",
              "      quickchartButtonEl.disabled = true;  // To prevent multiple clicks.\n",
              "      quickchartButtonEl.classList.add('colab-df-spinner');\n",
              "      try {\n",
              "        const charts = await google.colab.kernel.invokeFunction(\n",
              "            'suggestCharts', [key], {});\n",
              "      } catch (error) {\n",
              "        console.error('Error during call to suggestCharts:', error);\n",
              "      }\n",
              "      quickchartButtonEl.classList.remove('colab-df-spinner');\n",
              "      quickchartButtonEl.classList.add('colab-df-quickchart-complete');\n",
              "    }\n",
              "    (() => {\n",
              "      let quickchartButtonEl =\n",
              "        document.querySelector('#df-fca90af5-8bef-443b-8577-c2e994dd2da8 button');\n",
              "      quickchartButtonEl.style.display =\n",
              "        google.colab.kernel.accessAllowed ? 'block' : 'none';\n",
              "    })();\n",
              "  </script>\n",
              "</div>\n",
              "\n",
              "    </div>\n",
              "  </div>\n"
            ],
            "text/plain": [
              "                                              question     dataset\n",
              "0               Is our average employee older than 35?  066_IBM_HR\n",
              "1    Is the most frequent travel value rarely trave...  066_IBM_HR\n",
              "2              Is the highest DailyRate equal to 1499?  066_IBM_HR\n",
              "3                   Is the highest DailyRate negative?  066_IBM_HR\n",
              "4              Is our research dept bigger than sales?  066_IBM_HR\n",
              "..                                                 ...         ...\n",
              "517  List the titles of books with fewer than 200 p...   080_Books\n",
              "518  List the categories of books with ratings abov...   080_Books\n",
              "519  List the authors of books with more than 10 re...   080_Books\n",
              "520  List the 5 categories of the last five books i...   080_Books\n",
              "521  List the editions of books in the 'Business, I...   080_Books\n",
              "\n",
              "[522 rows x 2 columns]"
            ]
          },
          "execution_count": 23,
          "metadata": {},
          "output_type": "execute_result"
        }
      ],
      "source": []
    },
    {
      "cell_type": "code",
      "execution_count": null,
      "metadata": {
        "id": "BK9bmgwocSiO"
      },
      "outputs": [],
      "source": [
        "df_outs.to_csv(\"test_qa_predictions.csv\", index=False)"
      ]
    },
    {
      "cell_type": "code",
      "execution_count": null,
      "metadata": {
        "id": "U-jBqzImHJw-"
      },
      "outputs": [],
      "source": [
        "results_df = pd.DataFrame(model_predictions, columns=['llm_output', 'generated_code', 'result_sample'])\n",
        "results_df = pd.concat([semeval_test_qa, results_df], axis=1)\n",
        "\n",
        "pd.set_option('display.max_colwidth', None)\n",
        "display(results_df)\n",
        "\n",
        "df_outs.to_csv(\"test_qa_predictions.csv\", index=False)"
      ]
    },
    {
      "cell_type": "code",
      "execution_count": null,
      "metadata": {
        "id": "mqjjzL-vHJug"
      },
      "outputs": [],
      "source": []
    },
    {
      "cell_type": "code",
      "execution_count": null,
      "metadata": {
        "id": "hGQPXf0MHJrZ"
      },
      "outputs": [],
      "source": []
    },
    {
      "cell_type": "code",
      "execution_count": null,
      "metadata": {
        "id": "zd717JuwHJdd"
      },
      "outputs": [],
      "source": []
    },
    {
      "cell_type": "markdown",
      "metadata": {
        "id": "_WQiMF3nvy2X"
      },
      "source": [
        "## Model"
      ]
    },
    {
      "cell_type": "code",
      "execution_count": null,
      "metadata": {
        "execution": {
          "iopub.execute_input": "2025-01-30T04:44:01.880156Z",
          "iopub.status.busy": "2025-01-30T04:44:01.879735Z",
          "iopub.status.idle": "2025-01-30T04:44:01.885365Z",
          "shell.execute_reply": "2025-01-30T04:44:01.884281Z",
          "shell.execute_reply.started": "2025-01-30T04:44:01.880126Z"
        },
        "id": "kEMijRL6szG_",
        "trusted": true
      },
      "outputs": [],
      "source": [
        "from unsloth import FastLanguageModel\n",
        "from unsloth.chat_templates import get_chat_template\n",
        "from unsloth.chat_templates import train_on_responses_only\n",
        "\n",
        "import torch\n",
        "from transformers import BitsAndBytesConfig\n",
        "from datasets import load_dataset\n",
        "\n",
        "import pandas as pd\n",
        "import glob\n",
        "from tqdm.auto import tqdm\n",
        "from transformers import pipeline, AutoModelForCausalLM, AutoTokenizer, AutoModel\n",
        "import json\n",
        "import re\n",
        "import subprocess\n",
        "import os\n",
        "import gc\n",
        "import io"
      ]
    },
    {
      "cell_type": "code",
      "execution_count": null,
      "metadata": {
        "id": "OOGyBXhF3Mvb"
      },
      "outputs": [],
      "source": [
        "def get_model_tokenizer(model_name, max_seq_length=2048):\n",
        "    model, tokenizer = FastLanguageModel.from_pretrained(\n",
        "        model_name = model_name, # or choose \"unsloth/Llama-3.2-1B-Instruct\"\n",
        "        max_seq_length = max_seq_length,\n",
        "        dtype = None, # None for auto detection. Float16 for Tesla T4, V100, Bfloat16 for Ampere+\n",
        "        load_in_4bit = True, # Use 4bit quantization to reduce memory usage. Can be False.\n",
        "        # trust_remote_code=True,\n",
        "        # token = LLAMA_TOKEN, # use one if using gated models like meta-llama/Llama-2-7b-hf\n",
        "    )\n",
        "\n",
        "    model = FastLanguageModel.get_peft_model(\n",
        "        model,\n",
        "        r = 8, # Choose any number > 0 ! Suggested 8, 16, 32, 64, 128\n",
        "        target_modules = [\"q_proj\", \"k_proj\", \"v_proj\", \"o_proj\",\n",
        "                        \"gate_proj\", \"up_proj\", \"down_proj\",],\n",
        "        lora_alpha = 16,\n",
        "        lora_dropout = 0, # Supports any, but = 0 is optimized\n",
        "        bias = \"none\",    # Supports any, but = \"none\" is optimized\n",
        "        # [NEW] \"unsloth\" uses 30% less VRAM, fits 2x larger batch sizes!\n",
        "        use_gradient_checkpointing = \"unsloth\", # True or \"unsloth\" for very long context\n",
        "        random_state = 3407,\n",
        "        use_rslora = True,  # We support rank stabilized LoRA\n",
        "        loftq_config = None, # And LoftQ\n",
        "        max_seq_length=max_seq_length\n",
        "    )\n",
        "\n",
        "    return model, tokenizer\n",
        "\n",
        "reasoning_model_name = \"unsloth/Llama-3.2-3B-Instruct-bnb-4bit\"\n",
        "code_model_name = \"unsloth/codellama-7b-bnb-4bit\"\n",
        "device = 'cuda' if torch.cuda.is_available() else 'cpu'\n",
        "\n",
        "reasoning_model, reasoning_tokenizer = get_model_tokenizer(reasoning_model_name)\n",
        "code_model, code_tokenizer = get_model_tokenizer(code_model_name)"
      ]
    },
    {
      "cell_type": "markdown",
      "metadata": {
        "id": "QQRvvHblv1Fu"
      },
      "source": [
        "## Prompt"
      ]
    },
    {
      "cell_type": "code",
      "execution_count": null,
      "metadata": {
        "id": "wvwHXymj8_lG"
      },
      "outputs": [],
      "source": [
        "reason_prompt = \"\"\"### Instruction:\n",
        "{instruction}\n",
        "\n",
        "### Input:\n",
        "{input}\n",
        "\n",
        "### Response:\n",
        "{output}\n",
        "Above is an instruction that describes a task on a pandas dataframe, paired with an input on which we want to perform the task. Reason out and write clear steps on how to achieve this in Python.\n",
        "\"\"\"\n",
        "\n",
        "code_prompt = \"\"\"### Instruction:\n",
        "{instruction}\n",
        "\n",
        "### Input:\n",
        "{input}\n",
        "\n",
        "### Response:\n",
        "{output}\n",
        "Above is an instruction that describes a task, paired with an input that provides further context. Write a code in python that appropriately completes the request.\n",
        "\"\"\""
      ]
    },
    {
      "cell_type": "code",
      "execution_count": null,
      "metadata": {
        "id": "roAULfHhwfci"
      },
      "outputs": [],
      "source": [
        "def generate_reason_prompt(query, df):\n",
        "    instruction =  \"\"\"You are a helpful assistant that helps to break down problems into actionable steps.\n",
        "You will be given a query and some context (in this case, a pandas dataframe with columns and a few rows).\n",
        "Based on this, you will provide a structured step-by-step approach on how to solve the problem using pandas.\n",
        "\n",
        "According to the expected answer types:\n",
        "    * Boolean: Valid answers include True/False, Y/N, Yes/No (all case insensitive).\n",
        "    * Category: A value from a cell (or a substring of a cell) in the dataset.\n",
        "    * Number: A numerical value from a cell in the dataset, which may represent a computed statistic (e.g., average, maximum, minimum).\n",
        "    * List[category]: A list containing a fixed number of categories. The expected format is: \"['cat', 'dog']\". Pay attention to the wording of the query to determine if uniqueness is required or if repeated values are allowed.\n",
        "    * List[number]: Similar to List[category], but with numbers as its elements.\n",
        "You will not know the specific type of answer expected, but you can be assured that it will be one of these types.\n",
        "\"\"\"\n",
        "\n",
        "    input = f\"\"\"Here is the query: \"{query}\"\n",
        "The dataframe has the following columns: {', '.join(df.columns)}.\n",
        "Here are a few rows of the dataframe: {df.head(3).to_dict(orient='records')}.\n",
        "\n",
        "Reason and lay out the concise steps needed to write code using pandas/python to answer this query.\n",
        "You should only give the steps, and not the code.\n",
        "The instructions, along with the query and the sample dataframe should be sufficient to write the code in pandas\"\"\"\n",
        "\n",
        "    output = \"\"\n",
        "\n",
        "    return reason_prompt.format(instruction=instruction, input=input, output=output)\n",
        "\n",
        "def generate_code_prompt(reasoning_steps, query, df):\n",
        "    instruction = \"You are a helpful assistant that writes pandas code based on the provided reasoning steps.\"\n",
        "\n",
        "    input = f\"\"\"Here is the query: \"{query}\"\n",
        "The dataframe has the following columns: {', '.join(df.columns)}.\n",
        "Here are a few rows of the dataframe: {df.head(3).to_dict(orient='records')}.\n",
        "Here are the steps to solve the problem:\n",
        "```{reasoning_steps}```\n",
        "\n",
        "Please write the corresponding pandas code in the provided blank\n",
        "```python\n",
        "# Write your code here\n",
        "```\n",
        "\"\"\"\n",
        "\n",
        "    output = \"\"\n",
        "\n",
        "    return code_prompt.format(instruction=instruction, input=input, output=output)"
      ]
    },
    {
      "cell_type": "markdown",
      "metadata": {
        "id": "vh5X1pMaxiOL"
      },
      "source": [
        "## Query LLM"
      ]
    },
    {
      "cell_type": "code",
      "execution_count": null,
      "metadata": {
        "id": "Y8eba3ub8cVh"
      },
      "outputs": [],
      "source": [
        "# Example usage\n",
        "example_data = semeval_dev_qa[1]\n",
        "df = pd.read_parquet(f\"hf://datasets/cardiffnlp/databench/data/{example_data['dataset']}/sample.parquet\")\n",
        "question = example_data['question']\n",
        "\n",
        "FastLanguageModel.for_inference(reasoning_model)\n",
        "FastLanguageModel.for_inference(code_model)\n",
        "\n",
        "# Step 1: Generate reasoning steps from the reasoning model\n",
        "prompt = generate_reason_prompt(question, df)\n",
        "inputs = reasoning_tokenizer([prompt], return_tensors = \"pt\").to(device)\n",
        "outputs = reasoning_model.generate(**inputs, max_new_tokens = 512, use_cache = True)\n",
        "reasoning_steps = reasoning_tokenizer.batch_decode(outputs, skip_special_tokens=True)[0].split('### Response:\\n')[-1]\n",
        "\n",
        "# Step 2: Generate Code\n",
        "prompt = generate_code_prompt(reasoning_steps, question, df)\n",
        "inputs = code_tokenizer([prompt], return_tensors = \"pt\").to(device)\n",
        "outputs = code_model.generate(**inputs, max_new_tokens = 2048, use_cache = True)\n",
        "generated_code = code_tokenizer.batch_decode(outputs, skip_special_tokens=True)[0].split('Please write the corresponding pandas code in the provided blank\\n')[-1]\n",
        "\n",
        "# Print Example\n",
        "print('Example:')\n",
        "print(json.dumps(example_data, indent=4))\n",
        "print('-'*150)\n",
        "\n",
        "# Output the results\n",
        "print(\"Reasoning Steps:\")\n",
        "print(reasoning_steps)\n",
        "print('-'*150)\n",
        "\n",
        "print(\"Generated Code:\")\n",
        "print(generated_code)\n",
        "print('-'*150)"
      ]
    },
    {
      "cell_type": "code",
      "execution_count": null,
      "metadata": {
        "id": "TIuzl8v5_4OQ"
      },
      "outputs": [],
      "source": []
    },
    {
      "cell_type": "code",
      "execution_count": null,
      "metadata": {
        "id": "zeMCls3gbdSL"
      },
      "outputs": [],
      "source": []
    },
    {
      "cell_type": "code",
      "execution_count": null,
      "metadata": {
        "id": "ZmQpJa1sbd4l"
      },
      "outputs": [],
      "source": []
    },
    {
      "cell_type": "markdown",
      "metadata": {
        "id": "MBc-RORF6afz"
      },
      "source": [
        "# Adarsh"
      ]
    },
    {
      "cell_type": "code",
      "execution_count": null,
      "metadata": {
        "id": "4sxavk42JhXc"
      },
      "outputs": [],
      "source": [
        "%%capture\n",
        "# !pip install optimum auto-gptq\n",
        "# !pip install --upgrade transformers\n",
        "!pip install unsloth"
      ]
    },
    {
      "cell_type": "code",
      "execution_count": null,
      "metadata": {
        "id": "2ojguXUS6qVE"
      },
      "outputs": [],
      "source": [
        "import json\n",
        "import pandas as pd\n",
        "\n",
        "from unsloth import FastLanguageModel\n",
        "\n",
        "def get_model_tokenizer(model_name, max_seq_length=2048):\n",
        "    model, tokenizer = FastLanguageModel.from_pretrained(\n",
        "        model_name=model_name,\n",
        "        max_seq_length=max_seq_length,\n",
        "        dtype=None,\n",
        "        load_in_4bit=True,\n",
        "        token=LLAMA_TOKEN\n",
        "    )\n",
        "\n",
        "    return model, tokenizer\n",
        "\n",
        "reasoning_model_name = \"unsloth/Llama-3.2-3B-Instruct-bnb-4bit\"\n",
        "LLAMA_TOKEN = 'ENTER_YOUR_TOKEN'\n",
        "\n",
        "reasoning_model, reasoning_tokenizer = get_model_tokenizer(reasoning_model_name)\n",
        "FastLanguageModel.for_inference(reasoning_model)"
      ]
    },
    {
      "cell_type": "code",
      "execution_count": null,
      "metadata": {
        "id": "iSVLsMEHbfBc"
      },
      "outputs": [],
      "source": [
        "reason_prompt = \"\"\"### Instruction:\n",
        "{instruction}\n",
        "\n",
        "### Input:\n",
        "{input}\n",
        "\n",
        "### Response:\n",
        "{output}\n",
        "\"\"\"\n",
        "\n",
        "code_prompt = \"\"\"### Instruction:\n",
        "{instruction}\n",
        "\n",
        "### Input:\n",
        "{input}\n",
        "\n",
        "### Solution:\n",
        "{output}\n",
        "\"\"\"\n",
        "\n",
        "def get_schema(df):\n",
        "    # Capture DataFrame.info() output as a string\n",
        "    buffer = io.StringIO()\n",
        "    df.info(buf=buffer)\n",
        "    info_str = buffer.getvalue()\n",
        "\n",
        "    return str(info_str)\n",
        "\n",
        "\n",
        "def generate_reason_prompt(query, df):\n",
        "    instruction = \"\"\"You are an expert data analyst.\n",
        "Your task is to analyze a question asked on a given pandas dataframe and break it down into a logical bullet-point approach for writing pandas code.\n",
        "Do not generate the actual pandas code—just provide reasoning in short concise bullet points\n",
        "\"\"\"\n",
        "\n",
        "    input_text = f\"\"\"\n",
        "Dataframe Schema:\n",
        "{get_schema(df)}\n",
        "\n",
        "Sample Rows:\n",
        "{df.head(3).to_dict(orient='records')}\n",
        "\n",
        "User Question:\n",
        "{query}\n",
        "\n",
        "Expected Output Format:\n",
        "Provide a concise bullet-point explanation of how to retrieve the required answer using pandas.\n",
        "\"\"\"\n",
        "    print('*'*150)\n",
        "    prompt = reason_prompt.format(instruction=instruction, input=input_text, output=\"\")\n",
        "    print(prompt)\n",
        "    print('*'*150)\n",
        "    return prompt\n",
        "\n",
        "def generate_code_prompt(reasoning_steps, query, df):\n",
        "    instruction = \"\"\"\n",
        "You are an expert Python data engineer.\n",
        "Your task is to generate pandas code based on a structured reasoning process\n",
        "You only generate code, no references or explanation - just code\n",
        "You generate only 20 lines of code at max\n",
        "\"\"\"\n",
        "\n",
        "    input_text = f\"\"\"\n",
        "Dataframe Schema:\n",
        "{get_schema(df)}\n",
        "\n",
        "Sample Rows:\n",
        "{df.head(3).to_dict(orient='records')}\n",
        "\n",
        "Step-by-Step Reasoning:\n",
        "{reasoning_steps}\n",
        "\n",
        "Expected Output Format:\n",
        "Generate runnable Python code that follows the given reasoning using pandas.\n",
        "The code should assume that the dataframe is already loaded as `df`.\n",
        "The final output should be stored in a variable named `result`.\n",
        "\n",
        "The expected answer type is unknown, but it will always be one of the following:\n",
        "    * Boolean: True/False, \"Y\"/\"N\", \"Yes\"/\"No\" (case insensitive).\n",
        "    * Category: A value from a cell (or substring of a cell) in the dataset.\n",
        "    * Number: A numerical value from a cell or a computed statistic.\n",
        "    * List[category]: A list of categories (unique or repeated based on context). Format: ['cat', 'dog'].\n",
        "    * List[number]: A list of numbers.\n",
        "\n",
        "Ensure the result is in the correct format based on the reasoning. If multiple valid formats exist, return the most relevant one based on the query.\"\n",
        "\n",
        "Give only the code, nothing else.\n",
        "\"\"\"\n",
        "    print('*'*150)\n",
        "    prompt = [\n",
        "        {'role':'system', 'content':instruction},\n",
        "        {'role':'user', 'content':input_text}\n",
        "    ]\n",
        "    prompt = code_prompt.format(instruction=instruction, input=input_text, output=\"\")\n",
        "    print(prompt)\n",
        "    print('*'*150)\n",
        "    return prompt\n",
        "\n",
        "# def generate_review_prompt(generated_code, query, df):\n",
        "#     instruction = f\"\"\"You are an AI that reviews pandas code for correctness and improvements.\n",
        "# We only care about the accuracy of the code and alignment of the code to the steps.\n",
        "# If you think the code looks good, then give the response phrase \"Code is correct\".\n",
        "# Otherwise if the code is incorrect, then give the response phrase \"Code is incorrect\". \"\"\"\n",
        "#     input_text = f\"\"\"Query: \"{query}\"\n",
        "# Columns: {', '.join(df.columns)}\n",
        "# Sample Rows: {df.head(3).to_dict(orient='records')}\n",
        "# Generated Code: ```python\n",
        "# {generated_code}\n",
        "# ```\n",
        "# Provide a review and suggest refinements.\"\"\"\n",
        "#     return reason_prompt.format(instruction=instruction, input=input_text, output=\"\")\n",
        "\n",
        "def iterative_code_generation(query, df, max_iterations=1):\n",
        "\n",
        "    # # Step 1: Generate reasoning steps\n",
        "    # reason_prompt_text = generate_reason_prompt(query, df)\n",
        "    # reason_inputs = reasoning_tokenizer([reason_prompt_text], return_tensors=\"pt\").to(device)\n",
        "    # reason_outputs = reasoning_model.generate(**reason_inputs, max_new_tokens=512, use_cache=True)\n",
        "    # reasoning_steps = reasoning_tokenizer.batch_decode(reason_outputs, skip_special_tokens=True)[0].split('### Response:\\n')[-1]\n",
        "\n",
        "    reasoning_steps = 'a'\n",
        "    print('-'*150)\n",
        "    print(\"Reasoning Steps:\")\n",
        "    print(reasoning_steps)\n",
        "    print('-'*150)\n",
        "\n",
        "    generated_code = \"\"\n",
        "\n",
        "    for _ in range(max_iterations):\n",
        "        # Step 2: Generate initial code\n",
        "        code_prompt_text = generate_code_prompt(reasoning_steps, query, df)\n",
        "        # code_inputs = code_tokenizer([code_prompt_text], return_tensors=\"pt\").to(device)\n",
        "        # code_outputs = code_model.generate(**code_inputs, max_new_tokens=2048, use_cache=True)\n",
        "        # generated_code = code_tokenizer.batch_decode(code_outputs, skip_special_tokens=True)[0].split('Response:\\n')[-1]\n",
        "        generated_code = code_llm_pipe(code_prompt_text, max_length=512)[0][-1]['content']\n",
        "\n",
        "        # # Step 3: Review the generated code\n",
        "        # review_prompt_text = generate_review_prompt(generated_code, query, df)\n",
        "        # review_inputs = reasoning_tokenizer([review_prompt_text], return_tensors=\"pt\").to(device)\n",
        "        # review_outputs = reasoning_model.generate(**review_inputs, max_new_tokens=512, use_cache=True)\n",
        "        # review_feedback = reasoning_tokenizer.batch_decode(review_outputs, skip_special_tokens=True)[0].split('Response:\\n')[-1]\n",
        "\n",
        "        # if \"No improvements needed\" in review_feedback or \"Code is correct\" in review_feedback:\n",
        "        #     break  # Exit loop if the code is deemed correct\n",
        "\n",
        "        # # Update reasoning steps based on feedback\n",
        "        # reasoning_steps += f\"\\n\\nFeedback from review: {review_feedback}\"\n",
        "\n",
        "        # print('-'*150)\n",
        "        # print(f\"\\n\\nFeedback from review: {review_feedback}\")\n",
        "        # print('-'*150)\n",
        "\n",
        "    return reasoning_steps, generated_code\n",
        "\n",
        "# Example usage\n",
        "example_data = semeval_dev_qa[1]\n",
        "df = pd.read_parquet(f\"hf://datasets/cardiffnlp/databench/data/{example_data['dataset']}/sample.parquet\")\n",
        "question = example_data['question']\n",
        "\n",
        "reasoning_steps, generated_code = iterative_code_generation(question, df)\n",
        "\n",
        "# Print Example\n",
        "print('Example:')\n",
        "print(json.dumps(example_data, indent=4))\n",
        "print('-'*150)\n",
        "\n",
        "\n",
        "\n",
        "print(\"Generated Code:\")\n",
        "print(generated_code)\n",
        "print('-'*150)"
      ]
    },
    {
      "cell_type": "code",
      "execution_count": null,
      "metadata": {
        "id": "QhZtcfU6PHIp"
      },
      "outputs": [],
      "source": []
    }
  ],
  "metadata": {
    "colab": {
      "provenance": []
    },
    "kaggle": {
      "accelerator": "none",
      "dataSources": [],
      "dockerImageVersionId": 30839,
      "isGpuEnabled": false,
      "isInternetEnabled": true,
      "language": "python",
      "sourceType": "notebook"
    },
    "kernelspec": {
      "display_name": "Python 3",
      "name": "python3"
    },
    "language_info": {
      "codemirror_mode": {
        "name": "ipython",
        "version": 3
      },
      "file_extension": ".py",
      "mimetype": "text/x-python",
      "name": "python",
      "nbconvert_exporter": "python",
      "pygments_lexer": "ipython3",
      "version": "3.10.12"
    },
    "widgets": {
      "application/vnd.jupyter.widget-state+json": {
        "01c4f2b6d66847c9806fd9dab281c846": {
          "model_module": "@jupyter-widgets/controls",
          "model_module_version": "1.5.0",
          "model_name": "HTMLModel",
          "state": {
            "_dom_classes": [],
            "_model_module": "@jupyter-widgets/controls",
            "_model_module_version": "1.5.0",
            "_model_name": "HTMLModel",
            "_view_count": null,
            "_view_module": "@jupyter-widgets/controls",
            "_view_module_version": "1.5.0",
            "_view_name": "HTMLView",
            "description": "",
            "description_tooltip": null,
            "layout": "IPY_MODEL_86c19798005a48e8895cd67b3aad1f98",
            "placeholder": "​",
            "style": "IPY_MODEL_154d3085feab4076ad43a73123404af6",
            "value": " 1.03G/1.03G [00:13&lt;00:00, 102MB/s]"
          }
        },
        "02a7b0a4815b4fd9ad6d22cbfa192ec6": {
          "model_module": "@jupyter-widgets/controls",
          "model_module_version": "1.5.0",
          "model_name": "DescriptionStyleModel",
          "state": {
            "_model_module": "@jupyter-widgets/controls",
            "_model_module_version": "1.5.0",
            "_model_name": "DescriptionStyleModel",
            "_view_count": null,
            "_view_module": "@jupyter-widgets/base",
            "_view_module_version": "1.2.0",
            "_view_name": "StyleView",
            "description_width": ""
          }
        },
        "03c25ddf7e2f4cfaa3950dc71378706d": {
          "model_module": "@jupyter-widgets/base",
          "model_module_version": "1.2.0",
          "model_name": "LayoutModel",
          "state": {
            "_model_module": "@jupyter-widgets/base",
            "_model_module_version": "1.2.0",
            "_model_name": "LayoutModel",
            "_view_count": null,
            "_view_module": "@jupyter-widgets/base",
            "_view_module_version": "1.2.0",
            "_view_name": "LayoutView",
            "align_content": null,
            "align_items": null,
            "align_self": null,
            "border": null,
            "bottom": null,
            "display": null,
            "flex": null,
            "flex_flow": null,
            "grid_area": null,
            "grid_auto_columns": null,
            "grid_auto_flow": null,
            "grid_auto_rows": null,
            "grid_column": null,
            "grid_gap": null,
            "grid_row": null,
            "grid_template_areas": null,
            "grid_template_columns": null,
            "grid_template_rows": null,
            "height": null,
            "justify_content": null,
            "justify_items": null,
            "left": null,
            "margin": null,
            "max_height": null,
            "max_width": null,
            "min_height": null,
            "min_width": null,
            "object_fit": null,
            "object_position": null,
            "order": null,
            "overflow": null,
            "overflow_x": null,
            "overflow_y": null,
            "padding": null,
            "right": null,
            "top": null,
            "visibility": null,
            "width": null
          }
        },
        "04d9ef0c562e43369264871dad2946a2": {
          "model_module": "@jupyter-widgets/controls",
          "model_module_version": "1.5.0",
          "model_name": "FloatProgressModel",
          "state": {
            "_dom_classes": [],
            "_model_module": "@jupyter-widgets/controls",
            "_model_module_version": "1.5.0",
            "_model_name": "FloatProgressModel",
            "_view_count": null,
            "_view_module": "@jupyter-widgets/controls",
            "_view_module_version": "1.5.0",
            "_view_name": "ProgressView",
            "bar_style": "danger",
            "description": "",
            "description_tooltip": null,
            "layout": "IPY_MODEL_2bbd7f7301014b0895989ad57fad3281",
            "max": 4971805503,
            "min": 0,
            "orientation": "horizontal",
            "style": "IPY_MODEL_a6a22a1fb2654166a32ad4a6c6fc1e27",
            "value": 4971805029
          }
        },
        "0ce5a843349e4c379d61de785357e5b1": {
          "model_module": "@jupyter-widgets/controls",
          "model_module_version": "1.5.0",
          "model_name": "HTMLModel",
          "state": {
            "_dom_classes": [],
            "_model_module": "@jupyter-widgets/controls",
            "_model_module_version": "1.5.0",
            "_model_name": "HTMLModel",
            "_view_count": null,
            "_view_module": "@jupyter-widgets/controls",
            "_view_module_version": "1.5.0",
            "_view_name": "HTMLView",
            "description": "",
            "description_tooltip": null,
            "layout": "IPY_MODEL_9ff0d81713864dcf932c01e997c0227d",
            "placeholder": "​",
            "style": "IPY_MODEL_8d5e0eee67f6409db131bbb30689841e",
            "value": "tokenizer_config.json: 100%"
          }
        },
        "0d3c0d03118b43b7b9248a472a827ef0": {
          "model_module": "@jupyter-widgets/controls",
          "model_module_version": "1.5.0",
          "model_name": "DescriptionStyleModel",
          "state": {
            "_model_module": "@jupyter-widgets/controls",
            "_model_module_version": "1.5.0",
            "_model_name": "DescriptionStyleModel",
            "_view_count": null,
            "_view_module": "@jupyter-widgets/base",
            "_view_module_version": "1.2.0",
            "_view_name": "StyleView",
            "description_width": ""
          }
        },
        "0ec219fa958d493483102d7c8cc30d6d": {
          "model_module": "@jupyter-widgets/base",
          "model_module_version": "1.2.0",
          "model_name": "LayoutModel",
          "state": {
            "_model_module": "@jupyter-widgets/base",
            "_model_module_version": "1.2.0",
            "_model_name": "LayoutModel",
            "_view_count": null,
            "_view_module": "@jupyter-widgets/base",
            "_view_module_version": "1.2.0",
            "_view_name": "LayoutView",
            "align_content": null,
            "align_items": null,
            "align_self": null,
            "border": null,
            "bottom": null,
            "display": null,
            "flex": null,
            "flex_flow": null,
            "grid_area": null,
            "grid_auto_columns": null,
            "grid_auto_flow": null,
            "grid_auto_rows": null,
            "grid_column": null,
            "grid_gap": null,
            "grid_row": null,
            "grid_template_areas": null,
            "grid_template_columns": null,
            "grid_template_rows": null,
            "height": null,
            "justify_content": null,
            "justify_items": null,
            "left": null,
            "margin": null,
            "max_height": null,
            "max_width": null,
            "min_height": null,
            "min_width": null,
            "object_fit": null,
            "object_position": null,
            "order": null,
            "overflow": null,
            "overflow_x": null,
            "overflow_y": null,
            "padding": null,
            "right": null,
            "top": null,
            "visibility": null,
            "width": null
          }
        },
        "0f6784543f0344e783ccf7ff8c5cb9ac": {
          "model_module": "@jupyter-widgets/base",
          "model_module_version": "1.2.0",
          "model_name": "LayoutModel",
          "state": {
            "_model_module": "@jupyter-widgets/base",
            "_model_module_version": "1.2.0",
            "_model_name": "LayoutModel",
            "_view_count": null,
            "_view_module": "@jupyter-widgets/base",
            "_view_module_version": "1.2.0",
            "_view_name": "LayoutView",
            "align_content": null,
            "align_items": null,
            "align_self": null,
            "border": null,
            "bottom": null,
            "display": null,
            "flex": null,
            "flex_flow": null,
            "grid_area": null,
            "grid_auto_columns": null,
            "grid_auto_flow": null,
            "grid_auto_rows": null,
            "grid_column": null,
            "grid_gap": null,
            "grid_row": null,
            "grid_template_areas": null,
            "grid_template_columns": null,
            "grid_template_rows": null,
            "height": null,
            "justify_content": null,
            "justify_items": null,
            "left": null,
            "margin": null,
            "max_height": null,
            "max_width": null,
            "min_height": null,
            "min_width": null,
            "object_fit": null,
            "object_position": null,
            "order": null,
            "overflow": null,
            "overflow_x": null,
            "overflow_y": null,
            "padding": null,
            "right": null,
            "top": null,
            "visibility": null,
            "width": null
          }
        },
        "103763ed6a1d45678be516752235d03c": {
          "model_module": "@jupyter-widgets/controls",
          "model_module_version": "1.5.0",
          "model_name": "FloatProgressModel",
          "state": {
            "_dom_classes": [],
            "_model_module": "@jupyter-widgets/controls",
            "_model_module_version": "1.5.0",
            "_model_name": "FloatProgressModel",
            "_view_count": null,
            "_view_module": "@jupyter-widgets/controls",
            "_view_module_version": "1.5.0",
            "_view_name": "ProgressView",
            "bar_style": "success",
            "description": "",
            "description_tooltip": null,
            "layout": "IPY_MODEL_a26ec534feea4a628cb17b06d88eb9d1",
            "max": 17989,
            "min": 0,
            "orientation": "horizontal",
            "style": "IPY_MODEL_1df786b5cd2d439d842a8bcefb677717",
            "value": 17989
          }
        },
        "1245208333d246b9bf8fd9ecc86a1d40": {
          "model_module": "@jupyter-widgets/controls",
          "model_module_version": "1.5.0",
          "model_name": "HTMLModel",
          "state": {
            "_dom_classes": [],
            "_model_module": "@jupyter-widgets/controls",
            "_model_module_version": "1.5.0",
            "_model_name": "HTMLModel",
            "_view_count": null,
            "_view_module": "@jupyter-widgets/controls",
            "_view_module_version": "1.5.0",
            "_view_name": "HTMLView",
            "description": "",
            "description_tooltip": null,
            "layout": "IPY_MODEL_29911444fcd64af4a941e3eb888c92a9",
            "placeholder": "​",
            "style": "IPY_MODEL_14bcf2b636e244dbb2af0338abc9a5a5",
            "value": " 3/3 [00:46&lt;00:00, 13.52s/it]"
          }
        },
        "14bcf2b636e244dbb2af0338abc9a5a5": {
          "model_module": "@jupyter-widgets/controls",
          "model_module_version": "1.5.0",
          "model_name": "DescriptionStyleModel",
          "state": {
            "_model_module": "@jupyter-widgets/controls",
            "_model_module_version": "1.5.0",
            "_model_name": "DescriptionStyleModel",
            "_view_count": null,
            "_view_module": "@jupyter-widgets/base",
            "_view_module_version": "1.2.0",
            "_view_name": "StyleView",
            "description_width": ""
          }
        },
        "154d3085feab4076ad43a73123404af6": {
          "model_module": "@jupyter-widgets/controls",
          "model_module_version": "1.5.0",
          "model_name": "DescriptionStyleModel",
          "state": {
            "_model_module": "@jupyter-widgets/controls",
            "_model_module_version": "1.5.0",
            "_model_name": "DescriptionStyleModel",
            "_view_count": null,
            "_view_module": "@jupyter-widgets/base",
            "_view_module_version": "1.2.0",
            "_view_name": "StyleView",
            "description_width": ""
          }
        },
        "1819d8727f5341a097d9c203b7340a58": {
          "model_module": "@jupyter-widgets/controls",
          "model_module_version": "1.5.0",
          "model_name": "FloatProgressModel",
          "state": {
            "_dom_classes": [],
            "_model_module": "@jupyter-widgets/controls",
            "_model_module_version": "1.5.0",
            "_model_name": "FloatProgressModel",
            "_view_count": null,
            "_view_module": "@jupyter-widgets/controls",
            "_view_module_version": "1.5.0",
            "_view_name": "ProgressView",
            "bar_style": "success",
            "description": "",
            "description_tooltip": null,
            "layout": "IPY_MODEL_0f6784543f0344e783ccf7ff8c5cb9ac",
            "max": 570,
            "min": 0,
            "orientation": "horizontal",
            "style": "IPY_MODEL_346b5002a1aa46198346d5b8af4050f8",
            "value": 570
          }
        },
        "18e46f0741bf4ab2a9abec508886ba58": {
          "model_module": "@jupyter-widgets/controls",
          "model_module_version": "1.5.0",
          "model_name": "HTMLModel",
          "state": {
            "_dom_classes": [],
            "_model_module": "@jupyter-widgets/controls",
            "_model_module_version": "1.5.0",
            "_model_name": "HTMLModel",
            "_view_count": null,
            "_view_module": "@jupyter-widgets/controls",
            "_view_module_version": "1.5.0",
            "_view_name": "HTMLView",
            "description": "",
            "description_tooltip": null,
            "layout": "IPY_MODEL_4c3311e71b874338bb3bea22c6158812",
            "placeholder": "​",
            "style": "IPY_MODEL_8c63703e54c04f4eb13fa5131292e48d",
            "value": " 7.15M/7.15M [00:03&lt;00:00, 2.22MB/s]"
          }
        },
        "195a937165724a9c99c480d0251e2568": {
          "model_module": "@jupyter-widgets/controls",
          "model_module_version": "1.5.0",
          "model_name": "FloatProgressModel",
          "state": {
            "_dom_classes": [],
            "_model_module": "@jupyter-widgets/controls",
            "_model_module_version": "1.5.0",
            "_model_name": "FloatProgressModel",
            "_view_count": null,
            "_view_module": "@jupyter-widgets/controls",
            "_view_module_version": "1.5.0",
            "_view_name": "ProgressView",
            "bar_style": "success",
            "description": "",
            "description_tooltip": null,
            "layout": "IPY_MODEL_df0fd6a876c2479b8c466beefe73b203",
            "max": 1612637,
            "min": 0,
            "orientation": "horizontal",
            "style": "IPY_MODEL_315ad7dd2e6d4f889ada13b728d775dd",
            "value": 1612637
          }
        },
        "1af8f2d6be064bcbafd09f49552799a6": {
          "model_module": "@jupyter-widgets/base",
          "model_module_version": "1.2.0",
          "model_name": "LayoutModel",
          "state": {
            "_model_module": "@jupyter-widgets/base",
            "_model_module_version": "1.2.0",
            "_model_name": "LayoutModel",
            "_view_count": null,
            "_view_module": "@jupyter-widgets/base",
            "_view_module_version": "1.2.0",
            "_view_name": "LayoutView",
            "align_content": null,
            "align_items": null,
            "align_self": null,
            "border": null,
            "bottom": null,
            "display": null,
            "flex": null,
            "flex_flow": null,
            "grid_area": null,
            "grid_auto_columns": null,
            "grid_auto_flow": null,
            "grid_auto_rows": null,
            "grid_column": null,
            "grid_gap": null,
            "grid_row": null,
            "grid_template_areas": null,
            "grid_template_columns": null,
            "grid_template_rows": null,
            "height": null,
            "justify_content": null,
            "justify_items": null,
            "left": null,
            "margin": null,
            "max_height": null,
            "max_width": null,
            "min_height": null,
            "min_width": null,
            "object_fit": null,
            "object_position": null,
            "order": null,
            "overflow": null,
            "overflow_x": null,
            "overflow_y": null,
            "padding": null,
            "right": null,
            "top": null,
            "visibility": null,
            "width": null
          }
        },
        "1cee3cd08dc54665b55bbe93f5a504f1": {
          "model_module": "@jupyter-widgets/base",
          "model_module_version": "1.2.0",
          "model_name": "LayoutModel",
          "state": {
            "_model_module": "@jupyter-widgets/base",
            "_model_module_version": "1.2.0",
            "_model_name": "LayoutModel",
            "_view_count": null,
            "_view_module": "@jupyter-widgets/base",
            "_view_module_version": "1.2.0",
            "_view_name": "LayoutView",
            "align_content": null,
            "align_items": null,
            "align_self": null,
            "border": null,
            "bottom": null,
            "display": null,
            "flex": null,
            "flex_flow": null,
            "grid_area": null,
            "grid_auto_columns": null,
            "grid_auto_flow": null,
            "grid_auto_rows": null,
            "grid_column": null,
            "grid_gap": null,
            "grid_row": null,
            "grid_template_areas": null,
            "grid_template_columns": null,
            "grid_template_rows": null,
            "height": null,
            "justify_content": null,
            "justify_items": null,
            "left": null,
            "margin": null,
            "max_height": null,
            "max_width": null,
            "min_height": null,
            "min_width": null,
            "object_fit": null,
            "object_position": null,
            "order": null,
            "overflow": null,
            "overflow_x": null,
            "overflow_y": null,
            "padding": null,
            "right": null,
            "top": null,
            "visibility": null,
            "width": null
          }
        },
        "1dd078f0c29349deb59f0b768ddb3e00": {
          "model_module": "@jupyter-widgets/controls",
          "model_module_version": "1.5.0",
          "model_name": "HTMLModel",
          "state": {
            "_dom_classes": [],
            "_model_module": "@jupyter-widgets/controls",
            "_model_module_version": "1.5.0",
            "_model_name": "HTMLModel",
            "_view_count": null,
            "_view_module": "@jupyter-widgets/controls",
            "_view_module_version": "1.5.0",
            "_view_name": "HTMLView",
            "description": "",
            "description_tooltip": null,
            "layout": "IPY_MODEL_b826d1e0491c4fd887835c9699cca568",
            "placeholder": "​",
            "style": "IPY_MODEL_9d04e1a440c548ddae1ff66f40b48749",
            "value": " 170/170 [00:00&lt;00:00, 12.3kB/s]"
          }
        },
        "1df786b5cd2d439d842a8bcefb677717": {
          "model_module": "@jupyter-widgets/controls",
          "model_module_version": "1.5.0",
          "model_name": "ProgressStyleModel",
          "state": {
            "_model_module": "@jupyter-widgets/controls",
            "_model_module_version": "1.5.0",
            "_model_name": "ProgressStyleModel",
            "_view_count": null,
            "_view_module": "@jupyter-widgets/base",
            "_view_module_version": "1.2.0",
            "_view_name": "StyleView",
            "bar_color": null,
            "description_width": ""
          }
        },
        "20e2a8d8e9954a13ac3d756b7ed2f79f": {
          "model_module": "@jupyter-widgets/base",
          "model_module_version": "1.2.0",
          "model_name": "LayoutModel",
          "state": {
            "_model_module": "@jupyter-widgets/base",
            "_model_module_version": "1.2.0",
            "_model_name": "LayoutModel",
            "_view_count": null,
            "_view_module": "@jupyter-widgets/base",
            "_view_module_version": "1.2.0",
            "_view_name": "LayoutView",
            "align_content": null,
            "align_items": null,
            "align_self": null,
            "border": null,
            "bottom": null,
            "display": null,
            "flex": null,
            "flex_flow": null,
            "grid_area": null,
            "grid_auto_columns": null,
            "grid_auto_flow": null,
            "grid_auto_rows": null,
            "grid_column": null,
            "grid_gap": null,
            "grid_row": null,
            "grid_template_areas": null,
            "grid_template_columns": null,
            "grid_template_rows": null,
            "height": null,
            "justify_content": null,
            "justify_items": null,
            "left": null,
            "margin": null,
            "max_height": null,
            "max_width": null,
            "min_height": null,
            "min_width": null,
            "object_fit": null,
            "object_position": null,
            "order": null,
            "overflow": null,
            "overflow_x": null,
            "overflow_y": null,
            "padding": null,
            "right": null,
            "top": null,
            "visibility": null,
            "width": null
          }
        },
        "22b491c96e6b4ade9a28dbb1f325abe2": {
          "model_module": "@jupyter-widgets/controls",
          "model_module_version": "1.5.0",
          "model_name": "HBoxModel",
          "state": {
            "_dom_classes": [],
            "_model_module": "@jupyter-widgets/controls",
            "_model_module_version": "1.5.0",
            "_model_name": "HBoxModel",
            "_view_count": null,
            "_view_module": "@jupyter-widgets/controls",
            "_view_module_version": "1.5.0",
            "_view_name": "HBoxView",
            "box_style": "",
            "children": [
              "IPY_MODEL_b760a07179b048f897470d80bf656f05",
              "IPY_MODEL_1819d8727f5341a097d9c203b7340a58",
              "IPY_MODEL_91de67ec77ff4ae782795dbbd70ec674"
            ],
            "layout": "IPY_MODEL_4f3c0870091246fa8ba86cb29e880d7f"
          }
        },
        "22ff8621c0934f118dbe1ec32833a610": {
          "model_module": "@jupyter-widgets/base",
          "model_module_version": "1.2.0",
          "model_name": "LayoutModel",
          "state": {
            "_model_module": "@jupyter-widgets/base",
            "_model_module_version": "1.2.0",
            "_model_name": "LayoutModel",
            "_view_count": null,
            "_view_module": "@jupyter-widgets/base",
            "_view_module_version": "1.2.0",
            "_view_name": "LayoutView",
            "align_content": null,
            "align_items": null,
            "align_self": null,
            "border": null,
            "bottom": null,
            "display": null,
            "flex": null,
            "flex_flow": null,
            "grid_area": null,
            "grid_auto_columns": null,
            "grid_auto_flow": null,
            "grid_auto_rows": null,
            "grid_column": null,
            "grid_gap": null,
            "grid_row": null,
            "grid_template_areas": null,
            "grid_template_columns": null,
            "grid_template_rows": null,
            "height": null,
            "justify_content": null,
            "justify_items": null,
            "left": null,
            "margin": null,
            "max_height": null,
            "max_width": null,
            "min_height": null,
            "min_width": null,
            "object_fit": null,
            "object_position": null,
            "order": null,
            "overflow": null,
            "overflow_x": null,
            "overflow_y": null,
            "padding": null,
            "right": null,
            "top": null,
            "visibility": null,
            "width": null
          }
        },
        "2386d0c249f14a26a30573d22eedad5d": {
          "model_module": "@jupyter-widgets/controls",
          "model_module_version": "1.5.0",
          "model_name": "HBoxModel",
          "state": {
            "_dom_classes": [],
            "_model_module": "@jupyter-widgets/controls",
            "_model_module_version": "1.5.0",
            "_model_name": "HBoxModel",
            "_view_count": null,
            "_view_module": "@jupyter-widgets/controls",
            "_view_module_version": "1.5.0",
            "_view_name": "HBoxView",
            "box_style": "",
            "children": [
              "IPY_MODEL_c7c0753261fe43018c46d24c6837b12d",
              "IPY_MODEL_ddb2a09c21254e7399901bb2a133faa6",
              "IPY_MODEL_97ec7215ce9445a7ae5a445173e8bd4e"
            ],
            "layout": "IPY_MODEL_b45e091288304ee39314fe22b9e48232"
          }
        },
        "29911444fcd64af4a941e3eb888c92a9": {
          "model_module": "@jupyter-widgets/base",
          "model_module_version": "1.2.0",
          "model_name": "LayoutModel",
          "state": {
            "_model_module": "@jupyter-widgets/base",
            "_model_module_version": "1.2.0",
            "_model_name": "LayoutModel",
            "_view_count": null,
            "_view_module": "@jupyter-widgets/base",
            "_view_module_version": "1.2.0",
            "_view_name": "LayoutView",
            "align_content": null,
            "align_items": null,
            "align_self": null,
            "border": null,
            "bottom": null,
            "display": null,
            "flex": null,
            "flex_flow": null,
            "grid_area": null,
            "grid_auto_columns": null,
            "grid_auto_flow": null,
            "grid_auto_rows": null,
            "grid_column": null,
            "grid_gap": null,
            "grid_row": null,
            "grid_template_areas": null,
            "grid_template_columns": null,
            "grid_template_rows": null,
            "height": null,
            "justify_content": null,
            "justify_items": null,
            "left": null,
            "margin": null,
            "max_height": null,
            "max_width": null,
            "min_height": null,
            "min_width": null,
            "object_fit": null,
            "object_position": null,
            "order": null,
            "overflow": null,
            "overflow_x": null,
            "overflow_y": null,
            "padding": null,
            "right": null,
            "top": null,
            "visibility": null,
            "width": null
          }
        },
        "2abba322ff1b4125957937d326348d0e": {
          "model_module": "@jupyter-widgets/base",
          "model_module_version": "1.2.0",
          "model_name": "LayoutModel",
          "state": {
            "_model_module": "@jupyter-widgets/base",
            "_model_module_version": "1.2.0",
            "_model_name": "LayoutModel",
            "_view_count": null,
            "_view_module": "@jupyter-widgets/base",
            "_view_module_version": "1.2.0",
            "_view_name": "LayoutView",
            "align_content": null,
            "align_items": null,
            "align_self": null,
            "border": null,
            "bottom": null,
            "display": null,
            "flex": null,
            "flex_flow": null,
            "grid_area": null,
            "grid_auto_columns": null,
            "grid_auto_flow": null,
            "grid_auto_rows": null,
            "grid_column": null,
            "grid_gap": null,
            "grid_row": null,
            "grid_template_areas": null,
            "grid_template_columns": null,
            "grid_template_rows": null,
            "height": null,
            "justify_content": null,
            "justify_items": null,
            "left": null,
            "margin": null,
            "max_height": null,
            "max_width": null,
            "min_height": null,
            "min_width": null,
            "object_fit": null,
            "object_position": null,
            "order": null,
            "overflow": null,
            "overflow_x": null,
            "overflow_y": null,
            "padding": null,
            "right": null,
            "top": null,
            "visibility": null,
            "width": null
          }
        },
        "2bbd7f7301014b0895989ad57fad3281": {
          "model_module": "@jupyter-widgets/base",
          "model_module_version": "1.2.0",
          "model_name": "LayoutModel",
          "state": {
            "_model_module": "@jupyter-widgets/base",
            "_model_module_version": "1.2.0",
            "_model_name": "LayoutModel",
            "_view_count": null,
            "_view_module": "@jupyter-widgets/base",
            "_view_module_version": "1.2.0",
            "_view_name": "LayoutView",
            "align_content": null,
            "align_items": null,
            "align_self": null,
            "border": null,
            "bottom": null,
            "display": null,
            "flex": null,
            "flex_flow": null,
            "grid_area": null,
            "grid_auto_columns": null,
            "grid_auto_flow": null,
            "grid_auto_rows": null,
            "grid_column": null,
            "grid_gap": null,
            "grid_row": null,
            "grid_template_areas": null,
            "grid_template_columns": null,
            "grid_template_rows": null,
            "height": null,
            "justify_content": null,
            "justify_items": null,
            "left": null,
            "margin": null,
            "max_height": null,
            "max_width": null,
            "min_height": null,
            "min_width": null,
            "object_fit": null,
            "object_position": null,
            "order": null,
            "overflow": null,
            "overflow_x": null,
            "overflow_y": null,
            "padding": null,
            "right": null,
            "top": null,
            "visibility": null,
            "width": null
          }
        },
        "2f9cc2fdb49b47d6a7fed610a8700e09": {
          "model_module": "@jupyter-widgets/controls",
          "model_module_version": "1.5.0",
          "model_name": "HTMLModel",
          "state": {
            "_dom_classes": [],
            "_model_module": "@jupyter-widgets/controls",
            "_model_module_version": "1.5.0",
            "_model_name": "HTMLModel",
            "_view_count": null,
            "_view_module": "@jupyter-widgets/controls",
            "_view_module_version": "1.5.0",
            "_view_name": "HTMLView",
            "description": "",
            "description_tooltip": null,
            "layout": "IPY_MODEL_6d6d41c418034f299c809443d51d4ddd",
            "placeholder": "​",
            "style": "IPY_MODEL_72d8e7708f6f42cf87ef228898aa0640",
            "value": "tokenizer.json: 100%"
          }
        },
        "3110801726f1489389b2ba2e51bcaf55": {
          "model_module": "@jupyter-widgets/controls",
          "model_module_version": "1.5.0",
          "model_name": "HTMLModel",
          "state": {
            "_dom_classes": [],
            "_model_module": "@jupyter-widgets/controls",
            "_model_module_version": "1.5.0",
            "_model_name": "HTMLModel",
            "_view_count": null,
            "_view_module": "@jupyter-widgets/controls",
            "_view_module_version": "1.5.0",
            "_view_name": "HTMLView",
            "description": "",
            "description_tooltip": null,
            "layout": "IPY_MODEL_44f6d10ba38f4e40a0df6c1449b2b7c5",
            "placeholder": "​",
            "style": "IPY_MODEL_b8d1120dcd9e43ac9542bd2772d674bd",
            "value": " 3/3 [02:41&lt;00:00, 45.39s/it]"
          }
        },
        "315ad7dd2e6d4f889ada13b728d775dd": {
          "model_module": "@jupyter-widgets/controls",
          "model_module_version": "1.5.0",
          "model_name": "ProgressStyleModel",
          "state": {
            "_model_module": "@jupyter-widgets/controls",
            "_model_module_version": "1.5.0",
            "_model_name": "ProgressStyleModel",
            "_view_count": null,
            "_view_module": "@jupyter-widgets/base",
            "_view_module_version": "1.2.0",
            "_view_name": "StyleView",
            "bar_color": null,
            "description_width": ""
          }
        },
        "31ac1a98602549639378c2fea37ecd32": {
          "model_module": "@jupyter-widgets/base",
          "model_module_version": "1.2.0",
          "model_name": "LayoutModel",
          "state": {
            "_model_module": "@jupyter-widgets/base",
            "_model_module_version": "1.2.0",
            "_model_name": "LayoutModel",
            "_view_count": null,
            "_view_module": "@jupyter-widgets/base",
            "_view_module_version": "1.2.0",
            "_view_name": "LayoutView",
            "align_content": null,
            "align_items": null,
            "align_self": null,
            "border": null,
            "bottom": null,
            "display": null,
            "flex": null,
            "flex_flow": null,
            "grid_area": null,
            "grid_auto_columns": null,
            "grid_auto_flow": null,
            "grid_auto_rows": null,
            "grid_column": null,
            "grid_gap": null,
            "grid_row": null,
            "grid_template_areas": null,
            "grid_template_columns": null,
            "grid_template_rows": null,
            "height": null,
            "justify_content": null,
            "justify_items": null,
            "left": null,
            "margin": null,
            "max_height": null,
            "max_width": null,
            "min_height": null,
            "min_width": null,
            "object_fit": null,
            "object_position": null,
            "order": null,
            "overflow": null,
            "overflow_x": null,
            "overflow_y": null,
            "padding": null,
            "right": null,
            "top": null,
            "visibility": null,
            "width": null
          }
        },
        "33db57ede58244168327976e4e30cd6a": {
          "model_module": "@jupyter-widgets/controls",
          "model_module_version": "1.5.0",
          "model_name": "ProgressStyleModel",
          "state": {
            "_model_module": "@jupyter-widgets/controls",
            "_model_module_version": "1.5.0",
            "_model_name": "ProgressStyleModel",
            "_view_count": null,
            "_view_module": "@jupyter-widgets/base",
            "_view_module_version": "1.2.0",
            "_view_name": "StyleView",
            "bar_color": null,
            "description_width": ""
          }
        },
        "346b5002a1aa46198346d5b8af4050f8": {
          "model_module": "@jupyter-widgets/controls",
          "model_module_version": "1.5.0",
          "model_name": "ProgressStyleModel",
          "state": {
            "_model_module": "@jupyter-widgets/controls",
            "_model_module_version": "1.5.0",
            "_model_name": "ProgressStyleModel",
            "_view_count": null,
            "_view_module": "@jupyter-widgets/base",
            "_view_module_version": "1.2.0",
            "_view_name": "StyleView",
            "bar_color": null,
            "description_width": ""
          }
        },
        "354ba850fcfb4430a7dded0baeb709f8": {
          "model_module": "@jupyter-widgets/controls",
          "model_module_version": "1.5.0",
          "model_name": "DescriptionStyleModel",
          "state": {
            "_model_module": "@jupyter-widgets/controls",
            "_model_module_version": "1.5.0",
            "_model_name": "DescriptionStyleModel",
            "_view_count": null,
            "_view_module": "@jupyter-widgets/base",
            "_view_module_version": "1.2.0",
            "_view_name": "StyleView",
            "description_width": ""
          }
        },
        "36f08d085c5443e98e2911be2e0cdb96": {
          "model_module": "@jupyter-widgets/controls",
          "model_module_version": "1.5.0",
          "model_name": "HTMLModel",
          "state": {
            "_dom_classes": [],
            "_model_module": "@jupyter-widgets/controls",
            "_model_module_version": "1.5.0",
            "_model_name": "HTMLModel",
            "_view_count": null,
            "_view_module": "@jupyter-widgets/controls",
            "_view_module_version": "1.5.0",
            "_view_name": "HTMLView",
            "description": "",
            "description_tooltip": null,
            "layout": "IPY_MODEL_cf78c8cd91874072adf148788a5b0b79",
            "placeholder": "​",
            "style": "IPY_MODEL_0d3c0d03118b43b7b9248a472a827ef0",
            "value": "model-00001-of-00003.safetensors: 100%"
          }
        },
        "3882f3d05f684588bfbac1b6adf3332e": {
          "model_module": "@jupyter-widgets/controls",
          "model_module_version": "1.5.0",
          "model_name": "DescriptionStyleModel",
          "state": {
            "_model_module": "@jupyter-widgets/controls",
            "_model_module_version": "1.5.0",
            "_model_name": "DescriptionStyleModel",
            "_view_count": null,
            "_view_module": "@jupyter-widgets/base",
            "_view_module_version": "1.2.0",
            "_view_name": "StyleView",
            "description_width": ""
          }
        },
        "393784075a9845ad9b24c7f2a73cc427": {
          "model_module": "@jupyter-widgets/base",
          "model_module_version": "1.2.0",
          "model_name": "LayoutModel",
          "state": {
            "_model_module": "@jupyter-widgets/base",
            "_model_module_version": "1.2.0",
            "_model_name": "LayoutModel",
            "_view_count": null,
            "_view_module": "@jupyter-widgets/base",
            "_view_module_version": "1.2.0",
            "_view_name": "LayoutView",
            "align_content": null,
            "align_items": null,
            "align_self": null,
            "border": null,
            "bottom": null,
            "display": null,
            "flex": null,
            "flex_flow": null,
            "grid_area": null,
            "grid_auto_columns": null,
            "grid_auto_flow": null,
            "grid_auto_rows": null,
            "grid_column": null,
            "grid_gap": null,
            "grid_row": null,
            "grid_template_areas": null,
            "grid_template_columns": null,
            "grid_template_rows": null,
            "height": null,
            "justify_content": null,
            "justify_items": null,
            "left": null,
            "margin": null,
            "max_height": null,
            "max_width": null,
            "min_height": null,
            "min_width": null,
            "object_fit": null,
            "object_position": null,
            "order": null,
            "overflow": null,
            "overflow_x": null,
            "overflow_y": null,
            "padding": null,
            "right": null,
            "top": null,
            "visibility": null,
            "width": null
          }
        },
        "3a7a2299e0b24001a7630136f4c63d22": {
          "model_module": "@jupyter-widgets/controls",
          "model_module_version": "1.5.0",
          "model_name": "DescriptionStyleModel",
          "state": {
            "_model_module": "@jupyter-widgets/controls",
            "_model_module_version": "1.5.0",
            "_model_name": "DescriptionStyleModel",
            "_view_count": null,
            "_view_module": "@jupyter-widgets/base",
            "_view_module_version": "1.2.0",
            "_view_name": "StyleView",
            "description_width": ""
          }
        },
        "3aa2241878b544189e639fce3a57371b": {
          "model_module": "@jupyter-widgets/base",
          "model_module_version": "1.2.0",
          "model_name": "LayoutModel",
          "state": {
            "_model_module": "@jupyter-widgets/base",
            "_model_module_version": "1.2.0",
            "_model_name": "LayoutModel",
            "_view_count": null,
            "_view_module": "@jupyter-widgets/base",
            "_view_module_version": "1.2.0",
            "_view_name": "LayoutView",
            "align_content": null,
            "align_items": null,
            "align_self": null,
            "border": null,
            "bottom": null,
            "display": null,
            "flex": null,
            "flex_flow": null,
            "grid_area": null,
            "grid_auto_columns": null,
            "grid_auto_flow": null,
            "grid_auto_rows": null,
            "grid_column": null,
            "grid_gap": null,
            "grid_row": null,
            "grid_template_areas": null,
            "grid_template_columns": null,
            "grid_template_rows": null,
            "height": null,
            "justify_content": null,
            "justify_items": null,
            "left": null,
            "margin": null,
            "max_height": null,
            "max_width": null,
            "min_height": null,
            "min_width": null,
            "object_fit": null,
            "object_position": null,
            "order": null,
            "overflow": null,
            "overflow_x": null,
            "overflow_y": null,
            "padding": null,
            "right": null,
            "top": null,
            "visibility": null,
            "width": null
          }
        },
        "3cd49d2b99c54e12a6079da14484cf9d": {
          "model_module": "@jupyter-widgets/controls",
          "model_module_version": "1.5.0",
          "model_name": "HBoxModel",
          "state": {
            "_dom_classes": [],
            "_model_module": "@jupyter-widgets/controls",
            "_model_module_version": "1.5.0",
            "_model_name": "HBoxModel",
            "_view_count": null,
            "_view_module": "@jupyter-widgets/controls",
            "_view_module_version": "1.5.0",
            "_view_name": "HBoxView",
            "box_style": "",
            "children": [
              "IPY_MODEL_76729266251549f1a87632ea7b8093a6",
              "IPY_MODEL_8b8a0192377d4784b094cd0cc2604d29",
              "IPY_MODEL_f828275928814480af1c744508c533a7"
            ],
            "layout": "IPY_MODEL_3e19a24f23dd401ba66cb0b0f9de2988"
          }
        },
        "3e19a24f23dd401ba66cb0b0f9de2988": {
          "model_module": "@jupyter-widgets/base",
          "model_module_version": "1.2.0",
          "model_name": "LayoutModel",
          "state": {
            "_model_module": "@jupyter-widgets/base",
            "_model_module_version": "1.2.0",
            "_model_name": "LayoutModel",
            "_view_count": null,
            "_view_module": "@jupyter-widgets/base",
            "_view_module_version": "1.2.0",
            "_view_name": "LayoutView",
            "align_content": null,
            "align_items": null,
            "align_self": null,
            "border": null,
            "bottom": null,
            "display": null,
            "flex": null,
            "flex_flow": null,
            "grid_area": null,
            "grid_auto_columns": null,
            "grid_auto_flow": null,
            "grid_auto_rows": null,
            "grid_column": null,
            "grid_gap": null,
            "grid_row": null,
            "grid_template_areas": null,
            "grid_template_columns": null,
            "grid_template_rows": null,
            "height": null,
            "justify_content": null,
            "justify_items": null,
            "left": null,
            "margin": null,
            "max_height": null,
            "max_width": null,
            "min_height": null,
            "min_width": null,
            "object_fit": null,
            "object_position": null,
            "order": null,
            "overflow": null,
            "overflow_x": null,
            "overflow_y": null,
            "padding": null,
            "right": null,
            "top": null,
            "visibility": null,
            "width": null
          }
        },
        "3e41f09af2904c9dac28cc8b34139960": {
          "model_module": "@jupyter-widgets/controls",
          "model_module_version": "1.5.0",
          "model_name": "ProgressStyleModel",
          "state": {
            "_model_module": "@jupyter-widgets/controls",
            "_model_module_version": "1.5.0",
            "_model_name": "ProgressStyleModel",
            "_view_count": null,
            "_view_module": "@jupyter-widgets/base",
            "_view_module_version": "1.2.0",
            "_view_name": "StyleView",
            "bar_color": null,
            "description_width": ""
          }
        },
        "40584925c5de4253926df7adc0b32cd6": {
          "model_module": "@jupyter-widgets/base",
          "model_module_version": "1.2.0",
          "model_name": "LayoutModel",
          "state": {
            "_model_module": "@jupyter-widgets/base",
            "_model_module_version": "1.2.0",
            "_model_name": "LayoutModel",
            "_view_count": null,
            "_view_module": "@jupyter-widgets/base",
            "_view_module_version": "1.2.0",
            "_view_name": "LayoutView",
            "align_content": null,
            "align_items": null,
            "align_self": null,
            "border": null,
            "bottom": null,
            "display": null,
            "flex": null,
            "flex_flow": null,
            "grid_area": null,
            "grid_auto_columns": null,
            "grid_auto_flow": null,
            "grid_auto_rows": null,
            "grid_column": null,
            "grid_gap": null,
            "grid_row": null,
            "grid_template_areas": null,
            "grid_template_columns": null,
            "grid_template_rows": null,
            "height": null,
            "justify_content": null,
            "justify_items": null,
            "left": null,
            "margin": null,
            "max_height": null,
            "max_width": null,
            "min_height": null,
            "min_width": null,
            "object_fit": null,
            "object_position": null,
            "order": null,
            "overflow": null,
            "overflow_x": null,
            "overflow_y": null,
            "padding": null,
            "right": null,
            "top": null,
            "visibility": null,
            "width": null
          }
        },
        "41c7f9544911444d844932326b0293fc": {
          "model_module": "@jupyter-widgets/base",
          "model_module_version": "1.2.0",
          "model_name": "LayoutModel",
          "state": {
            "_model_module": "@jupyter-widgets/base",
            "_model_module_version": "1.2.0",
            "_model_name": "LayoutModel",
            "_view_count": null,
            "_view_module": "@jupyter-widgets/base",
            "_view_module_version": "1.2.0",
            "_view_name": "LayoutView",
            "align_content": null,
            "align_items": null,
            "align_self": null,
            "border": null,
            "bottom": null,
            "display": null,
            "flex": null,
            "flex_flow": null,
            "grid_area": null,
            "grid_auto_columns": null,
            "grid_auto_flow": null,
            "grid_auto_rows": null,
            "grid_column": null,
            "grid_gap": null,
            "grid_row": null,
            "grid_template_areas": null,
            "grid_template_columns": null,
            "grid_template_rows": null,
            "height": null,
            "justify_content": null,
            "justify_items": null,
            "left": null,
            "margin": null,
            "max_height": null,
            "max_width": null,
            "min_height": null,
            "min_width": null,
            "object_fit": null,
            "object_position": null,
            "order": null,
            "overflow": null,
            "overflow_x": null,
            "overflow_y": null,
            "padding": null,
            "right": null,
            "top": null,
            "visibility": null,
            "width": null
          }
        },
        "44f6d10ba38f4e40a0df6c1449b2b7c5": {
          "model_module": "@jupyter-widgets/base",
          "model_module_version": "1.2.0",
          "model_name": "LayoutModel",
          "state": {
            "_model_module": "@jupyter-widgets/base",
            "_model_module_version": "1.2.0",
            "_model_name": "LayoutModel",
            "_view_count": null,
            "_view_module": "@jupyter-widgets/base",
            "_view_module_version": "1.2.0",
            "_view_name": "LayoutView",
            "align_content": null,
            "align_items": null,
            "align_self": null,
            "border": null,
            "bottom": null,
            "display": null,
            "flex": null,
            "flex_flow": null,
            "grid_area": null,
            "grid_auto_columns": null,
            "grid_auto_flow": null,
            "grid_auto_rows": null,
            "grid_column": null,
            "grid_gap": null,
            "grid_row": null,
            "grid_template_areas": null,
            "grid_template_columns": null,
            "grid_template_rows": null,
            "height": null,
            "justify_content": null,
            "justify_items": null,
            "left": null,
            "margin": null,
            "max_height": null,
            "max_width": null,
            "min_height": null,
            "min_width": null,
            "object_fit": null,
            "object_position": null,
            "order": null,
            "overflow": null,
            "overflow_x": null,
            "overflow_y": null,
            "padding": null,
            "right": null,
            "top": null,
            "visibility": null,
            "width": null
          }
        },
        "486ccd6b938a461fa94ee55308810b53": {
          "model_module": "@jupyter-widgets/controls",
          "model_module_version": "1.5.0",
          "model_name": "ProgressStyleModel",
          "state": {
            "_model_module": "@jupyter-widgets/controls",
            "_model_module_version": "1.5.0",
            "_model_name": "ProgressStyleModel",
            "_view_count": null,
            "_view_module": "@jupyter-widgets/base",
            "_view_module_version": "1.2.0",
            "_view_name": "StyleView",
            "bar_color": null,
            "description_width": ""
          }
        },
        "4c3311e71b874338bb3bea22c6158812": {
          "model_module": "@jupyter-widgets/base",
          "model_module_version": "1.2.0",
          "model_name": "LayoutModel",
          "state": {
            "_model_module": "@jupyter-widgets/base",
            "_model_module_version": "1.2.0",
            "_model_name": "LayoutModel",
            "_view_count": null,
            "_view_module": "@jupyter-widgets/base",
            "_view_module_version": "1.2.0",
            "_view_name": "LayoutView",
            "align_content": null,
            "align_items": null,
            "align_self": null,
            "border": null,
            "bottom": null,
            "display": null,
            "flex": null,
            "flex_flow": null,
            "grid_area": null,
            "grid_auto_columns": null,
            "grid_auto_flow": null,
            "grid_auto_rows": null,
            "grid_column": null,
            "grid_gap": null,
            "grid_row": null,
            "grid_template_areas": null,
            "grid_template_columns": null,
            "grid_template_rows": null,
            "height": null,
            "justify_content": null,
            "justify_items": null,
            "left": null,
            "margin": null,
            "max_height": null,
            "max_width": null,
            "min_height": null,
            "min_width": null,
            "object_fit": null,
            "object_position": null,
            "order": null,
            "overflow": null,
            "overflow_x": null,
            "overflow_y": null,
            "padding": null,
            "right": null,
            "top": null,
            "visibility": null,
            "width": null
          }
        },
        "4e1d12df9d354d8e9cfe2fdf6794dfc4": {
          "model_module": "@jupyter-widgets/base",
          "model_module_version": "1.2.0",
          "model_name": "LayoutModel",
          "state": {
            "_model_module": "@jupyter-widgets/base",
            "_model_module_version": "1.2.0",
            "_model_name": "LayoutModel",
            "_view_count": null,
            "_view_module": "@jupyter-widgets/base",
            "_view_module_version": "1.2.0",
            "_view_name": "LayoutView",
            "align_content": null,
            "align_items": null,
            "align_self": null,
            "border": null,
            "bottom": null,
            "display": null,
            "flex": null,
            "flex_flow": null,
            "grid_area": null,
            "grid_auto_columns": null,
            "grid_auto_flow": null,
            "grid_auto_rows": null,
            "grid_column": null,
            "grid_gap": null,
            "grid_row": null,
            "grid_template_areas": null,
            "grid_template_columns": null,
            "grid_template_rows": null,
            "height": null,
            "justify_content": null,
            "justify_items": null,
            "left": null,
            "margin": null,
            "max_height": null,
            "max_width": null,
            "min_height": null,
            "min_width": null,
            "object_fit": null,
            "object_position": null,
            "order": null,
            "overflow": null,
            "overflow_x": null,
            "overflow_y": null,
            "padding": null,
            "right": null,
            "top": null,
            "visibility": null,
            "width": null
          }
        },
        "4f3c0870091246fa8ba86cb29e880d7f": {
          "model_module": "@jupyter-widgets/base",
          "model_module_version": "1.2.0",
          "model_name": "LayoutModel",
          "state": {
            "_model_module": "@jupyter-widgets/base",
            "_model_module_version": "1.2.0",
            "_model_name": "LayoutModel",
            "_view_count": null,
            "_view_module": "@jupyter-widgets/base",
            "_view_module_version": "1.2.0",
            "_view_name": "LayoutView",
            "align_content": null,
            "align_items": null,
            "align_self": null,
            "border": null,
            "bottom": null,
            "display": null,
            "flex": null,
            "flex_flow": null,
            "grid_area": null,
            "grid_auto_columns": null,
            "grid_auto_flow": null,
            "grid_auto_rows": null,
            "grid_column": null,
            "grid_gap": null,
            "grid_row": null,
            "grid_template_areas": null,
            "grid_template_columns": null,
            "grid_template_rows": null,
            "height": null,
            "justify_content": null,
            "justify_items": null,
            "left": null,
            "margin": null,
            "max_height": null,
            "max_width": null,
            "min_height": null,
            "min_width": null,
            "object_fit": null,
            "object_position": null,
            "order": null,
            "overflow": null,
            "overflow_x": null,
            "overflow_y": null,
            "padding": null,
            "right": null,
            "top": null,
            "visibility": null,
            "width": null
          }
        },
        "511246d5bfc7401baa1ce763be8b98b6": {
          "model_module": "@jupyter-widgets/base",
          "model_module_version": "1.2.0",
          "model_name": "LayoutModel",
          "state": {
            "_model_module": "@jupyter-widgets/base",
            "_model_module_version": "1.2.0",
            "_model_name": "LayoutModel",
            "_view_count": null,
            "_view_module": "@jupyter-widgets/base",
            "_view_module_version": "1.2.0",
            "_view_name": "LayoutView",
            "align_content": null,
            "align_items": null,
            "align_self": null,
            "border": null,
            "bottom": null,
            "display": null,
            "flex": null,
            "flex_flow": null,
            "grid_area": null,
            "grid_auto_columns": null,
            "grid_auto_flow": null,
            "grid_auto_rows": null,
            "grid_column": null,
            "grid_gap": null,
            "grid_row": null,
            "grid_template_areas": null,
            "grid_template_columns": null,
            "grid_template_rows": null,
            "height": null,
            "justify_content": null,
            "justify_items": null,
            "left": null,
            "margin": null,
            "max_height": null,
            "max_width": null,
            "min_height": null,
            "min_width": null,
            "object_fit": null,
            "object_position": null,
            "order": null,
            "overflow": null,
            "overflow_x": null,
            "overflow_y": null,
            "padding": null,
            "right": null,
            "top": null,
            "visibility": null,
            "width": null
          }
        },
        "53bd151504494016ab9bdb11acba8efb": {
          "model_module": "@jupyter-widgets/controls",
          "model_module_version": "1.5.0",
          "model_name": "HBoxModel",
          "state": {
            "_dom_classes": [],
            "_model_module": "@jupyter-widgets/controls",
            "_model_module_version": "1.5.0",
            "_model_name": "HBoxModel",
            "_view_count": null,
            "_view_module": "@jupyter-widgets/controls",
            "_view_module_version": "1.5.0",
            "_view_name": "HBoxView",
            "box_style": "",
            "children": [
              "IPY_MODEL_0ce5a843349e4c379d61de785357e5b1",
              "IPY_MODEL_103763ed6a1d45678be516752235d03c",
              "IPY_MODEL_f46b4f72f94c4edda4f6d40d9fdbe672"
            ],
            "layout": "IPY_MODEL_2abba322ff1b4125957937d326348d0e"
          }
        },
        "5662a6a41e344bf68f9b1e23f94d36ad": {
          "model_module": "@jupyter-widgets/controls",
          "model_module_version": "1.5.0",
          "model_name": "FloatProgressModel",
          "state": {
            "_dom_classes": [],
            "_model_module": "@jupyter-widgets/controls",
            "_model_module_version": "1.5.0",
            "_model_name": "FloatProgressModel",
            "_view_count": null,
            "_view_module": "@jupyter-widgets/controls",
            "_view_module_version": "1.5.0",
            "_view_name": "ProgressView",
            "bar_style": "danger",
            "description": "",
            "description_tooltip": null,
            "layout": "IPY_MODEL_7a0466c27cdb46ce97c6b83e7efb713d",
            "max": 1027604608,
            "min": 0,
            "orientation": "horizontal",
            "style": "IPY_MODEL_33db57ede58244168327976e4e30cd6a",
            "value": 1027604510
          }
        },
        "5b2b6417e3d947f0bb5fb89dcdf44d11": {
          "model_module": "@jupyter-widgets/controls",
          "model_module_version": "1.5.0",
          "model_name": "DescriptionStyleModel",
          "state": {
            "_model_module": "@jupyter-widgets/controls",
            "_model_module_version": "1.5.0",
            "_model_name": "DescriptionStyleModel",
            "_view_count": null,
            "_view_module": "@jupyter-widgets/base",
            "_view_module_version": "1.2.0",
            "_view_name": "StyleView",
            "description_width": ""
          }
        },
        "5e69007431744bdb85d4da9cfd0f5aa8": {
          "model_module": "@jupyter-widgets/controls",
          "model_module_version": "1.5.0",
          "model_name": "ProgressStyleModel",
          "state": {
            "_model_module": "@jupyter-widgets/controls",
            "_model_module_version": "1.5.0",
            "_model_name": "ProgressStyleModel",
            "_view_count": null,
            "_view_module": "@jupyter-widgets/base",
            "_view_module_version": "1.2.0",
            "_view_name": "StyleView",
            "bar_color": null,
            "description_width": ""
          }
        },
        "60ba1a4eb21c40c6a9bbdcc2e85c3f40": {
          "model_module": "@jupyter-widgets/controls",
          "model_module_version": "1.5.0",
          "model_name": "FloatProgressModel",
          "state": {
            "_dom_classes": [],
            "_model_module": "@jupyter-widgets/controls",
            "_model_module_version": "1.5.0",
            "_model_name": "FloatProgressModel",
            "_view_count": null,
            "_view_module": "@jupyter-widgets/controls",
            "_view_module_version": "1.5.0",
            "_view_name": "ProgressView",
            "bar_style": "success",
            "description": "",
            "description_tooltip": null,
            "layout": "IPY_MODEL_e935f2068b504900865caba1cfcfe8eb",
            "max": 3,
            "min": 0,
            "orientation": "horizontal",
            "style": "IPY_MODEL_5e69007431744bdb85d4da9cfd0f5aa8",
            "value": 3
          }
        },
        "62ba1f2ae1fb4b338df1b4d3dacbc4fc": {
          "model_module": "@jupyter-widgets/base",
          "model_module_version": "1.2.0",
          "model_name": "LayoutModel",
          "state": {
            "_model_module": "@jupyter-widgets/base",
            "_model_module_version": "1.2.0",
            "_model_name": "LayoutModel",
            "_view_count": null,
            "_view_module": "@jupyter-widgets/base",
            "_view_module_version": "1.2.0",
            "_view_name": "LayoutView",
            "align_content": null,
            "align_items": null,
            "align_self": null,
            "border": null,
            "bottom": null,
            "display": null,
            "flex": null,
            "flex_flow": null,
            "grid_area": null,
            "grid_auto_columns": null,
            "grid_auto_flow": null,
            "grid_auto_rows": null,
            "grid_column": null,
            "grid_gap": null,
            "grid_row": null,
            "grid_template_areas": null,
            "grid_template_columns": null,
            "grid_template_rows": null,
            "height": null,
            "justify_content": null,
            "justify_items": null,
            "left": null,
            "margin": null,
            "max_height": null,
            "max_width": null,
            "min_height": null,
            "min_width": null,
            "object_fit": null,
            "object_position": null,
            "order": null,
            "overflow": null,
            "overflow_x": null,
            "overflow_y": null,
            "padding": null,
            "right": null,
            "top": null,
            "visibility": null,
            "width": null
          }
        },
        "632063a00c13413a8650de47955d5acd": {
          "model_module": "@jupyter-widgets/base",
          "model_module_version": "1.2.0",
          "model_name": "LayoutModel",
          "state": {
            "_model_module": "@jupyter-widgets/base",
            "_model_module_version": "1.2.0",
            "_model_name": "LayoutModel",
            "_view_count": null,
            "_view_module": "@jupyter-widgets/base",
            "_view_module_version": "1.2.0",
            "_view_name": "LayoutView",
            "align_content": null,
            "align_items": null,
            "align_self": null,
            "border": null,
            "bottom": null,
            "display": null,
            "flex": null,
            "flex_flow": null,
            "grid_area": null,
            "grid_auto_columns": null,
            "grid_auto_flow": null,
            "grid_auto_rows": null,
            "grid_column": null,
            "grid_gap": null,
            "grid_row": null,
            "grid_template_areas": null,
            "grid_template_columns": null,
            "grid_template_rows": null,
            "height": null,
            "justify_content": null,
            "justify_items": null,
            "left": null,
            "margin": null,
            "max_height": null,
            "max_width": null,
            "min_height": null,
            "min_width": null,
            "object_fit": null,
            "object_position": null,
            "order": null,
            "overflow": null,
            "overflow_x": null,
            "overflow_y": null,
            "padding": null,
            "right": null,
            "top": null,
            "visibility": null,
            "width": null
          }
        },
        "67bb45f270ac4bd9943741e0a3befe07": {
          "model_module": "@jupyter-widgets/base",
          "model_module_version": "1.2.0",
          "model_name": "LayoutModel",
          "state": {
            "_model_module": "@jupyter-widgets/base",
            "_model_module_version": "1.2.0",
            "_model_name": "LayoutModel",
            "_view_count": null,
            "_view_module": "@jupyter-widgets/base",
            "_view_module_version": "1.2.0",
            "_view_name": "LayoutView",
            "align_content": null,
            "align_items": null,
            "align_self": null,
            "border": null,
            "bottom": null,
            "display": null,
            "flex": null,
            "flex_flow": null,
            "grid_area": null,
            "grid_auto_columns": null,
            "grid_auto_flow": null,
            "grid_auto_rows": null,
            "grid_column": null,
            "grid_gap": null,
            "grid_row": null,
            "grid_template_areas": null,
            "grid_template_columns": null,
            "grid_template_rows": null,
            "height": null,
            "justify_content": null,
            "justify_items": null,
            "left": null,
            "margin": null,
            "max_height": null,
            "max_width": null,
            "min_height": null,
            "min_width": null,
            "object_fit": null,
            "object_position": null,
            "order": null,
            "overflow": null,
            "overflow_x": null,
            "overflow_y": null,
            "padding": null,
            "right": null,
            "top": null,
            "visibility": null,
            "width": null
          }
        },
        "691a902d159b43f09d037920be59c851": {
          "model_module": "@jupyter-widgets/base",
          "model_module_version": "1.2.0",
          "model_name": "LayoutModel",
          "state": {
            "_model_module": "@jupyter-widgets/base",
            "_model_module_version": "1.2.0",
            "_model_name": "LayoutModel",
            "_view_count": null,
            "_view_module": "@jupyter-widgets/base",
            "_view_module_version": "1.2.0",
            "_view_name": "LayoutView",
            "align_content": null,
            "align_items": null,
            "align_self": null,
            "border": null,
            "bottom": null,
            "display": null,
            "flex": null,
            "flex_flow": null,
            "grid_area": null,
            "grid_auto_columns": null,
            "grid_auto_flow": null,
            "grid_auto_rows": null,
            "grid_column": null,
            "grid_gap": null,
            "grid_row": null,
            "grid_template_areas": null,
            "grid_template_columns": null,
            "grid_template_rows": null,
            "height": null,
            "justify_content": null,
            "justify_items": null,
            "left": null,
            "margin": null,
            "max_height": null,
            "max_width": null,
            "min_height": null,
            "min_width": null,
            "object_fit": null,
            "object_position": null,
            "order": null,
            "overflow": null,
            "overflow_x": null,
            "overflow_y": null,
            "padding": null,
            "right": null,
            "top": null,
            "visibility": null,
            "width": null
          }
        },
        "6936a2d8141042bea706d2b262340751": {
          "model_module": "@jupyter-widgets/controls",
          "model_module_version": "1.5.0",
          "model_name": "HTMLModel",
          "state": {
            "_dom_classes": [],
            "_model_module": "@jupyter-widgets/controls",
            "_model_module_version": "1.5.0",
            "_model_name": "HTMLModel",
            "_view_count": null,
            "_view_module": "@jupyter-widgets/controls",
            "_view_module_version": "1.5.0",
            "_view_name": "HTMLView",
            "description": "",
            "description_tooltip": null,
            "layout": "IPY_MODEL_393784075a9845ad9b24c7f2a73cc427",
            "placeholder": "​",
            "style": "IPY_MODEL_d0c5330c7ba247cdafd475f67dd4acad",
            "value": "vocab.json: 100%"
          }
        },
        "697bd03ec12d4b59b223b43936808532": {
          "model_module": "@jupyter-widgets/controls",
          "model_module_version": "1.5.0",
          "model_name": "DescriptionStyleModel",
          "state": {
            "_model_module": "@jupyter-widgets/controls",
            "_model_module_version": "1.5.0",
            "_model_name": "DescriptionStyleModel",
            "_view_count": null,
            "_view_module": "@jupyter-widgets/base",
            "_view_module_version": "1.2.0",
            "_view_name": "StyleView",
            "description_width": ""
          }
        },
        "6d6d41c418034f299c809443d51d4ddd": {
          "model_module": "@jupyter-widgets/base",
          "model_module_version": "1.2.0",
          "model_name": "LayoutModel",
          "state": {
            "_model_module": "@jupyter-widgets/base",
            "_model_module_version": "1.2.0",
            "_model_name": "LayoutModel",
            "_view_count": null,
            "_view_module": "@jupyter-widgets/base",
            "_view_module_version": "1.2.0",
            "_view_name": "LayoutView",
            "align_content": null,
            "align_items": null,
            "align_self": null,
            "border": null,
            "bottom": null,
            "display": null,
            "flex": null,
            "flex_flow": null,
            "grid_area": null,
            "grid_auto_columns": null,
            "grid_auto_flow": null,
            "grid_auto_rows": null,
            "grid_column": null,
            "grid_gap": null,
            "grid_row": null,
            "grid_template_areas": null,
            "grid_template_columns": null,
            "grid_template_rows": null,
            "height": null,
            "justify_content": null,
            "justify_items": null,
            "left": null,
            "margin": null,
            "max_height": null,
            "max_width": null,
            "min_height": null,
            "min_width": null,
            "object_fit": null,
            "object_position": null,
            "order": null,
            "overflow": null,
            "overflow_x": null,
            "overflow_y": null,
            "padding": null,
            "right": null,
            "top": null,
            "visibility": null,
            "width": null
          }
        },
        "6d75627505a04e56bea4f25a733733f5": {
          "model_module": "@jupyter-widgets/controls",
          "model_module_version": "1.5.0",
          "model_name": "HBoxModel",
          "state": {
            "_dom_classes": [],
            "_model_module": "@jupyter-widgets/controls",
            "_model_module_version": "1.5.0",
            "_model_name": "HBoxModel",
            "_view_count": null,
            "_view_module": "@jupyter-widgets/controls",
            "_view_module_version": "1.5.0",
            "_view_name": "HBoxView",
            "box_style": "",
            "children": [
              "IPY_MODEL_c2e3a31f8c4d4298a4715b7e40ace11f",
              "IPY_MODEL_60ba1a4eb21c40c6a9bbdcc2e85c3f40",
              "IPY_MODEL_1245208333d246b9bf8fd9ecc86a1d40"
            ],
            "layout": "IPY_MODEL_41c7f9544911444d844932326b0293fc"
          }
        },
        "72d8e7708f6f42cf87ef228898aa0640": {
          "model_module": "@jupyter-widgets/controls",
          "model_module_version": "1.5.0",
          "model_name": "DescriptionStyleModel",
          "state": {
            "_model_module": "@jupyter-widgets/controls",
            "_model_module_version": "1.5.0",
            "_model_name": "DescriptionStyleModel",
            "_view_count": null,
            "_view_module": "@jupyter-widgets/base",
            "_view_module_version": "1.2.0",
            "_view_name": "StyleView",
            "description_width": ""
          }
        },
        "76729266251549f1a87632ea7b8093a6": {
          "model_module": "@jupyter-widgets/controls",
          "model_module_version": "1.5.0",
          "model_name": "HTMLModel",
          "state": {
            "_dom_classes": [],
            "_model_module": "@jupyter-widgets/controls",
            "_model_module_version": "1.5.0",
            "_model_name": "HTMLModel",
            "_view_count": null,
            "_view_module": "@jupyter-widgets/controls",
            "_view_module_version": "1.5.0",
            "_view_name": "HTMLView",
            "description": "",
            "description_tooltip": null,
            "layout": "IPY_MODEL_62ba1f2ae1fb4b338df1b4d3dacbc4fc",
            "placeholder": "​",
            "style": "IPY_MODEL_5b2b6417e3d947f0bb5fb89dcdf44d11",
            "value": "merges.txt: 100%"
          }
        },
        "767b43df2f54494b86ff293a85955797": {
          "model_module": "@jupyter-widgets/controls",
          "model_module_version": "1.5.0",
          "model_name": "HBoxModel",
          "state": {
            "_dom_classes": [],
            "_model_module": "@jupyter-widgets/controls",
            "_model_module_version": "1.5.0",
            "_model_name": "HBoxModel",
            "_view_count": null,
            "_view_module": "@jupyter-widgets/controls",
            "_view_module_version": "1.5.0",
            "_view_name": "HBoxView",
            "box_style": "",
            "children": [
              "IPY_MODEL_d6061d95baf0468cb8464482da81e404",
              "IPY_MODEL_d62e16de33f24bbf87b9fd4ea5d70b16",
              "IPY_MODEL_1dd078f0c29349deb59f0b768ddb3e00"
            ],
            "layout": "IPY_MODEL_67bb45f270ac4bd9943741e0a3befe07"
          }
        },
        "7a0466c27cdb46ce97c6b83e7efb713d": {
          "model_module": "@jupyter-widgets/base",
          "model_module_version": "1.2.0",
          "model_name": "LayoutModel",
          "state": {
            "_model_module": "@jupyter-widgets/base",
            "_model_module_version": "1.2.0",
            "_model_name": "LayoutModel",
            "_view_count": null,
            "_view_module": "@jupyter-widgets/base",
            "_view_module_version": "1.2.0",
            "_view_name": "LayoutView",
            "align_content": null,
            "align_items": null,
            "align_self": null,
            "border": null,
            "bottom": null,
            "display": null,
            "flex": null,
            "flex_flow": null,
            "grid_area": null,
            "grid_auto_columns": null,
            "grid_auto_flow": null,
            "grid_auto_rows": null,
            "grid_column": null,
            "grid_gap": null,
            "grid_row": null,
            "grid_template_areas": null,
            "grid_template_columns": null,
            "grid_template_rows": null,
            "height": null,
            "justify_content": null,
            "justify_items": null,
            "left": null,
            "margin": null,
            "max_height": null,
            "max_width": null,
            "min_height": null,
            "min_width": null,
            "object_fit": null,
            "object_position": null,
            "order": null,
            "overflow": null,
            "overflow_x": null,
            "overflow_y": null,
            "padding": null,
            "right": null,
            "top": null,
            "visibility": null,
            "width": null
          }
        },
        "7a7c5fc7fb484c75adab2f2e7bf62604": {
          "model_module": "@jupyter-widgets/base",
          "model_module_version": "1.2.0",
          "model_name": "LayoutModel",
          "state": {
            "_model_module": "@jupyter-widgets/base",
            "_model_module_version": "1.2.0",
            "_model_name": "LayoutModel",
            "_view_count": null,
            "_view_module": "@jupyter-widgets/base",
            "_view_module_version": "1.2.0",
            "_view_name": "LayoutView",
            "align_content": null,
            "align_items": null,
            "align_self": null,
            "border": null,
            "bottom": null,
            "display": null,
            "flex": null,
            "flex_flow": null,
            "grid_area": null,
            "grid_auto_columns": null,
            "grid_auto_flow": null,
            "grid_auto_rows": null,
            "grid_column": null,
            "grid_gap": null,
            "grid_row": null,
            "grid_template_areas": null,
            "grid_template_columns": null,
            "grid_template_rows": null,
            "height": null,
            "justify_content": null,
            "justify_items": null,
            "left": null,
            "margin": null,
            "max_height": null,
            "max_width": null,
            "min_height": null,
            "min_width": null,
            "object_fit": null,
            "object_position": null,
            "order": null,
            "overflow": null,
            "overflow_x": null,
            "overflow_y": null,
            "padding": null,
            "right": null,
            "top": null,
            "visibility": null,
            "width": null
          }
        },
        "803dba656eef41439c64cc4723fda534": {
          "model_module": "@jupyter-widgets/base",
          "model_module_version": "1.2.0",
          "model_name": "LayoutModel",
          "state": {
            "_model_module": "@jupyter-widgets/base",
            "_model_module_version": "1.2.0",
            "_model_name": "LayoutModel",
            "_view_count": null,
            "_view_module": "@jupyter-widgets/base",
            "_view_module_version": "1.2.0",
            "_view_name": "LayoutView",
            "align_content": null,
            "align_items": null,
            "align_self": null,
            "border": null,
            "bottom": null,
            "display": null,
            "flex": null,
            "flex_flow": null,
            "grid_area": null,
            "grid_auto_columns": null,
            "grid_auto_flow": null,
            "grid_auto_rows": null,
            "grid_column": null,
            "grid_gap": null,
            "grid_row": null,
            "grid_template_areas": null,
            "grid_template_columns": null,
            "grid_template_rows": null,
            "height": null,
            "justify_content": null,
            "justify_items": null,
            "left": null,
            "margin": null,
            "max_height": null,
            "max_width": null,
            "min_height": null,
            "min_width": null,
            "object_fit": null,
            "object_position": null,
            "order": null,
            "overflow": null,
            "overflow_x": null,
            "overflow_y": null,
            "padding": null,
            "right": null,
            "top": null,
            "visibility": null,
            "width": null
          }
        },
        "82212741889e420690a4b1efb430591a": {
          "model_module": "@jupyter-widgets/controls",
          "model_module_version": "1.5.0",
          "model_name": "DescriptionStyleModel",
          "state": {
            "_model_module": "@jupyter-widgets/controls",
            "_model_module_version": "1.5.0",
            "_model_name": "DescriptionStyleModel",
            "_view_count": null,
            "_view_module": "@jupyter-widgets/base",
            "_view_module_version": "1.2.0",
            "_view_name": "StyleView",
            "description_width": ""
          }
        },
        "84e558e540ee43eab1437c4224c6d515": {
          "model_module": "@jupyter-widgets/base",
          "model_module_version": "1.2.0",
          "model_name": "LayoutModel",
          "state": {
            "_model_module": "@jupyter-widgets/base",
            "_model_module_version": "1.2.0",
            "_model_name": "LayoutModel",
            "_view_count": null,
            "_view_module": "@jupyter-widgets/base",
            "_view_module_version": "1.2.0",
            "_view_name": "LayoutView",
            "align_content": null,
            "align_items": null,
            "align_self": null,
            "border": null,
            "bottom": null,
            "display": null,
            "flex": null,
            "flex_flow": null,
            "grid_area": null,
            "grid_auto_columns": null,
            "grid_auto_flow": null,
            "grid_auto_rows": null,
            "grid_column": null,
            "grid_gap": null,
            "grid_row": null,
            "grid_template_areas": null,
            "grid_template_columns": null,
            "grid_template_rows": null,
            "height": null,
            "justify_content": null,
            "justify_items": null,
            "left": null,
            "margin": null,
            "max_height": null,
            "max_width": null,
            "min_height": null,
            "min_width": null,
            "object_fit": null,
            "object_position": null,
            "order": null,
            "overflow": null,
            "overflow_x": null,
            "overflow_y": null,
            "padding": null,
            "right": null,
            "top": null,
            "visibility": null,
            "width": null
          }
        },
        "86c19798005a48e8895cd67b3aad1f98": {
          "model_module": "@jupyter-widgets/base",
          "model_module_version": "1.2.0",
          "model_name": "LayoutModel",
          "state": {
            "_model_module": "@jupyter-widgets/base",
            "_model_module_version": "1.2.0",
            "_model_name": "LayoutModel",
            "_view_count": null,
            "_view_module": "@jupyter-widgets/base",
            "_view_module_version": "1.2.0",
            "_view_name": "LayoutView",
            "align_content": null,
            "align_items": null,
            "align_self": null,
            "border": null,
            "bottom": null,
            "display": null,
            "flex": null,
            "flex_flow": null,
            "grid_area": null,
            "grid_auto_columns": null,
            "grid_auto_flow": null,
            "grid_auto_rows": null,
            "grid_column": null,
            "grid_gap": null,
            "grid_row": null,
            "grid_template_areas": null,
            "grid_template_columns": null,
            "grid_template_rows": null,
            "height": null,
            "justify_content": null,
            "justify_items": null,
            "left": null,
            "margin": null,
            "max_height": null,
            "max_width": null,
            "min_height": null,
            "min_width": null,
            "object_fit": null,
            "object_position": null,
            "order": null,
            "overflow": null,
            "overflow_x": null,
            "overflow_y": null,
            "padding": null,
            "right": null,
            "top": null,
            "visibility": null,
            "width": null
          }
        },
        "8736c237227c4c78a3013517dc26f91c": {
          "model_module": "@jupyter-widgets/controls",
          "model_module_version": "1.5.0",
          "model_name": "HBoxModel",
          "state": {
            "_dom_classes": [],
            "_model_module": "@jupyter-widgets/controls",
            "_model_module_version": "1.5.0",
            "_model_name": "HBoxModel",
            "_view_count": null,
            "_view_module": "@jupyter-widgets/controls",
            "_view_module_version": "1.5.0",
            "_view_name": "HBoxView",
            "box_style": "",
            "children": [
              "IPY_MODEL_c36785406d0748deadee10711f4dcc57",
              "IPY_MODEL_bb4457364a6d40afac485f07bde13a4e",
              "IPY_MODEL_3110801726f1489389b2ba2e51bcaf55"
            ],
            "layout": "IPY_MODEL_803dba656eef41439c64cc4723fda534"
          }
        },
        "8b8a0192377d4784b094cd0cc2604d29": {
          "model_module": "@jupyter-widgets/controls",
          "model_module_version": "1.5.0",
          "model_name": "FloatProgressModel",
          "state": {
            "_dom_classes": [],
            "_model_module": "@jupyter-widgets/controls",
            "_model_module_version": "1.5.0",
            "_model_name": "FloatProgressModel",
            "_view_count": null,
            "_view_module": "@jupyter-widgets/controls",
            "_view_module_version": "1.5.0",
            "_view_name": "ProgressView",
            "bar_style": "success",
            "description": "",
            "description_tooltip": null,
            "layout": "IPY_MODEL_f7f0c25ee93349ea8c3857758aa0655d",
            "max": 916646,
            "min": 0,
            "orientation": "horizontal",
            "style": "IPY_MODEL_3e41f09af2904c9dac28cc8b34139960",
            "value": 916646
          }
        },
        "8c63703e54c04f4eb13fa5131292e48d": {
          "model_module": "@jupyter-widgets/controls",
          "model_module_version": "1.5.0",
          "model_name": "DescriptionStyleModel",
          "state": {
            "_model_module": "@jupyter-widgets/controls",
            "_model_module_version": "1.5.0",
            "_model_name": "DescriptionStyleModel",
            "_view_count": null,
            "_view_module": "@jupyter-widgets/base",
            "_view_module_version": "1.2.0",
            "_view_name": "StyleView",
            "description_width": ""
          }
        },
        "8d5e0eee67f6409db131bbb30689841e": {
          "model_module": "@jupyter-widgets/controls",
          "model_module_version": "1.5.0",
          "model_name": "DescriptionStyleModel",
          "state": {
            "_model_module": "@jupyter-widgets/controls",
            "_model_module_version": "1.5.0",
            "_model_name": "DescriptionStyleModel",
            "_view_count": null,
            "_view_module": "@jupyter-widgets/base",
            "_view_module_version": "1.2.0",
            "_view_name": "StyleView",
            "description_width": ""
          }
        },
        "8f3b1fe47e13413b830dcfe991f49f8a": {
          "model_module": "@jupyter-widgets/controls",
          "model_module_version": "1.5.0",
          "model_name": "DescriptionStyleModel",
          "state": {
            "_model_module": "@jupyter-widgets/controls",
            "_model_module_version": "1.5.0",
            "_model_name": "DescriptionStyleModel",
            "_view_count": null,
            "_view_module": "@jupyter-widgets/base",
            "_view_module_version": "1.2.0",
            "_view_name": "StyleView",
            "description_width": ""
          }
        },
        "91de67ec77ff4ae782795dbbd70ec674": {
          "model_module": "@jupyter-widgets/controls",
          "model_module_version": "1.5.0",
          "model_name": "HTMLModel",
          "state": {
            "_dom_classes": [],
            "_model_module": "@jupyter-widgets/controls",
            "_model_module_version": "1.5.0",
            "_model_name": "HTMLModel",
            "_view_count": null,
            "_view_module": "@jupyter-widgets/controls",
            "_view_module_version": "1.5.0",
            "_view_name": "HTMLView",
            "description": "",
            "description_tooltip": null,
            "layout": "IPY_MODEL_bce8f22d37a546559ed3ecbdc541847b",
            "placeholder": "​",
            "style": "IPY_MODEL_fa628c623ad049ee9e0ed28a773aeda6",
            "value": " 570/570 [00:00&lt;00:00, 23.9kB/s]"
          }
        },
        "91fcceeffb344609977d6db0b874c704": {
          "model_module": "@jupyter-widgets/controls",
          "model_module_version": "1.5.0",
          "model_name": "ProgressStyleModel",
          "state": {
            "_model_module": "@jupyter-widgets/controls",
            "_model_module_version": "1.5.0",
            "_model_name": "ProgressStyleModel",
            "_view_count": null,
            "_view_module": "@jupyter-widgets/base",
            "_view_module_version": "1.2.0",
            "_view_name": "StyleView",
            "bar_color": null,
            "description_width": ""
          }
        },
        "935b5a081f5f4adbbd1a998519649beb": {
          "model_module": "@jupyter-widgets/controls",
          "model_module_version": "1.5.0",
          "model_name": "FloatProgressModel",
          "state": {
            "_dom_classes": [],
            "_model_module": "@jupyter-widgets/controls",
            "_model_module_version": "1.5.0",
            "_model_name": "FloatProgressModel",
            "_view_count": null,
            "_view_module": "@jupyter-widgets/controls",
            "_view_module_version": "1.5.0",
            "_view_name": "ProgressView",
            "bar_style": "success",
            "description": "",
            "description_tooltip": null,
            "layout": "IPY_MODEL_1af8f2d6be064bcbafd09f49552799a6",
            "max": 7153264,
            "min": 0,
            "orientation": "horizontal",
            "style": "IPY_MODEL_c98d4d34a55d48a8a89ff924387f78f0",
            "value": 7153264
          }
        },
        "944ba842a1ff4c2e87c0a85e4cffec1f": {
          "model_module": "@jupyter-widgets/controls",
          "model_module_version": "1.5.0",
          "model_name": "ProgressStyleModel",
          "state": {
            "_model_module": "@jupyter-widgets/controls",
            "_model_module_version": "1.5.0",
            "_model_name": "ProgressStyleModel",
            "_view_count": null,
            "_view_module": "@jupyter-widgets/base",
            "_view_module_version": "1.2.0",
            "_view_name": "StyleView",
            "bar_color": null,
            "description_width": ""
          }
        },
        "9726eab2c7e8427dacbd551751b1e740": {
          "model_module": "@jupyter-widgets/controls",
          "model_module_version": "1.5.0",
          "model_name": "DescriptionStyleModel",
          "state": {
            "_model_module": "@jupyter-widgets/controls",
            "_model_module_version": "1.5.0",
            "_model_name": "DescriptionStyleModel",
            "_view_count": null,
            "_view_module": "@jupyter-widgets/base",
            "_view_module_version": "1.2.0",
            "_view_name": "StyleView",
            "description_width": ""
          }
        },
        "97c3c191a46f465cac7a5eea04231f7e": {
          "model_module": "@jupyter-widgets/base",
          "model_module_version": "1.2.0",
          "model_name": "LayoutModel",
          "state": {
            "_model_module": "@jupyter-widgets/base",
            "_model_module_version": "1.2.0",
            "_model_name": "LayoutModel",
            "_view_count": null,
            "_view_module": "@jupyter-widgets/base",
            "_view_module_version": "1.2.0",
            "_view_name": "LayoutView",
            "align_content": null,
            "align_items": null,
            "align_self": null,
            "border": null,
            "bottom": null,
            "display": null,
            "flex": null,
            "flex_flow": null,
            "grid_area": null,
            "grid_auto_columns": null,
            "grid_auto_flow": null,
            "grid_auto_rows": null,
            "grid_column": null,
            "grid_gap": null,
            "grid_row": null,
            "grid_template_areas": null,
            "grid_template_columns": null,
            "grid_template_rows": null,
            "height": null,
            "justify_content": null,
            "justify_items": null,
            "left": null,
            "margin": null,
            "max_height": null,
            "max_width": null,
            "min_height": null,
            "min_width": null,
            "object_fit": null,
            "object_position": null,
            "order": null,
            "overflow": null,
            "overflow_x": null,
            "overflow_y": null,
            "padding": null,
            "right": null,
            "top": null,
            "visibility": null,
            "width": null
          }
        },
        "97ec7215ce9445a7ae5a445173e8bd4e": {
          "model_module": "@jupyter-widgets/controls",
          "model_module_version": "1.5.0",
          "model_name": "HTMLModel",
          "state": {
            "_dom_classes": [],
            "_model_module": "@jupyter-widgets/controls",
            "_model_module_version": "1.5.0",
            "_model_name": "HTMLModel",
            "_view_count": null,
            "_view_module": "@jupyter-widgets/controls",
            "_view_module_version": "1.5.0",
            "_view_name": "HTMLView",
            "description": "",
            "description_tooltip": null,
            "layout": "IPY_MODEL_3aa2241878b544189e639fce3a57371b",
            "placeholder": "​",
            "style": "IPY_MODEL_02a7b0a4815b4fd9ad6d22cbfa192ec6",
            "value": " 4.39G/4.39G [01:00&lt;00:00, 392MB/s]"
          }
        },
        "9d04e1a440c548ddae1ff66f40b48749": {
          "model_module": "@jupyter-widgets/controls",
          "model_module_version": "1.5.0",
          "model_name": "DescriptionStyleModel",
          "state": {
            "_model_module": "@jupyter-widgets/controls",
            "_model_module_version": "1.5.0",
            "_model_name": "DescriptionStyleModel",
            "_view_count": null,
            "_view_module": "@jupyter-widgets/base",
            "_view_module_version": "1.2.0",
            "_view_name": "StyleView",
            "description_width": ""
          }
        },
        "9ff0d81713864dcf932c01e997c0227d": {
          "model_module": "@jupyter-widgets/base",
          "model_module_version": "1.2.0",
          "model_name": "LayoutModel",
          "state": {
            "_model_module": "@jupyter-widgets/base",
            "_model_module_version": "1.2.0",
            "_model_name": "LayoutModel",
            "_view_count": null,
            "_view_module": "@jupyter-widgets/base",
            "_view_module_version": "1.2.0",
            "_view_name": "LayoutView",
            "align_content": null,
            "align_items": null,
            "align_self": null,
            "border": null,
            "bottom": null,
            "display": null,
            "flex": null,
            "flex_flow": null,
            "grid_area": null,
            "grid_auto_columns": null,
            "grid_auto_flow": null,
            "grid_auto_rows": null,
            "grid_column": null,
            "grid_gap": null,
            "grid_row": null,
            "grid_template_areas": null,
            "grid_template_columns": null,
            "grid_template_rows": null,
            "height": null,
            "justify_content": null,
            "justify_items": null,
            "left": null,
            "margin": null,
            "max_height": null,
            "max_width": null,
            "min_height": null,
            "min_width": null,
            "object_fit": null,
            "object_position": null,
            "order": null,
            "overflow": null,
            "overflow_x": null,
            "overflow_y": null,
            "padding": null,
            "right": null,
            "top": null,
            "visibility": null,
            "width": null
          }
        },
        "a26ec534feea4a628cb17b06d88eb9d1": {
          "model_module": "@jupyter-widgets/base",
          "model_module_version": "1.2.0",
          "model_name": "LayoutModel",
          "state": {
            "_model_module": "@jupyter-widgets/base",
            "_model_module_version": "1.2.0",
            "_model_name": "LayoutModel",
            "_view_count": null,
            "_view_module": "@jupyter-widgets/base",
            "_view_module_version": "1.2.0",
            "_view_name": "LayoutView",
            "align_content": null,
            "align_items": null,
            "align_self": null,
            "border": null,
            "bottom": null,
            "display": null,
            "flex": null,
            "flex_flow": null,
            "grid_area": null,
            "grid_auto_columns": null,
            "grid_auto_flow": null,
            "grid_auto_rows": null,
            "grid_column": null,
            "grid_gap": null,
            "grid_row": null,
            "grid_template_areas": null,
            "grid_template_columns": null,
            "grid_template_rows": null,
            "height": null,
            "justify_content": null,
            "justify_items": null,
            "left": null,
            "margin": null,
            "max_height": null,
            "max_width": null,
            "min_height": null,
            "min_width": null,
            "object_fit": null,
            "object_position": null,
            "order": null,
            "overflow": null,
            "overflow_x": null,
            "overflow_y": null,
            "padding": null,
            "right": null,
            "top": null,
            "visibility": null,
            "width": null
          }
        },
        "a5369174d5f44d03841b85e4a5733ec4": {
          "model_module": "@jupyter-widgets/controls",
          "model_module_version": "1.5.0",
          "model_name": "HTMLModel",
          "state": {
            "_dom_classes": [],
            "_model_module": "@jupyter-widgets/controls",
            "_model_module_version": "1.5.0",
            "_model_name": "HTMLModel",
            "_view_count": null,
            "_view_module": "@jupyter-widgets/controls",
            "_view_module_version": "1.5.0",
            "_view_name": "HTMLView",
            "description": "",
            "description_tooltip": null,
            "layout": "IPY_MODEL_691a902d159b43f09d037920be59c851",
            "placeholder": "​",
            "style": "IPY_MODEL_8f3b1fe47e13413b830dcfe991f49f8a",
            "value": " 1.61M/1.61M [00:00&lt;00:00, 4.10MB/s]"
          }
        },
        "a6a22a1fb2654166a32ad4a6c6fc1e27": {
          "model_module": "@jupyter-widgets/controls",
          "model_module_version": "1.5.0",
          "model_name": "ProgressStyleModel",
          "state": {
            "_model_module": "@jupyter-widgets/controls",
            "_model_module_version": "1.5.0",
            "_model_name": "ProgressStyleModel",
            "_view_count": null,
            "_view_module": "@jupyter-widgets/base",
            "_view_module_version": "1.2.0",
            "_view_name": "StyleView",
            "bar_color": null,
            "description_width": ""
          }
        },
        "a97e0b5ddfda473793ff27d9c87dfad5": {
          "model_module": "@jupyter-widgets/controls",
          "model_module_version": "1.5.0",
          "model_name": "DescriptionStyleModel",
          "state": {
            "_model_module": "@jupyter-widgets/controls",
            "_model_module_version": "1.5.0",
            "_model_name": "DescriptionStyleModel",
            "_view_count": null,
            "_view_module": "@jupyter-widgets/base",
            "_view_module_version": "1.2.0",
            "_view_name": "StyleView",
            "description_width": ""
          }
        },
        "b45e091288304ee39314fe22b9e48232": {
          "model_module": "@jupyter-widgets/base",
          "model_module_version": "1.2.0",
          "model_name": "LayoutModel",
          "state": {
            "_model_module": "@jupyter-widgets/base",
            "_model_module_version": "1.2.0",
            "_model_name": "LayoutModel",
            "_view_count": null,
            "_view_module": "@jupyter-widgets/base",
            "_view_module_version": "1.2.0",
            "_view_name": "LayoutView",
            "align_content": null,
            "align_items": null,
            "align_self": null,
            "border": null,
            "bottom": null,
            "display": null,
            "flex": null,
            "flex_flow": null,
            "grid_area": null,
            "grid_auto_columns": null,
            "grid_auto_flow": null,
            "grid_auto_rows": null,
            "grid_column": null,
            "grid_gap": null,
            "grid_row": null,
            "grid_template_areas": null,
            "grid_template_columns": null,
            "grid_template_rows": null,
            "height": null,
            "justify_content": null,
            "justify_items": null,
            "left": null,
            "margin": null,
            "max_height": null,
            "max_width": null,
            "min_height": null,
            "min_width": null,
            "object_fit": null,
            "object_position": null,
            "order": null,
            "overflow": null,
            "overflow_x": null,
            "overflow_y": null,
            "padding": null,
            "right": null,
            "top": null,
            "visibility": null,
            "width": null
          }
        },
        "b464677304dc429dbc730ebdca5f6510": {
          "model_module": "@jupyter-widgets/base",
          "model_module_version": "1.2.0",
          "model_name": "LayoutModel",
          "state": {
            "_model_module": "@jupyter-widgets/base",
            "_model_module_version": "1.2.0",
            "_model_name": "LayoutModel",
            "_view_count": null,
            "_view_module": "@jupyter-widgets/base",
            "_view_module_version": "1.2.0",
            "_view_name": "LayoutView",
            "align_content": null,
            "align_items": null,
            "align_self": null,
            "border": null,
            "bottom": null,
            "display": null,
            "flex": null,
            "flex_flow": null,
            "grid_area": null,
            "grid_auto_columns": null,
            "grid_auto_flow": null,
            "grid_auto_rows": null,
            "grid_column": null,
            "grid_gap": null,
            "grid_row": null,
            "grid_template_areas": null,
            "grid_template_columns": null,
            "grid_template_rows": null,
            "height": null,
            "justify_content": null,
            "justify_items": null,
            "left": null,
            "margin": null,
            "max_height": null,
            "max_width": null,
            "min_height": null,
            "min_width": null,
            "object_fit": null,
            "object_position": null,
            "order": null,
            "overflow": null,
            "overflow_x": null,
            "overflow_y": null,
            "padding": null,
            "right": null,
            "top": null,
            "visibility": null,
            "width": null
          }
        },
        "b760a07179b048f897470d80bf656f05": {
          "model_module": "@jupyter-widgets/controls",
          "model_module_version": "1.5.0",
          "model_name": "HTMLModel",
          "state": {
            "_dom_classes": [],
            "_model_module": "@jupyter-widgets/controls",
            "_model_module_version": "1.5.0",
            "_model_name": "HTMLModel",
            "_view_count": null,
            "_view_module": "@jupyter-widgets/controls",
            "_view_module_version": "1.5.0",
            "_view_name": "HTMLView",
            "description": "",
            "description_tooltip": null,
            "layout": "IPY_MODEL_632063a00c13413a8650de47955d5acd",
            "placeholder": "​",
            "style": "IPY_MODEL_3882f3d05f684588bfbac1b6adf3332e",
            "value": "special_tokens_map.json: 100%"
          }
        },
        "b826d1e0491c4fd887835c9699cca568": {
          "model_module": "@jupyter-widgets/base",
          "model_module_version": "1.2.0",
          "model_name": "LayoutModel",
          "state": {
            "_model_module": "@jupyter-widgets/base",
            "_model_module_version": "1.2.0",
            "_model_name": "LayoutModel",
            "_view_count": null,
            "_view_module": "@jupyter-widgets/base",
            "_view_module_version": "1.2.0",
            "_view_name": "LayoutView",
            "align_content": null,
            "align_items": null,
            "align_self": null,
            "border": null,
            "bottom": null,
            "display": null,
            "flex": null,
            "flex_flow": null,
            "grid_area": null,
            "grid_auto_columns": null,
            "grid_auto_flow": null,
            "grid_auto_rows": null,
            "grid_column": null,
            "grid_gap": null,
            "grid_row": null,
            "grid_template_areas": null,
            "grid_template_columns": null,
            "grid_template_rows": null,
            "height": null,
            "justify_content": null,
            "justify_items": null,
            "left": null,
            "margin": null,
            "max_height": null,
            "max_width": null,
            "min_height": null,
            "min_width": null,
            "object_fit": null,
            "object_position": null,
            "order": null,
            "overflow": null,
            "overflow_x": null,
            "overflow_y": null,
            "padding": null,
            "right": null,
            "top": null,
            "visibility": null,
            "width": null
          }
        },
        "b8d1120dcd9e43ac9542bd2772d674bd": {
          "model_module": "@jupyter-widgets/controls",
          "model_module_version": "1.5.0",
          "model_name": "DescriptionStyleModel",
          "state": {
            "_model_module": "@jupyter-widgets/controls",
            "_model_module_version": "1.5.0",
            "_model_name": "DescriptionStyleModel",
            "_view_count": null,
            "_view_module": "@jupyter-widgets/base",
            "_view_module_version": "1.2.0",
            "_view_name": "StyleView",
            "description_width": ""
          }
        },
        "bb4457364a6d40afac485f07bde13a4e": {
          "model_module": "@jupyter-widgets/controls",
          "model_module_version": "1.5.0",
          "model_name": "FloatProgressModel",
          "state": {
            "_dom_classes": [],
            "_model_module": "@jupyter-widgets/controls",
            "_model_module_version": "1.5.0",
            "_model_name": "FloatProgressModel",
            "_view_count": null,
            "_view_module": "@jupyter-widgets/controls",
            "_view_module_version": "1.5.0",
            "_view_name": "ProgressView",
            "bar_style": "success",
            "description": "",
            "description_tooltip": null,
            "layout": "IPY_MODEL_40584925c5de4253926df7adc0b32cd6",
            "max": 3,
            "min": 0,
            "orientation": "horizontal",
            "style": "IPY_MODEL_91fcceeffb344609977d6db0b874c704",
            "value": 3
          }
        },
        "bce8f22d37a546559ed3ecbdc541847b": {
          "model_module": "@jupyter-widgets/base",
          "model_module_version": "1.2.0",
          "model_name": "LayoutModel",
          "state": {
            "_model_module": "@jupyter-widgets/base",
            "_model_module_version": "1.2.0",
            "_model_name": "LayoutModel",
            "_view_count": null,
            "_view_module": "@jupyter-widgets/base",
            "_view_module_version": "1.2.0",
            "_view_name": "LayoutView",
            "align_content": null,
            "align_items": null,
            "align_self": null,
            "border": null,
            "bottom": null,
            "display": null,
            "flex": null,
            "flex_flow": null,
            "grid_area": null,
            "grid_auto_columns": null,
            "grid_auto_flow": null,
            "grid_auto_rows": null,
            "grid_column": null,
            "grid_gap": null,
            "grid_row": null,
            "grid_template_areas": null,
            "grid_template_columns": null,
            "grid_template_rows": null,
            "height": null,
            "justify_content": null,
            "justify_items": null,
            "left": null,
            "margin": null,
            "max_height": null,
            "max_width": null,
            "min_height": null,
            "min_width": null,
            "object_fit": null,
            "object_position": null,
            "order": null,
            "overflow": null,
            "overflow_x": null,
            "overflow_y": null,
            "padding": null,
            "right": null,
            "top": null,
            "visibility": null,
            "width": null
          }
        },
        "c2e3a31f8c4d4298a4715b7e40ace11f": {
          "model_module": "@jupyter-widgets/controls",
          "model_module_version": "1.5.0",
          "model_name": "HTMLModel",
          "state": {
            "_dom_classes": [],
            "_model_module": "@jupyter-widgets/controls",
            "_model_module_version": "1.5.0",
            "_model_name": "HTMLModel",
            "_view_count": null,
            "_view_module": "@jupyter-widgets/controls",
            "_view_module_version": "1.5.0",
            "_view_name": "HTMLView",
            "description": "",
            "description_tooltip": null,
            "layout": "IPY_MODEL_31ac1a98602549639378c2fea37ecd32",
            "placeholder": "​",
            "style": "IPY_MODEL_9726eab2c7e8427dacbd551751b1e740",
            "value": "Loading checkpoint shards: 100%"
          }
        },
        "c36785406d0748deadee10711f4dcc57": {
          "model_module": "@jupyter-widgets/controls",
          "model_module_version": "1.5.0",
          "model_name": "HTMLModel",
          "state": {
            "_dom_classes": [],
            "_model_module": "@jupyter-widgets/controls",
            "_model_module_version": "1.5.0",
            "_model_name": "HTMLModel",
            "_view_count": null,
            "_view_module": "@jupyter-widgets/controls",
            "_view_module_version": "1.5.0",
            "_view_name": "HTMLView",
            "description": "",
            "description_tooltip": null,
            "layout": "IPY_MODEL_03c25ddf7e2f4cfaa3950dc71378706d",
            "placeholder": "​",
            "style": "IPY_MODEL_d7eaeeb48f514424b485dae99545414c",
            "value": "Downloading shards: 100%"
          }
        },
        "c412bb059cea4f78be6cbeaaf3a2dfdd": {
          "model_module": "@jupyter-widgets/controls",
          "model_module_version": "1.5.0",
          "model_name": "HBoxModel",
          "state": {
            "_dom_classes": [],
            "_model_module": "@jupyter-widgets/controls",
            "_model_module_version": "1.5.0",
            "_model_name": "HBoxModel",
            "_view_count": null,
            "_view_module": "@jupyter-widgets/controls",
            "_view_module_version": "1.5.0",
            "_view_name": "HBoxView",
            "box_style": "",
            "children": [
              "IPY_MODEL_2f9cc2fdb49b47d6a7fed610a8700e09",
              "IPY_MODEL_935b5a081f5f4adbbd1a998519649beb",
              "IPY_MODEL_18e46f0741bf4ab2a9abec508886ba58"
            ],
            "layout": "IPY_MODEL_97c3c191a46f465cac7a5eea04231f7e"
          }
        },
        "c4536142f60446acb52866877ffa2419": {
          "model_module": "@jupyter-widgets/base",
          "model_module_version": "1.2.0",
          "model_name": "LayoutModel",
          "state": {
            "_model_module": "@jupyter-widgets/base",
            "_model_module_version": "1.2.0",
            "_model_name": "LayoutModel",
            "_view_count": null,
            "_view_module": "@jupyter-widgets/base",
            "_view_module_version": "1.2.0",
            "_view_name": "LayoutView",
            "align_content": null,
            "align_items": null,
            "align_self": null,
            "border": null,
            "bottom": null,
            "display": null,
            "flex": null,
            "flex_flow": null,
            "grid_area": null,
            "grid_auto_columns": null,
            "grid_auto_flow": null,
            "grid_auto_rows": null,
            "grid_column": null,
            "grid_gap": null,
            "grid_row": null,
            "grid_template_areas": null,
            "grid_template_columns": null,
            "grid_template_rows": null,
            "height": null,
            "justify_content": null,
            "justify_items": null,
            "left": null,
            "margin": null,
            "max_height": null,
            "max_width": null,
            "min_height": null,
            "min_width": null,
            "object_fit": null,
            "object_position": null,
            "order": null,
            "overflow": null,
            "overflow_x": null,
            "overflow_y": null,
            "padding": null,
            "right": null,
            "top": null,
            "visibility": null,
            "width": null
          }
        },
        "c7c0753261fe43018c46d24c6837b12d": {
          "model_module": "@jupyter-widgets/controls",
          "model_module_version": "1.5.0",
          "model_name": "HTMLModel",
          "state": {
            "_dom_classes": [],
            "_model_module": "@jupyter-widgets/controls",
            "_model_module_version": "1.5.0",
            "_model_name": "HTMLModel",
            "_view_count": null,
            "_view_module": "@jupyter-widgets/controls",
            "_view_module_version": "1.5.0",
            "_view_name": "HTMLView",
            "description": "",
            "description_tooltip": null,
            "layout": "IPY_MODEL_4e1d12df9d354d8e9cfe2fdf6794dfc4",
            "placeholder": "​",
            "style": "IPY_MODEL_e90960a188574922bfc1e808834b7dce",
            "value": "model-00002-of-00003.safetensors: 100%"
          }
        },
        "c7db57bf567b448dbee51952c445cebf": {
          "model_module": "@jupyter-widgets/controls",
          "model_module_version": "1.5.0",
          "model_name": "HBoxModel",
          "state": {
            "_dom_classes": [],
            "_model_module": "@jupyter-widgets/controls",
            "_model_module_version": "1.5.0",
            "_model_name": "HBoxModel",
            "_view_count": null,
            "_view_module": "@jupyter-widgets/controls",
            "_view_module_version": "1.5.0",
            "_view_name": "HBoxView",
            "box_style": "",
            "children": [
              "IPY_MODEL_d748be97c7814f11908391f794d1b473",
              "IPY_MODEL_5662a6a41e344bf68f9b1e23f94d36ad",
              "IPY_MODEL_01c4f2b6d66847c9806fd9dab281c846"
            ],
            "layout": "IPY_MODEL_511246d5bfc7401baa1ce763be8b98b6"
          }
        },
        "c98d4d34a55d48a8a89ff924387f78f0": {
          "model_module": "@jupyter-widgets/controls",
          "model_module_version": "1.5.0",
          "model_name": "ProgressStyleModel",
          "state": {
            "_model_module": "@jupyter-widgets/controls",
            "_model_module_version": "1.5.0",
            "_model_name": "ProgressStyleModel",
            "_view_count": null,
            "_view_module": "@jupyter-widgets/base",
            "_view_module_version": "1.2.0",
            "_view_name": "StyleView",
            "bar_color": null,
            "description_width": ""
          }
        },
        "cf78c8cd91874072adf148788a5b0b79": {
          "model_module": "@jupyter-widgets/base",
          "model_module_version": "1.2.0",
          "model_name": "LayoutModel",
          "state": {
            "_model_module": "@jupyter-widgets/base",
            "_model_module_version": "1.2.0",
            "_model_name": "LayoutModel",
            "_view_count": null,
            "_view_module": "@jupyter-widgets/base",
            "_view_module_version": "1.2.0",
            "_view_name": "LayoutView",
            "align_content": null,
            "align_items": null,
            "align_self": null,
            "border": null,
            "bottom": null,
            "display": null,
            "flex": null,
            "flex_flow": null,
            "grid_area": null,
            "grid_auto_columns": null,
            "grid_auto_flow": null,
            "grid_auto_rows": null,
            "grid_column": null,
            "grid_gap": null,
            "grid_row": null,
            "grid_template_areas": null,
            "grid_template_columns": null,
            "grid_template_rows": null,
            "height": null,
            "justify_content": null,
            "justify_items": null,
            "left": null,
            "margin": null,
            "max_height": null,
            "max_width": null,
            "min_height": null,
            "min_width": null,
            "object_fit": null,
            "object_position": null,
            "order": null,
            "overflow": null,
            "overflow_x": null,
            "overflow_y": null,
            "padding": null,
            "right": null,
            "top": null,
            "visibility": null,
            "width": null
          }
        },
        "d0c5330c7ba247cdafd475f67dd4acad": {
          "model_module": "@jupyter-widgets/controls",
          "model_module_version": "1.5.0",
          "model_name": "DescriptionStyleModel",
          "state": {
            "_model_module": "@jupyter-widgets/controls",
            "_model_module_version": "1.5.0",
            "_model_name": "DescriptionStyleModel",
            "_view_count": null,
            "_view_module": "@jupyter-widgets/base",
            "_view_module_version": "1.2.0",
            "_view_name": "StyleView",
            "description_width": ""
          }
        },
        "d6061d95baf0468cb8464482da81e404": {
          "model_module": "@jupyter-widgets/controls",
          "model_module_version": "1.5.0",
          "model_name": "HTMLModel",
          "state": {
            "_dom_classes": [],
            "_model_module": "@jupyter-widgets/controls",
            "_model_module_version": "1.5.0",
            "_model_name": "HTMLModel",
            "_view_count": null,
            "_view_module": "@jupyter-widgets/controls",
            "_view_module_version": "1.5.0",
            "_view_name": "HTMLView",
            "description": "",
            "description_tooltip": null,
            "layout": "IPY_MODEL_0ec219fa958d493483102d7c8cc30d6d",
            "placeholder": "​",
            "style": "IPY_MODEL_a97e0b5ddfda473793ff27d9c87dfad5",
            "value": "generation_config.json: 100%"
          }
        },
        "d62e16de33f24bbf87b9fd4ea5d70b16": {
          "model_module": "@jupyter-widgets/controls",
          "model_module_version": "1.5.0",
          "model_name": "FloatProgressModel",
          "state": {
            "_dom_classes": [],
            "_model_module": "@jupyter-widgets/controls",
            "_model_module_version": "1.5.0",
            "_model_name": "FloatProgressModel",
            "_view_count": null,
            "_view_module": "@jupyter-widgets/controls",
            "_view_module_version": "1.5.0",
            "_view_name": "ProgressView",
            "bar_style": "success",
            "description": "",
            "description_tooltip": null,
            "layout": "IPY_MODEL_e72a8ea304824fb6a7ef6d253f54b341",
            "max": 170,
            "min": 0,
            "orientation": "horizontal",
            "style": "IPY_MODEL_944ba842a1ff4c2e87c0a85e4cffec1f",
            "value": 170
          }
        },
        "d748be97c7814f11908391f794d1b473": {
          "model_module": "@jupyter-widgets/controls",
          "model_module_version": "1.5.0",
          "model_name": "HTMLModel",
          "state": {
            "_dom_classes": [],
            "_model_module": "@jupyter-widgets/controls",
            "_model_module_version": "1.5.0",
            "_model_name": "HTMLModel",
            "_view_count": null,
            "_view_module": "@jupyter-widgets/controls",
            "_view_module_version": "1.5.0",
            "_view_name": "HTMLView",
            "description": "",
            "description_tooltip": null,
            "layout": "IPY_MODEL_1cee3cd08dc54665b55bbe93f5a504f1",
            "placeholder": "​",
            "style": "IPY_MODEL_82212741889e420690a4b1efb430591a",
            "value": "model-00003-of-00003.safetensors: 100%"
          }
        },
        "d7eaeeb48f514424b485dae99545414c": {
          "model_module": "@jupyter-widgets/controls",
          "model_module_version": "1.5.0",
          "model_name": "DescriptionStyleModel",
          "state": {
            "_model_module": "@jupyter-widgets/controls",
            "_model_module_version": "1.5.0",
            "_model_name": "DescriptionStyleModel",
            "_view_count": null,
            "_view_module": "@jupyter-widgets/base",
            "_view_module_version": "1.2.0",
            "_view_name": "StyleView",
            "description_width": ""
          }
        },
        "ddb2a09c21254e7399901bb2a133faa6": {
          "model_module": "@jupyter-widgets/controls",
          "model_module_version": "1.5.0",
          "model_name": "FloatProgressModel",
          "state": {
            "_dom_classes": [],
            "_model_module": "@jupyter-widgets/controls",
            "_model_module_version": "1.5.0",
            "_model_name": "FloatProgressModel",
            "_view_count": null,
            "_view_module": "@jupyter-widgets/controls",
            "_view_module_version": "1.5.0",
            "_view_name": "ProgressView",
            "bar_style": "danger",
            "description": "",
            "description_tooltip": null,
            "layout": "IPY_MODEL_7a7c5fc7fb484c75adab2f2e7bf62604",
            "max": 4392572736,
            "min": 0,
            "orientation": "horizontal",
            "style": "IPY_MODEL_486ccd6b938a461fa94ee55308810b53",
            "value": 4392572318
          }
        },
        "df0fd6a876c2479b8c466beefe73b203": {
          "model_module": "@jupyter-widgets/base",
          "model_module_version": "1.2.0",
          "model_name": "LayoutModel",
          "state": {
            "_model_module": "@jupyter-widgets/base",
            "_model_module_version": "1.2.0",
            "_model_name": "LayoutModel",
            "_view_count": null,
            "_view_module": "@jupyter-widgets/base",
            "_view_module_version": "1.2.0",
            "_view_name": "LayoutView",
            "align_content": null,
            "align_items": null,
            "align_self": null,
            "border": null,
            "bottom": null,
            "display": null,
            "flex": null,
            "flex_flow": null,
            "grid_area": null,
            "grid_auto_columns": null,
            "grid_auto_flow": null,
            "grid_auto_rows": null,
            "grid_column": null,
            "grid_gap": null,
            "grid_row": null,
            "grid_template_areas": null,
            "grid_template_columns": null,
            "grid_template_rows": null,
            "height": null,
            "justify_content": null,
            "justify_items": null,
            "left": null,
            "margin": null,
            "max_height": null,
            "max_width": null,
            "min_height": null,
            "min_width": null,
            "object_fit": null,
            "object_position": null,
            "order": null,
            "overflow": null,
            "overflow_x": null,
            "overflow_y": null,
            "padding": null,
            "right": null,
            "top": null,
            "visibility": null,
            "width": null
          }
        },
        "dfdfa755b646447f8cae6ddef55c1eb2": {
          "model_module": "@jupyter-widgets/controls",
          "model_module_version": "1.5.0",
          "model_name": "HBoxModel",
          "state": {
            "_dom_classes": [],
            "_model_module": "@jupyter-widgets/controls",
            "_model_module_version": "1.5.0",
            "_model_name": "HBoxModel",
            "_view_count": null,
            "_view_module": "@jupyter-widgets/controls",
            "_view_module_version": "1.5.0",
            "_view_name": "HBoxView",
            "box_style": "",
            "children": [
              "IPY_MODEL_6936a2d8141042bea706d2b262340751",
              "IPY_MODEL_195a937165724a9c99c480d0251e2568",
              "IPY_MODEL_a5369174d5f44d03841b85e4a5733ec4"
            ],
            "layout": "IPY_MODEL_20e2a8d8e9954a13ac3d756b7ed2f79f"
          }
        },
        "e4620cb36fee4e178cd00931b7c8ac1a": {
          "model_module": "@jupyter-widgets/controls",
          "model_module_version": "1.5.0",
          "model_name": "HBoxModel",
          "state": {
            "_dom_classes": [],
            "_model_module": "@jupyter-widgets/controls",
            "_model_module_version": "1.5.0",
            "_model_name": "HBoxModel",
            "_view_count": null,
            "_view_module": "@jupyter-widgets/controls",
            "_view_module_version": "1.5.0",
            "_view_name": "HBoxView",
            "box_style": "",
            "children": [
              "IPY_MODEL_36f08d085c5443e98e2911be2e0cdb96",
              "IPY_MODEL_04d9ef0c562e43369264871dad2946a2",
              "IPY_MODEL_eb1de25ca80043b9a9f2f1e526d4b892"
            ],
            "layout": "IPY_MODEL_c4536142f60446acb52866877ffa2419"
          }
        },
        "e72a8ea304824fb6a7ef6d253f54b341": {
          "model_module": "@jupyter-widgets/base",
          "model_module_version": "1.2.0",
          "model_name": "LayoutModel",
          "state": {
            "_model_module": "@jupyter-widgets/base",
            "_model_module_version": "1.2.0",
            "_model_name": "LayoutModel",
            "_view_count": null,
            "_view_module": "@jupyter-widgets/base",
            "_view_module_version": "1.2.0",
            "_view_name": "LayoutView",
            "align_content": null,
            "align_items": null,
            "align_self": null,
            "border": null,
            "bottom": null,
            "display": null,
            "flex": null,
            "flex_flow": null,
            "grid_area": null,
            "grid_auto_columns": null,
            "grid_auto_flow": null,
            "grid_auto_rows": null,
            "grid_column": null,
            "grid_gap": null,
            "grid_row": null,
            "grid_template_areas": null,
            "grid_template_columns": null,
            "grid_template_rows": null,
            "height": null,
            "justify_content": null,
            "justify_items": null,
            "left": null,
            "margin": null,
            "max_height": null,
            "max_width": null,
            "min_height": null,
            "min_width": null,
            "object_fit": null,
            "object_position": null,
            "order": null,
            "overflow": null,
            "overflow_x": null,
            "overflow_y": null,
            "padding": null,
            "right": null,
            "top": null,
            "visibility": null,
            "width": null
          }
        },
        "e90960a188574922bfc1e808834b7dce": {
          "model_module": "@jupyter-widgets/controls",
          "model_module_version": "1.5.0",
          "model_name": "DescriptionStyleModel",
          "state": {
            "_model_module": "@jupyter-widgets/controls",
            "_model_module_version": "1.5.0",
            "_model_name": "DescriptionStyleModel",
            "_view_count": null,
            "_view_module": "@jupyter-widgets/base",
            "_view_module_version": "1.2.0",
            "_view_name": "StyleView",
            "description_width": ""
          }
        },
        "e935f2068b504900865caba1cfcfe8eb": {
          "model_module": "@jupyter-widgets/base",
          "model_module_version": "1.2.0",
          "model_name": "LayoutModel",
          "state": {
            "_model_module": "@jupyter-widgets/base",
            "_model_module_version": "1.2.0",
            "_model_name": "LayoutModel",
            "_view_count": null,
            "_view_module": "@jupyter-widgets/base",
            "_view_module_version": "1.2.0",
            "_view_name": "LayoutView",
            "align_content": null,
            "align_items": null,
            "align_self": null,
            "border": null,
            "bottom": null,
            "display": null,
            "flex": null,
            "flex_flow": null,
            "grid_area": null,
            "grid_auto_columns": null,
            "grid_auto_flow": null,
            "grid_auto_rows": null,
            "grid_column": null,
            "grid_gap": null,
            "grid_row": null,
            "grid_template_areas": null,
            "grid_template_columns": null,
            "grid_template_rows": null,
            "height": null,
            "justify_content": null,
            "justify_items": null,
            "left": null,
            "margin": null,
            "max_height": null,
            "max_width": null,
            "min_height": null,
            "min_width": null,
            "object_fit": null,
            "object_position": null,
            "order": null,
            "overflow": null,
            "overflow_x": null,
            "overflow_y": null,
            "padding": null,
            "right": null,
            "top": null,
            "visibility": null,
            "width": null
          }
        },
        "eb1de25ca80043b9a9f2f1e526d4b892": {
          "model_module": "@jupyter-widgets/controls",
          "model_module_version": "1.5.0",
          "model_name": "HTMLModel",
          "state": {
            "_dom_classes": [],
            "_model_module": "@jupyter-widgets/controls",
            "_model_module_version": "1.5.0",
            "_model_name": "HTMLModel",
            "_view_count": null,
            "_view_module": "@jupyter-widgets/controls",
            "_view_module_version": "1.5.0",
            "_view_name": "HTMLView",
            "description": "",
            "description_tooltip": null,
            "layout": "IPY_MODEL_84e558e540ee43eab1437c4224c6d515",
            "placeholder": "​",
            "style": "IPY_MODEL_697bd03ec12d4b59b223b43936808532",
            "value": " 4.97G/4.97G [01:25&lt;00:00, 46.4MB/s]"
          }
        },
        "f46b4f72f94c4edda4f6d40d9fdbe672": {
          "model_module": "@jupyter-widgets/controls",
          "model_module_version": "1.5.0",
          "model_name": "HTMLModel",
          "state": {
            "_dom_classes": [],
            "_model_module": "@jupyter-widgets/controls",
            "_model_module_version": "1.5.0",
            "_model_name": "HTMLModel",
            "_view_count": null,
            "_view_module": "@jupyter-widgets/controls",
            "_view_module_version": "1.5.0",
            "_view_name": "HTMLView",
            "description": "",
            "description_tooltip": null,
            "layout": "IPY_MODEL_22ff8621c0934f118dbe1ec32833a610",
            "placeholder": "​",
            "style": "IPY_MODEL_354ba850fcfb4430a7dded0baeb709f8",
            "value": " 18.0k/18.0k [00:00&lt;00:00, 1.19MB/s]"
          }
        },
        "f7f0c25ee93349ea8c3857758aa0655d": {
          "model_module": "@jupyter-widgets/base",
          "model_module_version": "1.2.0",
          "model_name": "LayoutModel",
          "state": {
            "_model_module": "@jupyter-widgets/base",
            "_model_module_version": "1.2.0",
            "_model_name": "LayoutModel",
            "_view_count": null,
            "_view_module": "@jupyter-widgets/base",
            "_view_module_version": "1.2.0",
            "_view_name": "LayoutView",
            "align_content": null,
            "align_items": null,
            "align_self": null,
            "border": null,
            "bottom": null,
            "display": null,
            "flex": null,
            "flex_flow": null,
            "grid_area": null,
            "grid_auto_columns": null,
            "grid_auto_flow": null,
            "grid_auto_rows": null,
            "grid_column": null,
            "grid_gap": null,
            "grid_row": null,
            "grid_template_areas": null,
            "grid_template_columns": null,
            "grid_template_rows": null,
            "height": null,
            "justify_content": null,
            "justify_items": null,
            "left": null,
            "margin": null,
            "max_height": null,
            "max_width": null,
            "min_height": null,
            "min_width": null,
            "object_fit": null,
            "object_position": null,
            "order": null,
            "overflow": null,
            "overflow_x": null,
            "overflow_y": null,
            "padding": null,
            "right": null,
            "top": null,
            "visibility": null,
            "width": null
          }
        },
        "f828275928814480af1c744508c533a7": {
          "model_module": "@jupyter-widgets/controls",
          "model_module_version": "1.5.0",
          "model_name": "HTMLModel",
          "state": {
            "_dom_classes": [],
            "_model_module": "@jupyter-widgets/controls",
            "_model_module_version": "1.5.0",
            "_model_name": "HTMLModel",
            "_view_count": null,
            "_view_module": "@jupyter-widgets/controls",
            "_view_module_version": "1.5.0",
            "_view_name": "HTMLView",
            "description": "",
            "description_tooltip": null,
            "layout": "IPY_MODEL_b464677304dc429dbc730ebdca5f6510",
            "placeholder": "​",
            "style": "IPY_MODEL_3a7a2299e0b24001a7630136f4c63d22",
            "value": " 917k/917k [00:00&lt;00:00, 3.86MB/s]"
          }
        },
        "fa628c623ad049ee9e0ed28a773aeda6": {
          "model_module": "@jupyter-widgets/controls",
          "model_module_version": "1.5.0",
          "model_name": "DescriptionStyleModel",
          "state": {
            "_model_module": "@jupyter-widgets/controls",
            "_model_module_version": "1.5.0",
            "_model_name": "DescriptionStyleModel",
            "_view_count": null,
            "_view_module": "@jupyter-widgets/base",
            "_view_module_version": "1.2.0",
            "_view_name": "StyleView",
            "description_width": ""
          }
        }
      }
    }
  },
  "nbformat": 4,
  "nbformat_minor": 0
}
